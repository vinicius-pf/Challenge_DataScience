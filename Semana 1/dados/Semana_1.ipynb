{
  "nbformat": 4,
  "nbformat_minor": 0,
  "metadata": {
    "colab": {
      "name": "Semana 1.ipynb",
      "provenance": [],
      "collapsed_sections": [
        "VIqg0OaQ9SDF",
        "iPROoPcvFC03",
        "qYMXk8b4HCKU",
        "wpOjKgq8NYjX",
        "ihxeLwMsPVIE",
        "xZ4VOAs7QVbD",
        "TfsdT7QURp-j",
        "CQt-76daS3cU",
        "1c1rE6eeTy69",
        "gP9jylvKyyGP",
        "veCInxFwz9pu",
        "XqaUsa3_1KPy",
        "PStaz5n12MOr",
        "AcJ5k1d-2usi",
        "Wa0C5jjc3MXp",
        "nO1dQDLM3W1Y",
        "17zte6I43fDd",
        "RpX-9wfF4JmR",
        "oNuiRYH_4QPP",
        "F593OOI75B-I",
        "2SnWUNke5yoU",
        "EaodtpnI6bBM",
        "LGpUeSpf-SBC",
        "1LUsP7ggFCFi",
        "W73E5TqUFjEb",
        "KVht2h3KWpgB",
        "z7hsN9LdWaYi",
        "3lTgGlO4CpqO",
        "Rjme9IZFEo2U"
      ]
    },
    "kernelspec": {
      "name": "python3",
      "display_name": "Python 3"
    },
    "language_info": {
      "name": "python"
    }
  },
  "cells": [
    {
      "cell_type": "markdown",
      "source": [
        "# Challenge Data Science - Semana 1"
      ],
      "metadata": {
        "id": "zLbB4S6i9AQZ"
      }
    },
    {
      "cell_type": "markdown",
      "source": [
        "Para o challenge, a Alura Voz entrou em contato e pediu que fosse feito um estudo para verificar, entender e reduzir a taxa de evasão dos clientes, o **Churn Rate**.\n",
        "\n",
        "Como primeiro passo nesse estudo, será feita a identificação de clientes que tem a maior chance de deixar a empresa, com base em algumas características dos clientes ou dos planos contratados por eles.\n",
        "\n",
        "A empresa disponibilizou então uma base de dados de seus clientes, constando informações pessoais, financeiras e de contrato dos clientes. Com base nesses dados, é esperado que seja possível classificar os clientes, encontrando assim potenciais candidatos a deixar a empresa."
      ],
      "metadata": {
        "id": "a2784wYS_Y3I"
      }
    },
    {
      "cell_type": "markdown",
      "source": [
        "A base de dados foi disponibilizada no formato JSON (**J**ava**S**cript **O**bject **N**otation).\n",
        "\n",
        "Primeiramente, os dados devem ser analisados e tratados. Podem haver inconsistências e campos sem dados, o que pode levar a conclusões precipitadas ou equivocadas."
      ],
      "metadata": {
        "id": "MUINvhDOrtlP"
      }
    },
    {
      "cell_type": "markdown",
      "source": [
        "## Importando os Dados"
      ],
      "metadata": {
        "id": "VIqg0OaQ9SDF"
      }
    },
    {
      "cell_type": "code",
      "execution_count": null,
      "metadata": {
        "id": "3wjhPxxP89AU"
      },
      "outputs": [],
      "source": [
        "import pandas as pd"
      ]
    },
    {
      "cell_type": "code",
      "source": [
        "url = 'https://raw.githubusercontent.com/vinicius-pf/Challenge_DataScience/main/Semana%201/dados/dados.json'\n",
        "\n",
        "\n",
        "dados = pd.read_json(\n",
        "    path_or_buf = url,\n",
        "    orient = 'columns'\n",
        ")"
      ],
      "metadata": {
        "id": "eeeJRtbJCRwj"
      },
      "execution_count": null,
      "outputs": []
    },
    {
      "cell_type": "code",
      "source": [
        "dados.head()"
      ],
      "metadata": {
        "id": "7UBvY3HE_0c6",
        "colab": {
          "base_uri": "https://localhost:8080/"
        },
        "outputId": "5eaf52fe-dbfe-4ab4-9549-289e32e9db19"
      },
      "execution_count": null,
      "outputs": [
        {
          "output_type": "execute_result",
          "data": {
            "text/plain": [
              "   customerID Churn                                           customer  \\\n",
              "0  0002-ORFBO    No  {'gender': 'Female', 'SeniorCitizen': 0, 'Part...   \n",
              "1  0003-MKNFE    No  {'gender': 'Male', 'SeniorCitizen': 0, 'Partne...   \n",
              "2  0004-TLHLJ   Yes  {'gender': 'Male', 'SeniorCitizen': 0, 'Partne...   \n",
              "3  0011-IGKFF   Yes  {'gender': 'Male', 'SeniorCitizen': 1, 'Partne...   \n",
              "4  0013-EXCHZ   Yes  {'gender': 'Female', 'SeniorCitizen': 1, 'Part...   \n",
              "\n",
              "                                             phone  \\\n",
              "0   {'PhoneService': 'Yes', 'MultipleLines': 'No'}   \n",
              "1  {'PhoneService': 'Yes', 'MultipleLines': 'Yes'}   \n",
              "2   {'PhoneService': 'Yes', 'MultipleLines': 'No'}   \n",
              "3   {'PhoneService': 'Yes', 'MultipleLines': 'No'}   \n",
              "4   {'PhoneService': 'Yes', 'MultipleLines': 'No'}   \n",
              "\n",
              "                                            internet  \\\n",
              "0  {'InternetService': 'DSL', 'OnlineSecurity': '...   \n",
              "1  {'InternetService': 'DSL', 'OnlineSecurity': '...   \n",
              "2  {'InternetService': 'Fiber optic', 'OnlineSecu...   \n",
              "3  {'InternetService': 'Fiber optic', 'OnlineSecu...   \n",
              "4  {'InternetService': 'Fiber optic', 'OnlineSecu...   \n",
              "\n",
              "                                             account  \n",
              "0  {'Contract': 'One year', 'PaperlessBilling': '...  \n",
              "1  {'Contract': 'Month-to-month', 'PaperlessBilli...  \n",
              "2  {'Contract': 'Month-to-month', 'PaperlessBilli...  \n",
              "3  {'Contract': 'Month-to-month', 'PaperlessBilli...  \n",
              "4  {'Contract': 'Month-to-month', 'PaperlessBilli...  "
            ],
            "text/html": [
              "\n",
              "  <div id=\"df-5b6bcf81-8025-4d0b-9da8-5a3424886d3a\">\n",
              "    <div class=\"colab-df-container\">\n",
              "      <div>\n",
              "<style scoped>\n",
              "    .dataframe tbody tr th:only-of-type {\n",
              "        vertical-align: middle;\n",
              "    }\n",
              "\n",
              "    .dataframe tbody tr th {\n",
              "        vertical-align: top;\n",
              "    }\n",
              "\n",
              "    .dataframe thead th {\n",
              "        text-align: right;\n",
              "    }\n",
              "</style>\n",
              "<table border=\"1\" class=\"dataframe\">\n",
              "  <thead>\n",
              "    <tr style=\"text-align: right;\">\n",
              "      <th></th>\n",
              "      <th>customerID</th>\n",
              "      <th>Churn</th>\n",
              "      <th>customer</th>\n",
              "      <th>phone</th>\n",
              "      <th>internet</th>\n",
              "      <th>account</th>\n",
              "    </tr>\n",
              "  </thead>\n",
              "  <tbody>\n",
              "    <tr>\n",
              "      <th>0</th>\n",
              "      <td>0002-ORFBO</td>\n",
              "      <td>No</td>\n",
              "      <td>{'gender': 'Female', 'SeniorCitizen': 0, 'Part...</td>\n",
              "      <td>{'PhoneService': 'Yes', 'MultipleLines': 'No'}</td>\n",
              "      <td>{'InternetService': 'DSL', 'OnlineSecurity': '...</td>\n",
              "      <td>{'Contract': 'One year', 'PaperlessBilling': '...</td>\n",
              "    </tr>\n",
              "    <tr>\n",
              "      <th>1</th>\n",
              "      <td>0003-MKNFE</td>\n",
              "      <td>No</td>\n",
              "      <td>{'gender': 'Male', 'SeniorCitizen': 0, 'Partne...</td>\n",
              "      <td>{'PhoneService': 'Yes', 'MultipleLines': 'Yes'}</td>\n",
              "      <td>{'InternetService': 'DSL', 'OnlineSecurity': '...</td>\n",
              "      <td>{'Contract': 'Month-to-month', 'PaperlessBilli...</td>\n",
              "    </tr>\n",
              "    <tr>\n",
              "      <th>2</th>\n",
              "      <td>0004-TLHLJ</td>\n",
              "      <td>Yes</td>\n",
              "      <td>{'gender': 'Male', 'SeniorCitizen': 0, 'Partne...</td>\n",
              "      <td>{'PhoneService': 'Yes', 'MultipleLines': 'No'}</td>\n",
              "      <td>{'InternetService': 'Fiber optic', 'OnlineSecu...</td>\n",
              "      <td>{'Contract': 'Month-to-month', 'PaperlessBilli...</td>\n",
              "    </tr>\n",
              "    <tr>\n",
              "      <th>3</th>\n",
              "      <td>0011-IGKFF</td>\n",
              "      <td>Yes</td>\n",
              "      <td>{'gender': 'Male', 'SeniorCitizen': 1, 'Partne...</td>\n",
              "      <td>{'PhoneService': 'Yes', 'MultipleLines': 'No'}</td>\n",
              "      <td>{'InternetService': 'Fiber optic', 'OnlineSecu...</td>\n",
              "      <td>{'Contract': 'Month-to-month', 'PaperlessBilli...</td>\n",
              "    </tr>\n",
              "    <tr>\n",
              "      <th>4</th>\n",
              "      <td>0013-EXCHZ</td>\n",
              "      <td>Yes</td>\n",
              "      <td>{'gender': 'Female', 'SeniorCitizen': 1, 'Part...</td>\n",
              "      <td>{'PhoneService': 'Yes', 'MultipleLines': 'No'}</td>\n",
              "      <td>{'InternetService': 'Fiber optic', 'OnlineSecu...</td>\n",
              "      <td>{'Contract': 'Month-to-month', 'PaperlessBilli...</td>\n",
              "    </tr>\n",
              "  </tbody>\n",
              "</table>\n",
              "</div>\n",
              "      <button class=\"colab-df-convert\" onclick=\"convertToInteractive('df-5b6bcf81-8025-4d0b-9da8-5a3424886d3a')\"\n",
              "              title=\"Convert this dataframe to an interactive table.\"\n",
              "              style=\"display:none;\">\n",
              "        \n",
              "  <svg xmlns=\"http://www.w3.org/2000/svg\" height=\"24px\"viewBox=\"0 0 24 24\"\n",
              "       width=\"24px\">\n",
              "    <path d=\"M0 0h24v24H0V0z\" fill=\"none\"/>\n",
              "    <path d=\"M18.56 5.44l.94 2.06.94-2.06 2.06-.94-2.06-.94-.94-2.06-.94 2.06-2.06.94zm-11 1L8.5 8.5l.94-2.06 2.06-.94-2.06-.94L8.5 2.5l-.94 2.06-2.06.94zm10 10l.94 2.06.94-2.06 2.06-.94-2.06-.94-.94-2.06-.94 2.06-2.06.94z\"/><path d=\"M17.41 7.96l-1.37-1.37c-.4-.4-.92-.59-1.43-.59-.52 0-1.04.2-1.43.59L10.3 9.45l-7.72 7.72c-.78.78-.78 2.05 0 2.83L4 21.41c.39.39.9.59 1.41.59.51 0 1.02-.2 1.41-.59l7.78-7.78 2.81-2.81c.8-.78.8-2.07 0-2.86zM5.41 20L4 18.59l7.72-7.72 1.47 1.35L5.41 20z\"/>\n",
              "  </svg>\n",
              "      </button>\n",
              "      \n",
              "  <style>\n",
              "    .colab-df-container {\n",
              "      display:flex;\n",
              "      flex-wrap:wrap;\n",
              "      gap: 12px;\n",
              "    }\n",
              "\n",
              "    .colab-df-convert {\n",
              "      background-color: #E8F0FE;\n",
              "      border: none;\n",
              "      border-radius: 50%;\n",
              "      cursor: pointer;\n",
              "      display: none;\n",
              "      fill: #1967D2;\n",
              "      height: 32px;\n",
              "      padding: 0 0 0 0;\n",
              "      width: 32px;\n",
              "    }\n",
              "\n",
              "    .colab-df-convert:hover {\n",
              "      background-color: #E2EBFA;\n",
              "      box-shadow: 0px 1px 2px rgba(60, 64, 67, 0.3), 0px 1px 3px 1px rgba(60, 64, 67, 0.15);\n",
              "      fill: #174EA6;\n",
              "    }\n",
              "\n",
              "    [theme=dark] .colab-df-convert {\n",
              "      background-color: #3B4455;\n",
              "      fill: #D2E3FC;\n",
              "    }\n",
              "\n",
              "    [theme=dark] .colab-df-convert:hover {\n",
              "      background-color: #434B5C;\n",
              "      box-shadow: 0px 1px 3px 1px rgba(0, 0, 0, 0.15);\n",
              "      filter: drop-shadow(0px 1px 2px rgba(0, 0, 0, 0.3));\n",
              "      fill: #FFFFFF;\n",
              "    }\n",
              "  </style>\n",
              "\n",
              "      <script>\n",
              "        const buttonEl =\n",
              "          document.querySelector('#df-5b6bcf81-8025-4d0b-9da8-5a3424886d3a button.colab-df-convert');\n",
              "        buttonEl.style.display =\n",
              "          google.colab.kernel.accessAllowed ? 'block' : 'none';\n",
              "\n",
              "        async function convertToInteractive(key) {\n",
              "          const element = document.querySelector('#df-5b6bcf81-8025-4d0b-9da8-5a3424886d3a');\n",
              "          const dataTable =\n",
              "            await google.colab.kernel.invokeFunction('convertToInteractive',\n",
              "                                                     [key], {});\n",
              "          if (!dataTable) return;\n",
              "\n",
              "          const docLinkHtml = 'Like what you see? Visit the ' +\n",
              "            '<a target=\"_blank\" href=https://colab.research.google.com/notebooks/data_table.ipynb>data table notebook</a>'\n",
              "            + ' to learn more about interactive tables.';\n",
              "          element.innerHTML = '';\n",
              "          dataTable['output_type'] = 'display_data';\n",
              "          await google.colab.output.renderOutput(dataTable, element);\n",
              "          const docLink = document.createElement('div');\n",
              "          docLink.innerHTML = docLinkHtml;\n",
              "          element.appendChild(docLink);\n",
              "        }\n",
              "      </script>\n",
              "    </div>\n",
              "  </div>\n",
              "  "
            ]
          },
          "metadata": {},
          "execution_count": 260
        }
      ]
    },
    {
      "cell_type": "markdown",
      "source": [
        "Os dados não estão normalizados, ou seja: as células contém informações que também podem ser colunas do dataset. Antes de prosseguir com as análises, é necessário normalizar os dados. Com isso, cada coluna terá uma informação única."
      ],
      "metadata": {
        "id": "9yPN9L1n1J7F"
      }
    },
    {
      "cell_type": "markdown",
      "source": [
        "### Normalizando os dados"
      ],
      "metadata": {
        "id": "dS9h8Aj728O6"
      }
    },
    {
      "cell_type": "markdown",
      "source": [
        "Primeiramente, cada coluna com informações relevantes será transformada em uma tabela."
      ],
      "metadata": {
        "id": "5hzTsbx62Hqq"
      }
    },
    {
      "cell_type": "code",
      "source": [
        "dados_customer = pd.json_normalize(data = dados.customer)\n",
        "dados_customer.head()"
      ],
      "metadata": {
        "colab": {
          "base_uri": "https://localhost:8080/"
        },
        "id": "IRpkRcWh2HGx",
        "outputId": "08cef35c-5948-4bac-eddb-909f381936d9"
      },
      "execution_count": null,
      "outputs": [
        {
          "output_type": "execute_result",
          "data": {
            "text/plain": [
              "   gender  SeniorCitizen Partner Dependents  tenure\n",
              "0  Female              0     Yes        Yes       9\n",
              "1    Male              0      No         No       9\n",
              "2    Male              0      No         No       4\n",
              "3    Male              1     Yes         No      13\n",
              "4  Female              1     Yes         No       3"
            ],
            "text/html": [
              "\n",
              "  <div id=\"df-d2dba166-1fe9-45b9-8ff3-2d54b261ea91\">\n",
              "    <div class=\"colab-df-container\">\n",
              "      <div>\n",
              "<style scoped>\n",
              "    .dataframe tbody tr th:only-of-type {\n",
              "        vertical-align: middle;\n",
              "    }\n",
              "\n",
              "    .dataframe tbody tr th {\n",
              "        vertical-align: top;\n",
              "    }\n",
              "\n",
              "    .dataframe thead th {\n",
              "        text-align: right;\n",
              "    }\n",
              "</style>\n",
              "<table border=\"1\" class=\"dataframe\">\n",
              "  <thead>\n",
              "    <tr style=\"text-align: right;\">\n",
              "      <th></th>\n",
              "      <th>gender</th>\n",
              "      <th>SeniorCitizen</th>\n",
              "      <th>Partner</th>\n",
              "      <th>Dependents</th>\n",
              "      <th>tenure</th>\n",
              "    </tr>\n",
              "  </thead>\n",
              "  <tbody>\n",
              "    <tr>\n",
              "      <th>0</th>\n",
              "      <td>Female</td>\n",
              "      <td>0</td>\n",
              "      <td>Yes</td>\n",
              "      <td>Yes</td>\n",
              "      <td>9</td>\n",
              "    </tr>\n",
              "    <tr>\n",
              "      <th>1</th>\n",
              "      <td>Male</td>\n",
              "      <td>0</td>\n",
              "      <td>No</td>\n",
              "      <td>No</td>\n",
              "      <td>9</td>\n",
              "    </tr>\n",
              "    <tr>\n",
              "      <th>2</th>\n",
              "      <td>Male</td>\n",
              "      <td>0</td>\n",
              "      <td>No</td>\n",
              "      <td>No</td>\n",
              "      <td>4</td>\n",
              "    </tr>\n",
              "    <tr>\n",
              "      <th>3</th>\n",
              "      <td>Male</td>\n",
              "      <td>1</td>\n",
              "      <td>Yes</td>\n",
              "      <td>No</td>\n",
              "      <td>13</td>\n",
              "    </tr>\n",
              "    <tr>\n",
              "      <th>4</th>\n",
              "      <td>Female</td>\n",
              "      <td>1</td>\n",
              "      <td>Yes</td>\n",
              "      <td>No</td>\n",
              "      <td>3</td>\n",
              "    </tr>\n",
              "  </tbody>\n",
              "</table>\n",
              "</div>\n",
              "      <button class=\"colab-df-convert\" onclick=\"convertToInteractive('df-d2dba166-1fe9-45b9-8ff3-2d54b261ea91')\"\n",
              "              title=\"Convert this dataframe to an interactive table.\"\n",
              "              style=\"display:none;\">\n",
              "        \n",
              "  <svg xmlns=\"http://www.w3.org/2000/svg\" height=\"24px\"viewBox=\"0 0 24 24\"\n",
              "       width=\"24px\">\n",
              "    <path d=\"M0 0h24v24H0V0z\" fill=\"none\"/>\n",
              "    <path d=\"M18.56 5.44l.94 2.06.94-2.06 2.06-.94-2.06-.94-.94-2.06-.94 2.06-2.06.94zm-11 1L8.5 8.5l.94-2.06 2.06-.94-2.06-.94L8.5 2.5l-.94 2.06-2.06.94zm10 10l.94 2.06.94-2.06 2.06-.94-2.06-.94-.94-2.06-.94 2.06-2.06.94z\"/><path d=\"M17.41 7.96l-1.37-1.37c-.4-.4-.92-.59-1.43-.59-.52 0-1.04.2-1.43.59L10.3 9.45l-7.72 7.72c-.78.78-.78 2.05 0 2.83L4 21.41c.39.39.9.59 1.41.59.51 0 1.02-.2 1.41-.59l7.78-7.78 2.81-2.81c.8-.78.8-2.07 0-2.86zM5.41 20L4 18.59l7.72-7.72 1.47 1.35L5.41 20z\"/>\n",
              "  </svg>\n",
              "      </button>\n",
              "      \n",
              "  <style>\n",
              "    .colab-df-container {\n",
              "      display:flex;\n",
              "      flex-wrap:wrap;\n",
              "      gap: 12px;\n",
              "    }\n",
              "\n",
              "    .colab-df-convert {\n",
              "      background-color: #E8F0FE;\n",
              "      border: none;\n",
              "      border-radius: 50%;\n",
              "      cursor: pointer;\n",
              "      display: none;\n",
              "      fill: #1967D2;\n",
              "      height: 32px;\n",
              "      padding: 0 0 0 0;\n",
              "      width: 32px;\n",
              "    }\n",
              "\n",
              "    .colab-df-convert:hover {\n",
              "      background-color: #E2EBFA;\n",
              "      box-shadow: 0px 1px 2px rgba(60, 64, 67, 0.3), 0px 1px 3px 1px rgba(60, 64, 67, 0.15);\n",
              "      fill: #174EA6;\n",
              "    }\n",
              "\n",
              "    [theme=dark] .colab-df-convert {\n",
              "      background-color: #3B4455;\n",
              "      fill: #D2E3FC;\n",
              "    }\n",
              "\n",
              "    [theme=dark] .colab-df-convert:hover {\n",
              "      background-color: #434B5C;\n",
              "      box-shadow: 0px 1px 3px 1px rgba(0, 0, 0, 0.15);\n",
              "      filter: drop-shadow(0px 1px 2px rgba(0, 0, 0, 0.3));\n",
              "      fill: #FFFFFF;\n",
              "    }\n",
              "  </style>\n",
              "\n",
              "      <script>\n",
              "        const buttonEl =\n",
              "          document.querySelector('#df-d2dba166-1fe9-45b9-8ff3-2d54b261ea91 button.colab-df-convert');\n",
              "        buttonEl.style.display =\n",
              "          google.colab.kernel.accessAllowed ? 'block' : 'none';\n",
              "\n",
              "        async function convertToInteractive(key) {\n",
              "          const element = document.querySelector('#df-d2dba166-1fe9-45b9-8ff3-2d54b261ea91');\n",
              "          const dataTable =\n",
              "            await google.colab.kernel.invokeFunction('convertToInteractive',\n",
              "                                                     [key], {});\n",
              "          if (!dataTable) return;\n",
              "\n",
              "          const docLinkHtml = 'Like what you see? Visit the ' +\n",
              "            '<a target=\"_blank\" href=https://colab.research.google.com/notebooks/data_table.ipynb>data table notebook</a>'\n",
              "            + ' to learn more about interactive tables.';\n",
              "          element.innerHTML = '';\n",
              "          dataTable['output_type'] = 'display_data';\n",
              "          await google.colab.output.renderOutput(dataTable, element);\n",
              "          const docLink = document.createElement('div');\n",
              "          docLink.innerHTML = docLinkHtml;\n",
              "          element.appendChild(docLink);\n",
              "        }\n",
              "      </script>\n",
              "    </div>\n",
              "  </div>\n",
              "  "
            ]
          },
          "metadata": {},
          "execution_count": 261
        }
      ]
    },
    {
      "cell_type": "code",
      "source": [
        "dados_phone = pd.json_normalize(data = dados.phone)\n",
        "dados_phone.head()"
      ],
      "metadata": {
        "colab": {
          "base_uri": "https://localhost:8080/"
        },
        "id": "-lF3CYb715v9",
        "outputId": "e8177080-409f-4a2b-c319-818474604baf"
      },
      "execution_count": null,
      "outputs": [
        {
          "output_type": "execute_result",
          "data": {
            "text/plain": [
              "  PhoneService MultipleLines\n",
              "0          Yes            No\n",
              "1          Yes           Yes\n",
              "2          Yes            No\n",
              "3          Yes            No\n",
              "4          Yes            No"
            ],
            "text/html": [
              "\n",
              "  <div id=\"df-bdeb6202-deab-470f-97e4-e0369a165c09\">\n",
              "    <div class=\"colab-df-container\">\n",
              "      <div>\n",
              "<style scoped>\n",
              "    .dataframe tbody tr th:only-of-type {\n",
              "        vertical-align: middle;\n",
              "    }\n",
              "\n",
              "    .dataframe tbody tr th {\n",
              "        vertical-align: top;\n",
              "    }\n",
              "\n",
              "    .dataframe thead th {\n",
              "        text-align: right;\n",
              "    }\n",
              "</style>\n",
              "<table border=\"1\" class=\"dataframe\">\n",
              "  <thead>\n",
              "    <tr style=\"text-align: right;\">\n",
              "      <th></th>\n",
              "      <th>PhoneService</th>\n",
              "      <th>MultipleLines</th>\n",
              "    </tr>\n",
              "  </thead>\n",
              "  <tbody>\n",
              "    <tr>\n",
              "      <th>0</th>\n",
              "      <td>Yes</td>\n",
              "      <td>No</td>\n",
              "    </tr>\n",
              "    <tr>\n",
              "      <th>1</th>\n",
              "      <td>Yes</td>\n",
              "      <td>Yes</td>\n",
              "    </tr>\n",
              "    <tr>\n",
              "      <th>2</th>\n",
              "      <td>Yes</td>\n",
              "      <td>No</td>\n",
              "    </tr>\n",
              "    <tr>\n",
              "      <th>3</th>\n",
              "      <td>Yes</td>\n",
              "      <td>No</td>\n",
              "    </tr>\n",
              "    <tr>\n",
              "      <th>4</th>\n",
              "      <td>Yes</td>\n",
              "      <td>No</td>\n",
              "    </tr>\n",
              "  </tbody>\n",
              "</table>\n",
              "</div>\n",
              "      <button class=\"colab-df-convert\" onclick=\"convertToInteractive('df-bdeb6202-deab-470f-97e4-e0369a165c09')\"\n",
              "              title=\"Convert this dataframe to an interactive table.\"\n",
              "              style=\"display:none;\">\n",
              "        \n",
              "  <svg xmlns=\"http://www.w3.org/2000/svg\" height=\"24px\"viewBox=\"0 0 24 24\"\n",
              "       width=\"24px\">\n",
              "    <path d=\"M0 0h24v24H0V0z\" fill=\"none\"/>\n",
              "    <path d=\"M18.56 5.44l.94 2.06.94-2.06 2.06-.94-2.06-.94-.94-2.06-.94 2.06-2.06.94zm-11 1L8.5 8.5l.94-2.06 2.06-.94-2.06-.94L8.5 2.5l-.94 2.06-2.06.94zm10 10l.94 2.06.94-2.06 2.06-.94-2.06-.94-.94-2.06-.94 2.06-2.06.94z\"/><path d=\"M17.41 7.96l-1.37-1.37c-.4-.4-.92-.59-1.43-.59-.52 0-1.04.2-1.43.59L10.3 9.45l-7.72 7.72c-.78.78-.78 2.05 0 2.83L4 21.41c.39.39.9.59 1.41.59.51 0 1.02-.2 1.41-.59l7.78-7.78 2.81-2.81c.8-.78.8-2.07 0-2.86zM5.41 20L4 18.59l7.72-7.72 1.47 1.35L5.41 20z\"/>\n",
              "  </svg>\n",
              "      </button>\n",
              "      \n",
              "  <style>\n",
              "    .colab-df-container {\n",
              "      display:flex;\n",
              "      flex-wrap:wrap;\n",
              "      gap: 12px;\n",
              "    }\n",
              "\n",
              "    .colab-df-convert {\n",
              "      background-color: #E8F0FE;\n",
              "      border: none;\n",
              "      border-radius: 50%;\n",
              "      cursor: pointer;\n",
              "      display: none;\n",
              "      fill: #1967D2;\n",
              "      height: 32px;\n",
              "      padding: 0 0 0 0;\n",
              "      width: 32px;\n",
              "    }\n",
              "\n",
              "    .colab-df-convert:hover {\n",
              "      background-color: #E2EBFA;\n",
              "      box-shadow: 0px 1px 2px rgba(60, 64, 67, 0.3), 0px 1px 3px 1px rgba(60, 64, 67, 0.15);\n",
              "      fill: #174EA6;\n",
              "    }\n",
              "\n",
              "    [theme=dark] .colab-df-convert {\n",
              "      background-color: #3B4455;\n",
              "      fill: #D2E3FC;\n",
              "    }\n",
              "\n",
              "    [theme=dark] .colab-df-convert:hover {\n",
              "      background-color: #434B5C;\n",
              "      box-shadow: 0px 1px 3px 1px rgba(0, 0, 0, 0.15);\n",
              "      filter: drop-shadow(0px 1px 2px rgba(0, 0, 0, 0.3));\n",
              "      fill: #FFFFFF;\n",
              "    }\n",
              "  </style>\n",
              "\n",
              "      <script>\n",
              "        const buttonEl =\n",
              "          document.querySelector('#df-bdeb6202-deab-470f-97e4-e0369a165c09 button.colab-df-convert');\n",
              "        buttonEl.style.display =\n",
              "          google.colab.kernel.accessAllowed ? 'block' : 'none';\n",
              "\n",
              "        async function convertToInteractive(key) {\n",
              "          const element = document.querySelector('#df-bdeb6202-deab-470f-97e4-e0369a165c09');\n",
              "          const dataTable =\n",
              "            await google.colab.kernel.invokeFunction('convertToInteractive',\n",
              "                                                     [key], {});\n",
              "          if (!dataTable) return;\n",
              "\n",
              "          const docLinkHtml = 'Like what you see? Visit the ' +\n",
              "            '<a target=\"_blank\" href=https://colab.research.google.com/notebooks/data_table.ipynb>data table notebook</a>'\n",
              "            + ' to learn more about interactive tables.';\n",
              "          element.innerHTML = '';\n",
              "          dataTable['output_type'] = 'display_data';\n",
              "          await google.colab.output.renderOutput(dataTable, element);\n",
              "          const docLink = document.createElement('div');\n",
              "          docLink.innerHTML = docLinkHtml;\n",
              "          element.appendChild(docLink);\n",
              "        }\n",
              "      </script>\n",
              "    </div>\n",
              "  </div>\n",
              "  "
            ]
          },
          "metadata": {},
          "execution_count": 262
        }
      ]
    },
    {
      "cell_type": "code",
      "source": [
        "dados_internet = pd.json_normalize(data = dados.internet)\n",
        "dados_internet.head()"
      ],
      "metadata": {
        "colab": {
          "base_uri": "https://localhost:8080/"
        },
        "id": "uggIQCuZ15nD",
        "outputId": "bf91eca8-6e2e-41bb-c54c-0265cd09537a"
      },
      "execution_count": null,
      "outputs": [
        {
          "output_type": "execute_result",
          "data": {
            "text/plain": [
              "  InternetService OnlineSecurity OnlineBackup DeviceProtection TechSupport  \\\n",
              "0             DSL             No          Yes               No         Yes   \n",
              "1             DSL             No           No               No          No   \n",
              "2     Fiber optic             No           No              Yes          No   \n",
              "3     Fiber optic             No          Yes              Yes          No   \n",
              "4     Fiber optic             No           No               No         Yes   \n",
              "\n",
              "  StreamingTV StreamingMovies  \n",
              "0         Yes              No  \n",
              "1          No             Yes  \n",
              "2          No              No  \n",
              "3         Yes             Yes  \n",
              "4         Yes              No  "
            ],
            "text/html": [
              "\n",
              "  <div id=\"df-d01cef10-4fd8-4031-89a6-23ea943629d9\">\n",
              "    <div class=\"colab-df-container\">\n",
              "      <div>\n",
              "<style scoped>\n",
              "    .dataframe tbody tr th:only-of-type {\n",
              "        vertical-align: middle;\n",
              "    }\n",
              "\n",
              "    .dataframe tbody tr th {\n",
              "        vertical-align: top;\n",
              "    }\n",
              "\n",
              "    .dataframe thead th {\n",
              "        text-align: right;\n",
              "    }\n",
              "</style>\n",
              "<table border=\"1\" class=\"dataframe\">\n",
              "  <thead>\n",
              "    <tr style=\"text-align: right;\">\n",
              "      <th></th>\n",
              "      <th>InternetService</th>\n",
              "      <th>OnlineSecurity</th>\n",
              "      <th>OnlineBackup</th>\n",
              "      <th>DeviceProtection</th>\n",
              "      <th>TechSupport</th>\n",
              "      <th>StreamingTV</th>\n",
              "      <th>StreamingMovies</th>\n",
              "    </tr>\n",
              "  </thead>\n",
              "  <tbody>\n",
              "    <tr>\n",
              "      <th>0</th>\n",
              "      <td>DSL</td>\n",
              "      <td>No</td>\n",
              "      <td>Yes</td>\n",
              "      <td>No</td>\n",
              "      <td>Yes</td>\n",
              "      <td>Yes</td>\n",
              "      <td>No</td>\n",
              "    </tr>\n",
              "    <tr>\n",
              "      <th>1</th>\n",
              "      <td>DSL</td>\n",
              "      <td>No</td>\n",
              "      <td>No</td>\n",
              "      <td>No</td>\n",
              "      <td>No</td>\n",
              "      <td>No</td>\n",
              "      <td>Yes</td>\n",
              "    </tr>\n",
              "    <tr>\n",
              "      <th>2</th>\n",
              "      <td>Fiber optic</td>\n",
              "      <td>No</td>\n",
              "      <td>No</td>\n",
              "      <td>Yes</td>\n",
              "      <td>No</td>\n",
              "      <td>No</td>\n",
              "      <td>No</td>\n",
              "    </tr>\n",
              "    <tr>\n",
              "      <th>3</th>\n",
              "      <td>Fiber optic</td>\n",
              "      <td>No</td>\n",
              "      <td>Yes</td>\n",
              "      <td>Yes</td>\n",
              "      <td>No</td>\n",
              "      <td>Yes</td>\n",
              "      <td>Yes</td>\n",
              "    </tr>\n",
              "    <tr>\n",
              "      <th>4</th>\n",
              "      <td>Fiber optic</td>\n",
              "      <td>No</td>\n",
              "      <td>No</td>\n",
              "      <td>No</td>\n",
              "      <td>Yes</td>\n",
              "      <td>Yes</td>\n",
              "      <td>No</td>\n",
              "    </tr>\n",
              "  </tbody>\n",
              "</table>\n",
              "</div>\n",
              "      <button class=\"colab-df-convert\" onclick=\"convertToInteractive('df-d01cef10-4fd8-4031-89a6-23ea943629d9')\"\n",
              "              title=\"Convert this dataframe to an interactive table.\"\n",
              "              style=\"display:none;\">\n",
              "        \n",
              "  <svg xmlns=\"http://www.w3.org/2000/svg\" height=\"24px\"viewBox=\"0 0 24 24\"\n",
              "       width=\"24px\">\n",
              "    <path d=\"M0 0h24v24H0V0z\" fill=\"none\"/>\n",
              "    <path d=\"M18.56 5.44l.94 2.06.94-2.06 2.06-.94-2.06-.94-.94-2.06-.94 2.06-2.06.94zm-11 1L8.5 8.5l.94-2.06 2.06-.94-2.06-.94L8.5 2.5l-.94 2.06-2.06.94zm10 10l.94 2.06.94-2.06 2.06-.94-2.06-.94-.94-2.06-.94 2.06-2.06.94z\"/><path d=\"M17.41 7.96l-1.37-1.37c-.4-.4-.92-.59-1.43-.59-.52 0-1.04.2-1.43.59L10.3 9.45l-7.72 7.72c-.78.78-.78 2.05 0 2.83L4 21.41c.39.39.9.59 1.41.59.51 0 1.02-.2 1.41-.59l7.78-7.78 2.81-2.81c.8-.78.8-2.07 0-2.86zM5.41 20L4 18.59l7.72-7.72 1.47 1.35L5.41 20z\"/>\n",
              "  </svg>\n",
              "      </button>\n",
              "      \n",
              "  <style>\n",
              "    .colab-df-container {\n",
              "      display:flex;\n",
              "      flex-wrap:wrap;\n",
              "      gap: 12px;\n",
              "    }\n",
              "\n",
              "    .colab-df-convert {\n",
              "      background-color: #E8F0FE;\n",
              "      border: none;\n",
              "      border-radius: 50%;\n",
              "      cursor: pointer;\n",
              "      display: none;\n",
              "      fill: #1967D2;\n",
              "      height: 32px;\n",
              "      padding: 0 0 0 0;\n",
              "      width: 32px;\n",
              "    }\n",
              "\n",
              "    .colab-df-convert:hover {\n",
              "      background-color: #E2EBFA;\n",
              "      box-shadow: 0px 1px 2px rgba(60, 64, 67, 0.3), 0px 1px 3px 1px rgba(60, 64, 67, 0.15);\n",
              "      fill: #174EA6;\n",
              "    }\n",
              "\n",
              "    [theme=dark] .colab-df-convert {\n",
              "      background-color: #3B4455;\n",
              "      fill: #D2E3FC;\n",
              "    }\n",
              "\n",
              "    [theme=dark] .colab-df-convert:hover {\n",
              "      background-color: #434B5C;\n",
              "      box-shadow: 0px 1px 3px 1px rgba(0, 0, 0, 0.15);\n",
              "      filter: drop-shadow(0px 1px 2px rgba(0, 0, 0, 0.3));\n",
              "      fill: #FFFFFF;\n",
              "    }\n",
              "  </style>\n",
              "\n",
              "      <script>\n",
              "        const buttonEl =\n",
              "          document.querySelector('#df-d01cef10-4fd8-4031-89a6-23ea943629d9 button.colab-df-convert');\n",
              "        buttonEl.style.display =\n",
              "          google.colab.kernel.accessAllowed ? 'block' : 'none';\n",
              "\n",
              "        async function convertToInteractive(key) {\n",
              "          const element = document.querySelector('#df-d01cef10-4fd8-4031-89a6-23ea943629d9');\n",
              "          const dataTable =\n",
              "            await google.colab.kernel.invokeFunction('convertToInteractive',\n",
              "                                                     [key], {});\n",
              "          if (!dataTable) return;\n",
              "\n",
              "          const docLinkHtml = 'Like what you see? Visit the ' +\n",
              "            '<a target=\"_blank\" href=https://colab.research.google.com/notebooks/data_table.ipynb>data table notebook</a>'\n",
              "            + ' to learn more about interactive tables.';\n",
              "          element.innerHTML = '';\n",
              "          dataTable['output_type'] = 'display_data';\n",
              "          await google.colab.output.renderOutput(dataTable, element);\n",
              "          const docLink = document.createElement('div');\n",
              "          docLink.innerHTML = docLinkHtml;\n",
              "          element.appendChild(docLink);\n",
              "        }\n",
              "      </script>\n",
              "    </div>\n",
              "  </div>\n",
              "  "
            ]
          },
          "metadata": {},
          "execution_count": 263
        }
      ]
    },
    {
      "cell_type": "code",
      "source": [
        "dados_account = pd.json_normalize(data = dados.account)\n",
        "dados_account.head()"
      ],
      "metadata": {
        "colab": {
          "base_uri": "https://localhost:8080/"
        },
        "id": "t2O772yo15ed",
        "outputId": "7735d701-ea10-40d4-bfd5-f10b31028b59"
      },
      "execution_count": null,
      "outputs": [
        {
          "output_type": "execute_result",
          "data": {
            "text/plain": [
              "         Contract PaperlessBilling     PaymentMethod  Charges.Monthly  \\\n",
              "0        One year              Yes      Mailed check             65.6   \n",
              "1  Month-to-month               No      Mailed check             59.9   \n",
              "2  Month-to-month              Yes  Electronic check             73.9   \n",
              "3  Month-to-month              Yes  Electronic check             98.0   \n",
              "4  Month-to-month              Yes      Mailed check             83.9   \n",
              "\n",
              "  Charges.Total  \n",
              "0         593.3  \n",
              "1         542.4  \n",
              "2        280.85  \n",
              "3       1237.85  \n",
              "4         267.4  "
            ],
            "text/html": [
              "\n",
              "  <div id=\"df-1c90c228-26f7-4ace-a38e-40f75830c2ca\">\n",
              "    <div class=\"colab-df-container\">\n",
              "      <div>\n",
              "<style scoped>\n",
              "    .dataframe tbody tr th:only-of-type {\n",
              "        vertical-align: middle;\n",
              "    }\n",
              "\n",
              "    .dataframe tbody tr th {\n",
              "        vertical-align: top;\n",
              "    }\n",
              "\n",
              "    .dataframe thead th {\n",
              "        text-align: right;\n",
              "    }\n",
              "</style>\n",
              "<table border=\"1\" class=\"dataframe\">\n",
              "  <thead>\n",
              "    <tr style=\"text-align: right;\">\n",
              "      <th></th>\n",
              "      <th>Contract</th>\n",
              "      <th>PaperlessBilling</th>\n",
              "      <th>PaymentMethod</th>\n",
              "      <th>Charges.Monthly</th>\n",
              "      <th>Charges.Total</th>\n",
              "    </tr>\n",
              "  </thead>\n",
              "  <tbody>\n",
              "    <tr>\n",
              "      <th>0</th>\n",
              "      <td>One year</td>\n",
              "      <td>Yes</td>\n",
              "      <td>Mailed check</td>\n",
              "      <td>65.6</td>\n",
              "      <td>593.3</td>\n",
              "    </tr>\n",
              "    <tr>\n",
              "      <th>1</th>\n",
              "      <td>Month-to-month</td>\n",
              "      <td>No</td>\n",
              "      <td>Mailed check</td>\n",
              "      <td>59.9</td>\n",
              "      <td>542.4</td>\n",
              "    </tr>\n",
              "    <tr>\n",
              "      <th>2</th>\n",
              "      <td>Month-to-month</td>\n",
              "      <td>Yes</td>\n",
              "      <td>Electronic check</td>\n",
              "      <td>73.9</td>\n",
              "      <td>280.85</td>\n",
              "    </tr>\n",
              "    <tr>\n",
              "      <th>3</th>\n",
              "      <td>Month-to-month</td>\n",
              "      <td>Yes</td>\n",
              "      <td>Electronic check</td>\n",
              "      <td>98.0</td>\n",
              "      <td>1237.85</td>\n",
              "    </tr>\n",
              "    <tr>\n",
              "      <th>4</th>\n",
              "      <td>Month-to-month</td>\n",
              "      <td>Yes</td>\n",
              "      <td>Mailed check</td>\n",
              "      <td>83.9</td>\n",
              "      <td>267.4</td>\n",
              "    </tr>\n",
              "  </tbody>\n",
              "</table>\n",
              "</div>\n",
              "      <button class=\"colab-df-convert\" onclick=\"convertToInteractive('df-1c90c228-26f7-4ace-a38e-40f75830c2ca')\"\n",
              "              title=\"Convert this dataframe to an interactive table.\"\n",
              "              style=\"display:none;\">\n",
              "        \n",
              "  <svg xmlns=\"http://www.w3.org/2000/svg\" height=\"24px\"viewBox=\"0 0 24 24\"\n",
              "       width=\"24px\">\n",
              "    <path d=\"M0 0h24v24H0V0z\" fill=\"none\"/>\n",
              "    <path d=\"M18.56 5.44l.94 2.06.94-2.06 2.06-.94-2.06-.94-.94-2.06-.94 2.06-2.06.94zm-11 1L8.5 8.5l.94-2.06 2.06-.94-2.06-.94L8.5 2.5l-.94 2.06-2.06.94zm10 10l.94 2.06.94-2.06 2.06-.94-2.06-.94-.94-2.06-.94 2.06-2.06.94z\"/><path d=\"M17.41 7.96l-1.37-1.37c-.4-.4-.92-.59-1.43-.59-.52 0-1.04.2-1.43.59L10.3 9.45l-7.72 7.72c-.78.78-.78 2.05 0 2.83L4 21.41c.39.39.9.59 1.41.59.51 0 1.02-.2 1.41-.59l7.78-7.78 2.81-2.81c.8-.78.8-2.07 0-2.86zM5.41 20L4 18.59l7.72-7.72 1.47 1.35L5.41 20z\"/>\n",
              "  </svg>\n",
              "      </button>\n",
              "      \n",
              "  <style>\n",
              "    .colab-df-container {\n",
              "      display:flex;\n",
              "      flex-wrap:wrap;\n",
              "      gap: 12px;\n",
              "    }\n",
              "\n",
              "    .colab-df-convert {\n",
              "      background-color: #E8F0FE;\n",
              "      border: none;\n",
              "      border-radius: 50%;\n",
              "      cursor: pointer;\n",
              "      display: none;\n",
              "      fill: #1967D2;\n",
              "      height: 32px;\n",
              "      padding: 0 0 0 0;\n",
              "      width: 32px;\n",
              "    }\n",
              "\n",
              "    .colab-df-convert:hover {\n",
              "      background-color: #E2EBFA;\n",
              "      box-shadow: 0px 1px 2px rgba(60, 64, 67, 0.3), 0px 1px 3px 1px rgba(60, 64, 67, 0.15);\n",
              "      fill: #174EA6;\n",
              "    }\n",
              "\n",
              "    [theme=dark] .colab-df-convert {\n",
              "      background-color: #3B4455;\n",
              "      fill: #D2E3FC;\n",
              "    }\n",
              "\n",
              "    [theme=dark] .colab-df-convert:hover {\n",
              "      background-color: #434B5C;\n",
              "      box-shadow: 0px 1px 3px 1px rgba(0, 0, 0, 0.15);\n",
              "      filter: drop-shadow(0px 1px 2px rgba(0, 0, 0, 0.3));\n",
              "      fill: #FFFFFF;\n",
              "    }\n",
              "  </style>\n",
              "\n",
              "      <script>\n",
              "        const buttonEl =\n",
              "          document.querySelector('#df-1c90c228-26f7-4ace-a38e-40f75830c2ca button.colab-df-convert');\n",
              "        buttonEl.style.display =\n",
              "          google.colab.kernel.accessAllowed ? 'block' : 'none';\n",
              "\n",
              "        async function convertToInteractive(key) {\n",
              "          const element = document.querySelector('#df-1c90c228-26f7-4ace-a38e-40f75830c2ca');\n",
              "          const dataTable =\n",
              "            await google.colab.kernel.invokeFunction('convertToInteractive',\n",
              "                                                     [key], {});\n",
              "          if (!dataTable) return;\n",
              "\n",
              "          const docLinkHtml = 'Like what you see? Visit the ' +\n",
              "            '<a target=\"_blank\" href=https://colab.research.google.com/notebooks/data_table.ipynb>data table notebook</a>'\n",
              "            + ' to learn more about interactive tables.';\n",
              "          element.innerHTML = '';\n",
              "          dataTable['output_type'] = 'display_data';\n",
              "          await google.colab.output.renderOutput(dataTable, element);\n",
              "          const docLink = document.createElement('div');\n",
              "          docLink.innerHTML = docLinkHtml;\n",
              "          element.appendChild(docLink);\n",
              "        }\n",
              "      </script>\n",
              "    </div>\n",
              "  </div>\n",
              "  "
            ]
          },
          "metadata": {},
          "execution_count": 264
        }
      ]
    },
    {
      "cell_type": "markdown",
      "source": [
        "Com os DataFrame criados, as informações devem ser unificadas em um único DataFrame.\n",
        "\n",
        "É possível manter os dados separados, porém a análise dos mesmos ficará mais longa. A opção de manter os dados separados é eficaz para a criação de banco de dados *Star Schema*."
      ],
      "metadata": {
        "id": "J9X7fg8r27dg"
      }
    },
    {
      "cell_type": "markdown",
      "source": [
        "Para a união dos DataFrame, irei uni-los em pares. Isso permite que eu verifique meu progresso e garanta que não está ocorrendo nenhum erro."
      ],
      "metadata": {
        "id": "Zbk3Wy-_5gBi"
      }
    },
    {
      "cell_type": "markdown",
      "source": [
        "Primeiramente irei unir as informações contidas em *customer* e *phone*. Para garantir que todas as informações foram mantidas, irei verificar o tamanho final dos DataFrames."
      ],
      "metadata": {
        "id": "Li38Cm3N6181"
      }
    },
    {
      "cell_type": "code",
      "source": [
        "dados_customer_phone = pd.merge(\n",
        "    left = dados_customer,\n",
        "    right = dados_phone,\n",
        "    left_index = True,\n",
        "    right_index = True\n",
        ")"
      ],
      "metadata": {
        "id": "e1zirw8w4WpC"
      },
      "execution_count": null,
      "outputs": []
    },
    {
      "cell_type": "code",
      "source": [
        "print(f'O primeiro DataFrame contém {dados_customer.shape[0]} linhas. O segundo contém {dados_phone.shape[0]}. A união contém {dados_customer_phone.shape[0]}')"
      ],
      "metadata": {
        "colab": {
          "base_uri": "https://localhost:8080/"
        },
        "id": "oi_mBv3U4WiT",
        "outputId": "4ca401c4-f090-441b-a99b-e398155e78d6"
      },
      "execution_count": null,
      "outputs": [
        {
          "output_type": "stream",
          "name": "stdout",
          "text": [
            "O primeiro DataFrame contém 7267 linhas. O segundo contém 7267. A união contém 7267\n"
          ]
        }
      ]
    },
    {
      "cell_type": "code",
      "source": [
        "dados_customer_phone.head()"
      ],
      "metadata": {
        "colab": {
          "base_uri": "https://localhost:8080/"
        },
        "id": "hhVFpTNk4WOL",
        "outputId": "988bfc73-cfc9-4b2b-8cf2-ee877eb52c6c"
      },
      "execution_count": null,
      "outputs": [
        {
          "output_type": "execute_result",
          "data": {
            "text/plain": [
              "   gender  SeniorCitizen Partner Dependents  tenure PhoneService MultipleLines\n",
              "0  Female              0     Yes        Yes       9          Yes            No\n",
              "1    Male              0      No         No       9          Yes           Yes\n",
              "2    Male              0      No         No       4          Yes            No\n",
              "3    Male              1     Yes         No      13          Yes            No\n",
              "4  Female              1     Yes         No       3          Yes            No"
            ],
            "text/html": [
              "\n",
              "  <div id=\"df-23a0f10a-ffdc-4c4a-801a-53c556ff6361\">\n",
              "    <div class=\"colab-df-container\">\n",
              "      <div>\n",
              "<style scoped>\n",
              "    .dataframe tbody tr th:only-of-type {\n",
              "        vertical-align: middle;\n",
              "    }\n",
              "\n",
              "    .dataframe tbody tr th {\n",
              "        vertical-align: top;\n",
              "    }\n",
              "\n",
              "    .dataframe thead th {\n",
              "        text-align: right;\n",
              "    }\n",
              "</style>\n",
              "<table border=\"1\" class=\"dataframe\">\n",
              "  <thead>\n",
              "    <tr style=\"text-align: right;\">\n",
              "      <th></th>\n",
              "      <th>gender</th>\n",
              "      <th>SeniorCitizen</th>\n",
              "      <th>Partner</th>\n",
              "      <th>Dependents</th>\n",
              "      <th>tenure</th>\n",
              "      <th>PhoneService</th>\n",
              "      <th>MultipleLines</th>\n",
              "    </tr>\n",
              "  </thead>\n",
              "  <tbody>\n",
              "    <tr>\n",
              "      <th>0</th>\n",
              "      <td>Female</td>\n",
              "      <td>0</td>\n",
              "      <td>Yes</td>\n",
              "      <td>Yes</td>\n",
              "      <td>9</td>\n",
              "      <td>Yes</td>\n",
              "      <td>No</td>\n",
              "    </tr>\n",
              "    <tr>\n",
              "      <th>1</th>\n",
              "      <td>Male</td>\n",
              "      <td>0</td>\n",
              "      <td>No</td>\n",
              "      <td>No</td>\n",
              "      <td>9</td>\n",
              "      <td>Yes</td>\n",
              "      <td>Yes</td>\n",
              "    </tr>\n",
              "    <tr>\n",
              "      <th>2</th>\n",
              "      <td>Male</td>\n",
              "      <td>0</td>\n",
              "      <td>No</td>\n",
              "      <td>No</td>\n",
              "      <td>4</td>\n",
              "      <td>Yes</td>\n",
              "      <td>No</td>\n",
              "    </tr>\n",
              "    <tr>\n",
              "      <th>3</th>\n",
              "      <td>Male</td>\n",
              "      <td>1</td>\n",
              "      <td>Yes</td>\n",
              "      <td>No</td>\n",
              "      <td>13</td>\n",
              "      <td>Yes</td>\n",
              "      <td>No</td>\n",
              "    </tr>\n",
              "    <tr>\n",
              "      <th>4</th>\n",
              "      <td>Female</td>\n",
              "      <td>1</td>\n",
              "      <td>Yes</td>\n",
              "      <td>No</td>\n",
              "      <td>3</td>\n",
              "      <td>Yes</td>\n",
              "      <td>No</td>\n",
              "    </tr>\n",
              "  </tbody>\n",
              "</table>\n",
              "</div>\n",
              "      <button class=\"colab-df-convert\" onclick=\"convertToInteractive('df-23a0f10a-ffdc-4c4a-801a-53c556ff6361')\"\n",
              "              title=\"Convert this dataframe to an interactive table.\"\n",
              "              style=\"display:none;\">\n",
              "        \n",
              "  <svg xmlns=\"http://www.w3.org/2000/svg\" height=\"24px\"viewBox=\"0 0 24 24\"\n",
              "       width=\"24px\">\n",
              "    <path d=\"M0 0h24v24H0V0z\" fill=\"none\"/>\n",
              "    <path d=\"M18.56 5.44l.94 2.06.94-2.06 2.06-.94-2.06-.94-.94-2.06-.94 2.06-2.06.94zm-11 1L8.5 8.5l.94-2.06 2.06-.94-2.06-.94L8.5 2.5l-.94 2.06-2.06.94zm10 10l.94 2.06.94-2.06 2.06-.94-2.06-.94-.94-2.06-.94 2.06-2.06.94z\"/><path d=\"M17.41 7.96l-1.37-1.37c-.4-.4-.92-.59-1.43-.59-.52 0-1.04.2-1.43.59L10.3 9.45l-7.72 7.72c-.78.78-.78 2.05 0 2.83L4 21.41c.39.39.9.59 1.41.59.51 0 1.02-.2 1.41-.59l7.78-7.78 2.81-2.81c.8-.78.8-2.07 0-2.86zM5.41 20L4 18.59l7.72-7.72 1.47 1.35L5.41 20z\"/>\n",
              "  </svg>\n",
              "      </button>\n",
              "      \n",
              "  <style>\n",
              "    .colab-df-container {\n",
              "      display:flex;\n",
              "      flex-wrap:wrap;\n",
              "      gap: 12px;\n",
              "    }\n",
              "\n",
              "    .colab-df-convert {\n",
              "      background-color: #E8F0FE;\n",
              "      border: none;\n",
              "      border-radius: 50%;\n",
              "      cursor: pointer;\n",
              "      display: none;\n",
              "      fill: #1967D2;\n",
              "      height: 32px;\n",
              "      padding: 0 0 0 0;\n",
              "      width: 32px;\n",
              "    }\n",
              "\n",
              "    .colab-df-convert:hover {\n",
              "      background-color: #E2EBFA;\n",
              "      box-shadow: 0px 1px 2px rgba(60, 64, 67, 0.3), 0px 1px 3px 1px rgba(60, 64, 67, 0.15);\n",
              "      fill: #174EA6;\n",
              "    }\n",
              "\n",
              "    [theme=dark] .colab-df-convert {\n",
              "      background-color: #3B4455;\n",
              "      fill: #D2E3FC;\n",
              "    }\n",
              "\n",
              "    [theme=dark] .colab-df-convert:hover {\n",
              "      background-color: #434B5C;\n",
              "      box-shadow: 0px 1px 3px 1px rgba(0, 0, 0, 0.15);\n",
              "      filter: drop-shadow(0px 1px 2px rgba(0, 0, 0, 0.3));\n",
              "      fill: #FFFFFF;\n",
              "    }\n",
              "  </style>\n",
              "\n",
              "      <script>\n",
              "        const buttonEl =\n",
              "          document.querySelector('#df-23a0f10a-ffdc-4c4a-801a-53c556ff6361 button.colab-df-convert');\n",
              "        buttonEl.style.display =\n",
              "          google.colab.kernel.accessAllowed ? 'block' : 'none';\n",
              "\n",
              "        async function convertToInteractive(key) {\n",
              "          const element = document.querySelector('#df-23a0f10a-ffdc-4c4a-801a-53c556ff6361');\n",
              "          const dataTable =\n",
              "            await google.colab.kernel.invokeFunction('convertToInteractive',\n",
              "                                                     [key], {});\n",
              "          if (!dataTable) return;\n",
              "\n",
              "          const docLinkHtml = 'Like what you see? Visit the ' +\n",
              "            '<a target=\"_blank\" href=https://colab.research.google.com/notebooks/data_table.ipynb>data table notebook</a>'\n",
              "            + ' to learn more about interactive tables.';\n",
              "          element.innerHTML = '';\n",
              "          dataTable['output_type'] = 'display_data';\n",
              "          await google.colab.output.renderOutput(dataTable, element);\n",
              "          const docLink = document.createElement('div');\n",
              "          docLink.innerHTML = docLinkHtml;\n",
              "          element.appendChild(docLink);\n",
              "        }\n",
              "      </script>\n",
              "    </div>\n",
              "  </div>\n",
              "  "
            ]
          },
          "metadata": {},
          "execution_count": 267
        }
      ]
    },
    {
      "cell_type": "markdown",
      "source": [
        "Conferindo as informações com o arquivo original, posso continuar e fazer a união das informações referentes as colunas *internet* e *account*"
      ],
      "metadata": {
        "id": "-kjA0AM37fsD"
      }
    },
    {
      "cell_type": "code",
      "source": [
        "dados_internet_account = pd.merge(\n",
        "    left = dados_internet,\n",
        "    right = dados_account,\n",
        "    left_index = True,\n",
        "    right_index = True\n",
        ")"
      ],
      "metadata": {
        "id": "4uNFEDdr7scg"
      },
      "execution_count": null,
      "outputs": []
    },
    {
      "cell_type": "code",
      "source": [
        "print(f'O primeiro DataFrame contém {dados_internet.shape[0]} linhas. O segundo contém {dados_account.shape[0]}. A união contém {dados_internet_account.shape[0]}')"
      ],
      "metadata": {
        "colab": {
          "base_uri": "https://localhost:8080/"
        },
        "id": "-_ZnT9qy7sUY",
        "outputId": "8559736c-c54f-493f-8e1f-f2fd7a08f812"
      },
      "execution_count": null,
      "outputs": [
        {
          "output_type": "stream",
          "name": "stdout",
          "text": [
            "O primeiro DataFrame contém 7267 linhas. O segundo contém 7267. A união contém 7267\n"
          ]
        }
      ]
    },
    {
      "cell_type": "code",
      "source": [
        "dados_internet_account.head()"
      ],
      "metadata": {
        "colab": {
          "base_uri": "https://localhost:8080/"
        },
        "id": "s_Bk1bln7sBY",
        "outputId": "d408c0ce-705a-48cb-b87f-f29321714202"
      },
      "execution_count": null,
      "outputs": [
        {
          "output_type": "execute_result",
          "data": {
            "text/plain": [
              "  InternetService OnlineSecurity OnlineBackup DeviceProtection TechSupport  \\\n",
              "0             DSL             No          Yes               No         Yes   \n",
              "1             DSL             No           No               No          No   \n",
              "2     Fiber optic             No           No              Yes          No   \n",
              "3     Fiber optic             No          Yes              Yes          No   \n",
              "4     Fiber optic             No           No               No         Yes   \n",
              "\n",
              "  StreamingTV StreamingMovies        Contract PaperlessBilling  \\\n",
              "0         Yes              No        One year              Yes   \n",
              "1          No             Yes  Month-to-month               No   \n",
              "2          No              No  Month-to-month              Yes   \n",
              "3         Yes             Yes  Month-to-month              Yes   \n",
              "4         Yes              No  Month-to-month              Yes   \n",
              "\n",
              "      PaymentMethod  Charges.Monthly Charges.Total  \n",
              "0      Mailed check             65.6         593.3  \n",
              "1      Mailed check             59.9         542.4  \n",
              "2  Electronic check             73.9        280.85  \n",
              "3  Electronic check             98.0       1237.85  \n",
              "4      Mailed check             83.9         267.4  "
            ],
            "text/html": [
              "\n",
              "  <div id=\"df-2e91edc1-7325-43f7-a54d-932ca243eca3\">\n",
              "    <div class=\"colab-df-container\">\n",
              "      <div>\n",
              "<style scoped>\n",
              "    .dataframe tbody tr th:only-of-type {\n",
              "        vertical-align: middle;\n",
              "    }\n",
              "\n",
              "    .dataframe tbody tr th {\n",
              "        vertical-align: top;\n",
              "    }\n",
              "\n",
              "    .dataframe thead th {\n",
              "        text-align: right;\n",
              "    }\n",
              "</style>\n",
              "<table border=\"1\" class=\"dataframe\">\n",
              "  <thead>\n",
              "    <tr style=\"text-align: right;\">\n",
              "      <th></th>\n",
              "      <th>InternetService</th>\n",
              "      <th>OnlineSecurity</th>\n",
              "      <th>OnlineBackup</th>\n",
              "      <th>DeviceProtection</th>\n",
              "      <th>TechSupport</th>\n",
              "      <th>StreamingTV</th>\n",
              "      <th>StreamingMovies</th>\n",
              "      <th>Contract</th>\n",
              "      <th>PaperlessBilling</th>\n",
              "      <th>PaymentMethod</th>\n",
              "      <th>Charges.Monthly</th>\n",
              "      <th>Charges.Total</th>\n",
              "    </tr>\n",
              "  </thead>\n",
              "  <tbody>\n",
              "    <tr>\n",
              "      <th>0</th>\n",
              "      <td>DSL</td>\n",
              "      <td>No</td>\n",
              "      <td>Yes</td>\n",
              "      <td>No</td>\n",
              "      <td>Yes</td>\n",
              "      <td>Yes</td>\n",
              "      <td>No</td>\n",
              "      <td>One year</td>\n",
              "      <td>Yes</td>\n",
              "      <td>Mailed check</td>\n",
              "      <td>65.6</td>\n",
              "      <td>593.3</td>\n",
              "    </tr>\n",
              "    <tr>\n",
              "      <th>1</th>\n",
              "      <td>DSL</td>\n",
              "      <td>No</td>\n",
              "      <td>No</td>\n",
              "      <td>No</td>\n",
              "      <td>No</td>\n",
              "      <td>No</td>\n",
              "      <td>Yes</td>\n",
              "      <td>Month-to-month</td>\n",
              "      <td>No</td>\n",
              "      <td>Mailed check</td>\n",
              "      <td>59.9</td>\n",
              "      <td>542.4</td>\n",
              "    </tr>\n",
              "    <tr>\n",
              "      <th>2</th>\n",
              "      <td>Fiber optic</td>\n",
              "      <td>No</td>\n",
              "      <td>No</td>\n",
              "      <td>Yes</td>\n",
              "      <td>No</td>\n",
              "      <td>No</td>\n",
              "      <td>No</td>\n",
              "      <td>Month-to-month</td>\n",
              "      <td>Yes</td>\n",
              "      <td>Electronic check</td>\n",
              "      <td>73.9</td>\n",
              "      <td>280.85</td>\n",
              "    </tr>\n",
              "    <tr>\n",
              "      <th>3</th>\n",
              "      <td>Fiber optic</td>\n",
              "      <td>No</td>\n",
              "      <td>Yes</td>\n",
              "      <td>Yes</td>\n",
              "      <td>No</td>\n",
              "      <td>Yes</td>\n",
              "      <td>Yes</td>\n",
              "      <td>Month-to-month</td>\n",
              "      <td>Yes</td>\n",
              "      <td>Electronic check</td>\n",
              "      <td>98.0</td>\n",
              "      <td>1237.85</td>\n",
              "    </tr>\n",
              "    <tr>\n",
              "      <th>4</th>\n",
              "      <td>Fiber optic</td>\n",
              "      <td>No</td>\n",
              "      <td>No</td>\n",
              "      <td>No</td>\n",
              "      <td>Yes</td>\n",
              "      <td>Yes</td>\n",
              "      <td>No</td>\n",
              "      <td>Month-to-month</td>\n",
              "      <td>Yes</td>\n",
              "      <td>Mailed check</td>\n",
              "      <td>83.9</td>\n",
              "      <td>267.4</td>\n",
              "    </tr>\n",
              "  </tbody>\n",
              "</table>\n",
              "</div>\n",
              "      <button class=\"colab-df-convert\" onclick=\"convertToInteractive('df-2e91edc1-7325-43f7-a54d-932ca243eca3')\"\n",
              "              title=\"Convert this dataframe to an interactive table.\"\n",
              "              style=\"display:none;\">\n",
              "        \n",
              "  <svg xmlns=\"http://www.w3.org/2000/svg\" height=\"24px\"viewBox=\"0 0 24 24\"\n",
              "       width=\"24px\">\n",
              "    <path d=\"M0 0h24v24H0V0z\" fill=\"none\"/>\n",
              "    <path d=\"M18.56 5.44l.94 2.06.94-2.06 2.06-.94-2.06-.94-.94-2.06-.94 2.06-2.06.94zm-11 1L8.5 8.5l.94-2.06 2.06-.94-2.06-.94L8.5 2.5l-.94 2.06-2.06.94zm10 10l.94 2.06.94-2.06 2.06-.94-2.06-.94-.94-2.06-.94 2.06-2.06.94z\"/><path d=\"M17.41 7.96l-1.37-1.37c-.4-.4-.92-.59-1.43-.59-.52 0-1.04.2-1.43.59L10.3 9.45l-7.72 7.72c-.78.78-.78 2.05 0 2.83L4 21.41c.39.39.9.59 1.41.59.51 0 1.02-.2 1.41-.59l7.78-7.78 2.81-2.81c.8-.78.8-2.07 0-2.86zM5.41 20L4 18.59l7.72-7.72 1.47 1.35L5.41 20z\"/>\n",
              "  </svg>\n",
              "      </button>\n",
              "      \n",
              "  <style>\n",
              "    .colab-df-container {\n",
              "      display:flex;\n",
              "      flex-wrap:wrap;\n",
              "      gap: 12px;\n",
              "    }\n",
              "\n",
              "    .colab-df-convert {\n",
              "      background-color: #E8F0FE;\n",
              "      border: none;\n",
              "      border-radius: 50%;\n",
              "      cursor: pointer;\n",
              "      display: none;\n",
              "      fill: #1967D2;\n",
              "      height: 32px;\n",
              "      padding: 0 0 0 0;\n",
              "      width: 32px;\n",
              "    }\n",
              "\n",
              "    .colab-df-convert:hover {\n",
              "      background-color: #E2EBFA;\n",
              "      box-shadow: 0px 1px 2px rgba(60, 64, 67, 0.3), 0px 1px 3px 1px rgba(60, 64, 67, 0.15);\n",
              "      fill: #174EA6;\n",
              "    }\n",
              "\n",
              "    [theme=dark] .colab-df-convert {\n",
              "      background-color: #3B4455;\n",
              "      fill: #D2E3FC;\n",
              "    }\n",
              "\n",
              "    [theme=dark] .colab-df-convert:hover {\n",
              "      background-color: #434B5C;\n",
              "      box-shadow: 0px 1px 3px 1px rgba(0, 0, 0, 0.15);\n",
              "      filter: drop-shadow(0px 1px 2px rgba(0, 0, 0, 0.3));\n",
              "      fill: #FFFFFF;\n",
              "    }\n",
              "  </style>\n",
              "\n",
              "      <script>\n",
              "        const buttonEl =\n",
              "          document.querySelector('#df-2e91edc1-7325-43f7-a54d-932ca243eca3 button.colab-df-convert');\n",
              "        buttonEl.style.display =\n",
              "          google.colab.kernel.accessAllowed ? 'block' : 'none';\n",
              "\n",
              "        async function convertToInteractive(key) {\n",
              "          const element = document.querySelector('#df-2e91edc1-7325-43f7-a54d-932ca243eca3');\n",
              "          const dataTable =\n",
              "            await google.colab.kernel.invokeFunction('convertToInteractive',\n",
              "                                                     [key], {});\n",
              "          if (!dataTable) return;\n",
              "\n",
              "          const docLinkHtml = 'Like what you see? Visit the ' +\n",
              "            '<a target=\"_blank\" href=https://colab.research.google.com/notebooks/data_table.ipynb>data table notebook</a>'\n",
              "            + ' to learn more about interactive tables.';\n",
              "          element.innerHTML = '';\n",
              "          dataTable['output_type'] = 'display_data';\n",
              "          await google.colab.output.renderOutput(dataTable, element);\n",
              "          const docLink = document.createElement('div');\n",
              "          docLink.innerHTML = docLinkHtml;\n",
              "          element.appendChild(docLink);\n",
              "        }\n",
              "      </script>\n",
              "    </div>\n",
              "  </div>\n",
              "  "
            ]
          },
          "metadata": {},
          "execution_count": 270
        }
      ]
    },
    {
      "cell_type": "markdown",
      "source": [
        "Após isso, podemos unir os dois DataFrames, e por último, incluir as informações em um novo DataFrames."
      ],
      "metadata": {
        "id": "mTzhrSde8HUI"
      }
    },
    {
      "cell_type": "code",
      "source": [
        "dados_colunas = pd.merge(\n",
        "    left = dados_customer_phone,\n",
        "    right = dados_internet_account,\n",
        "    left_index = True,\n",
        "    right_index = True\n",
        ")"
      ],
      "metadata": {
        "id": "TS1KGXTG8SLP"
      },
      "execution_count": null,
      "outputs": []
    },
    {
      "cell_type": "code",
      "source": [
        "dados_normal = pd.merge(\n",
        "    left = dados,\n",
        "    right = dados_colunas,\n",
        "    left_index = True,\n",
        "    right_index = True\n",
        ")"
      ],
      "metadata": {
        "id": "TIIbxAxE8SJQ"
      },
      "execution_count": null,
      "outputs": []
    },
    {
      "cell_type": "code",
      "source": [
        "dados_normal.head()"
      ],
      "metadata": {
        "colab": {
          "base_uri": "https://localhost:8080/"
        },
        "id": "fBmCV7Ko8SD-",
        "outputId": "4ab12e34-6365-4d41-b621-8736c791477d"
      },
      "execution_count": null,
      "outputs": [
        {
          "output_type": "execute_result",
          "data": {
            "text/plain": [
              "   customerID Churn                                           customer  \\\n",
              "0  0002-ORFBO    No  {'gender': 'Female', 'SeniorCitizen': 0, 'Part...   \n",
              "1  0003-MKNFE    No  {'gender': 'Male', 'SeniorCitizen': 0, 'Partne...   \n",
              "2  0004-TLHLJ   Yes  {'gender': 'Male', 'SeniorCitizen': 0, 'Partne...   \n",
              "3  0011-IGKFF   Yes  {'gender': 'Male', 'SeniorCitizen': 1, 'Partne...   \n",
              "4  0013-EXCHZ   Yes  {'gender': 'Female', 'SeniorCitizen': 1, 'Part...   \n",
              "\n",
              "                                             phone  \\\n",
              "0   {'PhoneService': 'Yes', 'MultipleLines': 'No'}   \n",
              "1  {'PhoneService': 'Yes', 'MultipleLines': 'Yes'}   \n",
              "2   {'PhoneService': 'Yes', 'MultipleLines': 'No'}   \n",
              "3   {'PhoneService': 'Yes', 'MultipleLines': 'No'}   \n",
              "4   {'PhoneService': 'Yes', 'MultipleLines': 'No'}   \n",
              "\n",
              "                                            internet  \\\n",
              "0  {'InternetService': 'DSL', 'OnlineSecurity': '...   \n",
              "1  {'InternetService': 'DSL', 'OnlineSecurity': '...   \n",
              "2  {'InternetService': 'Fiber optic', 'OnlineSecu...   \n",
              "3  {'InternetService': 'Fiber optic', 'OnlineSecu...   \n",
              "4  {'InternetService': 'Fiber optic', 'OnlineSecu...   \n",
              "\n",
              "                                             account  gender  SeniorCitizen  \\\n",
              "0  {'Contract': 'One year', 'PaperlessBilling': '...  Female              0   \n",
              "1  {'Contract': 'Month-to-month', 'PaperlessBilli...    Male              0   \n",
              "2  {'Contract': 'Month-to-month', 'PaperlessBilli...    Male              0   \n",
              "3  {'Contract': 'Month-to-month', 'PaperlessBilli...    Male              1   \n",
              "4  {'Contract': 'Month-to-month', 'PaperlessBilli...  Female              1   \n",
              "\n",
              "  Partner Dependents  ...  OnlineBackup DeviceProtection TechSupport  \\\n",
              "0     Yes        Yes  ...           Yes               No         Yes   \n",
              "1      No         No  ...            No               No          No   \n",
              "2      No         No  ...            No              Yes          No   \n",
              "3     Yes         No  ...           Yes              Yes          No   \n",
              "4     Yes         No  ...            No               No         Yes   \n",
              "\n",
              "  StreamingTV StreamingMovies        Contract PaperlessBilling  \\\n",
              "0         Yes              No        One year              Yes   \n",
              "1          No             Yes  Month-to-month               No   \n",
              "2          No              No  Month-to-month              Yes   \n",
              "3         Yes             Yes  Month-to-month              Yes   \n",
              "4         Yes              No  Month-to-month              Yes   \n",
              "\n",
              "      PaymentMethod Charges.Monthly Charges.Total  \n",
              "0      Mailed check            65.6         593.3  \n",
              "1      Mailed check            59.9         542.4  \n",
              "2  Electronic check            73.9        280.85  \n",
              "3  Electronic check            98.0       1237.85  \n",
              "4      Mailed check            83.9         267.4  \n",
              "\n",
              "[5 rows x 25 columns]"
            ],
            "text/html": [
              "\n",
              "  <div id=\"df-c1ed2b0f-fd25-4939-8f57-479684b3937a\">\n",
              "    <div class=\"colab-df-container\">\n",
              "      <div>\n",
              "<style scoped>\n",
              "    .dataframe tbody tr th:only-of-type {\n",
              "        vertical-align: middle;\n",
              "    }\n",
              "\n",
              "    .dataframe tbody tr th {\n",
              "        vertical-align: top;\n",
              "    }\n",
              "\n",
              "    .dataframe thead th {\n",
              "        text-align: right;\n",
              "    }\n",
              "</style>\n",
              "<table border=\"1\" class=\"dataframe\">\n",
              "  <thead>\n",
              "    <tr style=\"text-align: right;\">\n",
              "      <th></th>\n",
              "      <th>customerID</th>\n",
              "      <th>Churn</th>\n",
              "      <th>customer</th>\n",
              "      <th>phone</th>\n",
              "      <th>internet</th>\n",
              "      <th>account</th>\n",
              "      <th>gender</th>\n",
              "      <th>SeniorCitizen</th>\n",
              "      <th>Partner</th>\n",
              "      <th>Dependents</th>\n",
              "      <th>...</th>\n",
              "      <th>OnlineBackup</th>\n",
              "      <th>DeviceProtection</th>\n",
              "      <th>TechSupport</th>\n",
              "      <th>StreamingTV</th>\n",
              "      <th>StreamingMovies</th>\n",
              "      <th>Contract</th>\n",
              "      <th>PaperlessBilling</th>\n",
              "      <th>PaymentMethod</th>\n",
              "      <th>Charges.Monthly</th>\n",
              "      <th>Charges.Total</th>\n",
              "    </tr>\n",
              "  </thead>\n",
              "  <tbody>\n",
              "    <tr>\n",
              "      <th>0</th>\n",
              "      <td>0002-ORFBO</td>\n",
              "      <td>No</td>\n",
              "      <td>{'gender': 'Female', 'SeniorCitizen': 0, 'Part...</td>\n",
              "      <td>{'PhoneService': 'Yes', 'MultipleLines': 'No'}</td>\n",
              "      <td>{'InternetService': 'DSL', 'OnlineSecurity': '...</td>\n",
              "      <td>{'Contract': 'One year', 'PaperlessBilling': '...</td>\n",
              "      <td>Female</td>\n",
              "      <td>0</td>\n",
              "      <td>Yes</td>\n",
              "      <td>Yes</td>\n",
              "      <td>...</td>\n",
              "      <td>Yes</td>\n",
              "      <td>No</td>\n",
              "      <td>Yes</td>\n",
              "      <td>Yes</td>\n",
              "      <td>No</td>\n",
              "      <td>One year</td>\n",
              "      <td>Yes</td>\n",
              "      <td>Mailed check</td>\n",
              "      <td>65.6</td>\n",
              "      <td>593.3</td>\n",
              "    </tr>\n",
              "    <tr>\n",
              "      <th>1</th>\n",
              "      <td>0003-MKNFE</td>\n",
              "      <td>No</td>\n",
              "      <td>{'gender': 'Male', 'SeniorCitizen': 0, 'Partne...</td>\n",
              "      <td>{'PhoneService': 'Yes', 'MultipleLines': 'Yes'}</td>\n",
              "      <td>{'InternetService': 'DSL', 'OnlineSecurity': '...</td>\n",
              "      <td>{'Contract': 'Month-to-month', 'PaperlessBilli...</td>\n",
              "      <td>Male</td>\n",
              "      <td>0</td>\n",
              "      <td>No</td>\n",
              "      <td>No</td>\n",
              "      <td>...</td>\n",
              "      <td>No</td>\n",
              "      <td>No</td>\n",
              "      <td>No</td>\n",
              "      <td>No</td>\n",
              "      <td>Yes</td>\n",
              "      <td>Month-to-month</td>\n",
              "      <td>No</td>\n",
              "      <td>Mailed check</td>\n",
              "      <td>59.9</td>\n",
              "      <td>542.4</td>\n",
              "    </tr>\n",
              "    <tr>\n",
              "      <th>2</th>\n",
              "      <td>0004-TLHLJ</td>\n",
              "      <td>Yes</td>\n",
              "      <td>{'gender': 'Male', 'SeniorCitizen': 0, 'Partne...</td>\n",
              "      <td>{'PhoneService': 'Yes', 'MultipleLines': 'No'}</td>\n",
              "      <td>{'InternetService': 'Fiber optic', 'OnlineSecu...</td>\n",
              "      <td>{'Contract': 'Month-to-month', 'PaperlessBilli...</td>\n",
              "      <td>Male</td>\n",
              "      <td>0</td>\n",
              "      <td>No</td>\n",
              "      <td>No</td>\n",
              "      <td>...</td>\n",
              "      <td>No</td>\n",
              "      <td>Yes</td>\n",
              "      <td>No</td>\n",
              "      <td>No</td>\n",
              "      <td>No</td>\n",
              "      <td>Month-to-month</td>\n",
              "      <td>Yes</td>\n",
              "      <td>Electronic check</td>\n",
              "      <td>73.9</td>\n",
              "      <td>280.85</td>\n",
              "    </tr>\n",
              "    <tr>\n",
              "      <th>3</th>\n",
              "      <td>0011-IGKFF</td>\n",
              "      <td>Yes</td>\n",
              "      <td>{'gender': 'Male', 'SeniorCitizen': 1, 'Partne...</td>\n",
              "      <td>{'PhoneService': 'Yes', 'MultipleLines': 'No'}</td>\n",
              "      <td>{'InternetService': 'Fiber optic', 'OnlineSecu...</td>\n",
              "      <td>{'Contract': 'Month-to-month', 'PaperlessBilli...</td>\n",
              "      <td>Male</td>\n",
              "      <td>1</td>\n",
              "      <td>Yes</td>\n",
              "      <td>No</td>\n",
              "      <td>...</td>\n",
              "      <td>Yes</td>\n",
              "      <td>Yes</td>\n",
              "      <td>No</td>\n",
              "      <td>Yes</td>\n",
              "      <td>Yes</td>\n",
              "      <td>Month-to-month</td>\n",
              "      <td>Yes</td>\n",
              "      <td>Electronic check</td>\n",
              "      <td>98.0</td>\n",
              "      <td>1237.85</td>\n",
              "    </tr>\n",
              "    <tr>\n",
              "      <th>4</th>\n",
              "      <td>0013-EXCHZ</td>\n",
              "      <td>Yes</td>\n",
              "      <td>{'gender': 'Female', 'SeniorCitizen': 1, 'Part...</td>\n",
              "      <td>{'PhoneService': 'Yes', 'MultipleLines': 'No'}</td>\n",
              "      <td>{'InternetService': 'Fiber optic', 'OnlineSecu...</td>\n",
              "      <td>{'Contract': 'Month-to-month', 'PaperlessBilli...</td>\n",
              "      <td>Female</td>\n",
              "      <td>1</td>\n",
              "      <td>Yes</td>\n",
              "      <td>No</td>\n",
              "      <td>...</td>\n",
              "      <td>No</td>\n",
              "      <td>No</td>\n",
              "      <td>Yes</td>\n",
              "      <td>Yes</td>\n",
              "      <td>No</td>\n",
              "      <td>Month-to-month</td>\n",
              "      <td>Yes</td>\n",
              "      <td>Mailed check</td>\n",
              "      <td>83.9</td>\n",
              "      <td>267.4</td>\n",
              "    </tr>\n",
              "  </tbody>\n",
              "</table>\n",
              "<p>5 rows × 25 columns</p>\n",
              "</div>\n",
              "      <button class=\"colab-df-convert\" onclick=\"convertToInteractive('df-c1ed2b0f-fd25-4939-8f57-479684b3937a')\"\n",
              "              title=\"Convert this dataframe to an interactive table.\"\n",
              "              style=\"display:none;\">\n",
              "        \n",
              "  <svg xmlns=\"http://www.w3.org/2000/svg\" height=\"24px\"viewBox=\"0 0 24 24\"\n",
              "       width=\"24px\">\n",
              "    <path d=\"M0 0h24v24H0V0z\" fill=\"none\"/>\n",
              "    <path d=\"M18.56 5.44l.94 2.06.94-2.06 2.06-.94-2.06-.94-.94-2.06-.94 2.06-2.06.94zm-11 1L8.5 8.5l.94-2.06 2.06-.94-2.06-.94L8.5 2.5l-.94 2.06-2.06.94zm10 10l.94 2.06.94-2.06 2.06-.94-2.06-.94-.94-2.06-.94 2.06-2.06.94z\"/><path d=\"M17.41 7.96l-1.37-1.37c-.4-.4-.92-.59-1.43-.59-.52 0-1.04.2-1.43.59L10.3 9.45l-7.72 7.72c-.78.78-.78 2.05 0 2.83L4 21.41c.39.39.9.59 1.41.59.51 0 1.02-.2 1.41-.59l7.78-7.78 2.81-2.81c.8-.78.8-2.07 0-2.86zM5.41 20L4 18.59l7.72-7.72 1.47 1.35L5.41 20z\"/>\n",
              "  </svg>\n",
              "      </button>\n",
              "      \n",
              "  <style>\n",
              "    .colab-df-container {\n",
              "      display:flex;\n",
              "      flex-wrap:wrap;\n",
              "      gap: 12px;\n",
              "    }\n",
              "\n",
              "    .colab-df-convert {\n",
              "      background-color: #E8F0FE;\n",
              "      border: none;\n",
              "      border-radius: 50%;\n",
              "      cursor: pointer;\n",
              "      display: none;\n",
              "      fill: #1967D2;\n",
              "      height: 32px;\n",
              "      padding: 0 0 0 0;\n",
              "      width: 32px;\n",
              "    }\n",
              "\n",
              "    .colab-df-convert:hover {\n",
              "      background-color: #E2EBFA;\n",
              "      box-shadow: 0px 1px 2px rgba(60, 64, 67, 0.3), 0px 1px 3px 1px rgba(60, 64, 67, 0.15);\n",
              "      fill: #174EA6;\n",
              "    }\n",
              "\n",
              "    [theme=dark] .colab-df-convert {\n",
              "      background-color: #3B4455;\n",
              "      fill: #D2E3FC;\n",
              "    }\n",
              "\n",
              "    [theme=dark] .colab-df-convert:hover {\n",
              "      background-color: #434B5C;\n",
              "      box-shadow: 0px 1px 3px 1px rgba(0, 0, 0, 0.15);\n",
              "      filter: drop-shadow(0px 1px 2px rgba(0, 0, 0, 0.3));\n",
              "      fill: #FFFFFF;\n",
              "    }\n",
              "  </style>\n",
              "\n",
              "      <script>\n",
              "        const buttonEl =\n",
              "          document.querySelector('#df-c1ed2b0f-fd25-4939-8f57-479684b3937a button.colab-df-convert');\n",
              "        buttonEl.style.display =\n",
              "          google.colab.kernel.accessAllowed ? 'block' : 'none';\n",
              "\n",
              "        async function convertToInteractive(key) {\n",
              "          const element = document.querySelector('#df-c1ed2b0f-fd25-4939-8f57-479684b3937a');\n",
              "          const dataTable =\n",
              "            await google.colab.kernel.invokeFunction('convertToInteractive',\n",
              "                                                     [key], {});\n",
              "          if (!dataTable) return;\n",
              "\n",
              "          const docLinkHtml = 'Like what you see? Visit the ' +\n",
              "            '<a target=\"_blank\" href=https://colab.research.google.com/notebooks/data_table.ipynb>data table notebook</a>'\n",
              "            + ' to learn more about interactive tables.';\n",
              "          element.innerHTML = '';\n",
              "          dataTable['output_type'] = 'display_data';\n",
              "          await google.colab.output.renderOutput(dataTable, element);\n",
              "          const docLink = document.createElement('div');\n",
              "          docLink.innerHTML = docLinkHtml;\n",
              "          element.appendChild(docLink);\n",
              "        }\n",
              "      </script>\n",
              "    </div>\n",
              "  </div>\n",
              "  "
            ]
          },
          "metadata": {},
          "execution_count": 273
        }
      ]
    },
    {
      "cell_type": "markdown",
      "source": [
        "Além da criação do novo DataFrame, podemos excluir as colunas que foram normalizadas."
      ],
      "metadata": {
        "id": "t_gtK2g78jcF"
      }
    },
    {
      "cell_type": "code",
      "source": [
        "colunas = ['internet', 'account', 'phone', 'customer']\n",
        "\n",
        "dados_normal.drop(labels = colunas ,axis = 1, inplace = True)\n",
        "dados_normal.head()"
      ],
      "metadata": {
        "colab": {
          "base_uri": "https://localhost:8080/"
        },
        "id": "NNuT1gwR8qXh",
        "outputId": "398d7350-fe54-4dec-bb1f-5379e33e071e"
      },
      "execution_count": null,
      "outputs": [
        {
          "output_type": "execute_result",
          "data": {
            "text/plain": [
              "   customerID Churn  gender  SeniorCitizen Partner Dependents  tenure  \\\n",
              "0  0002-ORFBO    No  Female              0     Yes        Yes       9   \n",
              "1  0003-MKNFE    No    Male              0      No         No       9   \n",
              "2  0004-TLHLJ   Yes    Male              0      No         No       4   \n",
              "3  0011-IGKFF   Yes    Male              1     Yes         No      13   \n",
              "4  0013-EXCHZ   Yes  Female              1     Yes         No       3   \n",
              "\n",
              "  PhoneService MultipleLines InternetService  ... OnlineBackup  \\\n",
              "0          Yes            No             DSL  ...          Yes   \n",
              "1          Yes           Yes             DSL  ...           No   \n",
              "2          Yes            No     Fiber optic  ...           No   \n",
              "3          Yes            No     Fiber optic  ...          Yes   \n",
              "4          Yes            No     Fiber optic  ...           No   \n",
              "\n",
              "  DeviceProtection TechSupport StreamingTV StreamingMovies        Contract  \\\n",
              "0               No         Yes         Yes              No        One year   \n",
              "1               No          No          No             Yes  Month-to-month   \n",
              "2              Yes          No          No              No  Month-to-month   \n",
              "3              Yes          No         Yes             Yes  Month-to-month   \n",
              "4               No         Yes         Yes              No  Month-to-month   \n",
              "\n",
              "  PaperlessBilling     PaymentMethod Charges.Monthly  Charges.Total  \n",
              "0              Yes      Mailed check            65.6          593.3  \n",
              "1               No      Mailed check            59.9          542.4  \n",
              "2              Yes  Electronic check            73.9         280.85  \n",
              "3              Yes  Electronic check            98.0        1237.85  \n",
              "4              Yes      Mailed check            83.9          267.4  \n",
              "\n",
              "[5 rows x 21 columns]"
            ],
            "text/html": [
              "\n",
              "  <div id=\"df-dbb61140-d15c-4d4d-bf76-f6646de6cbfe\">\n",
              "    <div class=\"colab-df-container\">\n",
              "      <div>\n",
              "<style scoped>\n",
              "    .dataframe tbody tr th:only-of-type {\n",
              "        vertical-align: middle;\n",
              "    }\n",
              "\n",
              "    .dataframe tbody tr th {\n",
              "        vertical-align: top;\n",
              "    }\n",
              "\n",
              "    .dataframe thead th {\n",
              "        text-align: right;\n",
              "    }\n",
              "</style>\n",
              "<table border=\"1\" class=\"dataframe\">\n",
              "  <thead>\n",
              "    <tr style=\"text-align: right;\">\n",
              "      <th></th>\n",
              "      <th>customerID</th>\n",
              "      <th>Churn</th>\n",
              "      <th>gender</th>\n",
              "      <th>SeniorCitizen</th>\n",
              "      <th>Partner</th>\n",
              "      <th>Dependents</th>\n",
              "      <th>tenure</th>\n",
              "      <th>PhoneService</th>\n",
              "      <th>MultipleLines</th>\n",
              "      <th>InternetService</th>\n",
              "      <th>...</th>\n",
              "      <th>OnlineBackup</th>\n",
              "      <th>DeviceProtection</th>\n",
              "      <th>TechSupport</th>\n",
              "      <th>StreamingTV</th>\n",
              "      <th>StreamingMovies</th>\n",
              "      <th>Contract</th>\n",
              "      <th>PaperlessBilling</th>\n",
              "      <th>PaymentMethod</th>\n",
              "      <th>Charges.Monthly</th>\n",
              "      <th>Charges.Total</th>\n",
              "    </tr>\n",
              "  </thead>\n",
              "  <tbody>\n",
              "    <tr>\n",
              "      <th>0</th>\n",
              "      <td>0002-ORFBO</td>\n",
              "      <td>No</td>\n",
              "      <td>Female</td>\n",
              "      <td>0</td>\n",
              "      <td>Yes</td>\n",
              "      <td>Yes</td>\n",
              "      <td>9</td>\n",
              "      <td>Yes</td>\n",
              "      <td>No</td>\n",
              "      <td>DSL</td>\n",
              "      <td>...</td>\n",
              "      <td>Yes</td>\n",
              "      <td>No</td>\n",
              "      <td>Yes</td>\n",
              "      <td>Yes</td>\n",
              "      <td>No</td>\n",
              "      <td>One year</td>\n",
              "      <td>Yes</td>\n",
              "      <td>Mailed check</td>\n",
              "      <td>65.6</td>\n",
              "      <td>593.3</td>\n",
              "    </tr>\n",
              "    <tr>\n",
              "      <th>1</th>\n",
              "      <td>0003-MKNFE</td>\n",
              "      <td>No</td>\n",
              "      <td>Male</td>\n",
              "      <td>0</td>\n",
              "      <td>No</td>\n",
              "      <td>No</td>\n",
              "      <td>9</td>\n",
              "      <td>Yes</td>\n",
              "      <td>Yes</td>\n",
              "      <td>DSL</td>\n",
              "      <td>...</td>\n",
              "      <td>No</td>\n",
              "      <td>No</td>\n",
              "      <td>No</td>\n",
              "      <td>No</td>\n",
              "      <td>Yes</td>\n",
              "      <td>Month-to-month</td>\n",
              "      <td>No</td>\n",
              "      <td>Mailed check</td>\n",
              "      <td>59.9</td>\n",
              "      <td>542.4</td>\n",
              "    </tr>\n",
              "    <tr>\n",
              "      <th>2</th>\n",
              "      <td>0004-TLHLJ</td>\n",
              "      <td>Yes</td>\n",
              "      <td>Male</td>\n",
              "      <td>0</td>\n",
              "      <td>No</td>\n",
              "      <td>No</td>\n",
              "      <td>4</td>\n",
              "      <td>Yes</td>\n",
              "      <td>No</td>\n",
              "      <td>Fiber optic</td>\n",
              "      <td>...</td>\n",
              "      <td>No</td>\n",
              "      <td>Yes</td>\n",
              "      <td>No</td>\n",
              "      <td>No</td>\n",
              "      <td>No</td>\n",
              "      <td>Month-to-month</td>\n",
              "      <td>Yes</td>\n",
              "      <td>Electronic check</td>\n",
              "      <td>73.9</td>\n",
              "      <td>280.85</td>\n",
              "    </tr>\n",
              "    <tr>\n",
              "      <th>3</th>\n",
              "      <td>0011-IGKFF</td>\n",
              "      <td>Yes</td>\n",
              "      <td>Male</td>\n",
              "      <td>1</td>\n",
              "      <td>Yes</td>\n",
              "      <td>No</td>\n",
              "      <td>13</td>\n",
              "      <td>Yes</td>\n",
              "      <td>No</td>\n",
              "      <td>Fiber optic</td>\n",
              "      <td>...</td>\n",
              "      <td>Yes</td>\n",
              "      <td>Yes</td>\n",
              "      <td>No</td>\n",
              "      <td>Yes</td>\n",
              "      <td>Yes</td>\n",
              "      <td>Month-to-month</td>\n",
              "      <td>Yes</td>\n",
              "      <td>Electronic check</td>\n",
              "      <td>98.0</td>\n",
              "      <td>1237.85</td>\n",
              "    </tr>\n",
              "    <tr>\n",
              "      <th>4</th>\n",
              "      <td>0013-EXCHZ</td>\n",
              "      <td>Yes</td>\n",
              "      <td>Female</td>\n",
              "      <td>1</td>\n",
              "      <td>Yes</td>\n",
              "      <td>No</td>\n",
              "      <td>3</td>\n",
              "      <td>Yes</td>\n",
              "      <td>No</td>\n",
              "      <td>Fiber optic</td>\n",
              "      <td>...</td>\n",
              "      <td>No</td>\n",
              "      <td>No</td>\n",
              "      <td>Yes</td>\n",
              "      <td>Yes</td>\n",
              "      <td>No</td>\n",
              "      <td>Month-to-month</td>\n",
              "      <td>Yes</td>\n",
              "      <td>Mailed check</td>\n",
              "      <td>83.9</td>\n",
              "      <td>267.4</td>\n",
              "    </tr>\n",
              "  </tbody>\n",
              "</table>\n",
              "<p>5 rows × 21 columns</p>\n",
              "</div>\n",
              "      <button class=\"colab-df-convert\" onclick=\"convertToInteractive('df-dbb61140-d15c-4d4d-bf76-f6646de6cbfe')\"\n",
              "              title=\"Convert this dataframe to an interactive table.\"\n",
              "              style=\"display:none;\">\n",
              "        \n",
              "  <svg xmlns=\"http://www.w3.org/2000/svg\" height=\"24px\"viewBox=\"0 0 24 24\"\n",
              "       width=\"24px\">\n",
              "    <path d=\"M0 0h24v24H0V0z\" fill=\"none\"/>\n",
              "    <path d=\"M18.56 5.44l.94 2.06.94-2.06 2.06-.94-2.06-.94-.94-2.06-.94 2.06-2.06.94zm-11 1L8.5 8.5l.94-2.06 2.06-.94-2.06-.94L8.5 2.5l-.94 2.06-2.06.94zm10 10l.94 2.06.94-2.06 2.06-.94-2.06-.94-.94-2.06-.94 2.06-2.06.94z\"/><path d=\"M17.41 7.96l-1.37-1.37c-.4-.4-.92-.59-1.43-.59-.52 0-1.04.2-1.43.59L10.3 9.45l-7.72 7.72c-.78.78-.78 2.05 0 2.83L4 21.41c.39.39.9.59 1.41.59.51 0 1.02-.2 1.41-.59l7.78-7.78 2.81-2.81c.8-.78.8-2.07 0-2.86zM5.41 20L4 18.59l7.72-7.72 1.47 1.35L5.41 20z\"/>\n",
              "  </svg>\n",
              "      </button>\n",
              "      \n",
              "  <style>\n",
              "    .colab-df-container {\n",
              "      display:flex;\n",
              "      flex-wrap:wrap;\n",
              "      gap: 12px;\n",
              "    }\n",
              "\n",
              "    .colab-df-convert {\n",
              "      background-color: #E8F0FE;\n",
              "      border: none;\n",
              "      border-radius: 50%;\n",
              "      cursor: pointer;\n",
              "      display: none;\n",
              "      fill: #1967D2;\n",
              "      height: 32px;\n",
              "      padding: 0 0 0 0;\n",
              "      width: 32px;\n",
              "    }\n",
              "\n",
              "    .colab-df-convert:hover {\n",
              "      background-color: #E2EBFA;\n",
              "      box-shadow: 0px 1px 2px rgba(60, 64, 67, 0.3), 0px 1px 3px 1px rgba(60, 64, 67, 0.15);\n",
              "      fill: #174EA6;\n",
              "    }\n",
              "\n",
              "    [theme=dark] .colab-df-convert {\n",
              "      background-color: #3B4455;\n",
              "      fill: #D2E3FC;\n",
              "    }\n",
              "\n",
              "    [theme=dark] .colab-df-convert:hover {\n",
              "      background-color: #434B5C;\n",
              "      box-shadow: 0px 1px 3px 1px rgba(0, 0, 0, 0.15);\n",
              "      filter: drop-shadow(0px 1px 2px rgba(0, 0, 0, 0.3));\n",
              "      fill: #FFFFFF;\n",
              "    }\n",
              "  </style>\n",
              "\n",
              "      <script>\n",
              "        const buttonEl =\n",
              "          document.querySelector('#df-dbb61140-d15c-4d4d-bf76-f6646de6cbfe button.colab-df-convert');\n",
              "        buttonEl.style.display =\n",
              "          google.colab.kernel.accessAllowed ? 'block' : 'none';\n",
              "\n",
              "        async function convertToInteractive(key) {\n",
              "          const element = document.querySelector('#df-dbb61140-d15c-4d4d-bf76-f6646de6cbfe');\n",
              "          const dataTable =\n",
              "            await google.colab.kernel.invokeFunction('convertToInteractive',\n",
              "                                                     [key], {});\n",
              "          if (!dataTable) return;\n",
              "\n",
              "          const docLinkHtml = 'Like what you see? Visit the ' +\n",
              "            '<a target=\"_blank\" href=https://colab.research.google.com/notebooks/data_table.ipynb>data table notebook</a>'\n",
              "            + ' to learn more about interactive tables.';\n",
              "          element.innerHTML = '';\n",
              "          dataTable['output_type'] = 'display_data';\n",
              "          await google.colab.output.renderOutput(dataTable, element);\n",
              "          const docLink = document.createElement('div');\n",
              "          docLink.innerHTML = docLinkHtml;\n",
              "          element.appendChild(docLink);\n",
              "        }\n",
              "      </script>\n",
              "    </div>\n",
              "  </div>\n",
              "  "
            ]
          },
          "metadata": {},
          "execution_count": 274
        }
      ]
    },
    {
      "cell_type": "markdown",
      "source": [
        "## Entendendo os dados"
      ],
      "metadata": {
        "id": "de6Wshxfr0L-"
      }
    },
    {
      "cell_type": "markdown",
      "source": [
        "Após a normalização dos dados, será possível fazer uma análise exploratória dos dados para entender as informações contidas em cada coluna do mesmo."
      ],
      "metadata": {
        "id": "cgLTk83c-Q_I"
      }
    },
    {
      "cell_type": "code",
      "source": [
        "dados_normal.head()"
      ],
      "metadata": {
        "id": "sOZ_qiuLsAZ_",
        "colab": {
          "base_uri": "https://localhost:8080/",
          "height": 386
        },
        "outputId": "fbc3ebe4-c861-4e00-daf8-1ebae3183e4e"
      },
      "execution_count": null,
      "outputs": [
        {
          "output_type": "execute_result",
          "data": {
            "text/plain": [
              "   customerID Churn  gender  SeniorCitizen Partner Dependents  tenure  \\\n",
              "0  0002-ORFBO    No  Female              0     Yes        Yes       9   \n",
              "1  0003-MKNFE    No    Male              0      No         No       9   \n",
              "2  0004-TLHLJ   Yes    Male              0      No         No       4   \n",
              "3  0011-IGKFF   Yes    Male              1     Yes         No      13   \n",
              "4  0013-EXCHZ   Yes  Female              1     Yes         No       3   \n",
              "\n",
              "  PhoneService MultipleLines InternetService  ... OnlineBackup  \\\n",
              "0          Yes            No             DSL  ...          Yes   \n",
              "1          Yes           Yes             DSL  ...           No   \n",
              "2          Yes            No     Fiber optic  ...           No   \n",
              "3          Yes            No     Fiber optic  ...          Yes   \n",
              "4          Yes            No     Fiber optic  ...           No   \n",
              "\n",
              "  DeviceProtection TechSupport StreamingTV StreamingMovies        Contract  \\\n",
              "0               No         Yes         Yes              No        One year   \n",
              "1               No          No          No             Yes  Month-to-month   \n",
              "2              Yes          No          No              No  Month-to-month   \n",
              "3              Yes          No         Yes             Yes  Month-to-month   \n",
              "4               No         Yes         Yes              No  Month-to-month   \n",
              "\n",
              "  PaperlessBilling     PaymentMethod Charges.Monthly  Charges.Total  \n",
              "0              Yes      Mailed check            65.6          593.3  \n",
              "1               No      Mailed check            59.9          542.4  \n",
              "2              Yes  Electronic check            73.9         280.85  \n",
              "3              Yes  Electronic check            98.0        1237.85  \n",
              "4              Yes      Mailed check            83.9          267.4  \n",
              "\n",
              "[5 rows x 21 columns]"
            ],
            "text/html": [
              "\n",
              "  <div id=\"df-7f1a4a42-6ddd-4aff-8358-d2b840a4c41b\">\n",
              "    <div class=\"colab-df-container\">\n",
              "      <div>\n",
              "<style scoped>\n",
              "    .dataframe tbody tr th:only-of-type {\n",
              "        vertical-align: middle;\n",
              "    }\n",
              "\n",
              "    .dataframe tbody tr th {\n",
              "        vertical-align: top;\n",
              "    }\n",
              "\n",
              "    .dataframe thead th {\n",
              "        text-align: right;\n",
              "    }\n",
              "</style>\n",
              "<table border=\"1\" class=\"dataframe\">\n",
              "  <thead>\n",
              "    <tr style=\"text-align: right;\">\n",
              "      <th></th>\n",
              "      <th>customerID</th>\n",
              "      <th>Churn</th>\n",
              "      <th>gender</th>\n",
              "      <th>SeniorCitizen</th>\n",
              "      <th>Partner</th>\n",
              "      <th>Dependents</th>\n",
              "      <th>tenure</th>\n",
              "      <th>PhoneService</th>\n",
              "      <th>MultipleLines</th>\n",
              "      <th>InternetService</th>\n",
              "      <th>...</th>\n",
              "      <th>OnlineBackup</th>\n",
              "      <th>DeviceProtection</th>\n",
              "      <th>TechSupport</th>\n",
              "      <th>StreamingTV</th>\n",
              "      <th>StreamingMovies</th>\n",
              "      <th>Contract</th>\n",
              "      <th>PaperlessBilling</th>\n",
              "      <th>PaymentMethod</th>\n",
              "      <th>Charges.Monthly</th>\n",
              "      <th>Charges.Total</th>\n",
              "    </tr>\n",
              "  </thead>\n",
              "  <tbody>\n",
              "    <tr>\n",
              "      <th>0</th>\n",
              "      <td>0002-ORFBO</td>\n",
              "      <td>No</td>\n",
              "      <td>Female</td>\n",
              "      <td>0</td>\n",
              "      <td>Yes</td>\n",
              "      <td>Yes</td>\n",
              "      <td>9</td>\n",
              "      <td>Yes</td>\n",
              "      <td>No</td>\n",
              "      <td>DSL</td>\n",
              "      <td>...</td>\n",
              "      <td>Yes</td>\n",
              "      <td>No</td>\n",
              "      <td>Yes</td>\n",
              "      <td>Yes</td>\n",
              "      <td>No</td>\n",
              "      <td>One year</td>\n",
              "      <td>Yes</td>\n",
              "      <td>Mailed check</td>\n",
              "      <td>65.6</td>\n",
              "      <td>593.3</td>\n",
              "    </tr>\n",
              "    <tr>\n",
              "      <th>1</th>\n",
              "      <td>0003-MKNFE</td>\n",
              "      <td>No</td>\n",
              "      <td>Male</td>\n",
              "      <td>0</td>\n",
              "      <td>No</td>\n",
              "      <td>No</td>\n",
              "      <td>9</td>\n",
              "      <td>Yes</td>\n",
              "      <td>Yes</td>\n",
              "      <td>DSL</td>\n",
              "      <td>...</td>\n",
              "      <td>No</td>\n",
              "      <td>No</td>\n",
              "      <td>No</td>\n",
              "      <td>No</td>\n",
              "      <td>Yes</td>\n",
              "      <td>Month-to-month</td>\n",
              "      <td>No</td>\n",
              "      <td>Mailed check</td>\n",
              "      <td>59.9</td>\n",
              "      <td>542.4</td>\n",
              "    </tr>\n",
              "    <tr>\n",
              "      <th>2</th>\n",
              "      <td>0004-TLHLJ</td>\n",
              "      <td>Yes</td>\n",
              "      <td>Male</td>\n",
              "      <td>0</td>\n",
              "      <td>No</td>\n",
              "      <td>No</td>\n",
              "      <td>4</td>\n",
              "      <td>Yes</td>\n",
              "      <td>No</td>\n",
              "      <td>Fiber optic</td>\n",
              "      <td>...</td>\n",
              "      <td>No</td>\n",
              "      <td>Yes</td>\n",
              "      <td>No</td>\n",
              "      <td>No</td>\n",
              "      <td>No</td>\n",
              "      <td>Month-to-month</td>\n",
              "      <td>Yes</td>\n",
              "      <td>Electronic check</td>\n",
              "      <td>73.9</td>\n",
              "      <td>280.85</td>\n",
              "    </tr>\n",
              "    <tr>\n",
              "      <th>3</th>\n",
              "      <td>0011-IGKFF</td>\n",
              "      <td>Yes</td>\n",
              "      <td>Male</td>\n",
              "      <td>1</td>\n",
              "      <td>Yes</td>\n",
              "      <td>No</td>\n",
              "      <td>13</td>\n",
              "      <td>Yes</td>\n",
              "      <td>No</td>\n",
              "      <td>Fiber optic</td>\n",
              "      <td>...</td>\n",
              "      <td>Yes</td>\n",
              "      <td>Yes</td>\n",
              "      <td>No</td>\n",
              "      <td>Yes</td>\n",
              "      <td>Yes</td>\n",
              "      <td>Month-to-month</td>\n",
              "      <td>Yes</td>\n",
              "      <td>Electronic check</td>\n",
              "      <td>98.0</td>\n",
              "      <td>1237.85</td>\n",
              "    </tr>\n",
              "    <tr>\n",
              "      <th>4</th>\n",
              "      <td>0013-EXCHZ</td>\n",
              "      <td>Yes</td>\n",
              "      <td>Female</td>\n",
              "      <td>1</td>\n",
              "      <td>Yes</td>\n",
              "      <td>No</td>\n",
              "      <td>3</td>\n",
              "      <td>Yes</td>\n",
              "      <td>No</td>\n",
              "      <td>Fiber optic</td>\n",
              "      <td>...</td>\n",
              "      <td>No</td>\n",
              "      <td>No</td>\n",
              "      <td>Yes</td>\n",
              "      <td>Yes</td>\n",
              "      <td>No</td>\n",
              "      <td>Month-to-month</td>\n",
              "      <td>Yes</td>\n",
              "      <td>Mailed check</td>\n",
              "      <td>83.9</td>\n",
              "      <td>267.4</td>\n",
              "    </tr>\n",
              "  </tbody>\n",
              "</table>\n",
              "<p>5 rows × 21 columns</p>\n",
              "</div>\n",
              "      <button class=\"colab-df-convert\" onclick=\"convertToInteractive('df-7f1a4a42-6ddd-4aff-8358-d2b840a4c41b')\"\n",
              "              title=\"Convert this dataframe to an interactive table.\"\n",
              "              style=\"display:none;\">\n",
              "        \n",
              "  <svg xmlns=\"http://www.w3.org/2000/svg\" height=\"24px\"viewBox=\"0 0 24 24\"\n",
              "       width=\"24px\">\n",
              "    <path d=\"M0 0h24v24H0V0z\" fill=\"none\"/>\n",
              "    <path d=\"M18.56 5.44l.94 2.06.94-2.06 2.06-.94-2.06-.94-.94-2.06-.94 2.06-2.06.94zm-11 1L8.5 8.5l.94-2.06 2.06-.94-2.06-.94L8.5 2.5l-.94 2.06-2.06.94zm10 10l.94 2.06.94-2.06 2.06-.94-2.06-.94-.94-2.06-.94 2.06-2.06.94z\"/><path d=\"M17.41 7.96l-1.37-1.37c-.4-.4-.92-.59-1.43-.59-.52 0-1.04.2-1.43.59L10.3 9.45l-7.72 7.72c-.78.78-.78 2.05 0 2.83L4 21.41c.39.39.9.59 1.41.59.51 0 1.02-.2 1.41-.59l7.78-7.78 2.81-2.81c.8-.78.8-2.07 0-2.86zM5.41 20L4 18.59l7.72-7.72 1.47 1.35L5.41 20z\"/>\n",
              "  </svg>\n",
              "      </button>\n",
              "      \n",
              "  <style>\n",
              "    .colab-df-container {\n",
              "      display:flex;\n",
              "      flex-wrap:wrap;\n",
              "      gap: 12px;\n",
              "    }\n",
              "\n",
              "    .colab-df-convert {\n",
              "      background-color: #E8F0FE;\n",
              "      border: none;\n",
              "      border-radius: 50%;\n",
              "      cursor: pointer;\n",
              "      display: none;\n",
              "      fill: #1967D2;\n",
              "      height: 32px;\n",
              "      padding: 0 0 0 0;\n",
              "      width: 32px;\n",
              "    }\n",
              "\n",
              "    .colab-df-convert:hover {\n",
              "      background-color: #E2EBFA;\n",
              "      box-shadow: 0px 1px 2px rgba(60, 64, 67, 0.3), 0px 1px 3px 1px rgba(60, 64, 67, 0.15);\n",
              "      fill: #174EA6;\n",
              "    }\n",
              "\n",
              "    [theme=dark] .colab-df-convert {\n",
              "      background-color: #3B4455;\n",
              "      fill: #D2E3FC;\n",
              "    }\n",
              "\n",
              "    [theme=dark] .colab-df-convert:hover {\n",
              "      background-color: #434B5C;\n",
              "      box-shadow: 0px 1px 3px 1px rgba(0, 0, 0, 0.15);\n",
              "      filter: drop-shadow(0px 1px 2px rgba(0, 0, 0, 0.3));\n",
              "      fill: #FFFFFF;\n",
              "    }\n",
              "  </style>\n",
              "\n",
              "      <script>\n",
              "        const buttonEl =\n",
              "          document.querySelector('#df-7f1a4a42-6ddd-4aff-8358-d2b840a4c41b button.colab-df-convert');\n",
              "        buttonEl.style.display =\n",
              "          google.colab.kernel.accessAllowed ? 'block' : 'none';\n",
              "\n",
              "        async function convertToInteractive(key) {\n",
              "          const element = document.querySelector('#df-7f1a4a42-6ddd-4aff-8358-d2b840a4c41b');\n",
              "          const dataTable =\n",
              "            await google.colab.kernel.invokeFunction('convertToInteractive',\n",
              "                                                     [key], {});\n",
              "          if (!dataTable) return;\n",
              "\n",
              "          const docLinkHtml = 'Like what you see? Visit the ' +\n",
              "            '<a target=\"_blank\" href=https://colab.research.google.com/notebooks/data_table.ipynb>data table notebook</a>'\n",
              "            + ' to learn more about interactive tables.';\n",
              "          element.innerHTML = '';\n",
              "          dataTable['output_type'] = 'display_data';\n",
              "          await google.colab.output.renderOutput(dataTable, element);\n",
              "          const docLink = document.createElement('div');\n",
              "          docLink.innerHTML = docLinkHtml;\n",
              "          element.appendChild(docLink);\n",
              "        }\n",
              "      </script>\n",
              "    </div>\n",
              "  </div>\n",
              "  "
            ]
          },
          "metadata": {},
          "execution_count": 275
        }
      ]
    },
    {
      "cell_type": "code",
      "source": [
        "print(f'A base de dados contém {dados_normal.shape[0]} registros e {dados_normal.shape[1]} colunas')"
      ],
      "metadata": {
        "id": "711P1dufsA99",
        "colab": {
          "base_uri": "https://localhost:8080/"
        },
        "outputId": "d3c6bd9f-6ea6-4339-f653-bd04d9c66c78"
      },
      "execution_count": null,
      "outputs": [
        {
          "output_type": "stream",
          "name": "stdout",
          "text": [
            "A base de dados contém 7267 registros e 21 colunas\n"
          ]
        }
      ]
    },
    {
      "cell_type": "code",
      "source": [
        "dados_normal.info()"
      ],
      "metadata": {
        "colab": {
          "base_uri": "https://localhost:8080/"
        },
        "id": "DDVsz0Ll-q9B",
        "outputId": "54072d0a-ba0a-43ec-8a66-c6426245acb8"
      },
      "execution_count": null,
      "outputs": [
        {
          "output_type": "stream",
          "name": "stdout",
          "text": [
            "<class 'pandas.core.frame.DataFrame'>\n",
            "RangeIndex: 7267 entries, 0 to 7266\n",
            "Data columns (total 21 columns):\n",
            " #   Column            Non-Null Count  Dtype  \n",
            "---  ------            --------------  -----  \n",
            " 0   customerID        7267 non-null   object \n",
            " 1   Churn             7267 non-null   object \n",
            " 2   gender            7267 non-null   object \n",
            " 3   SeniorCitizen     7267 non-null   int64  \n",
            " 4   Partner           7267 non-null   object \n",
            " 5   Dependents        7267 non-null   object \n",
            " 6   tenure            7267 non-null   int64  \n",
            " 7   PhoneService      7267 non-null   object \n",
            " 8   MultipleLines     7267 non-null   object \n",
            " 9   InternetService   7267 non-null   object \n",
            " 10  OnlineSecurity    7267 non-null   object \n",
            " 11  OnlineBackup      7267 non-null   object \n",
            " 12  DeviceProtection  7267 non-null   object \n",
            " 13  TechSupport       7267 non-null   object \n",
            " 14  StreamingTV       7267 non-null   object \n",
            " 15  StreamingMovies   7267 non-null   object \n",
            " 16  Contract          7267 non-null   object \n",
            " 17  PaperlessBilling  7267 non-null   object \n",
            " 18  PaymentMethod     7267 non-null   object \n",
            " 19  Charges.Monthly   7267 non-null   float64\n",
            " 20  Charges.Total     7267 non-null   object \n",
            "dtypes: float64(1), int64(2), object(18)\n",
            "memory usage: 1.2+ MB\n"
          ]
        }
      ]
    },
    {
      "cell_type": "markdown",
      "source": [
        "São 21 colunas. Em uma primeira análise, não há células com valor faltante na base de dados. \n",
        "\n",
        "Além dessa análise, a empresa também disponibilizou um dicionário com uma descrição de cada coluna.\n",
        "\n",
        "Nome da coluna | Dicionário da empresa\n",
        "-------|------------------\n",
        "customerID| Código único para o cliente da empresa\n",
        "Churn| se o cliente deixou ou não a empresa\n",
        "gender| gênero (masculino e feminino)\n",
        "SeniorCitizen| informação sobre um cliente ter ou não idade igual ou maior que 65 anos\n",
        "Partner| se o cliente possui ou não um parceiro ou parceira\n",
        "Dependents| se o cliente possui ou não dependentes\n",
        "tenure| meses de contrato do cliente\n",
        "PhoneService| assinatura de serviço telefônico\n",
        "MultipleLines| assinatura de mais de uma linha de telefone\n",
        "InternetService| assinatura de um provedor internet\n",
        "OnlineSecurity| assinatura adicional de segurança online\n",
        "OnlineBackup| assinatura adicional de backup online\n",
        "DeviceProtection| assinatura adicional de proteção no dispositivo\n",
        "TechSupport| assinatura adicional de suporte técnico, menos tempo de espera\n",
        "StreamingTV| assinatura de TV a cabo\n",
        "StreamingMovies| assinatura de streaming de filmes\n",
        "Contract| tipo de contrato\n",
        "PaperlessBilling| se o cliente prefere receber online a fatura\n",
        "PaymentMethod| forma de pagamento\n",
        "Charges.Monthly| total de todos os serviços do cliente por mês\n",
        "Charges.Total| total gasto pelo cliente"
      ],
      "metadata": {
        "id": "CrSz7UsX_EPt"
      }
    },
    {
      "cell_type": "markdown",
      "source": [
        "Esse dicionário ajuda a entender um pouco mais o significado das colunas.\n",
        "\n",
        "Além disso, é possível perceber algumas inconsistências nos dados, como falta de padronização em algumas informações e colunas tendo o tipo equivocado dos dados.\n",
        "\n",
        "Para encontrar mais discrepâncias e possíveis erros, deverei analisar mais profundamente cada coluna."
      ],
      "metadata": {
        "id": "2yh0pCtwF6ek"
      }
    },
    {
      "cell_type": "markdown",
      "source": [
        "## Analisando as colunas"
      ],
      "metadata": {
        "id": "nUhgruNyFBpv"
      }
    },
    {
      "cell_type": "markdown",
      "source": [
        "Como algumas etapas serão as mesmas para todas as colunas, irei definir uma função que irá trazer as informações importantes para todas as colunas. Além das análises definidas na função, será possível também criação de gráficos para análise visual dos dados.\n",
        "\n",
        "Após as análises, será possível encontrar as principais discrepâncias na base de dados, além de encontrar dados faltantes e duplicados. "
      ],
      "metadata": {
        "id": "KNbY34cAFHqG"
      }
    },
    {
      "cell_type": "markdown",
      "source": [
        "#### Definindo a função"
      ],
      "metadata": {
        "id": "iPROoPcvFC03"
      }
    },
    {
      "cell_type": "code",
      "source": [
        "def analisa_coluna(coluna):\n",
        "\n",
        "    unicos = dados_normal[coluna].unique()\n",
        "    contagem = dados_normal[coluna].value_counts()\n",
        "    tipo = dados_normal[coluna].dtype\n",
        "\n",
        "    print(f'Valores únicos:')\n",
        "    print(unicos)\n",
        "    print('----------------')\n",
        "    print(f'Contagem de valores:')\n",
        "    print(contagem)\n",
        "    print('----------------')\n",
        "    print(f'Tipo da coluna:')\n",
        "    print(tipo)\n",
        "    print('----------------')\n"
      ],
      "metadata": {
        "id": "O93C23cTFB9G"
      },
      "execution_count": null,
      "outputs": []
    },
    {
      "cell_type": "markdown",
      "source": [
        "#### Coluna 'customerID'"
      ],
      "metadata": {
        "id": "qYMXk8b4HCKU"
      }
    },
    {
      "cell_type": "code",
      "source": [
        "analisa_coluna('customerID')"
      ],
      "metadata": {
        "colab": {
          "base_uri": "https://localhost:8080/"
        },
        "id": "Z6wVoPddHJoj",
        "outputId": "3f053bdd-0ca0-480c-9610-8d4433c12689"
      },
      "execution_count": null,
      "outputs": [
        {
          "output_type": "stream",
          "name": "stdout",
          "text": [
            "Valores únicos:\n",
            "['0002-ORFBO' '0003-MKNFE' '0004-TLHLJ' ... '9992-UJOEL' '9993-LHIEB'\n",
            " '9995-HOTOH']\n",
            "----------------\n",
            "Contagem de valores:\n",
            "0002-ORFBO    1\n",
            "6614-VBEGU    1\n",
            "6637-KYRCV    1\n",
            "6635-MYYYZ    1\n",
            "6635-CPNUN    1\n",
            "             ..\n",
            "3374-TTZTK    1\n",
            "3374-PZLXD    1\n",
            "3374-LXDEV    1\n",
            "3373-YZZYM    1\n",
            "9995-HOTOH    1\n",
            "Name: customerID, Length: 7267, dtype: int64\n",
            "----------------\n",
            "Tipo da coluna:\n",
            "object\n",
            "----------------\n"
          ]
        }
      ]
    },
    {
      "cell_type": "markdown",
      "source": [
        "A primeira coluna parece estar de acordo com o dicionário da empresa. Não possue valores em brancos e apenas possue valores únicos. \n",
        "\n",
        "Caso houvessem valores em branco, as linhas correspondentes seriam descartadas. Caso houvessem valores duplicados, eles seriam analizados individualmente para saber o motivo."
      ],
      "metadata": {
        "id": "e0umKaMvNgRV"
      }
    },
    {
      "cell_type": "markdown",
      "source": [
        "#### Coluna 'Churn'"
      ],
      "metadata": {
        "id": "wpOjKgq8NYjX"
      }
    },
    {
      "cell_type": "code",
      "source": [
        "analisa_coluna('Churn')"
      ],
      "metadata": {
        "colab": {
          "base_uri": "https://localhost:8080/"
        },
        "id": "vcoZLl8hNZKQ",
        "outputId": "fbaff66b-8f37-4cb2-eab3-222638878afa"
      },
      "execution_count": null,
      "outputs": [
        {
          "output_type": "stream",
          "name": "stdout",
          "text": [
            "Valores únicos:\n",
            "['No' 'Yes' '']\n",
            "----------------\n",
            "Contagem de valores:\n",
            "No     5174\n",
            "Yes    1869\n",
            "        224\n",
            "Name: Churn, dtype: int64\n",
            "----------------\n",
            "Tipo da coluna:\n",
            "object\n",
            "----------------\n"
          ]
        }
      ]
    },
    {
      "cell_type": "markdown",
      "source": [
        "A segunda coluna apresenta valores que devem ser tratados. Apesar da primeira análise não encontrar valores em branco, há campos vazios. Esses campos serão analisados com mais clareza para tomar uma decisão mais correta no momento do tratamento dos dados."
      ],
      "metadata": {
        "id": "Wx8ZNgdyOPbN"
      }
    },
    {
      "cell_type": "markdown",
      "source": [
        "#### Coluna 'gender'"
      ],
      "metadata": {
        "id": "ihxeLwMsPVIE"
      }
    },
    {
      "cell_type": "code",
      "source": [
        "analisa_coluna('gender')"
      ],
      "metadata": {
        "colab": {
          "base_uri": "https://localhost:8080/"
        },
        "outputId": "7c3cb8a5-c505-43a1-aba5-d1fcc412663a",
        "id": "jlrtgx6PPVIE"
      },
      "execution_count": null,
      "outputs": [
        {
          "output_type": "stream",
          "name": "stdout",
          "text": [
            "Valores únicos:\n",
            "['Female' 'Male']\n",
            "----------------\n",
            "Contagem de valores:\n",
            "Male      3675\n",
            "Female    3592\n",
            "Name: gender, dtype: int64\n",
            "----------------\n",
            "Tipo da coluna:\n",
            "object\n",
            "----------------\n"
          ]
        }
      ]
    },
    {
      "cell_type": "markdown",
      "source": [
        "A coluna de gêneros também está com os dados condizentes com o dicionário apresentado.\n",
        "\n",
        "Há uma diferença pequena de valores entre *male* e *female*."
      ],
      "metadata": {
        "id": "vkUqNok-PVIF"
      }
    },
    {
      "cell_type": "markdown",
      "source": [
        "#### Coluna 'SeniorCitizen'"
      ],
      "metadata": {
        "id": "xZ4VOAs7QVbD"
      }
    },
    {
      "cell_type": "code",
      "source": [
        "analisa_coluna('SeniorCitizen')"
      ],
      "metadata": {
        "colab": {
          "base_uri": "https://localhost:8080/"
        },
        "outputId": "eb7de9fc-92ef-4aeb-b338-b05e44e39043",
        "id": "0drPtDa4QVbE"
      },
      "execution_count": null,
      "outputs": [
        {
          "output_type": "stream",
          "name": "stdout",
          "text": [
            "Valores únicos:\n",
            "[0 1]\n",
            "----------------\n",
            "Contagem de valores:\n",
            "0    6085\n",
            "1    1182\n",
            "Name: SeniorCitizen, dtype: int64\n",
            "----------------\n",
            "Tipo da coluna:\n",
            "int64\n",
            "----------------\n"
          ]
        }
      ]
    },
    {
      "cell_type": "markdown",
      "source": [
        "Nesta coluna, encontrei a primeira coluna com valores booleanos. Pela contagem de valores, o valor 0 significa que a idade da pessoa não é maior do que 65 anos, e 1 quando for.\n",
        "\n",
        "A coluna está com o tipo errado, por conta do padrão utilizado. \n",
        "\n",
        "Junto com as informações já vistas, ela parece ser a única que segue esse padrão, sendo que as outras colunas que apresentam valores booleanos parecem ter valores 'Yes' e 'No'."
      ],
      "metadata": {
        "id": "n8rgffWSQVbF"
      }
    },
    {
      "cell_type": "markdown",
      "source": [
        "#### Coluna 'Partner'"
      ],
      "metadata": {
        "id": "TfsdT7QURp-j"
      }
    },
    {
      "cell_type": "code",
      "source": [
        "analisa_coluna('Partner')"
      ],
      "metadata": {
        "colab": {
          "base_uri": "https://localhost:8080/"
        },
        "outputId": "e7814427-72db-4662-9a2f-46ca96f1027f",
        "id": "EVs07yQIRp-l"
      },
      "execution_count": null,
      "outputs": [
        {
          "output_type": "stream",
          "name": "stdout",
          "text": [
            "Valores únicos:\n",
            "['Yes' 'No']\n",
            "----------------\n",
            "Contagem de valores:\n",
            "No     3749\n",
            "Yes    3518\n",
            "Name: Partner, dtype: int64\n",
            "----------------\n",
            "Tipo da coluna:\n",
            "object\n",
            "----------------\n"
          ]
        }
      ]
    },
    {
      "cell_type": "markdown",
      "source": [
        "A coluna 'Partner', de acordo com o dicionário, informa se o cliente possue ou não um parceiro ou uma parceira. Novamente é uma coluna com valores booleanos. Ao contrário da coluna anterior, os valores utilizados são 'Yes' e 'No'. "
      ],
      "metadata": {
        "id": "noJgNTzkRp-m"
      }
    },
    {
      "cell_type": "markdown",
      "source": [
        "#### Coluna 'Dependents'"
      ],
      "metadata": {
        "id": "CQt-76daS3cU"
      }
    },
    {
      "cell_type": "code",
      "source": [
        "analisa_coluna('Dependents')"
      ],
      "metadata": {
        "colab": {
          "base_uri": "https://localhost:8080/"
        },
        "outputId": "e8e69771-6e4d-4f79-d958-8bbe0b9ad97f",
        "id": "Jr07PqyQS3cU"
      },
      "execution_count": null,
      "outputs": [
        {
          "output_type": "stream",
          "name": "stdout",
          "text": [
            "Valores únicos:\n",
            "['Yes' 'No']\n",
            "----------------\n",
            "Contagem de valores:\n",
            "No     5086\n",
            "Yes    2181\n",
            "Name: Dependents, dtype: int64\n",
            "----------------\n",
            "Tipo da coluna:\n",
            "object\n",
            "----------------\n"
          ]
        }
      ]
    },
    {
      "cell_type": "markdown",
      "source": [
        "A coluna traz as informações de se o cliente possue ou não dependentes. Ao utilizar a mesma notação que a coluna `Partner`, se percebe que a coluna `SeniorCitizen` deverá ser corrigida. \n",
        "\n",
        "Apesar de trazer a informação de dependentes, não consta, na base de dados, o número dos dependentes de cada pessoa."
      ],
      "metadata": {
        "id": "m3YDepz3S3cY"
      }
    },
    {
      "cell_type": "markdown",
      "source": [
        "#### Coluna 'tenure'"
      ],
      "metadata": {
        "id": "1c1rE6eeTy69"
      }
    },
    {
      "cell_type": "code",
      "source": [
        "analisa_coluna('tenure')"
      ],
      "metadata": {
        "colab": {
          "base_uri": "https://localhost:8080/"
        },
        "outputId": "5409fef8-2607-4851-ad3c-01e7da701e59",
        "id": "VaJk5RgMTy6-"
      },
      "execution_count": null,
      "outputs": [
        {
          "output_type": "stream",
          "name": "stdout",
          "text": [
            "Valores únicos:\n",
            "[ 9  4 13  3 71 63  7 65 54 72  5 56 34  1 45 50 23 55 26 69 11 37 49 66\n",
            " 67 20 43 59 12 27  2 25 29 14 35 64 39 40  6 30 70 57 58 16 32 33 10 21\n",
            " 61 15 44 22 24 19 47 62 46 52  8 60 48 28 41 53 68 51 31 36 17 18 38 42\n",
            "  0]\n",
            "----------------\n",
            "Contagem de valores:\n",
            "1     634\n",
            "72    369\n",
            "2     246\n",
            "3     207\n",
            "4     185\n",
            "     ... \n",
            "38     60\n",
            "39     59\n",
            "44     54\n",
            "36     50\n",
            "0      11\n",
            "Name: tenure, Length: 73, dtype: int64\n",
            "----------------\n",
            "Tipo da coluna:\n",
            "int64\n",
            "----------------\n"
          ]
        }
      ]
    },
    {
      "cell_type": "markdown",
      "source": [
        "A coluna traz a quantidade de meses de contrato do cliente. Não há valores em branco.\n",
        "\n",
        "Apesar de contar com valores numéricos, a variável relativa a coluna parece ser uma variável categórica. Será mantido o tipo da coluna, para que seja possível fazer análises quanto ao tempo de contrato de forma correta e direta.\n",
        "\n",
        "Nota-se que há clientes que ainda não concluiram 1 mês de contrato e o maior número de clientes está com 1 mês de contrato. Essa coluna pode explicar o motivo de existirem dados em branco na coluna `Churn`. Isso será analizado no futuro."
      ],
      "metadata": {
        "id": "oImr6wVpTy6-"
      }
    },
    {
      "cell_type": "markdown",
      "source": [
        "#### Coluna 'PhoneService'"
      ],
      "metadata": {
        "id": "gP9jylvKyyGP"
      }
    },
    {
      "cell_type": "code",
      "source": [
        "analisa_coluna('PhoneService')"
      ],
      "metadata": {
        "colab": {
          "base_uri": "https://localhost:8080/"
        },
        "outputId": "577a0109-43e8-4004-e76f-21d80dbda027",
        "id": "jjf_GOUKyyGS"
      },
      "execution_count": null,
      "outputs": [
        {
          "output_type": "stream",
          "name": "stdout",
          "text": [
            "Valores únicos:\n",
            "['Yes' 'No']\n",
            "----------------\n",
            "Contagem de valores:\n",
            "Yes    6560\n",
            "No      707\n",
            "Name: PhoneService, dtype: int64\n",
            "----------------\n",
            "Tipo da coluna:\n",
            "object\n",
            "----------------\n"
          ]
        }
      ]
    },
    {
      "cell_type": "markdown",
      "source": [
        "Dos 7267 clientes, 707 não possuem serviço de telefone. Além disso, percebe-se a padronização em valores 'Yes' e 'No' para colunas com informações booleanas."
      ],
      "metadata": {
        "id": "5qS5C6WSyyGS"
      }
    },
    {
      "cell_type": "markdown",
      "source": [
        "#### Coluna 'MultipleLines'"
      ],
      "metadata": {
        "id": "veCInxFwz9pu"
      }
    },
    {
      "cell_type": "code",
      "source": [
        "analisa_coluna('MultipleLines')"
      ],
      "metadata": {
        "colab": {
          "base_uri": "https://localhost:8080/"
        },
        "outputId": "628a2882-b561-4a37-d5d4-c7c615ea5589",
        "id": "pNJGe4TGz9pu"
      },
      "execution_count": null,
      "outputs": [
        {
          "output_type": "stream",
          "name": "stdout",
          "text": [
            "Valores únicos:\n",
            "['No' 'Yes' 'No phone service']\n",
            "----------------\n",
            "Contagem de valores:\n",
            "No                  3495\n",
            "Yes                 3065\n",
            "No phone service     707\n",
            "Name: MultipleLines, dtype: int64\n",
            "----------------\n",
            "Tipo da coluna:\n",
            "object\n",
            "----------------\n"
          ]
        }
      ]
    },
    {
      "cell_type": "markdown",
      "source": [
        "Nessa coluna, além dos valores de 'Yes' e 'No', também há um terceiro valor, 'No phone service'. Esse terceiro valor corresponde aos clientes que não possuem serviço de telefone contratado com a empresa. \n",
        "\n"
      ],
      "metadata": {
        "id": "hdwsRtzyz9pv"
      }
    },
    {
      "cell_type": "markdown",
      "source": [
        "#### Coluna 'InternetService'"
      ],
      "metadata": {
        "id": "XqaUsa3_1KPy"
      }
    },
    {
      "cell_type": "code",
      "source": [
        "analisa_coluna('InternetService')"
      ],
      "metadata": {
        "colab": {
          "base_uri": "https://localhost:8080/"
        },
        "outputId": "06595106-4088-4371-ba18-27bb35e18541",
        "id": "mV0hG8zV1KPz"
      },
      "execution_count": null,
      "outputs": [
        {
          "output_type": "stream",
          "name": "stdout",
          "text": [
            "Valores únicos:\n",
            "['DSL' 'Fiber optic' 'No']\n",
            "----------------\n",
            "Contagem de valores:\n",
            "Fiber optic    3198\n",
            "DSL            2488\n",
            "No             1581\n",
            "Name: InternetService, dtype: int64\n",
            "----------------\n",
            "Tipo da coluna:\n",
            "object\n",
            "----------------\n"
          ]
        }
      ]
    },
    {
      "cell_type": "markdown",
      "source": [
        "Com as informações sobre a contratação ou não do serviço de internet, também há uma diferenciação entre o tipo de fornecimento com `Fiber optic` e `DSL`.\n",
        "\n",
        "\n",
        "\n",
        "\n"
      ],
      "metadata": {
        "id": "1L4r3NHK1KPz"
      }
    },
    {
      "cell_type": "markdown",
      "source": [
        "#### Coluna 'OnlineSecurity'"
      ],
      "metadata": {
        "id": "PStaz5n12MOr"
      }
    },
    {
      "cell_type": "code",
      "source": [
        "analisa_coluna('OnlineSecurity')"
      ],
      "metadata": {
        "colab": {
          "base_uri": "https://localhost:8080/"
        },
        "outputId": "b28191e2-d9a9-4a97-b02c-0254f0de2d52",
        "id": "1KbyNxaP2MOs"
      },
      "execution_count": null,
      "outputs": [
        {
          "output_type": "stream",
          "name": "stdout",
          "text": [
            "Valores únicos:\n",
            "['No' 'Yes' 'No internet service']\n",
            "----------------\n",
            "Contagem de valores:\n",
            "No                     3608\n",
            "Yes                    2078\n",
            "No internet service    1581\n",
            "Name: OnlineSecurity, dtype: int64\n",
            "----------------\n",
            "Tipo da coluna:\n",
            "object\n",
            "----------------\n"
          ]
        }
      ]
    },
    {
      "cell_type": "markdown",
      "source": [
        "De acordo com o dicionário, a coluna contém informações sobre a contratação ou não de um serviço adicional de segurança online. Os valores de `No internet service` correspondem a quantidade de `No` na coluna `InternetService`."
      ],
      "metadata": {
        "id": "Mvoc5IeL2MOt"
      }
    },
    {
      "cell_type": "markdown",
      "source": [
        "#### Coluna 'OnlineBackup'"
      ],
      "metadata": {
        "id": "AcJ5k1d-2usi"
      }
    },
    {
      "cell_type": "code",
      "source": [
        "analisa_coluna('OnlineBackup')"
      ],
      "metadata": {
        "colab": {
          "base_uri": "https://localhost:8080/"
        },
        "outputId": "d4383ba0-ef04-4a34-a92a-193e1b12b95d",
        "id": "_M1MVIp52usi"
      },
      "execution_count": null,
      "outputs": [
        {
          "output_type": "stream",
          "name": "stdout",
          "text": [
            "Valores únicos:\n",
            "['Yes' 'No' 'No internet service']\n",
            "----------------\n",
            "Contagem de valores:\n",
            "No                     3182\n",
            "Yes                    2504\n",
            "No internet service    1581\n",
            "Name: OnlineBackup, dtype: int64\n",
            "----------------\n",
            "Tipo da coluna:\n",
            "object\n",
            "----------------\n"
          ]
        }
      ]
    },
    {
      "cell_type": "markdown",
      "source": [
        "Assim como a coluna anterior, há valores para `Yes`, `No` e também um terceiro valor, correspondendo aos clientes que não contrataram internet."
      ],
      "metadata": {
        "id": "bI56hrrs2usj"
      }
    },
    {
      "cell_type": "markdown",
      "source": [
        "#### Coluna 'DeviceProtection'"
      ],
      "metadata": {
        "id": "Wa0C5jjc3MXp"
      }
    },
    {
      "cell_type": "code",
      "source": [
        "analisa_coluna('DeviceProtection')"
      ],
      "metadata": {
        "colab": {
          "base_uri": "https://localhost:8080/"
        },
        "outputId": "35f62cea-71b4-48c9-d1fc-7d161d4d3fe2",
        "id": "y98kc8lN3MXq"
      },
      "execution_count": null,
      "outputs": [
        {
          "output_type": "stream",
          "name": "stdout",
          "text": [
            "Valores únicos:\n",
            "['No' 'Yes' 'No internet service']\n",
            "----------------\n",
            "Contagem de valores:\n",
            "No                     3195\n",
            "Yes                    2491\n",
            "No internet service    1581\n",
            "Name: DeviceProtection, dtype: int64\n",
            "----------------\n",
            "Tipo da coluna:\n",
            "object\n",
            "----------------\n"
          ]
        }
      ]
    },
    {
      "cell_type": "markdown",
      "source": [
        "Assim como a coluna anterior, há valores para `Yes`, `No` e também um terceiro valor, correspondendo aos clientes que não contrataram internet."
      ],
      "metadata": {
        "id": "QWy4XVpk3MXq"
      }
    },
    {
      "cell_type": "markdown",
      "source": [
        "#### Coluna 'TechSupport'"
      ],
      "metadata": {
        "id": "nO1dQDLM3W1Y"
      }
    },
    {
      "cell_type": "code",
      "source": [
        "analisa_coluna('TechSupport')"
      ],
      "metadata": {
        "colab": {
          "base_uri": "https://localhost:8080/"
        },
        "outputId": "9f67c4e7-5568-42f7-9349-8bdd28cc8794",
        "id": "YT0Jki143W1Z"
      },
      "execution_count": null,
      "outputs": [
        {
          "output_type": "stream",
          "name": "stdout",
          "text": [
            "Valores únicos:\n",
            "['Yes' 'No' 'No internet service']\n",
            "----------------\n",
            "Contagem de valores:\n",
            "No                     3582\n",
            "Yes                    2104\n",
            "No internet service    1581\n",
            "Name: TechSupport, dtype: int64\n",
            "----------------\n",
            "Tipo da coluna:\n",
            "object\n",
            "----------------\n"
          ]
        }
      ]
    },
    {
      "cell_type": "markdown",
      "source": [
        "Assim como a coluna anterior, há valores para `Yes`, `No` e também um terceiro valor, correspondendo aos clientes que não contrataram internet."
      ],
      "metadata": {
        "id": "AkK9BYSg3W1a"
      }
    },
    {
      "cell_type": "markdown",
      "source": [
        "#### Coluna 'StreamingTV'"
      ],
      "metadata": {
        "id": "17zte6I43fDd"
      }
    },
    {
      "cell_type": "code",
      "source": [
        "analisa_coluna('StreamingTV')"
      ],
      "metadata": {
        "colab": {
          "base_uri": "https://localhost:8080/"
        },
        "outputId": "bd171d74-7429-4468-82c2-031fe66ccf13",
        "id": "Rt_Czg6N3fDe"
      },
      "execution_count": null,
      "outputs": [
        {
          "output_type": "stream",
          "name": "stdout",
          "text": [
            "Valores únicos:\n",
            "['Yes' 'No' 'No internet service']\n",
            "----------------\n",
            "Contagem de valores:\n",
            "No                     2896\n",
            "Yes                    2790\n",
            "No internet service    1581\n",
            "Name: StreamingTV, dtype: int64\n",
            "----------------\n",
            "Tipo da coluna:\n",
            "object\n",
            "----------------\n"
          ]
        }
      ]
    },
    {
      "cell_type": "markdown",
      "source": [
        "Assim como a coluna anterior, há valores para `Yes`, `No` e também um terceiro valor, correspondendo aos clientes que não contrataram internet."
      ],
      "metadata": {
        "id": "YveB2JfO3fDe"
      }
    },
    {
      "cell_type": "markdown",
      "source": [
        "#### Coluna 'StreamingMovies'"
      ],
      "metadata": {
        "id": "RpX-9wfF4JmR"
      }
    },
    {
      "cell_type": "code",
      "source": [
        "analisa_coluna('StreamingMovies')"
      ],
      "metadata": {
        "colab": {
          "base_uri": "https://localhost:8080/"
        },
        "outputId": "c38d10e6-86dc-487b-8b4d-a2a7f6509e9e",
        "id": "XSowlVNK4JmR"
      },
      "execution_count": null,
      "outputs": [
        {
          "output_type": "stream",
          "name": "stdout",
          "text": [
            "Valores únicos:\n",
            "['No' 'Yes' 'No internet service']\n",
            "----------------\n",
            "Contagem de valores:\n",
            "No                     2870\n",
            "Yes                    2816\n",
            "No internet service    1581\n",
            "Name: StreamingMovies, dtype: int64\n",
            "----------------\n",
            "Tipo da coluna:\n",
            "object\n",
            "----------------\n"
          ]
        }
      ]
    },
    {
      "cell_type": "markdown",
      "source": [
        "Assim como a coluna anterior, há valores para `Yes`, `No` e também um terceiro valor, correspondendo aos clientes que não contrataram internet."
      ],
      "metadata": {
        "id": "441kgMyW4JmS"
      }
    },
    {
      "cell_type": "markdown",
      "source": [
        "#### Coluna 'Contract'"
      ],
      "metadata": {
        "id": "oNuiRYH_4QPP"
      }
    },
    {
      "cell_type": "code",
      "source": [
        "analisa_coluna('Contract')"
      ],
      "metadata": {
        "colab": {
          "base_uri": "https://localhost:8080/"
        },
        "outputId": "56f95168-fa4c-4d21-883f-d499521d6a91",
        "id": "vueSoxAZ4QPQ"
      },
      "execution_count": null,
      "outputs": [
        {
          "output_type": "stream",
          "name": "stdout",
          "text": [
            "Valores únicos:\n",
            "['One year' 'Month-to-month' 'Two year']\n",
            "----------------\n",
            "Contagem de valores:\n",
            "Month-to-month    4005\n",
            "Two year          1743\n",
            "One year          1519\n",
            "Name: Contract, dtype: int64\n",
            "----------------\n",
            "Tipo da coluna:\n",
            "object\n",
            "----------------\n"
          ]
        }
      ]
    },
    {
      "cell_type": "markdown",
      "source": [
        "Há, na base de dados, 3 tipos de contrato disponíveis para os clientes. A maioria dos clientes optou por um contrato mês a mês."
      ],
      "metadata": {
        "id": "1RSl8VRf4QPR"
      }
    },
    {
      "cell_type": "markdown",
      "source": [
        "#### Coluna 'PaperlessBilling'"
      ],
      "metadata": {
        "id": "F593OOI75B-I"
      }
    },
    {
      "cell_type": "code",
      "source": [
        "analisa_coluna('PaperlessBilling')"
      ],
      "metadata": {
        "colab": {
          "base_uri": "https://localhost:8080/"
        },
        "outputId": "8f9e009a-3a51-43e0-b36b-e300e4542e86",
        "id": "YjQutiwe5B-J"
      },
      "execution_count": null,
      "outputs": [
        {
          "output_type": "stream",
          "name": "stdout",
          "text": [
            "Valores únicos:\n",
            "['Yes' 'No']\n",
            "----------------\n",
            "Contagem de valores:\n",
            "Yes    4311\n",
            "No     2956\n",
            "Name: PaperlessBilling, dtype: int64\n",
            "----------------\n",
            "Tipo da coluna:\n",
            "object\n",
            "----------------\n"
          ]
        }
      ]
    },
    {
      "cell_type": "markdown",
      "source": [
        "A maioria dos clientes prefere receber a fatura via e-mail."
      ],
      "metadata": {
        "id": "ot0-raUP5B-L"
      }
    },
    {
      "cell_type": "markdown",
      "source": [
        "#### Coluna 'PaymentMethod'"
      ],
      "metadata": {
        "id": "2SnWUNke5yoU"
      }
    },
    {
      "cell_type": "code",
      "source": [
        "analisa_coluna('PaymentMethod')"
      ],
      "metadata": {
        "colab": {
          "base_uri": "https://localhost:8080/"
        },
        "outputId": "2031fd65-0be4-4df4-87e6-b70f2e2e3cbf",
        "id": "kcP5DFxB5yoW"
      },
      "execution_count": null,
      "outputs": [
        {
          "output_type": "stream",
          "name": "stdout",
          "text": [
            "Valores únicos:\n",
            "['Mailed check' 'Electronic check' 'Credit card (automatic)'\n",
            " 'Bank transfer (automatic)']\n",
            "----------------\n",
            "Contagem de valores:\n",
            "Electronic check             2445\n",
            "Mailed check                 1665\n",
            "Bank transfer (automatic)    1589\n",
            "Credit card (automatic)      1568\n",
            "Name: PaymentMethod, dtype: int64\n",
            "----------------\n",
            "Tipo da coluna:\n",
            "object\n",
            "----------------\n"
          ]
        }
      ]
    },
    {
      "cell_type": "markdown",
      "source": [
        "Essa coluna contém informações sobre quais os métodos de pagamento. Há uma preferência pelo meio `Electronic check`. Sistemas automáticos de cobrança, seja por `Bank transfer` ou `Credit card` são também muito utilizados."
      ],
      "metadata": {
        "id": "aAjWh4TN5yoX"
      }
    },
    {
      "cell_type": "markdown",
      "source": [
        "#### Coluna 'Charges.Monthly'"
      ],
      "metadata": {
        "id": "EaodtpnI6bBM"
      }
    },
    {
      "cell_type": "code",
      "source": [
        "analisa_coluna('Charges.Monthly')"
      ],
      "metadata": {
        "colab": {
          "base_uri": "https://localhost:8080/"
        },
        "outputId": "8c685e69-f1ee-4eb1-cb0c-826830c29542",
        "id": "l2-1Vfvj6bBN"
      },
      "execution_count": null,
      "outputs": [
        {
          "output_type": "stream",
          "name": "stdout",
          "text": [
            "Valores únicos:\n",
            "[65.6  59.9  73.9  ... 91.75 68.8  67.85]\n",
            "----------------\n",
            "Contagem de valores:\n",
            "20.05     65\n",
            "19.85     46\n",
            "19.90     46\n",
            "19.70     45\n",
            "19.55     45\n",
            "          ..\n",
            "23.45      1\n",
            "116.55     1\n",
            "106.85     1\n",
            "68.55      1\n",
            "67.85      1\n",
            "Name: Charges.Monthly, Length: 1585, dtype: int64\n",
            "----------------\n",
            "Tipo da coluna:\n",
            "float64\n",
            "----------------\n"
          ]
        }
      ]
    },
    {
      "cell_type": "markdown",
      "source": [
        "Segundo o dicionário, a coluna traz informações de valor mensal pago pelos clientes. Os valores possuem no máximo 2 casas decimais.\n",
        "\n",
        "O tipo da coluna `float64` é o padrão que a biblioteca Pandas [utiliza para valores decimais](https://beepscore.com/website/2018/10/12/using-pandas-with-python-decimal.html). Variáveis do tipo `float` ou `float64` podem apresentar uma falta de acurácia, apesar de, na maioria dos casos, não haver problemas de análises. Caso essa falta de acurácia seja perceptível em análises futuras, será necessário fazer a alteração de tipo."
      ],
      "metadata": {
        "id": "llOc40S06bBO"
      }
    },
    {
      "cell_type": "markdown",
      "source": [
        "#### Coluna 'Charges.Total'"
      ],
      "metadata": {
        "id": "LGpUeSpf-SBC"
      }
    },
    {
      "cell_type": "code",
      "source": [
        "analisa_coluna('Charges.Total')"
      ],
      "metadata": {
        "colab": {
          "base_uri": "https://localhost:8080/"
        },
        "outputId": "2031edc3-9892-45ae-c314-16a2b88df470",
        "id": "VYRQz6iv-SBD"
      },
      "execution_count": null,
      "outputs": [
        {
          "output_type": "stream",
          "name": "stdout",
          "text": [
            "Valores únicos:\n",
            "['593.3' '542.4' '280.85' ... '742.9' '4627.65' '3707.6']\n",
            "----------------\n",
            "Contagem de valores:\n",
            "           11\n",
            "20.2       11\n",
            "19.75       9\n",
            "19.55       9\n",
            "19.9        9\n",
            "           ..\n",
            "272         1\n",
            "1426.45     1\n",
            "371.6       1\n",
            "6786.4      1\n",
            "3707.6      1\n",
            "Name: Charges.Total, Length: 6531, dtype: int64\n",
            "----------------\n",
            "Tipo da coluna:\n",
            "object\n",
            "----------------\n"
          ]
        }
      ]
    },
    {
      "cell_type": "markdown",
      "source": [
        "Segundo o dicionário, a coluna traz informações de valor total pago por cada cliente. No entanto, a coluna está com o tipo errado: em vez de `object`, que significa que os dados estão sendo considerados como texto pelo sistema, o correto seria `float64`, como a coluna `Charges.Monthly`\n",
        "\n"
      ],
      "metadata": {
        "id": "wjgb3sd2-SBD"
      }
    },
    {
      "cell_type": "markdown",
      "source": [
        "### Considerações e pontos importantes"
      ],
      "metadata": {
        "id": "aT6cKTof_IMJ"
      }
    },
    {
      "cell_type": "markdown",
      "source": [
        "1. Será necessário tratar dados em branco da coluna 'Churn'. Como há clientes com 0 e 1 meses de contrato, será necessária uma análise mais clara dos dados, ajudando assim em uma decisão de se manter ou descartar os dados apresentados.\n",
        "\n",
        "2. A coluna 'SeniorCitizen' possue valores '0' e '1', ao invés de 'Yes' e 'No' presente nas outras colunas booleanas. Isso será unificado para depois poder ser feita uma tradução dos dados.\n",
        "\n",
        "3. As colunas extraídas durante o processo de normalização da base de dados aparentam ter informações condizentes entre si. \n",
        "\n",
        "4. Pode ser necessário alterar o tipo dos dados da coluna 'Charges.Monthly' para decimal.\n",
        "\n",
        "5. O tipo da coluna 'Charges.Total' deve ser alterado para float64."
      ],
      "metadata": {
        "id": "ryjcN3ZM_t7I"
      }
    },
    {
      "cell_type": "markdown",
      "source": [
        "Com as análises feitas e com considerações a serem tomadas, é possível passar para a próxima etapa do processo, que seria a limpeza e transformação dos dados."
      ],
      "metadata": {
        "id": "PzxZh4UfMPGj"
      }
    },
    {
      "cell_type": "markdown",
      "source": [
        "## Limpeza e preparação dos dados"
      ],
      "metadata": {
        "id": "tUx38wsm9c28"
      }
    },
    {
      "cell_type": "markdown",
      "source": [
        "Além das considerações e observações já feitas, estarei utilizando um [guia da plataforma Tableau](https://www.tableau.com/learn/articles/what-is-data-cleaning) que define o processo de limpeza dos dados, além de listar alguns passos que devem ser usados durante essa etapa."
      ],
      "metadata": {
        "id": "D19K_FoRA1W9"
      }
    },
    {
      "cell_type": "markdown",
      "source": [
        "### Conferindo Duplicatas"
      ],
      "metadata": {
        "id": "1LUsP7ggFCFi"
      }
    },
    {
      "cell_type": "markdown",
      "source": [
        "Durante as análises inicais, a base de dados não aparentava ter linhas duplicadas.\n",
        "\n",
        "Para conferir e validar essa informação, podemos utilizar métodos da biblioteca Pandas. O [método `duplicated()`](https://pandas.pydata.org/docs/reference/api/pandas.DataFrame.duplicated.html) retorna valores `False`, caso não haja valores duplicados, ou `True` para casos em que o valor esteja duplicado."
      ],
      "metadata": {
        "id": "FdSEFUJGM-pk"
      }
    },
    {
      "cell_type": "markdown",
      "source": [
        "Primeiramente, a coluna `customerID` deve ser um código de cliente único, portanto não pode aceitar valores duplicados."
      ],
      "metadata": {
        "id": "mxZNEKdQN1-Q"
      }
    },
    {
      "cell_type": "code",
      "source": [
        "dados_normal.duplicated(subset='customerID', keep='first').value_counts()"
      ],
      "metadata": {
        "id": "bQOnWD7o9szJ",
        "colab": {
          "base_uri": "https://localhost:8080/"
        },
        "outputId": "d0e363da-60de-4dd0-87e9-846c92938076"
      },
      "execution_count": null,
      "outputs": [
        {
          "output_type": "execute_result",
          "data": {
            "text/plain": [
              "False    7267\n",
              "dtype: int64"
            ]
          },
          "metadata": {},
          "execution_count": 300
        }
      ]
    },
    {
      "cell_type": "markdown",
      "source": [
        "Como há apenas valores `False`, podemos afirmar que não há valores duplicados nesta coluna. \n",
        "\n",
        "Como há uma coluna sem valores duplicados, não há linhas duplicadas na base de dados. No entanto podemos refazer o passo e conferir para todo o dataset."
      ],
      "metadata": {
        "id": "EjwFoWsqOxmg"
      }
    },
    {
      "cell_type": "code",
      "source": [
        "dados_normal.duplicated(keep='first').value_counts()"
      ],
      "metadata": {
        "colab": {
          "base_uri": "https://localhost:8080/"
        },
        "id": "ey9EO_p5PKUW",
        "outputId": "5c749187-8992-4512-e931-21fcc4ef9df4"
      },
      "execution_count": null,
      "outputs": [
        {
          "output_type": "execute_result",
          "data": {
            "text/plain": [
              "False    7267\n",
              "dtype: int64"
            ]
          },
          "metadata": {},
          "execution_count": 301
        }
      ]
    },
    {
      "cell_type": "markdown",
      "source": [
        "Não havendo linhas duplicadas, podemos ir para o próximo passo sugerido no blog e efetuar a correção de erros estruturais do sistema."
      ],
      "metadata": {
        "id": "8oGCeIdtOUFh"
      }
    },
    {
      "cell_type": "markdown",
      "source": [
        "### Inconsistências nas colunas"
      ],
      "metadata": {
        "id": "Y54BFU4oD0UG"
      }
    },
    {
      "cell_type": "markdown",
      "source": [
        "Segundo o blog do Tableau, erros estruturais ocorrem quando os dados não seguem um padrão, seja havendo erros de digitação, valores diferentes que passam a mesma informação ou falta de um padrão nos dados. \n",
        "\n",
        "Com essa definição e as observações feitas após a análise das colunas, há alguns erros estruturais."
      ],
      "metadata": {
        "id": "ur1JsT1OECrZ"
      }
    },
    {
      "cell_type": "markdown",
      "source": [
        "#### 1. Coluna 'SeniorCitizen'"
      ],
      "metadata": {
        "id": "W73E5TqUFjEb"
      }
    },
    {
      "cell_type": "markdown",
      "source": [
        "A coluna `SeniorCitizen` é uma coluna que não segue o padrão. Ao invés de utilizar 'Yes' ou 'No' para os valores, utiliza '1' e '0'.\n",
        "\n",
        "Para isso, será usado o método [`.replace()`](https://pandas.pydata.org/pandas-docs/stable/reference/api/pandas.DataFrame.replace.html)."
      ],
      "metadata": {
        "id": "OW5XceUzF0z2"
      }
    },
    {
      "cell_type": "code",
      "source": [
        "mapa = {1:'Yes', 0:'No'}"
      ],
      "metadata": {
        "id": "yDy_DUOuD4iU"
      },
      "execution_count": null,
      "outputs": []
    },
    {
      "cell_type": "code",
      "source": [
        "dados_normal['SeniorCitizen'].replace(mapa, inplace=True)"
      ],
      "metadata": {
        "id": "7j40wImFD4S1"
      },
      "execution_count": null,
      "outputs": []
    },
    {
      "cell_type": "code",
      "source": [
        "analisa_coluna('SeniorCitizen')"
      ],
      "metadata": {
        "colab": {
          "base_uri": "https://localhost:8080/"
        },
        "id": "wLEXBILFHRxT",
        "outputId": "02951cb6-b680-4cf2-839a-bff3862aed66"
      },
      "execution_count": null,
      "outputs": [
        {
          "output_type": "stream",
          "name": "stdout",
          "text": [
            "Valores únicos:\n",
            "['No' 'Yes']\n",
            "----------------\n",
            "Contagem de valores:\n",
            "No     6085\n",
            "Yes    1182\n",
            "Name: SeniorCitizen, dtype: int64\n",
            "----------------\n",
            "Tipo da coluna:\n",
            "object\n",
            "----------------\n"
          ]
        }
      ]
    },
    {
      "cell_type": "markdown",
      "source": [
        "Com essa alteração, a coluna segue os padrões dos dados das outas colunas. Isso será importante quando os dados forem traduzidos."
      ],
      "metadata": {
        "id": "FTbyjffWHfAy"
      }
    },
    {
      "cell_type": "markdown",
      "source": [
        "#### 2. Coluna 'Charges.Total'"
      ],
      "metadata": {
        "id": "BklFYqqpHteT"
      }
    },
    {
      "cell_type": "markdown",
      "source": [
        "Essa coluna está com o tipo errado de valores. Ela representa o valor total pago pelo cliente, porém os dados estão sendo considerados como dados de texto. \n",
        "\n",
        "O tipo será o mesmo da coluna `Charges.Monthly`, que é `float64`.\n",
        "\n",
        "Essa mudança será feita utilizando [`.to_numeric()`](https://pandas.pydata.org/pandas-docs/stable/reference/api/pandas.to_numeric.html). Esse método permite fazer a troca de tipo de maneira rápida. O próprio método define se o tipo será `float64` ou `int64`, dependendo dos valores na coluna."
      ],
      "metadata": {
        "id": "fBPhdJLmIP9_"
      }
    },
    {
      "cell_type": "code",
      "source": [
        "pd.to_numeric(dados_normal['Charges.Total'])"
      ],
      "metadata": {
        "colab": {
          "base_uri": "https://localhost:8080/",
          "height": 293
        },
        "id": "3Gm0Nb3AImMV",
        "outputId": "aba610c0-92a7-4415-98da-3df71d116571"
      },
      "execution_count": null,
      "outputs": [
        {
          "output_type": "error",
          "ename": "ValueError",
          "evalue": "ignored",
          "traceback": [
            "\u001b[0;31m---------------------------------------------------------------------------\u001b[0m",
            "\u001b[0;31mValueError\u001b[0m                                Traceback (most recent call last)",
            "\u001b[0;32m/usr/local/lib/python3.7/dist-packages/pandas/_libs/lib.pyx\u001b[0m in \u001b[0;36mpandas._libs.lib.maybe_convert_numeric\u001b[0;34m()\u001b[0m\n",
            "\u001b[0;31mValueError\u001b[0m: Unable to parse string \" \"",
            "\nDuring handling of the above exception, another exception occurred:\n",
            "\u001b[0;31mValueError\u001b[0m                                Traceback (most recent call last)",
            "\u001b[0;32m<ipython-input-305-3c1e1f4a6061>\u001b[0m in \u001b[0;36m<module>\u001b[0;34m()\u001b[0m\n\u001b[0;32m----> 1\u001b[0;31m \u001b[0mpd\u001b[0m\u001b[0;34m.\u001b[0m\u001b[0mto_numeric\u001b[0m\u001b[0;34m(\u001b[0m\u001b[0mdados_normal\u001b[0m\u001b[0;34m[\u001b[0m\u001b[0;34m'Charges.Total'\u001b[0m\u001b[0;34m]\u001b[0m\u001b[0;34m)\u001b[0m\u001b[0;34m\u001b[0m\u001b[0;34m\u001b[0m\u001b[0m\n\u001b[0m",
            "\u001b[0;32m/usr/local/lib/python3.7/dist-packages/pandas/core/tools/numeric.py\u001b[0m in \u001b[0;36mto_numeric\u001b[0;34m(arg, errors, downcast)\u001b[0m\n\u001b[1;32m    182\u001b[0m         \u001b[0;32mtry\u001b[0m\u001b[0;34m:\u001b[0m\u001b[0;34m\u001b[0m\u001b[0;34m\u001b[0m\u001b[0m\n\u001b[1;32m    183\u001b[0m             values, _ = lib.maybe_convert_numeric(\n\u001b[0;32m--> 184\u001b[0;31m                 \u001b[0mvalues\u001b[0m\u001b[0;34m,\u001b[0m \u001b[0mset\u001b[0m\u001b[0;34m(\u001b[0m\u001b[0;34m)\u001b[0m\u001b[0;34m,\u001b[0m \u001b[0mcoerce_numeric\u001b[0m\u001b[0;34m=\u001b[0m\u001b[0mcoerce_numeric\u001b[0m\u001b[0;34m\u001b[0m\u001b[0;34m\u001b[0m\u001b[0m\n\u001b[0m\u001b[1;32m    185\u001b[0m             )\n\u001b[1;32m    186\u001b[0m         \u001b[0;32mexcept\u001b[0m \u001b[0;34m(\u001b[0m\u001b[0mValueError\u001b[0m\u001b[0;34m,\u001b[0m \u001b[0mTypeError\u001b[0m\u001b[0;34m)\u001b[0m\u001b[0;34m:\u001b[0m\u001b[0;34m\u001b[0m\u001b[0;34m\u001b[0m\u001b[0m\n",
            "\u001b[0;32m/usr/local/lib/python3.7/dist-packages/pandas/_libs/lib.pyx\u001b[0m in \u001b[0;36mpandas._libs.lib.maybe_convert_numeric\u001b[0;34m()\u001b[0m\n",
            "\u001b[0;31mValueError\u001b[0m: Unable to parse string \" \" at position 975"
          ]
        }
      ]
    },
    {
      "cell_type": "markdown",
      "source": [
        "Ocorreu um erro. Existe um valor em branco na coluna que não foi percebido nas análises iniciais. Esse valor deve ser tratado para "
      ],
      "metadata": {
        "id": "St1n76mSJeK-"
      }
    },
    {
      "cell_type": "code",
      "source": [
        "dados_normal.loc[dados_normal['Charges.Total'] == ' ']"
      ],
      "metadata": {
        "colab": {
          "base_uri": "https://localhost:8080/",
          "height": 679
        },
        "id": "-a6DXYyOJkuo",
        "outputId": "131f6fd9-2bf5-4ca3-b7e3-fd7ae04d94b6"
      },
      "execution_count": null,
      "outputs": [
        {
          "output_type": "execute_result",
          "data": {
            "text/plain": [
              "      customerID Churn  gender SeniorCitizen Partner Dependents  tenure  \\\n",
              "975   1371-DWPAZ    No  Female            No     Yes        Yes       0   \n",
              "1775  2520-SGTTA    No  Female            No     Yes        Yes       0   \n",
              "1955  2775-SEFEE    No    Male            No      No        Yes       0   \n",
              "2075  2923-ARZLG    No    Male            No     Yes        Yes       0   \n",
              "2232  3115-CZMZD    No    Male            No      No        Yes       0   \n",
              "2308  3213-VVOLG    No    Male            No     Yes        Yes       0   \n",
              "2930  4075-WKNIU    No  Female            No     Yes        Yes       0   \n",
              "3134  4367-NUYAO    No    Male            No     Yes        Yes       0   \n",
              "3203  4472-LVYGI    No  Female            No     Yes        Yes       0   \n",
              "4169  5709-LVOEQ    No  Female            No     Yes        Yes       0   \n",
              "5599  7644-OMVMY    No    Male            No     Yes        Yes       0   \n",
              "\n",
              "     PhoneService     MultipleLines InternetService  ...         OnlineBackup  \\\n",
              "975            No  No phone service             DSL  ...                  Yes   \n",
              "1775          Yes                No              No  ...  No internet service   \n",
              "1955          Yes               Yes             DSL  ...                  Yes   \n",
              "2075          Yes                No              No  ...  No internet service   \n",
              "2232          Yes                No              No  ...  No internet service   \n",
              "2308          Yes               Yes              No  ...  No internet service   \n",
              "2930          Yes               Yes             DSL  ...                  Yes   \n",
              "3134          Yes               Yes              No  ...  No internet service   \n",
              "3203           No  No phone service             DSL  ...                   No   \n",
              "4169          Yes                No             DSL  ...                  Yes   \n",
              "5599          Yes                No              No  ...  No internet service   \n",
              "\n",
              "         DeviceProtection          TechSupport          StreamingTV  \\\n",
              "975                   Yes                  Yes                  Yes   \n",
              "1775  No internet service  No internet service  No internet service   \n",
              "1955                   No                  Yes                   No   \n",
              "2075  No internet service  No internet service  No internet service   \n",
              "2232  No internet service  No internet service  No internet service   \n",
              "2308  No internet service  No internet service  No internet service   \n",
              "2930                  Yes                  Yes                  Yes   \n",
              "3134  No internet service  No internet service  No internet service   \n",
              "3203                  Yes                  Yes                  Yes   \n",
              "4169                  Yes                   No                  Yes   \n",
              "5599  No internet service  No internet service  No internet service   \n",
              "\n",
              "          StreamingMovies  Contract PaperlessBilling  \\\n",
              "975                    No  Two year               No   \n",
              "1775  No internet service  Two year               No   \n",
              "1955                   No  Two year              Yes   \n",
              "2075  No internet service  One year              Yes   \n",
              "2232  No internet service  Two year               No   \n",
              "2308  No internet service  Two year               No   \n",
              "2930                   No  Two year               No   \n",
              "3134  No internet service  Two year               No   \n",
              "3203                   No  Two year              Yes   \n",
              "4169                  Yes  Two year               No   \n",
              "5599  No internet service  Two year               No   \n",
              "\n",
              "                  PaymentMethod Charges.Monthly  Charges.Total  \n",
              "975     Credit card (automatic)           56.05                 \n",
              "1775               Mailed check           20.00                 \n",
              "1955  Bank transfer (automatic)           61.90                 \n",
              "2075               Mailed check           19.70                 \n",
              "2232               Mailed check           20.25                 \n",
              "2308               Mailed check           25.35                 \n",
              "2930               Mailed check           73.35                 \n",
              "3134               Mailed check           25.75                 \n",
              "3203  Bank transfer (automatic)           52.55                 \n",
              "4169               Mailed check           80.85                 \n",
              "5599               Mailed check           19.85                 \n",
              "\n",
              "[11 rows x 21 columns]"
            ],
            "text/html": [
              "\n",
              "  <div id=\"df-2a6c8fcc-60ce-422c-8317-b153676c8570\">\n",
              "    <div class=\"colab-df-container\">\n",
              "      <div>\n",
              "<style scoped>\n",
              "    .dataframe tbody tr th:only-of-type {\n",
              "        vertical-align: middle;\n",
              "    }\n",
              "\n",
              "    .dataframe tbody tr th {\n",
              "        vertical-align: top;\n",
              "    }\n",
              "\n",
              "    .dataframe thead th {\n",
              "        text-align: right;\n",
              "    }\n",
              "</style>\n",
              "<table border=\"1\" class=\"dataframe\">\n",
              "  <thead>\n",
              "    <tr style=\"text-align: right;\">\n",
              "      <th></th>\n",
              "      <th>customerID</th>\n",
              "      <th>Churn</th>\n",
              "      <th>gender</th>\n",
              "      <th>SeniorCitizen</th>\n",
              "      <th>Partner</th>\n",
              "      <th>Dependents</th>\n",
              "      <th>tenure</th>\n",
              "      <th>PhoneService</th>\n",
              "      <th>MultipleLines</th>\n",
              "      <th>InternetService</th>\n",
              "      <th>...</th>\n",
              "      <th>OnlineBackup</th>\n",
              "      <th>DeviceProtection</th>\n",
              "      <th>TechSupport</th>\n",
              "      <th>StreamingTV</th>\n",
              "      <th>StreamingMovies</th>\n",
              "      <th>Contract</th>\n",
              "      <th>PaperlessBilling</th>\n",
              "      <th>PaymentMethod</th>\n",
              "      <th>Charges.Monthly</th>\n",
              "      <th>Charges.Total</th>\n",
              "    </tr>\n",
              "  </thead>\n",
              "  <tbody>\n",
              "    <tr>\n",
              "      <th>975</th>\n",
              "      <td>1371-DWPAZ</td>\n",
              "      <td>No</td>\n",
              "      <td>Female</td>\n",
              "      <td>No</td>\n",
              "      <td>Yes</td>\n",
              "      <td>Yes</td>\n",
              "      <td>0</td>\n",
              "      <td>No</td>\n",
              "      <td>No phone service</td>\n",
              "      <td>DSL</td>\n",
              "      <td>...</td>\n",
              "      <td>Yes</td>\n",
              "      <td>Yes</td>\n",
              "      <td>Yes</td>\n",
              "      <td>Yes</td>\n",
              "      <td>No</td>\n",
              "      <td>Two year</td>\n",
              "      <td>No</td>\n",
              "      <td>Credit card (automatic)</td>\n",
              "      <td>56.05</td>\n",
              "      <td></td>\n",
              "    </tr>\n",
              "    <tr>\n",
              "      <th>1775</th>\n",
              "      <td>2520-SGTTA</td>\n",
              "      <td>No</td>\n",
              "      <td>Female</td>\n",
              "      <td>No</td>\n",
              "      <td>Yes</td>\n",
              "      <td>Yes</td>\n",
              "      <td>0</td>\n",
              "      <td>Yes</td>\n",
              "      <td>No</td>\n",
              "      <td>No</td>\n",
              "      <td>...</td>\n",
              "      <td>No internet service</td>\n",
              "      <td>No internet service</td>\n",
              "      <td>No internet service</td>\n",
              "      <td>No internet service</td>\n",
              "      <td>No internet service</td>\n",
              "      <td>Two year</td>\n",
              "      <td>No</td>\n",
              "      <td>Mailed check</td>\n",
              "      <td>20.00</td>\n",
              "      <td></td>\n",
              "    </tr>\n",
              "    <tr>\n",
              "      <th>1955</th>\n",
              "      <td>2775-SEFEE</td>\n",
              "      <td>No</td>\n",
              "      <td>Male</td>\n",
              "      <td>No</td>\n",
              "      <td>No</td>\n",
              "      <td>Yes</td>\n",
              "      <td>0</td>\n",
              "      <td>Yes</td>\n",
              "      <td>Yes</td>\n",
              "      <td>DSL</td>\n",
              "      <td>...</td>\n",
              "      <td>Yes</td>\n",
              "      <td>No</td>\n",
              "      <td>Yes</td>\n",
              "      <td>No</td>\n",
              "      <td>No</td>\n",
              "      <td>Two year</td>\n",
              "      <td>Yes</td>\n",
              "      <td>Bank transfer (automatic)</td>\n",
              "      <td>61.90</td>\n",
              "      <td></td>\n",
              "    </tr>\n",
              "    <tr>\n",
              "      <th>2075</th>\n",
              "      <td>2923-ARZLG</td>\n",
              "      <td>No</td>\n",
              "      <td>Male</td>\n",
              "      <td>No</td>\n",
              "      <td>Yes</td>\n",
              "      <td>Yes</td>\n",
              "      <td>0</td>\n",
              "      <td>Yes</td>\n",
              "      <td>No</td>\n",
              "      <td>No</td>\n",
              "      <td>...</td>\n",
              "      <td>No internet service</td>\n",
              "      <td>No internet service</td>\n",
              "      <td>No internet service</td>\n",
              "      <td>No internet service</td>\n",
              "      <td>No internet service</td>\n",
              "      <td>One year</td>\n",
              "      <td>Yes</td>\n",
              "      <td>Mailed check</td>\n",
              "      <td>19.70</td>\n",
              "      <td></td>\n",
              "    </tr>\n",
              "    <tr>\n",
              "      <th>2232</th>\n",
              "      <td>3115-CZMZD</td>\n",
              "      <td>No</td>\n",
              "      <td>Male</td>\n",
              "      <td>No</td>\n",
              "      <td>No</td>\n",
              "      <td>Yes</td>\n",
              "      <td>0</td>\n",
              "      <td>Yes</td>\n",
              "      <td>No</td>\n",
              "      <td>No</td>\n",
              "      <td>...</td>\n",
              "      <td>No internet service</td>\n",
              "      <td>No internet service</td>\n",
              "      <td>No internet service</td>\n",
              "      <td>No internet service</td>\n",
              "      <td>No internet service</td>\n",
              "      <td>Two year</td>\n",
              "      <td>No</td>\n",
              "      <td>Mailed check</td>\n",
              "      <td>20.25</td>\n",
              "      <td></td>\n",
              "    </tr>\n",
              "    <tr>\n",
              "      <th>2308</th>\n",
              "      <td>3213-VVOLG</td>\n",
              "      <td>No</td>\n",
              "      <td>Male</td>\n",
              "      <td>No</td>\n",
              "      <td>Yes</td>\n",
              "      <td>Yes</td>\n",
              "      <td>0</td>\n",
              "      <td>Yes</td>\n",
              "      <td>Yes</td>\n",
              "      <td>No</td>\n",
              "      <td>...</td>\n",
              "      <td>No internet service</td>\n",
              "      <td>No internet service</td>\n",
              "      <td>No internet service</td>\n",
              "      <td>No internet service</td>\n",
              "      <td>No internet service</td>\n",
              "      <td>Two year</td>\n",
              "      <td>No</td>\n",
              "      <td>Mailed check</td>\n",
              "      <td>25.35</td>\n",
              "      <td></td>\n",
              "    </tr>\n",
              "    <tr>\n",
              "      <th>2930</th>\n",
              "      <td>4075-WKNIU</td>\n",
              "      <td>No</td>\n",
              "      <td>Female</td>\n",
              "      <td>No</td>\n",
              "      <td>Yes</td>\n",
              "      <td>Yes</td>\n",
              "      <td>0</td>\n",
              "      <td>Yes</td>\n",
              "      <td>Yes</td>\n",
              "      <td>DSL</td>\n",
              "      <td>...</td>\n",
              "      <td>Yes</td>\n",
              "      <td>Yes</td>\n",
              "      <td>Yes</td>\n",
              "      <td>Yes</td>\n",
              "      <td>No</td>\n",
              "      <td>Two year</td>\n",
              "      <td>No</td>\n",
              "      <td>Mailed check</td>\n",
              "      <td>73.35</td>\n",
              "      <td></td>\n",
              "    </tr>\n",
              "    <tr>\n",
              "      <th>3134</th>\n",
              "      <td>4367-NUYAO</td>\n",
              "      <td>No</td>\n",
              "      <td>Male</td>\n",
              "      <td>No</td>\n",
              "      <td>Yes</td>\n",
              "      <td>Yes</td>\n",
              "      <td>0</td>\n",
              "      <td>Yes</td>\n",
              "      <td>Yes</td>\n",
              "      <td>No</td>\n",
              "      <td>...</td>\n",
              "      <td>No internet service</td>\n",
              "      <td>No internet service</td>\n",
              "      <td>No internet service</td>\n",
              "      <td>No internet service</td>\n",
              "      <td>No internet service</td>\n",
              "      <td>Two year</td>\n",
              "      <td>No</td>\n",
              "      <td>Mailed check</td>\n",
              "      <td>25.75</td>\n",
              "      <td></td>\n",
              "    </tr>\n",
              "    <tr>\n",
              "      <th>3203</th>\n",
              "      <td>4472-LVYGI</td>\n",
              "      <td>No</td>\n",
              "      <td>Female</td>\n",
              "      <td>No</td>\n",
              "      <td>Yes</td>\n",
              "      <td>Yes</td>\n",
              "      <td>0</td>\n",
              "      <td>No</td>\n",
              "      <td>No phone service</td>\n",
              "      <td>DSL</td>\n",
              "      <td>...</td>\n",
              "      <td>No</td>\n",
              "      <td>Yes</td>\n",
              "      <td>Yes</td>\n",
              "      <td>Yes</td>\n",
              "      <td>No</td>\n",
              "      <td>Two year</td>\n",
              "      <td>Yes</td>\n",
              "      <td>Bank transfer (automatic)</td>\n",
              "      <td>52.55</td>\n",
              "      <td></td>\n",
              "    </tr>\n",
              "    <tr>\n",
              "      <th>4169</th>\n",
              "      <td>5709-LVOEQ</td>\n",
              "      <td>No</td>\n",
              "      <td>Female</td>\n",
              "      <td>No</td>\n",
              "      <td>Yes</td>\n",
              "      <td>Yes</td>\n",
              "      <td>0</td>\n",
              "      <td>Yes</td>\n",
              "      <td>No</td>\n",
              "      <td>DSL</td>\n",
              "      <td>...</td>\n",
              "      <td>Yes</td>\n",
              "      <td>Yes</td>\n",
              "      <td>No</td>\n",
              "      <td>Yes</td>\n",
              "      <td>Yes</td>\n",
              "      <td>Two year</td>\n",
              "      <td>No</td>\n",
              "      <td>Mailed check</td>\n",
              "      <td>80.85</td>\n",
              "      <td></td>\n",
              "    </tr>\n",
              "    <tr>\n",
              "      <th>5599</th>\n",
              "      <td>7644-OMVMY</td>\n",
              "      <td>No</td>\n",
              "      <td>Male</td>\n",
              "      <td>No</td>\n",
              "      <td>Yes</td>\n",
              "      <td>Yes</td>\n",
              "      <td>0</td>\n",
              "      <td>Yes</td>\n",
              "      <td>No</td>\n",
              "      <td>No</td>\n",
              "      <td>...</td>\n",
              "      <td>No internet service</td>\n",
              "      <td>No internet service</td>\n",
              "      <td>No internet service</td>\n",
              "      <td>No internet service</td>\n",
              "      <td>No internet service</td>\n",
              "      <td>Two year</td>\n",
              "      <td>No</td>\n",
              "      <td>Mailed check</td>\n",
              "      <td>19.85</td>\n",
              "      <td></td>\n",
              "    </tr>\n",
              "  </tbody>\n",
              "</table>\n",
              "<p>11 rows × 21 columns</p>\n",
              "</div>\n",
              "      <button class=\"colab-df-convert\" onclick=\"convertToInteractive('df-2a6c8fcc-60ce-422c-8317-b153676c8570')\"\n",
              "              title=\"Convert this dataframe to an interactive table.\"\n",
              "              style=\"display:none;\">\n",
              "        \n",
              "  <svg xmlns=\"http://www.w3.org/2000/svg\" height=\"24px\"viewBox=\"0 0 24 24\"\n",
              "       width=\"24px\">\n",
              "    <path d=\"M0 0h24v24H0V0z\" fill=\"none\"/>\n",
              "    <path d=\"M18.56 5.44l.94 2.06.94-2.06 2.06-.94-2.06-.94-.94-2.06-.94 2.06-2.06.94zm-11 1L8.5 8.5l.94-2.06 2.06-.94-2.06-.94L8.5 2.5l-.94 2.06-2.06.94zm10 10l.94 2.06.94-2.06 2.06-.94-2.06-.94-.94-2.06-.94 2.06-2.06.94z\"/><path d=\"M17.41 7.96l-1.37-1.37c-.4-.4-.92-.59-1.43-.59-.52 0-1.04.2-1.43.59L10.3 9.45l-7.72 7.72c-.78.78-.78 2.05 0 2.83L4 21.41c.39.39.9.59 1.41.59.51 0 1.02-.2 1.41-.59l7.78-7.78 2.81-2.81c.8-.78.8-2.07 0-2.86zM5.41 20L4 18.59l7.72-7.72 1.47 1.35L5.41 20z\"/>\n",
              "  </svg>\n",
              "      </button>\n",
              "      \n",
              "  <style>\n",
              "    .colab-df-container {\n",
              "      display:flex;\n",
              "      flex-wrap:wrap;\n",
              "      gap: 12px;\n",
              "    }\n",
              "\n",
              "    .colab-df-convert {\n",
              "      background-color: #E8F0FE;\n",
              "      border: none;\n",
              "      border-radius: 50%;\n",
              "      cursor: pointer;\n",
              "      display: none;\n",
              "      fill: #1967D2;\n",
              "      height: 32px;\n",
              "      padding: 0 0 0 0;\n",
              "      width: 32px;\n",
              "    }\n",
              "\n",
              "    .colab-df-convert:hover {\n",
              "      background-color: #E2EBFA;\n",
              "      box-shadow: 0px 1px 2px rgba(60, 64, 67, 0.3), 0px 1px 3px 1px rgba(60, 64, 67, 0.15);\n",
              "      fill: #174EA6;\n",
              "    }\n",
              "\n",
              "    [theme=dark] .colab-df-convert {\n",
              "      background-color: #3B4455;\n",
              "      fill: #D2E3FC;\n",
              "    }\n",
              "\n",
              "    [theme=dark] .colab-df-convert:hover {\n",
              "      background-color: #434B5C;\n",
              "      box-shadow: 0px 1px 3px 1px rgba(0, 0, 0, 0.15);\n",
              "      filter: drop-shadow(0px 1px 2px rgba(0, 0, 0, 0.3));\n",
              "      fill: #FFFFFF;\n",
              "    }\n",
              "  </style>\n",
              "\n",
              "      <script>\n",
              "        const buttonEl =\n",
              "          document.querySelector('#df-2a6c8fcc-60ce-422c-8317-b153676c8570 button.colab-df-convert');\n",
              "        buttonEl.style.display =\n",
              "          google.colab.kernel.accessAllowed ? 'block' : 'none';\n",
              "\n",
              "        async function convertToInteractive(key) {\n",
              "          const element = document.querySelector('#df-2a6c8fcc-60ce-422c-8317-b153676c8570');\n",
              "          const dataTable =\n",
              "            await google.colab.kernel.invokeFunction('convertToInteractive',\n",
              "                                                     [key], {});\n",
              "          if (!dataTable) return;\n",
              "\n",
              "          const docLinkHtml = 'Like what you see? Visit the ' +\n",
              "            '<a target=\"_blank\" href=https://colab.research.google.com/notebooks/data_table.ipynb>data table notebook</a>'\n",
              "            + ' to learn more about interactive tables.';\n",
              "          element.innerHTML = '';\n",
              "          dataTable['output_type'] = 'display_data';\n",
              "          await google.colab.output.renderOutput(dataTable, element);\n",
              "          const docLink = document.createElement('div');\n",
              "          docLink.innerHTML = docLinkHtml;\n",
              "          element.appendChild(docLink);\n",
              "        }\n",
              "      </script>\n",
              "    </div>\n",
              "  </div>\n",
              "  "
            ]
          },
          "metadata": {},
          "execution_count": 306
        }
      ]
    },
    {
      "cell_type": "markdown",
      "source": [
        "Os valores em branco na coluna correspondem aos clientes que possuem 0 meses de contrato. Esses cluentes ainda não efetuaram o pagamento da sua fatura. Por conta disso, irei trocar os valores que estão vazios para 0. Assim será possível manter os dados e as análises de maneira coerente."
      ],
      "metadata": {
        "id": "h3aLXDOSNZ4n"
      }
    },
    {
      "cell_type": "code",
      "source": [
        "mapa = {' ': 0}\n",
        "\n",
        "dados_normal['Charges.Total'].replace(mapa, inplace=True)"
      ],
      "metadata": {
        "id": "robDPZz4Il5f"
      },
      "execution_count": null,
      "outputs": []
    },
    {
      "cell_type": "code",
      "source": [
        "pd.to_numeric(dados_normal['Charges.Total'])"
      ],
      "metadata": {
        "colab": {
          "base_uri": "https://localhost:8080/"
        },
        "id": "O8ylBocwN5nu",
        "outputId": "3d2d6e6a-ae94-4b99-8455-e79cf7ea837e"
      },
      "execution_count": null,
      "outputs": [
        {
          "output_type": "execute_result",
          "data": {
            "text/plain": [
              "0        593.30\n",
              "1        542.40\n",
              "2        280.85\n",
              "3       1237.85\n",
              "4        267.40\n",
              "         ...   \n",
              "7262     742.90\n",
              "7263    1873.70\n",
              "7264      92.75\n",
              "7265    4627.65\n",
              "7266    3707.60\n",
              "Name: Charges.Total, Length: 7267, dtype: float64"
            ]
          },
          "metadata": {},
          "execution_count": 308
        }
      ]
    },
    {
      "cell_type": "markdown",
      "source": [
        "Com a correção dos valores faltantes, foi possível fazer a conversão do tipo. O método utilizou o tipo `float64`, que será mantido."
      ],
      "metadata": {
        "id": "YZsyf3OKOAt_"
      }
    },
    {
      "cell_type": "markdown",
      "source": [
        "### Explorando valores Faltantes"
      ],
      "metadata": {
        "id": "BbcrKXklE94z"
      }
    },
    {
      "cell_type": "markdown",
      "source": [
        "Além das inconsistências, também há valores faltantes. Algguns já foram tratados na coluna `Charges.Total`, porém também há valores faltantes na coluna `Churn`. \n",
        "\n",
        "Como o objetivo da empresa é encontrar clientes que possam querer cancelar, essa coluna será utilizada como meta no momento da criação de modelos de machine learning. Por isso ela precisa estar com valores precisos e em conformidade.\n",
        "\n",
        "Primeiro, deve-se analisar mais profundamente os valores faltantes e tentar entender o motivo de eles existirem."
      ],
      "metadata": {
        "id": "Sod0JMaqPODb"
      }
    },
    {
      "cell_type": "code",
      "source": [
        "faltantes = dados_normal.loc[dados_normal['Churn'] == '']"
      ],
      "metadata": {
        "id": "0OMmZl128KTn"
      },
      "execution_count": null,
      "outputs": []
    },
    {
      "cell_type": "code",
      "source": [
        "faltantes"
      ],
      "metadata": {
        "colab": {
          "base_uri": "https://localhost:8080/",
          "height": 661
        },
        "id": "usR2-Gw8Q5uC",
        "outputId": "bdcc12ce-032a-4684-81d0-b402c5864f22"
      },
      "execution_count": null,
      "outputs": [
        {
          "output_type": "execute_result",
          "data": {
            "text/plain": [
              "      customerID Churn  gender SeniorCitizen Partner Dependents  tenure  \\\n",
              "30    0047-ZHDTW        Female            No      No         No      11   \n",
              "75    0120-YZLQA          Male            No      No         No      71   \n",
              "96    0154-QYHJU          Male            No      No         No      29   \n",
              "98    0162-RZGMZ        Female           Yes      No         No       5   \n",
              "175   0274-VVQOQ          Male           Yes     Yes         No      65   \n",
              "...          ...   ...     ...           ...     ...        ...     ...   \n",
              "7158  9840-GSRFX        Female            No      No         No      14   \n",
              "7180  9872-RZQQB        Female            No     Yes         No      49   \n",
              "7211  9920-GNDMB          Male            No      No         No       9   \n",
              "7239  9955-RVWSC        Female            No     Yes        Yes      67   \n",
              "7247  9966-VYRTZ        Female            No     Yes        Yes      31   \n",
              "\n",
              "     PhoneService     MultipleLines InternetService  ...         OnlineBackup  \\\n",
              "30            Yes               Yes     Fiber optic  ...                   No   \n",
              "75            Yes                No              No  ...  No internet service   \n",
              "96            Yes                No             DSL  ...                  Yes   \n",
              "98            Yes                No             DSL  ...                  Yes   \n",
              "175           Yes               Yes     Fiber optic  ...                  Yes   \n",
              "...           ...               ...             ...  ...                  ...   \n",
              "7158          Yes               Yes             DSL  ...                  Yes   \n",
              "7180           No  No phone service             DSL  ...                   No   \n",
              "7211          Yes               Yes     Fiber optic  ...                   No   \n",
              "7239          Yes                No              No  ...  No internet service   \n",
              "7247          Yes                No              No  ...  No internet service   \n",
              "\n",
              "         DeviceProtection          TechSupport          StreamingTV  \\\n",
              "30                     No                   No                   No   \n",
              "75    No internet service  No internet service  No internet service   \n",
              "96                     No                  Yes                   No   \n",
              "98                     No                  Yes                   No   \n",
              "175                   Yes                   No                  Yes   \n",
              "...                   ...                  ...                  ...   \n",
              "7158                   No                   No                   No   \n",
              "7180                   No                   No                  Yes   \n",
              "7211                   No                   No                   No   \n",
              "7239  No internet service  No internet service  No internet service   \n",
              "7247  No internet service  No internet service  No internet service   \n",
              "\n",
              "          StreamingMovies        Contract PaperlessBilling  \\\n",
              "30                     No  Month-to-month              Yes   \n",
              "75    No internet service        Two year              Yes   \n",
              "96                     No        One year              Yes   \n",
              "98                     No  Month-to-month               No   \n",
              "175                   Yes        One year              Yes   \n",
              "...                   ...             ...              ...   \n",
              "7158                   No        One year              Yes   \n",
              "7180                   No  Month-to-month               No   \n",
              "7211                   No  Month-to-month              Yes   \n",
              "7239  No internet service        Two year              Yes   \n",
              "7247  No internet service  Month-to-month              Yes   \n",
              "\n",
              "                  PaymentMethod Charges.Monthly  Charges.Total  \n",
              "30    Bank transfer (automatic)           79.00          929.3  \n",
              "75      Credit card (automatic)           19.90         1355.1  \n",
              "96             Electronic check           58.75         1696.2  \n",
              "98      Credit card (automatic)           59.90         287.85  \n",
              "175   Bank transfer (automatic)          103.15        6792.45  \n",
              "...                         ...             ...            ...  \n",
              "7158               Mailed check           54.25          773.2  \n",
              "7180  Bank transfer (automatic)           40.65        2070.75  \n",
              "7211           Electronic check           76.25         684.85  \n",
              "7239  Bank transfer (automatic)           19.25         1372.9  \n",
              "7247               Mailed check           19.55         658.95  \n",
              "\n",
              "[224 rows x 21 columns]"
            ],
            "text/html": [
              "\n",
              "  <div id=\"df-bebefff8-f9f9-4e4a-a569-bd15824557a2\">\n",
              "    <div class=\"colab-df-container\">\n",
              "      <div>\n",
              "<style scoped>\n",
              "    .dataframe tbody tr th:only-of-type {\n",
              "        vertical-align: middle;\n",
              "    }\n",
              "\n",
              "    .dataframe tbody tr th {\n",
              "        vertical-align: top;\n",
              "    }\n",
              "\n",
              "    .dataframe thead th {\n",
              "        text-align: right;\n",
              "    }\n",
              "</style>\n",
              "<table border=\"1\" class=\"dataframe\">\n",
              "  <thead>\n",
              "    <tr style=\"text-align: right;\">\n",
              "      <th></th>\n",
              "      <th>customerID</th>\n",
              "      <th>Churn</th>\n",
              "      <th>gender</th>\n",
              "      <th>SeniorCitizen</th>\n",
              "      <th>Partner</th>\n",
              "      <th>Dependents</th>\n",
              "      <th>tenure</th>\n",
              "      <th>PhoneService</th>\n",
              "      <th>MultipleLines</th>\n",
              "      <th>InternetService</th>\n",
              "      <th>...</th>\n",
              "      <th>OnlineBackup</th>\n",
              "      <th>DeviceProtection</th>\n",
              "      <th>TechSupport</th>\n",
              "      <th>StreamingTV</th>\n",
              "      <th>StreamingMovies</th>\n",
              "      <th>Contract</th>\n",
              "      <th>PaperlessBilling</th>\n",
              "      <th>PaymentMethod</th>\n",
              "      <th>Charges.Monthly</th>\n",
              "      <th>Charges.Total</th>\n",
              "    </tr>\n",
              "  </thead>\n",
              "  <tbody>\n",
              "    <tr>\n",
              "      <th>30</th>\n",
              "      <td>0047-ZHDTW</td>\n",
              "      <td></td>\n",
              "      <td>Female</td>\n",
              "      <td>No</td>\n",
              "      <td>No</td>\n",
              "      <td>No</td>\n",
              "      <td>11</td>\n",
              "      <td>Yes</td>\n",
              "      <td>Yes</td>\n",
              "      <td>Fiber optic</td>\n",
              "      <td>...</td>\n",
              "      <td>No</td>\n",
              "      <td>No</td>\n",
              "      <td>No</td>\n",
              "      <td>No</td>\n",
              "      <td>No</td>\n",
              "      <td>Month-to-month</td>\n",
              "      <td>Yes</td>\n",
              "      <td>Bank transfer (automatic)</td>\n",
              "      <td>79.00</td>\n",
              "      <td>929.3</td>\n",
              "    </tr>\n",
              "    <tr>\n",
              "      <th>75</th>\n",
              "      <td>0120-YZLQA</td>\n",
              "      <td></td>\n",
              "      <td>Male</td>\n",
              "      <td>No</td>\n",
              "      <td>No</td>\n",
              "      <td>No</td>\n",
              "      <td>71</td>\n",
              "      <td>Yes</td>\n",
              "      <td>No</td>\n",
              "      <td>No</td>\n",
              "      <td>...</td>\n",
              "      <td>No internet service</td>\n",
              "      <td>No internet service</td>\n",
              "      <td>No internet service</td>\n",
              "      <td>No internet service</td>\n",
              "      <td>No internet service</td>\n",
              "      <td>Two year</td>\n",
              "      <td>Yes</td>\n",
              "      <td>Credit card (automatic)</td>\n",
              "      <td>19.90</td>\n",
              "      <td>1355.1</td>\n",
              "    </tr>\n",
              "    <tr>\n",
              "      <th>96</th>\n",
              "      <td>0154-QYHJU</td>\n",
              "      <td></td>\n",
              "      <td>Male</td>\n",
              "      <td>No</td>\n",
              "      <td>No</td>\n",
              "      <td>No</td>\n",
              "      <td>29</td>\n",
              "      <td>Yes</td>\n",
              "      <td>No</td>\n",
              "      <td>DSL</td>\n",
              "      <td>...</td>\n",
              "      <td>Yes</td>\n",
              "      <td>No</td>\n",
              "      <td>Yes</td>\n",
              "      <td>No</td>\n",
              "      <td>No</td>\n",
              "      <td>One year</td>\n",
              "      <td>Yes</td>\n",
              "      <td>Electronic check</td>\n",
              "      <td>58.75</td>\n",
              "      <td>1696.2</td>\n",
              "    </tr>\n",
              "    <tr>\n",
              "      <th>98</th>\n",
              "      <td>0162-RZGMZ</td>\n",
              "      <td></td>\n",
              "      <td>Female</td>\n",
              "      <td>Yes</td>\n",
              "      <td>No</td>\n",
              "      <td>No</td>\n",
              "      <td>5</td>\n",
              "      <td>Yes</td>\n",
              "      <td>No</td>\n",
              "      <td>DSL</td>\n",
              "      <td>...</td>\n",
              "      <td>Yes</td>\n",
              "      <td>No</td>\n",
              "      <td>Yes</td>\n",
              "      <td>No</td>\n",
              "      <td>No</td>\n",
              "      <td>Month-to-month</td>\n",
              "      <td>No</td>\n",
              "      <td>Credit card (automatic)</td>\n",
              "      <td>59.90</td>\n",
              "      <td>287.85</td>\n",
              "    </tr>\n",
              "    <tr>\n",
              "      <th>175</th>\n",
              "      <td>0274-VVQOQ</td>\n",
              "      <td></td>\n",
              "      <td>Male</td>\n",
              "      <td>Yes</td>\n",
              "      <td>Yes</td>\n",
              "      <td>No</td>\n",
              "      <td>65</td>\n",
              "      <td>Yes</td>\n",
              "      <td>Yes</td>\n",
              "      <td>Fiber optic</td>\n",
              "      <td>...</td>\n",
              "      <td>Yes</td>\n",
              "      <td>Yes</td>\n",
              "      <td>No</td>\n",
              "      <td>Yes</td>\n",
              "      <td>Yes</td>\n",
              "      <td>One year</td>\n",
              "      <td>Yes</td>\n",
              "      <td>Bank transfer (automatic)</td>\n",
              "      <td>103.15</td>\n",
              "      <td>6792.45</td>\n",
              "    </tr>\n",
              "    <tr>\n",
              "      <th>...</th>\n",
              "      <td>...</td>\n",
              "      <td>...</td>\n",
              "      <td>...</td>\n",
              "      <td>...</td>\n",
              "      <td>...</td>\n",
              "      <td>...</td>\n",
              "      <td>...</td>\n",
              "      <td>...</td>\n",
              "      <td>...</td>\n",
              "      <td>...</td>\n",
              "      <td>...</td>\n",
              "      <td>...</td>\n",
              "      <td>...</td>\n",
              "      <td>...</td>\n",
              "      <td>...</td>\n",
              "      <td>...</td>\n",
              "      <td>...</td>\n",
              "      <td>...</td>\n",
              "      <td>...</td>\n",
              "      <td>...</td>\n",
              "      <td>...</td>\n",
              "    </tr>\n",
              "    <tr>\n",
              "      <th>7158</th>\n",
              "      <td>9840-GSRFX</td>\n",
              "      <td></td>\n",
              "      <td>Female</td>\n",
              "      <td>No</td>\n",
              "      <td>No</td>\n",
              "      <td>No</td>\n",
              "      <td>14</td>\n",
              "      <td>Yes</td>\n",
              "      <td>Yes</td>\n",
              "      <td>DSL</td>\n",
              "      <td>...</td>\n",
              "      <td>Yes</td>\n",
              "      <td>No</td>\n",
              "      <td>No</td>\n",
              "      <td>No</td>\n",
              "      <td>No</td>\n",
              "      <td>One year</td>\n",
              "      <td>Yes</td>\n",
              "      <td>Mailed check</td>\n",
              "      <td>54.25</td>\n",
              "      <td>773.2</td>\n",
              "    </tr>\n",
              "    <tr>\n",
              "      <th>7180</th>\n",
              "      <td>9872-RZQQB</td>\n",
              "      <td></td>\n",
              "      <td>Female</td>\n",
              "      <td>No</td>\n",
              "      <td>Yes</td>\n",
              "      <td>No</td>\n",
              "      <td>49</td>\n",
              "      <td>No</td>\n",
              "      <td>No phone service</td>\n",
              "      <td>DSL</td>\n",
              "      <td>...</td>\n",
              "      <td>No</td>\n",
              "      <td>No</td>\n",
              "      <td>No</td>\n",
              "      <td>Yes</td>\n",
              "      <td>No</td>\n",
              "      <td>Month-to-month</td>\n",
              "      <td>No</td>\n",
              "      <td>Bank transfer (automatic)</td>\n",
              "      <td>40.65</td>\n",
              "      <td>2070.75</td>\n",
              "    </tr>\n",
              "    <tr>\n",
              "      <th>7211</th>\n",
              "      <td>9920-GNDMB</td>\n",
              "      <td></td>\n",
              "      <td>Male</td>\n",
              "      <td>No</td>\n",
              "      <td>No</td>\n",
              "      <td>No</td>\n",
              "      <td>9</td>\n",
              "      <td>Yes</td>\n",
              "      <td>Yes</td>\n",
              "      <td>Fiber optic</td>\n",
              "      <td>...</td>\n",
              "      <td>No</td>\n",
              "      <td>No</td>\n",
              "      <td>No</td>\n",
              "      <td>No</td>\n",
              "      <td>No</td>\n",
              "      <td>Month-to-month</td>\n",
              "      <td>Yes</td>\n",
              "      <td>Electronic check</td>\n",
              "      <td>76.25</td>\n",
              "      <td>684.85</td>\n",
              "    </tr>\n",
              "    <tr>\n",
              "      <th>7239</th>\n",
              "      <td>9955-RVWSC</td>\n",
              "      <td></td>\n",
              "      <td>Female</td>\n",
              "      <td>No</td>\n",
              "      <td>Yes</td>\n",
              "      <td>Yes</td>\n",
              "      <td>67</td>\n",
              "      <td>Yes</td>\n",
              "      <td>No</td>\n",
              "      <td>No</td>\n",
              "      <td>...</td>\n",
              "      <td>No internet service</td>\n",
              "      <td>No internet service</td>\n",
              "      <td>No internet service</td>\n",
              "      <td>No internet service</td>\n",
              "      <td>No internet service</td>\n",
              "      <td>Two year</td>\n",
              "      <td>Yes</td>\n",
              "      <td>Bank transfer (automatic)</td>\n",
              "      <td>19.25</td>\n",
              "      <td>1372.9</td>\n",
              "    </tr>\n",
              "    <tr>\n",
              "      <th>7247</th>\n",
              "      <td>9966-VYRTZ</td>\n",
              "      <td></td>\n",
              "      <td>Female</td>\n",
              "      <td>No</td>\n",
              "      <td>Yes</td>\n",
              "      <td>Yes</td>\n",
              "      <td>31</td>\n",
              "      <td>Yes</td>\n",
              "      <td>No</td>\n",
              "      <td>No</td>\n",
              "      <td>...</td>\n",
              "      <td>No internet service</td>\n",
              "      <td>No internet service</td>\n",
              "      <td>No internet service</td>\n",
              "      <td>No internet service</td>\n",
              "      <td>No internet service</td>\n",
              "      <td>Month-to-month</td>\n",
              "      <td>Yes</td>\n",
              "      <td>Mailed check</td>\n",
              "      <td>19.55</td>\n",
              "      <td>658.95</td>\n",
              "    </tr>\n",
              "  </tbody>\n",
              "</table>\n",
              "<p>224 rows × 21 columns</p>\n",
              "</div>\n",
              "      <button class=\"colab-df-convert\" onclick=\"convertToInteractive('df-bebefff8-f9f9-4e4a-a569-bd15824557a2')\"\n",
              "              title=\"Convert this dataframe to an interactive table.\"\n",
              "              style=\"display:none;\">\n",
              "        \n",
              "  <svg xmlns=\"http://www.w3.org/2000/svg\" height=\"24px\"viewBox=\"0 0 24 24\"\n",
              "       width=\"24px\">\n",
              "    <path d=\"M0 0h24v24H0V0z\" fill=\"none\"/>\n",
              "    <path d=\"M18.56 5.44l.94 2.06.94-2.06 2.06-.94-2.06-.94-.94-2.06-.94 2.06-2.06.94zm-11 1L8.5 8.5l.94-2.06 2.06-.94-2.06-.94L8.5 2.5l-.94 2.06-2.06.94zm10 10l.94 2.06.94-2.06 2.06-.94-2.06-.94-.94-2.06-.94 2.06-2.06.94z\"/><path d=\"M17.41 7.96l-1.37-1.37c-.4-.4-.92-.59-1.43-.59-.52 0-1.04.2-1.43.59L10.3 9.45l-7.72 7.72c-.78.78-.78 2.05 0 2.83L4 21.41c.39.39.9.59 1.41.59.51 0 1.02-.2 1.41-.59l7.78-7.78 2.81-2.81c.8-.78.8-2.07 0-2.86zM5.41 20L4 18.59l7.72-7.72 1.47 1.35L5.41 20z\"/>\n",
              "  </svg>\n",
              "      </button>\n",
              "      \n",
              "  <style>\n",
              "    .colab-df-container {\n",
              "      display:flex;\n",
              "      flex-wrap:wrap;\n",
              "      gap: 12px;\n",
              "    }\n",
              "\n",
              "    .colab-df-convert {\n",
              "      background-color: #E8F0FE;\n",
              "      border: none;\n",
              "      border-radius: 50%;\n",
              "      cursor: pointer;\n",
              "      display: none;\n",
              "      fill: #1967D2;\n",
              "      height: 32px;\n",
              "      padding: 0 0 0 0;\n",
              "      width: 32px;\n",
              "    }\n",
              "\n",
              "    .colab-df-convert:hover {\n",
              "      background-color: #E2EBFA;\n",
              "      box-shadow: 0px 1px 2px rgba(60, 64, 67, 0.3), 0px 1px 3px 1px rgba(60, 64, 67, 0.15);\n",
              "      fill: #174EA6;\n",
              "    }\n",
              "\n",
              "    [theme=dark] .colab-df-convert {\n",
              "      background-color: #3B4455;\n",
              "      fill: #D2E3FC;\n",
              "    }\n",
              "\n",
              "    [theme=dark] .colab-df-convert:hover {\n",
              "      background-color: #434B5C;\n",
              "      box-shadow: 0px 1px 3px 1px rgba(0, 0, 0, 0.15);\n",
              "      filter: drop-shadow(0px 1px 2px rgba(0, 0, 0, 0.3));\n",
              "      fill: #FFFFFF;\n",
              "    }\n",
              "  </style>\n",
              "\n",
              "      <script>\n",
              "        const buttonEl =\n",
              "          document.querySelector('#df-bebefff8-f9f9-4e4a-a569-bd15824557a2 button.colab-df-convert');\n",
              "        buttonEl.style.display =\n",
              "          google.colab.kernel.accessAllowed ? 'block' : 'none';\n",
              "\n",
              "        async function convertToInteractive(key) {\n",
              "          const element = document.querySelector('#df-bebefff8-f9f9-4e4a-a569-bd15824557a2');\n",
              "          const dataTable =\n",
              "            await google.colab.kernel.invokeFunction('convertToInteractive',\n",
              "                                                     [key], {});\n",
              "          if (!dataTable) return;\n",
              "\n",
              "          const docLinkHtml = 'Like what you see? Visit the ' +\n",
              "            '<a target=\"_blank\" href=https://colab.research.google.com/notebooks/data_table.ipynb>data table notebook</a>'\n",
              "            + ' to learn more about interactive tables.';\n",
              "          element.innerHTML = '';\n",
              "          dataTable['output_type'] = 'display_data';\n",
              "          await google.colab.output.renderOutput(dataTable, element);\n",
              "          const docLink = document.createElement('div');\n",
              "          docLink.innerHTML = docLinkHtml;\n",
              "          element.appendChild(docLink);\n",
              "        }\n",
              "      </script>\n",
              "    </div>\n",
              "  </div>\n",
              "  "
            ]
          },
          "metadata": {},
          "execution_count": 310
        }
      ]
    },
    {
      "cell_type": "markdown",
      "source": [
        "Analisando o dataset, não há uma variável que explique a falta de informações na coluna `Churn`.\n",
        "\n",
        "De acordo com este [site](https://www.analyticsvidhya.com/blog/2021/10/handling-missing-value/), essa é uma característica de dados MCAR, ou *Missing Completely At Random* (Faltando em Completa Aleatoriedade em tradução livre). Neste caso, é possível excluir os dados do modelo, apesar de perder alguns dados importantes."
      ],
      "metadata": {
        "id": "_d0ewrTCRmTK"
      }
    },
    {
      "cell_type": "code",
      "source": [
        "dados_normal['Churn'].value_counts(normalize=True)*100"
      ],
      "metadata": {
        "colab": {
          "base_uri": "https://localhost:8080/"
        },
        "id": "6GVQqbtCQ7KI",
        "outputId": "41acc79e-b426-4db3-8116-a5c7878ee9e9"
      },
      "execution_count": null,
      "outputs": [
        {
          "output_type": "execute_result",
          "data": {
            "text/plain": [
              "No     71.198569\n",
              "Yes    25.719004\n",
              "        3.082427\n",
              "Name: Churn, dtype: float64"
            ]
          },
          "metadata": {},
          "execution_count": 311
        }
      ]
    },
    {
      "cell_type": "markdown",
      "source": [
        "Cerca de 3% dos dados estão faltantes. Para análises futuras e treinamento do modelo de machine learning, esses dados serão excluidos.\n",
        "\n",
        "Como a empresa deseja entender o comportamento das pessoas antes de ser confirmada a evasão, esses dados serão mantidos, pois podem ser utilizados em testes dos modelos de machine learning."
      ],
      "metadata": {
        "id": "KArFDssbTBzM"
      }
    },
    {
      "cell_type": "markdown",
      "source": [
        "### Considerações"
      ],
      "metadata": {
        "id": "KVht2h3KWpgB"
      }
    },
    {
      "cell_type": "markdown",
      "source": [
        "1. Não há linhas duplicadas no dataset. A colua `customerID` contém apenas valores únicos.\n",
        "\n",
        "2. A coluna `SeniorCitizen` possua valores que não estavam de acordo com o padrão, então os valores foram substitupidos.\n",
        "\n",
        "3. Para poder fazer a conversão de tipos de dados na coluna `Charges.Total`, foram necessário tratar dados em branco que não foram percebidos anteriormente. Por conta das características dos dados, os valores faltantes foram substituidos por 0.\n",
        "\n",
        "4. Os valores faltantes da coluna `Churn` serão separados dos dados finais. Não há informações suficientes para substituir os valores faltantes como 'Yes' ou 'No', porém eles podem ser úteis no momento de testes dos modelos de machine learning. "
      ],
      "metadata": {
        "id": "-x_H1O6FWr8Y"
      }
    },
    {
      "cell_type": "markdown",
      "source": [
        "Com as correções feitas, é possível realizar algumas etapas requisitadas pela empresa: traduzir as informações para o português, além de incluir uma coluna com gastos diários por cliente."
      ],
      "metadata": {
        "id": "92TirhaDd1Dy"
      }
    },
    {
      "cell_type": "markdown",
      "source": [
        "## Pedidos extras"
      ],
      "metadata": {
        "id": "oCai3V2JWSCk"
      }
    },
    {
      "cell_type": "markdown",
      "source": [
        "A empresa fez dois pedidos extras: efetuar a tradução das colunas e criar uma coluna com gastos diários por cliente.\n",
        "\n",
        "Serão traduzidos todos os dados e nomes de colunas que estão na língua inglesa. Além disso, o nome das colunas também será traduzido e seguirá uma nomenclatura padrão, coisa que não existe no momento."
      ],
      "metadata": {
        "id": "cxx0iKoeBVZR"
      }
    },
    {
      "cell_type": "markdown",
      "source": [
        "### Traduções"
      ],
      "metadata": {
        "id": "z7hsN9LdWaYi"
      }
    },
    {
      "cell_type": "markdown",
      "source": [
        "#### Nome das colunas"
      ],
      "metadata": {
        "id": "3lTgGlO4CpqO"
      }
    },
    {
      "cell_type": "markdown",
      "source": [
        "Para realizar a tradução do nome das colunas, será utilizado o método [`.rename()`](https://pandas.pydata.org/docs/reference/api/pandas.DataFrame.rename.html) do Pandas."
      ],
      "metadata": {
        "id": "cscA2KwvCsWa"
      }
    },
    {
      "cell_type": "code",
      "source": [
        "dados_normal.columns"
      ],
      "metadata": {
        "id": "1wOm4DvaWTle",
        "colab": {
          "base_uri": "https://localhost:8080/"
        },
        "outputId": "0fe88441-7846-43f1-e44e-d2435e861287"
      },
      "execution_count": null,
      "outputs": [
        {
          "output_type": "execute_result",
          "data": {
            "text/plain": [
              "Index(['customerID', 'Churn', 'gender', 'SeniorCitizen', 'Partner',\n",
              "       'Dependents', 'tenure', 'PhoneService', 'MultipleLines',\n",
              "       'InternetService', 'OnlineSecurity', 'OnlineBackup', 'DeviceProtection',\n",
              "       'TechSupport', 'StreamingTV', 'StreamingMovies', 'Contract',\n",
              "       'PaperlessBilling', 'PaymentMethod', 'Charges.Monthly',\n",
              "       'Charges.Total'],\n",
              "      dtype='object')"
            ]
          },
          "metadata": {},
          "execution_count": 312
        }
      ]
    },
    {
      "cell_type": "code",
      "source": [
        "colunas = {'customerID': 'ID_Cliente', \n",
        "           'Churn' : 'Evasao', \n",
        "           'gender': 'Genero', \n",
        "           'SeniorCitizen' : 'Eh_Idoso', \n",
        "           'Partner' : 'Tem_Parceiro',\n",
        "           'Dependents' : 'Tem_Dependentes', \n",
        "           'tenure' : 'Tempo_Contrato', \n",
        "           'PhoneService' : 'Servico_Telefone', \n",
        "           'MultipleLines' : 'Linhas_Multiplas',\n",
        "           'InternetService' : 'Servico_Internet', \n",
        "           'OnlineSecurity' : 'Adiconal_Seguranca', \n",
        "           'OnlineBackup' : 'Adicional_Backup', \n",
        "           'DeviceProtection' : 'Adiconal_Protecao',\n",
        "           'TechSupport' : 'Adicional_Suporte', \n",
        "           'StreamingTV': 'Streaming_TV', \n",
        "           'StreamingMovies': 'Streaming_Filmes', \n",
        "           'Contract': 'Tipo_Contrato',\n",
        "           'PaperlessBilling': 'Conta_Digital', \n",
        "           'PaymentMethod': 'Metodo_Pagamento', \n",
        "           'Charges.Monthly': 'Valor_Mensal',\n",
        "           'Charges.Total': 'Valor_Total'\n",
        "           }"
      ],
      "metadata": {
        "id": "cvYBfNTEDFuP"
      },
      "execution_count": null,
      "outputs": []
    },
    {
      "cell_type": "code",
      "source": [
        "dados_normal.rename(mapper = colunas, axis = 1, inplace = True)"
      ],
      "metadata": {
        "id": "rUI7-8inEO2-"
      },
      "execution_count": null,
      "outputs": []
    },
    {
      "cell_type": "markdown",
      "source": [
        "#### Dados"
      ],
      "metadata": {
        "id": "Rjme9IZFEo2U"
      }
    },
    {
      "cell_type": "markdown",
      "source": [
        "Para a tradução das colunas, será usado o método [`replace()`](https://pandas.pydata.org/docs/reference/api/pandas.DataFrame.replace.html)."
      ],
      "metadata": {
        "id": "g17MX8mcEuYl"
      }
    },
    {
      "cell_type": "code",
      "source": [
        "traducoes = {\n",
        "    'Yes': 'Sim',\n",
        "    'No': 'Não',\n",
        "    'Male': 'Masculino',\n",
        "    'Female': 'Feminino',\n",
        "    'No phone service': 'Sem serviço de telefone',\n",
        "    'No internet service': 'Sem serviço de internet',\n",
        "    'Month-to-month' : 'Mensal',\n",
        "    'Two year': 'Bianual',\n",
        "    'One year': 'Anual',\n",
        "    'Fiber optic': 'Fibra Óptica',\n",
        "    'Bank transfer (automatic)': 'Tranferência bancária (automática)',\n",
        "    'Credit card (automatic)': 'Cartão de crédito (automática)',\n",
        "    'Electronic check': 'Cheque eletrônico',\n",
        "    'Mailed check': 'Cheque',\n",
        "}"
      ],
      "metadata": {
        "id": "tncupn9BEq04"
      },
      "execution_count": null,
      "outputs": []
    },
    {
      "cell_type": "markdown",
      "source": [
        "Além de traduções diretas, algumas traduções foram simplificadas.\n",
        "\n",
        "Os métodos de pagamento incluidos não sao usuais no Brasil, o que fez a tradução ser um pouco mais complicada. O sistema de pagamentos por meio de cheque eletrônico existe no país, o que permitiu a tradução. Já o hábito de mandar cheques por correios, incluindo para pagamento de contas, não é usual. Para esse, foi deixado apenas como 'Cheque'."
      ],
      "metadata": {
        "id": "Hb9F8-sCMdm7"
      }
    },
    {
      "cell_type": "code",
      "source": [
        "dados_normal.replace(traducoes, inplace=True)"
      ],
      "metadata": {
        "id": "1_xzEFYNGbPu"
      },
      "execution_count": null,
      "outputs": []
    },
    {
      "cell_type": "code",
      "source": [
        "dados_normal.head()"
      ],
      "metadata": {
        "colab": {
          "base_uri": "https://localhost:8080/"
        },
        "id": "YbX3crYOGcSM",
        "outputId": "e901b957-d7cb-4ff7-a8f4-f06d17bd7c4a"
      },
      "execution_count": null,
      "outputs": [
        {
          "output_type": "execute_result",
          "data": {
            "text/plain": [
              "   ID_Cliente Evasao     Genero Eh_Idoso Tem_Parceiro Tem_Dependentes  \\\n",
              "0  0002-ORFBO    Não   Feminino      Não          Sim             Sim   \n",
              "1  0003-MKNFE    Não  Masculino      Não          Não             Não   \n",
              "2  0004-TLHLJ    Sim  Masculino      Não          Não             Não   \n",
              "3  0011-IGKFF    Sim  Masculino      Sim          Sim             Não   \n",
              "4  0013-EXCHZ    Sim   Feminino      Sim          Sim             Não   \n",
              "\n",
              "   Tempo_Contrato Servico_Telefone Linhas_Multiplas Servico_Internet  ...  \\\n",
              "0               9              Sim              Não              DSL  ...   \n",
              "1               9              Sim              Sim              DSL  ...   \n",
              "2               4              Sim              Não     Fibra Óptica  ...   \n",
              "3              13              Sim              Não     Fibra Óptica  ...   \n",
              "4               3              Sim              Não     Fibra Óptica  ...   \n",
              "\n",
              "  Adicional_Backup Adiconal_Protecao Adicional_Suporte Streaming_TV  \\\n",
              "0              Sim               Não               Sim          Sim   \n",
              "1              Não               Não               Não          Não   \n",
              "2              Não               Sim               Não          Não   \n",
              "3              Sim               Sim               Não          Sim   \n",
              "4              Não               Não               Sim          Sim   \n",
              "\n",
              "  Streaming_Filmes Tipo_Contrato Conta_Digital   Metodo_Pagamento  \\\n",
              "0              Não         Anual           Sim             Cheque   \n",
              "1              Sim        Mensal           Não             Cheque   \n",
              "2              Não        Mensal           Sim  Cheque eletrônico   \n",
              "3              Sim        Mensal           Sim  Cheque eletrônico   \n",
              "4              Não        Mensal           Sim             Cheque   \n",
              "\n",
              "  Valor_Mensal  Valor_Total  \n",
              "0         65.6        593.3  \n",
              "1         59.9        542.4  \n",
              "2         73.9       280.85  \n",
              "3         98.0      1237.85  \n",
              "4         83.9        267.4  \n",
              "\n",
              "[5 rows x 21 columns]"
            ],
            "text/html": [
              "\n",
              "  <div id=\"df-ca48afc9-1e9a-4ed1-b855-795b048d6e15\">\n",
              "    <div class=\"colab-df-container\">\n",
              "      <div>\n",
              "<style scoped>\n",
              "    .dataframe tbody tr th:only-of-type {\n",
              "        vertical-align: middle;\n",
              "    }\n",
              "\n",
              "    .dataframe tbody tr th {\n",
              "        vertical-align: top;\n",
              "    }\n",
              "\n",
              "    .dataframe thead th {\n",
              "        text-align: right;\n",
              "    }\n",
              "</style>\n",
              "<table border=\"1\" class=\"dataframe\">\n",
              "  <thead>\n",
              "    <tr style=\"text-align: right;\">\n",
              "      <th></th>\n",
              "      <th>ID_Cliente</th>\n",
              "      <th>Evasao</th>\n",
              "      <th>Genero</th>\n",
              "      <th>Eh_Idoso</th>\n",
              "      <th>Tem_Parceiro</th>\n",
              "      <th>Tem_Dependentes</th>\n",
              "      <th>Tempo_Contrato</th>\n",
              "      <th>Servico_Telefone</th>\n",
              "      <th>Linhas_Multiplas</th>\n",
              "      <th>Servico_Internet</th>\n",
              "      <th>...</th>\n",
              "      <th>Adicional_Backup</th>\n",
              "      <th>Adiconal_Protecao</th>\n",
              "      <th>Adicional_Suporte</th>\n",
              "      <th>Streaming_TV</th>\n",
              "      <th>Streaming_Filmes</th>\n",
              "      <th>Tipo_Contrato</th>\n",
              "      <th>Conta_Digital</th>\n",
              "      <th>Metodo_Pagamento</th>\n",
              "      <th>Valor_Mensal</th>\n",
              "      <th>Valor_Total</th>\n",
              "    </tr>\n",
              "  </thead>\n",
              "  <tbody>\n",
              "    <tr>\n",
              "      <th>0</th>\n",
              "      <td>0002-ORFBO</td>\n",
              "      <td>Não</td>\n",
              "      <td>Feminino</td>\n",
              "      <td>Não</td>\n",
              "      <td>Sim</td>\n",
              "      <td>Sim</td>\n",
              "      <td>9</td>\n",
              "      <td>Sim</td>\n",
              "      <td>Não</td>\n",
              "      <td>DSL</td>\n",
              "      <td>...</td>\n",
              "      <td>Sim</td>\n",
              "      <td>Não</td>\n",
              "      <td>Sim</td>\n",
              "      <td>Sim</td>\n",
              "      <td>Não</td>\n",
              "      <td>Anual</td>\n",
              "      <td>Sim</td>\n",
              "      <td>Cheque</td>\n",
              "      <td>65.6</td>\n",
              "      <td>593.3</td>\n",
              "    </tr>\n",
              "    <tr>\n",
              "      <th>1</th>\n",
              "      <td>0003-MKNFE</td>\n",
              "      <td>Não</td>\n",
              "      <td>Masculino</td>\n",
              "      <td>Não</td>\n",
              "      <td>Não</td>\n",
              "      <td>Não</td>\n",
              "      <td>9</td>\n",
              "      <td>Sim</td>\n",
              "      <td>Sim</td>\n",
              "      <td>DSL</td>\n",
              "      <td>...</td>\n",
              "      <td>Não</td>\n",
              "      <td>Não</td>\n",
              "      <td>Não</td>\n",
              "      <td>Não</td>\n",
              "      <td>Sim</td>\n",
              "      <td>Mensal</td>\n",
              "      <td>Não</td>\n",
              "      <td>Cheque</td>\n",
              "      <td>59.9</td>\n",
              "      <td>542.4</td>\n",
              "    </tr>\n",
              "    <tr>\n",
              "      <th>2</th>\n",
              "      <td>0004-TLHLJ</td>\n",
              "      <td>Sim</td>\n",
              "      <td>Masculino</td>\n",
              "      <td>Não</td>\n",
              "      <td>Não</td>\n",
              "      <td>Não</td>\n",
              "      <td>4</td>\n",
              "      <td>Sim</td>\n",
              "      <td>Não</td>\n",
              "      <td>Fibra Óptica</td>\n",
              "      <td>...</td>\n",
              "      <td>Não</td>\n",
              "      <td>Sim</td>\n",
              "      <td>Não</td>\n",
              "      <td>Não</td>\n",
              "      <td>Não</td>\n",
              "      <td>Mensal</td>\n",
              "      <td>Sim</td>\n",
              "      <td>Cheque eletrônico</td>\n",
              "      <td>73.9</td>\n",
              "      <td>280.85</td>\n",
              "    </tr>\n",
              "    <tr>\n",
              "      <th>3</th>\n",
              "      <td>0011-IGKFF</td>\n",
              "      <td>Sim</td>\n",
              "      <td>Masculino</td>\n",
              "      <td>Sim</td>\n",
              "      <td>Sim</td>\n",
              "      <td>Não</td>\n",
              "      <td>13</td>\n",
              "      <td>Sim</td>\n",
              "      <td>Não</td>\n",
              "      <td>Fibra Óptica</td>\n",
              "      <td>...</td>\n",
              "      <td>Sim</td>\n",
              "      <td>Sim</td>\n",
              "      <td>Não</td>\n",
              "      <td>Sim</td>\n",
              "      <td>Sim</td>\n",
              "      <td>Mensal</td>\n",
              "      <td>Sim</td>\n",
              "      <td>Cheque eletrônico</td>\n",
              "      <td>98.0</td>\n",
              "      <td>1237.85</td>\n",
              "    </tr>\n",
              "    <tr>\n",
              "      <th>4</th>\n",
              "      <td>0013-EXCHZ</td>\n",
              "      <td>Sim</td>\n",
              "      <td>Feminino</td>\n",
              "      <td>Sim</td>\n",
              "      <td>Sim</td>\n",
              "      <td>Não</td>\n",
              "      <td>3</td>\n",
              "      <td>Sim</td>\n",
              "      <td>Não</td>\n",
              "      <td>Fibra Óptica</td>\n",
              "      <td>...</td>\n",
              "      <td>Não</td>\n",
              "      <td>Não</td>\n",
              "      <td>Sim</td>\n",
              "      <td>Sim</td>\n",
              "      <td>Não</td>\n",
              "      <td>Mensal</td>\n",
              "      <td>Sim</td>\n",
              "      <td>Cheque</td>\n",
              "      <td>83.9</td>\n",
              "      <td>267.4</td>\n",
              "    </tr>\n",
              "  </tbody>\n",
              "</table>\n",
              "<p>5 rows × 21 columns</p>\n",
              "</div>\n",
              "      <button class=\"colab-df-convert\" onclick=\"convertToInteractive('df-ca48afc9-1e9a-4ed1-b855-795b048d6e15')\"\n",
              "              title=\"Convert this dataframe to an interactive table.\"\n",
              "              style=\"display:none;\">\n",
              "        \n",
              "  <svg xmlns=\"http://www.w3.org/2000/svg\" height=\"24px\"viewBox=\"0 0 24 24\"\n",
              "       width=\"24px\">\n",
              "    <path d=\"M0 0h24v24H0V0z\" fill=\"none\"/>\n",
              "    <path d=\"M18.56 5.44l.94 2.06.94-2.06 2.06-.94-2.06-.94-.94-2.06-.94 2.06-2.06.94zm-11 1L8.5 8.5l.94-2.06 2.06-.94-2.06-.94L8.5 2.5l-.94 2.06-2.06.94zm10 10l.94 2.06.94-2.06 2.06-.94-2.06-.94-.94-2.06-.94 2.06-2.06.94z\"/><path d=\"M17.41 7.96l-1.37-1.37c-.4-.4-.92-.59-1.43-.59-.52 0-1.04.2-1.43.59L10.3 9.45l-7.72 7.72c-.78.78-.78 2.05 0 2.83L4 21.41c.39.39.9.59 1.41.59.51 0 1.02-.2 1.41-.59l7.78-7.78 2.81-2.81c.8-.78.8-2.07 0-2.86zM5.41 20L4 18.59l7.72-7.72 1.47 1.35L5.41 20z\"/>\n",
              "  </svg>\n",
              "      </button>\n",
              "      \n",
              "  <style>\n",
              "    .colab-df-container {\n",
              "      display:flex;\n",
              "      flex-wrap:wrap;\n",
              "      gap: 12px;\n",
              "    }\n",
              "\n",
              "    .colab-df-convert {\n",
              "      background-color: #E8F0FE;\n",
              "      border: none;\n",
              "      border-radius: 50%;\n",
              "      cursor: pointer;\n",
              "      display: none;\n",
              "      fill: #1967D2;\n",
              "      height: 32px;\n",
              "      padding: 0 0 0 0;\n",
              "      width: 32px;\n",
              "    }\n",
              "\n",
              "    .colab-df-convert:hover {\n",
              "      background-color: #E2EBFA;\n",
              "      box-shadow: 0px 1px 2px rgba(60, 64, 67, 0.3), 0px 1px 3px 1px rgba(60, 64, 67, 0.15);\n",
              "      fill: #174EA6;\n",
              "    }\n",
              "\n",
              "    [theme=dark] .colab-df-convert {\n",
              "      background-color: #3B4455;\n",
              "      fill: #D2E3FC;\n",
              "    }\n",
              "\n",
              "    [theme=dark] .colab-df-convert:hover {\n",
              "      background-color: #434B5C;\n",
              "      box-shadow: 0px 1px 3px 1px rgba(0, 0, 0, 0.15);\n",
              "      filter: drop-shadow(0px 1px 2px rgba(0, 0, 0, 0.3));\n",
              "      fill: #FFFFFF;\n",
              "    }\n",
              "  </style>\n",
              "\n",
              "      <script>\n",
              "        const buttonEl =\n",
              "          document.querySelector('#df-ca48afc9-1e9a-4ed1-b855-795b048d6e15 button.colab-df-convert');\n",
              "        buttonEl.style.display =\n",
              "          google.colab.kernel.accessAllowed ? 'block' : 'none';\n",
              "\n",
              "        async function convertToInteractive(key) {\n",
              "          const element = document.querySelector('#df-ca48afc9-1e9a-4ed1-b855-795b048d6e15');\n",
              "          const dataTable =\n",
              "            await google.colab.kernel.invokeFunction('convertToInteractive',\n",
              "                                                     [key], {});\n",
              "          if (!dataTable) return;\n",
              "\n",
              "          const docLinkHtml = 'Like what you see? Visit the ' +\n",
              "            '<a target=\"_blank\" href=https://colab.research.google.com/notebooks/data_table.ipynb>data table notebook</a>'\n",
              "            + ' to learn more about interactive tables.';\n",
              "          element.innerHTML = '';\n",
              "          dataTable['output_type'] = 'display_data';\n",
              "          await google.colab.output.renderOutput(dataTable, element);\n",
              "          const docLink = document.createElement('div');\n",
              "          docLink.innerHTML = docLinkHtml;\n",
              "          element.appendChild(docLink);\n",
              "        }\n",
              "      </script>\n",
              "    </div>\n",
              "  </div>\n",
              "  "
            ]
          },
          "metadata": {},
          "execution_count": 317
        }
      ]
    },
    {
      "cell_type": "markdown",
      "source": [
        "Para confirmar que os dados não sofreram nemhum erro, a função declarada no momento de análise de colunas será usada novamente, dessa vez dentro de um loop."
      ],
      "metadata": {
        "id": "2CkmM4DwOLFe"
      }
    },
    {
      "cell_type": "code",
      "source": [
        "for coluna in dados_normal.columns:\n",
        "    print(coluna)\n",
        "    analisa_coluna(coluna)"
      ],
      "metadata": {
        "colab": {
          "base_uri": "https://localhost:8080/"
        },
        "id": "WbzPbp72OHZj",
        "outputId": "27df7a77-0d04-47ce-b65a-91bc7e37754b"
      },
      "execution_count": null,
      "outputs": [
        {
          "output_type": "stream",
          "name": "stdout",
          "text": [
            "ID_Cliente\n",
            "Valores únicos:\n",
            "['0002-ORFBO' '0003-MKNFE' '0004-TLHLJ' ... '9992-UJOEL' '9993-LHIEB'\n",
            " '9995-HOTOH']\n",
            "----------------\n",
            "Contagem de valores:\n",
            "0002-ORFBO    1\n",
            "6614-VBEGU    1\n",
            "6637-KYRCV    1\n",
            "6635-MYYYZ    1\n",
            "6635-CPNUN    1\n",
            "             ..\n",
            "3374-TTZTK    1\n",
            "3374-PZLXD    1\n",
            "3374-LXDEV    1\n",
            "3373-YZZYM    1\n",
            "9995-HOTOH    1\n",
            "Name: ID_Cliente, Length: 7267, dtype: int64\n",
            "----------------\n",
            "Tipo da coluna:\n",
            "object\n",
            "----------------\n",
            "Evasao\n",
            "Valores únicos:\n",
            "['Não' 'Sim' '']\n",
            "----------------\n",
            "Contagem de valores:\n",
            "Não    5174\n",
            "Sim    1869\n",
            "        224\n",
            "Name: Evasao, dtype: int64\n",
            "----------------\n",
            "Tipo da coluna:\n",
            "object\n",
            "----------------\n",
            "Genero\n",
            "Valores únicos:\n",
            "['Feminino' 'Masculino']\n",
            "----------------\n",
            "Contagem de valores:\n",
            "Masculino    3675\n",
            "Feminino     3592\n",
            "Name: Genero, dtype: int64\n",
            "----------------\n",
            "Tipo da coluna:\n",
            "object\n",
            "----------------\n",
            "Eh_Idoso\n",
            "Valores únicos:\n",
            "['Não' 'Sim']\n",
            "----------------\n",
            "Contagem de valores:\n",
            "Não    6085\n",
            "Sim    1182\n",
            "Name: Eh_Idoso, dtype: int64\n",
            "----------------\n",
            "Tipo da coluna:\n",
            "object\n",
            "----------------\n",
            "Tem_Parceiro\n",
            "Valores únicos:\n",
            "['Sim' 'Não']\n",
            "----------------\n",
            "Contagem de valores:\n",
            "Não    3749\n",
            "Sim    3518\n",
            "Name: Tem_Parceiro, dtype: int64\n",
            "----------------\n",
            "Tipo da coluna:\n",
            "object\n",
            "----------------\n",
            "Tem_Dependentes\n",
            "Valores únicos:\n",
            "['Sim' 'Não']\n",
            "----------------\n",
            "Contagem de valores:\n",
            "Não    5086\n",
            "Sim    2181\n",
            "Name: Tem_Dependentes, dtype: int64\n",
            "----------------\n",
            "Tipo da coluna:\n",
            "object\n",
            "----------------\n",
            "Tempo_Contrato\n",
            "Valores únicos:\n",
            "[ 9  4 13  3 71 63  7 65 54 72  5 56 34  1 45 50 23 55 26 69 11 37 49 66\n",
            " 67 20 43 59 12 27  2 25 29 14 35 64 39 40  6 30 70 57 58 16 32 33 10 21\n",
            " 61 15 44 22 24 19 47 62 46 52  8 60 48 28 41 53 68 51 31 36 17 18 38 42\n",
            "  0]\n",
            "----------------\n",
            "Contagem de valores:\n",
            "1     634\n",
            "72    369\n",
            "2     246\n",
            "3     207\n",
            "4     185\n",
            "     ... \n",
            "38     60\n",
            "39     59\n",
            "44     54\n",
            "36     50\n",
            "0      11\n",
            "Name: Tempo_Contrato, Length: 73, dtype: int64\n",
            "----------------\n",
            "Tipo da coluna:\n",
            "int64\n",
            "----------------\n",
            "Servico_Telefone\n",
            "Valores únicos:\n",
            "['Sim' 'Não']\n",
            "----------------\n",
            "Contagem de valores:\n",
            "Sim    6560\n",
            "Não     707\n",
            "Name: Servico_Telefone, dtype: int64\n",
            "----------------\n",
            "Tipo da coluna:\n",
            "object\n",
            "----------------\n",
            "Linhas_Multiplas\n",
            "Valores únicos:\n",
            "['Não' 'Sim' 'Sem serviço de telefone']\n",
            "----------------\n",
            "Contagem de valores:\n",
            "Não                        3495\n",
            "Sim                        3065\n",
            "Sem serviço de telefone     707\n",
            "Name: Linhas_Multiplas, dtype: int64\n",
            "----------------\n",
            "Tipo da coluna:\n",
            "object\n",
            "----------------\n",
            "Servico_Internet\n",
            "Valores únicos:\n",
            "['DSL' 'Fibra Óptica' 'Não']\n",
            "----------------\n",
            "Contagem de valores:\n",
            "Fibra Óptica    3198\n",
            "DSL             2488\n",
            "Não             1581\n",
            "Name: Servico_Internet, dtype: int64\n",
            "----------------\n",
            "Tipo da coluna:\n",
            "object\n",
            "----------------\n",
            "Adiconal_Seguranca\n",
            "Valores únicos:\n",
            "['Não' 'Sim' 'Sem serviço de internet']\n",
            "----------------\n",
            "Contagem de valores:\n",
            "Não                        3608\n",
            "Sim                        2078\n",
            "Sem serviço de internet    1581\n",
            "Name: Adiconal_Seguranca, dtype: int64\n",
            "----------------\n",
            "Tipo da coluna:\n",
            "object\n",
            "----------------\n",
            "Adicional_Backup\n",
            "Valores únicos:\n",
            "['Sim' 'Não' 'Sem serviço de internet']\n",
            "----------------\n",
            "Contagem de valores:\n",
            "Não                        3182\n",
            "Sim                        2504\n",
            "Sem serviço de internet    1581\n",
            "Name: Adicional_Backup, dtype: int64\n",
            "----------------\n",
            "Tipo da coluna:\n",
            "object\n",
            "----------------\n",
            "Adiconal_Protecao\n",
            "Valores únicos:\n",
            "['Não' 'Sim' 'Sem serviço de internet']\n",
            "----------------\n",
            "Contagem de valores:\n",
            "Não                        3195\n",
            "Sim                        2491\n",
            "Sem serviço de internet    1581\n",
            "Name: Adiconal_Protecao, dtype: int64\n",
            "----------------\n",
            "Tipo da coluna:\n",
            "object\n",
            "----------------\n",
            "Adicional_Suporte\n",
            "Valores únicos:\n",
            "['Sim' 'Não' 'Sem serviço de internet']\n",
            "----------------\n",
            "Contagem de valores:\n",
            "Não                        3582\n",
            "Sim                        2104\n",
            "Sem serviço de internet    1581\n",
            "Name: Adicional_Suporte, dtype: int64\n",
            "----------------\n",
            "Tipo da coluna:\n",
            "object\n",
            "----------------\n",
            "Streaming_TV\n",
            "Valores únicos:\n",
            "['Sim' 'Não' 'Sem serviço de internet']\n",
            "----------------\n",
            "Contagem de valores:\n",
            "Não                        2896\n",
            "Sim                        2790\n",
            "Sem serviço de internet    1581\n",
            "Name: Streaming_TV, dtype: int64\n",
            "----------------\n",
            "Tipo da coluna:\n",
            "object\n",
            "----------------\n",
            "Streaming_Filmes\n",
            "Valores únicos:\n",
            "['Não' 'Sim' 'Sem serviço de internet']\n",
            "----------------\n",
            "Contagem de valores:\n",
            "Não                        2870\n",
            "Sim                        2816\n",
            "Sem serviço de internet    1581\n",
            "Name: Streaming_Filmes, dtype: int64\n",
            "----------------\n",
            "Tipo da coluna:\n",
            "object\n",
            "----------------\n",
            "Tipo_Contrato\n",
            "Valores únicos:\n",
            "['Anual' 'Mensal' 'Bianual']\n",
            "----------------\n",
            "Contagem de valores:\n",
            "Mensal     4005\n",
            "Bianual    1743\n",
            "Anual      1519\n",
            "Name: Tipo_Contrato, dtype: int64\n",
            "----------------\n",
            "Tipo da coluna:\n",
            "object\n",
            "----------------\n",
            "Conta_Digital\n",
            "Valores únicos:\n",
            "['Sim' 'Não']\n",
            "----------------\n",
            "Contagem de valores:\n",
            "Sim    4311\n",
            "Não    2956\n",
            "Name: Conta_Digital, dtype: int64\n",
            "----------------\n",
            "Tipo da coluna:\n",
            "object\n",
            "----------------\n",
            "Metodo_Pagamento\n",
            "Valores únicos:\n",
            "['Cheque' 'Cheque eletrônico' 'Cartão de crédito (automática)'\n",
            " 'Tranferência bancária (automática)']\n",
            "----------------\n",
            "Contagem de valores:\n",
            "Cheque eletrônico                     2445\n",
            "Cheque                                1665\n",
            "Tranferência bancária (automática)    1589\n",
            "Cartão de crédito (automática)        1568\n",
            "Name: Metodo_Pagamento, dtype: int64\n",
            "----------------\n",
            "Tipo da coluna:\n",
            "object\n",
            "----------------\n",
            "Valor_Mensal\n",
            "Valores únicos:\n",
            "[65.6  59.9  73.9  ... 91.75 68.8  67.85]\n",
            "----------------\n",
            "Contagem de valores:\n",
            "20.05     65\n",
            "19.85     46\n",
            "19.90     46\n",
            "19.70     45\n",
            "19.55     45\n",
            "          ..\n",
            "23.45      1\n",
            "116.55     1\n",
            "106.85     1\n",
            "68.55      1\n",
            "67.85      1\n",
            "Name: Valor_Mensal, Length: 1585, dtype: int64\n",
            "----------------\n",
            "Tipo da coluna:\n",
            "float64\n",
            "----------------\n",
            "Valor_Total\n",
            "Valores únicos:\n",
            "['593.3' '542.4' '280.85' ... '742.9' '4627.65' '3707.6']\n",
            "----------------\n",
            "Contagem de valores:\n",
            "0          11\n",
            "20.2       11\n",
            "19.75       9\n",
            "19.55       9\n",
            "19.9        9\n",
            "           ..\n",
            "272         1\n",
            "1426.45     1\n",
            "371.6       1\n",
            "6786.4      1\n",
            "3707.6      1\n",
            "Name: Valor_Total, Length: 6531, dtype: int64\n",
            "----------------\n",
            "Tipo da coluna:\n",
            "object\n",
            "----------------\n"
          ]
        }
      ]
    },
    {
      "cell_type": "markdown",
      "source": [
        "Conferindo os valores únicos, percebe-se que a tradução foi bem sucedida. Pode-se então ser criada a coluna extra com dados de gastos por dia por cliente."
      ],
      "metadata": {
        "id": "_upO2-NlPyxw"
      }
    },
    {
      "cell_type": "markdown",
      "source": [
        "### Coluna `Valor_Dia`"
      ],
      "metadata": {
        "id": "ViLjpg82QVUG"
      }
    },
    {
      "cell_type": "markdown",
      "source": [
        "Para a criação da coluna, será utilizada a coluna `Valor_Mensal`.\n",
        "\n",
        "Em média um mês contém 30 dias e 9 horas. Por isso, o valor da coluna `Valor_Mensal` será dividido por 30. Como padrão, o valor será arredondado para que ele fique com apenas 2 casas decimais, assim como os outros valores financeiros contidos nos dados.\n",
        "\n",
        "Em um primeiro momento, a coluna nova foi incluida no final do DataFrame. Apesar de funcionar, a empresa requisitou que esta coluna fosse incluida na posição 18. Por isso, alterei um pouco o código para ser possível utilizar o método [`.insert()`](https://pandas.pydata.org/pandas-docs/stable/reference/api/pandas.DataFrame.insert.html).\n",
        "\n",
        "Primeiramente, será criada uma série do Pandas com os valores, para que depois seja usada como argumento do método de inserção de coluna."
      ],
      "metadata": {
        "id": "Vrmgh4ooQeDN"
      }
    },
    {
      "cell_type": "code",
      "source": [
        "valor_dia = round(dados_normal['Valor_Mensal']/30, 2)"
      ],
      "metadata": {
        "id": "D1RwNq0jQZzk"
      },
      "execution_count": null,
      "outputs": []
    },
    {
      "cell_type": "code",
      "source": [
        "dados_normal.insert(17,'Valor_Dia', valor_dia)"
      ],
      "metadata": {
        "id": "jdC67Bw7TD4q"
      },
      "execution_count": null,
      "outputs": []
    },
    {
      "cell_type": "code",
      "source": [
        "dados_normal.head()"
      ],
      "metadata": {
        "colab": {
          "base_uri": "https://localhost:8080/",
          "height": 369
        },
        "id": "7Lqh-yseU33e",
        "outputId": "d252e6f0-00da-459d-b403-7712c13df1f5"
      },
      "execution_count": null,
      "outputs": [
        {
          "output_type": "execute_result",
          "data": {
            "text/plain": [
              "   ID_Cliente Evasao     Genero Eh_Idoso Tem_Parceiro Tem_Dependentes  \\\n",
              "0  0002-ORFBO    Não   Feminino      Não          Sim             Sim   \n",
              "1  0003-MKNFE    Não  Masculino      Não          Não             Não   \n",
              "2  0004-TLHLJ    Sim  Masculino      Não          Não             Não   \n",
              "3  0011-IGKFF    Sim  Masculino      Sim          Sim             Não   \n",
              "4  0013-EXCHZ    Sim   Feminino      Sim          Sim             Não   \n",
              "\n",
              "   Tempo_Contrato Servico_Telefone Linhas_Multiplas Servico_Internet  ...  \\\n",
              "0               9              Sim              Não              DSL  ...   \n",
              "1               9              Sim              Sim              DSL  ...   \n",
              "2               4              Sim              Não     Fibra Óptica  ...   \n",
              "3              13              Sim              Não     Fibra Óptica  ...   \n",
              "4               3              Sim              Não     Fibra Óptica  ...   \n",
              "\n",
              "  Adiconal_Protecao Adicional_Suporte Streaming_TV Streaming_Filmes  \\\n",
              "0               Não               Sim          Sim              Não   \n",
              "1               Não               Não          Não              Sim   \n",
              "2               Sim               Não          Não              Não   \n",
              "3               Sim               Não          Sim              Sim   \n",
              "4               Não               Sim          Sim              Não   \n",
              "\n",
              "  Tipo_Contrato Valor_Dia Conta_Digital   Metodo_Pagamento Valor_Mensal  \\\n",
              "0         Anual      2.19           Sim             Cheque         65.6   \n",
              "1        Mensal      2.00           Não             Cheque         59.9   \n",
              "2        Mensal      2.46           Sim  Cheque eletrônico         73.9   \n",
              "3        Mensal      3.27           Sim  Cheque eletrônico         98.0   \n",
              "4        Mensal      2.80           Sim             Cheque         83.9   \n",
              "\n",
              "  Valor_Total  \n",
              "0       593.3  \n",
              "1       542.4  \n",
              "2      280.85  \n",
              "3     1237.85  \n",
              "4       267.4  \n",
              "\n",
              "[5 rows x 22 columns]"
            ],
            "text/html": [
              "\n",
              "  <div id=\"df-b30a8f72-7b30-4160-ae20-a45f8c37067a\">\n",
              "    <div class=\"colab-df-container\">\n",
              "      <div>\n",
              "<style scoped>\n",
              "    .dataframe tbody tr th:only-of-type {\n",
              "        vertical-align: middle;\n",
              "    }\n",
              "\n",
              "    .dataframe tbody tr th {\n",
              "        vertical-align: top;\n",
              "    }\n",
              "\n",
              "    .dataframe thead th {\n",
              "        text-align: right;\n",
              "    }\n",
              "</style>\n",
              "<table border=\"1\" class=\"dataframe\">\n",
              "  <thead>\n",
              "    <tr style=\"text-align: right;\">\n",
              "      <th></th>\n",
              "      <th>ID_Cliente</th>\n",
              "      <th>Evasao</th>\n",
              "      <th>Genero</th>\n",
              "      <th>Eh_Idoso</th>\n",
              "      <th>Tem_Parceiro</th>\n",
              "      <th>Tem_Dependentes</th>\n",
              "      <th>Tempo_Contrato</th>\n",
              "      <th>Servico_Telefone</th>\n",
              "      <th>Linhas_Multiplas</th>\n",
              "      <th>Servico_Internet</th>\n",
              "      <th>...</th>\n",
              "      <th>Adiconal_Protecao</th>\n",
              "      <th>Adicional_Suporte</th>\n",
              "      <th>Streaming_TV</th>\n",
              "      <th>Streaming_Filmes</th>\n",
              "      <th>Tipo_Contrato</th>\n",
              "      <th>Valor_Dia</th>\n",
              "      <th>Conta_Digital</th>\n",
              "      <th>Metodo_Pagamento</th>\n",
              "      <th>Valor_Mensal</th>\n",
              "      <th>Valor_Total</th>\n",
              "    </tr>\n",
              "  </thead>\n",
              "  <tbody>\n",
              "    <tr>\n",
              "      <th>0</th>\n",
              "      <td>0002-ORFBO</td>\n",
              "      <td>Não</td>\n",
              "      <td>Feminino</td>\n",
              "      <td>Não</td>\n",
              "      <td>Sim</td>\n",
              "      <td>Sim</td>\n",
              "      <td>9</td>\n",
              "      <td>Sim</td>\n",
              "      <td>Não</td>\n",
              "      <td>DSL</td>\n",
              "      <td>...</td>\n",
              "      <td>Não</td>\n",
              "      <td>Sim</td>\n",
              "      <td>Sim</td>\n",
              "      <td>Não</td>\n",
              "      <td>Anual</td>\n",
              "      <td>2.19</td>\n",
              "      <td>Sim</td>\n",
              "      <td>Cheque</td>\n",
              "      <td>65.6</td>\n",
              "      <td>593.3</td>\n",
              "    </tr>\n",
              "    <tr>\n",
              "      <th>1</th>\n",
              "      <td>0003-MKNFE</td>\n",
              "      <td>Não</td>\n",
              "      <td>Masculino</td>\n",
              "      <td>Não</td>\n",
              "      <td>Não</td>\n",
              "      <td>Não</td>\n",
              "      <td>9</td>\n",
              "      <td>Sim</td>\n",
              "      <td>Sim</td>\n",
              "      <td>DSL</td>\n",
              "      <td>...</td>\n",
              "      <td>Não</td>\n",
              "      <td>Não</td>\n",
              "      <td>Não</td>\n",
              "      <td>Sim</td>\n",
              "      <td>Mensal</td>\n",
              "      <td>2.00</td>\n",
              "      <td>Não</td>\n",
              "      <td>Cheque</td>\n",
              "      <td>59.9</td>\n",
              "      <td>542.4</td>\n",
              "    </tr>\n",
              "    <tr>\n",
              "      <th>2</th>\n",
              "      <td>0004-TLHLJ</td>\n",
              "      <td>Sim</td>\n",
              "      <td>Masculino</td>\n",
              "      <td>Não</td>\n",
              "      <td>Não</td>\n",
              "      <td>Não</td>\n",
              "      <td>4</td>\n",
              "      <td>Sim</td>\n",
              "      <td>Não</td>\n",
              "      <td>Fibra Óptica</td>\n",
              "      <td>...</td>\n",
              "      <td>Sim</td>\n",
              "      <td>Não</td>\n",
              "      <td>Não</td>\n",
              "      <td>Não</td>\n",
              "      <td>Mensal</td>\n",
              "      <td>2.46</td>\n",
              "      <td>Sim</td>\n",
              "      <td>Cheque eletrônico</td>\n",
              "      <td>73.9</td>\n",
              "      <td>280.85</td>\n",
              "    </tr>\n",
              "    <tr>\n",
              "      <th>3</th>\n",
              "      <td>0011-IGKFF</td>\n",
              "      <td>Sim</td>\n",
              "      <td>Masculino</td>\n",
              "      <td>Sim</td>\n",
              "      <td>Sim</td>\n",
              "      <td>Não</td>\n",
              "      <td>13</td>\n",
              "      <td>Sim</td>\n",
              "      <td>Não</td>\n",
              "      <td>Fibra Óptica</td>\n",
              "      <td>...</td>\n",
              "      <td>Sim</td>\n",
              "      <td>Não</td>\n",
              "      <td>Sim</td>\n",
              "      <td>Sim</td>\n",
              "      <td>Mensal</td>\n",
              "      <td>3.27</td>\n",
              "      <td>Sim</td>\n",
              "      <td>Cheque eletrônico</td>\n",
              "      <td>98.0</td>\n",
              "      <td>1237.85</td>\n",
              "    </tr>\n",
              "    <tr>\n",
              "      <th>4</th>\n",
              "      <td>0013-EXCHZ</td>\n",
              "      <td>Sim</td>\n",
              "      <td>Feminino</td>\n",
              "      <td>Sim</td>\n",
              "      <td>Sim</td>\n",
              "      <td>Não</td>\n",
              "      <td>3</td>\n",
              "      <td>Sim</td>\n",
              "      <td>Não</td>\n",
              "      <td>Fibra Óptica</td>\n",
              "      <td>...</td>\n",
              "      <td>Não</td>\n",
              "      <td>Sim</td>\n",
              "      <td>Sim</td>\n",
              "      <td>Não</td>\n",
              "      <td>Mensal</td>\n",
              "      <td>2.80</td>\n",
              "      <td>Sim</td>\n",
              "      <td>Cheque</td>\n",
              "      <td>83.9</td>\n",
              "      <td>267.4</td>\n",
              "    </tr>\n",
              "  </tbody>\n",
              "</table>\n",
              "<p>5 rows × 22 columns</p>\n",
              "</div>\n",
              "      <button class=\"colab-df-convert\" onclick=\"convertToInteractive('df-b30a8f72-7b30-4160-ae20-a45f8c37067a')\"\n",
              "              title=\"Convert this dataframe to an interactive table.\"\n",
              "              style=\"display:none;\">\n",
              "        \n",
              "  <svg xmlns=\"http://www.w3.org/2000/svg\" height=\"24px\"viewBox=\"0 0 24 24\"\n",
              "       width=\"24px\">\n",
              "    <path d=\"M0 0h24v24H0V0z\" fill=\"none\"/>\n",
              "    <path d=\"M18.56 5.44l.94 2.06.94-2.06 2.06-.94-2.06-.94-.94-2.06-.94 2.06-2.06.94zm-11 1L8.5 8.5l.94-2.06 2.06-.94-2.06-.94L8.5 2.5l-.94 2.06-2.06.94zm10 10l.94 2.06.94-2.06 2.06-.94-2.06-.94-.94-2.06-.94 2.06-2.06.94z\"/><path d=\"M17.41 7.96l-1.37-1.37c-.4-.4-.92-.59-1.43-.59-.52 0-1.04.2-1.43.59L10.3 9.45l-7.72 7.72c-.78.78-.78 2.05 0 2.83L4 21.41c.39.39.9.59 1.41.59.51 0 1.02-.2 1.41-.59l7.78-7.78 2.81-2.81c.8-.78.8-2.07 0-2.86zM5.41 20L4 18.59l7.72-7.72 1.47 1.35L5.41 20z\"/>\n",
              "  </svg>\n",
              "      </button>\n",
              "      \n",
              "  <style>\n",
              "    .colab-df-container {\n",
              "      display:flex;\n",
              "      flex-wrap:wrap;\n",
              "      gap: 12px;\n",
              "    }\n",
              "\n",
              "    .colab-df-convert {\n",
              "      background-color: #E8F0FE;\n",
              "      border: none;\n",
              "      border-radius: 50%;\n",
              "      cursor: pointer;\n",
              "      display: none;\n",
              "      fill: #1967D2;\n",
              "      height: 32px;\n",
              "      padding: 0 0 0 0;\n",
              "      width: 32px;\n",
              "    }\n",
              "\n",
              "    .colab-df-convert:hover {\n",
              "      background-color: #E2EBFA;\n",
              "      box-shadow: 0px 1px 2px rgba(60, 64, 67, 0.3), 0px 1px 3px 1px rgba(60, 64, 67, 0.15);\n",
              "      fill: #174EA6;\n",
              "    }\n",
              "\n",
              "    [theme=dark] .colab-df-convert {\n",
              "      background-color: #3B4455;\n",
              "      fill: #D2E3FC;\n",
              "    }\n",
              "\n",
              "    [theme=dark] .colab-df-convert:hover {\n",
              "      background-color: #434B5C;\n",
              "      box-shadow: 0px 1px 3px 1px rgba(0, 0, 0, 0.15);\n",
              "      filter: drop-shadow(0px 1px 2px rgba(0, 0, 0, 0.3));\n",
              "      fill: #FFFFFF;\n",
              "    }\n",
              "  </style>\n",
              "\n",
              "      <script>\n",
              "        const buttonEl =\n",
              "          document.querySelector('#df-b30a8f72-7b30-4160-ae20-a45f8c37067a button.colab-df-convert');\n",
              "        buttonEl.style.display =\n",
              "          google.colab.kernel.accessAllowed ? 'block' : 'none';\n",
              "\n",
              "        async function convertToInteractive(key) {\n",
              "          const element = document.querySelector('#df-b30a8f72-7b30-4160-ae20-a45f8c37067a');\n",
              "          const dataTable =\n",
              "            await google.colab.kernel.invokeFunction('convertToInteractive',\n",
              "                                                     [key], {});\n",
              "          if (!dataTable) return;\n",
              "\n",
              "          const docLinkHtml = 'Like what you see? Visit the ' +\n",
              "            '<a target=\"_blank\" href=https://colab.research.google.com/notebooks/data_table.ipynb>data table notebook</a>'\n",
              "            + ' to learn more about interactive tables.';\n",
              "          element.innerHTML = '';\n",
              "          dataTable['output_type'] = 'display_data';\n",
              "          await google.colab.output.renderOutput(dataTable, element);\n",
              "          const docLink = document.createElement('div');\n",
              "          docLink.innerHTML = docLinkHtml;\n",
              "          element.appendChild(docLink);\n",
              "        }\n",
              "      </script>\n",
              "    </div>\n",
              "  </div>\n",
              "  "
            ]
          },
          "metadata": {},
          "execution_count": 321
        }
      ]
    },
    {
      "cell_type": "markdown",
      "source": [
        "## Exportando os dados"
      ],
      "metadata": {
        "id": "D-8wi5vLVWWG"
      }
    },
    {
      "cell_type": "markdown",
      "source": [
        "Com os dados preparados e as requisições extras resolvidas, os dados podem ser exportados e salvos localmente. Essa exportação vai permitir análises futuras, seja em python ou em outros sistemas.\n",
        "\n",
        "Como definido, os dados serão divididos de acordo com a coluna `Evasao`. Os valores em branco da coluna serão armazenados em um arquivo diferente, para que outras análises possam ser feitas."
      ],
      "metadata": {
        "id": "TnNevSm8VYD3"
      }
    },
    {
      "cell_type": "markdown",
      "source": [
        "### Dividindo os DataFrames"
      ],
      "metadata": {
        "id": "P1NHo9x2WFCW"
      }
    },
    {
      "cell_type": "code",
      "source": [
        "dados_evasao_vazios = dados_normal.loc[dados_normal['Evasao'] == '']\n",
        "dados_evasao_completos = dados_normal.loc[dados_normal['Evasao'] != '']"
      ],
      "metadata": {
        "id": "9OZaiOFZVXoM"
      },
      "execution_count": null,
      "outputs": []
    },
    {
      "cell_type": "markdown",
      "source": [
        "Para conferir, será utilizado o método [`.unique()`](https://pandas.pydata.org/pandas-docs/stable/reference/api/pandas.Series.unique.html)"
      ],
      "metadata": {
        "id": "VmezpXyrWiuU"
      }
    },
    {
      "cell_type": "code",
      "source": [
        "dados_evasao_vazios['Evasao'].unique()"
      ],
      "metadata": {
        "colab": {
          "base_uri": "https://localhost:8080/"
        },
        "id": "2cgQXo8cWiL4",
        "outputId": "6666e9d9-3fed-4534-8432-aedc8da5f2a9"
      },
      "execution_count": null,
      "outputs": [
        {
          "output_type": "execute_result",
          "data": {
            "text/plain": [
              "array([''], dtype=object)"
            ]
          },
          "metadata": {},
          "execution_count": 326
        }
      ]
    },
    {
      "cell_type": "code",
      "source": [
        "dados_evasao_completos['Evasao'].unique()"
      ],
      "metadata": {
        "colab": {
          "base_uri": "https://localhost:8080/"
        },
        "id": "lZ3_9l4bW6tO",
        "outputId": "96e6564d-61d5-4125-ea1c-2539147919c1"
      },
      "execution_count": null,
      "outputs": [
        {
          "output_type": "execute_result",
          "data": {
            "text/plain": [
              "array(['Não', 'Sim'], dtype=object)"
            ]
          },
          "metadata": {},
          "execution_count": 327
        }
      ]
    },
    {
      "cell_type": "markdown",
      "source": [
        "### Exportando os dados"
      ],
      "metadata": {
        "id": "Wq4pWGn9XO_v"
      }
    },
    {
      "cell_type": "markdown",
      "source": [
        "Os dados serão exportados para um arquivo do tipo csv."
      ],
      "metadata": {
        "id": "V5S-_UaJXUAw"
      }
    },
    {
      "cell_type": "code",
      "source": [
        "dados_evasao_vazios.to_csv('dados_evasao_vazio.csv', index = False)\n",
        "dados_evasao_completos.to_csv('dados_evasao_completos.csv', index = False)"
      ],
      "metadata": {
        "id": "YUCegAxgW8T2"
      },
      "execution_count": null,
      "outputs": []
    },
    {
      "cell_type": "code",
      "source": [
        ""
      ],
      "metadata": {
        "id": "0fPwVZmUYBrr"
      },
      "execution_count": null,
      "outputs": []
    }
  ]
}