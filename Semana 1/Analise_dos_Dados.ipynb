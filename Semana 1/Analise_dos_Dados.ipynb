{
  "nbformat": 4,
  "nbformat_minor": 0,
  "metadata": {
    "colab": {
      "name": "Semana 1.ipynb",
      "provenance": [],
      "collapsed_sections": [
        "VIqg0OaQ9SDF",
        "iPROoPcvFC03",
        "qYMXk8b4HCKU",
        "wpOjKgq8NYjX",
        "ihxeLwMsPVIE",
        "xZ4VOAs7QVbD",
        "TfsdT7QURp-j",
        "CQt-76daS3cU",
        "1c1rE6eeTy69",
        "gP9jylvKyyGP",
        "veCInxFwz9pu",
        "XqaUsa3_1KPy",
        "PStaz5n12MOr",
        "AcJ5k1d-2usi",
        "Wa0C5jjc3MXp",
        "nO1dQDLM3W1Y",
        "17zte6I43fDd",
        "RpX-9wfF4JmR",
        "oNuiRYH_4QPP",
        "F593OOI75B-I",
        "2SnWUNke5yoU",
        "EaodtpnI6bBM",
        "LGpUeSpf-SBC",
        "1LUsP7ggFCFi",
        "W73E5TqUFjEb",
        "KVht2h3KWpgB",
        "z7hsN9LdWaYi",
        "3lTgGlO4CpqO",
        "Rjme9IZFEo2U"
      ],
      "authorship_tag": "ABX9TyO4ssOE+w0IhxF8AzMruxVG",
      "include_colab_link": true
    },
    "kernelspec": {
      "name": "python3",
      "display_name": "Python 3"
    },
    "language_info": {
      "name": "python"
    }
  },
  "cells": [
    {
      "cell_type": "markdown",
      "metadata": {
        "id": "view-in-github",
        "colab_type": "text"
      },
      "source": [
        "<a href=\"https://colab.research.google.com/github/vinicius-pf/Challenge_DataScience/blob/main/Semana%201/Analise_dos_Dados.ipynb\" target=\"_parent\"><img src=\"https://colab.research.google.com/assets/colab-badge.svg\" alt=\"Open In Colab\"/></a>"
      ]
    },
    {
      "cell_type": "markdown",
      "source": [
        "# Challenge Data Science - Semana 1"
      ],
      "metadata": {
        "id": "zLbB4S6i9AQZ"
      }
    },
    {
      "cell_type": "markdown",
      "source": [
        "Para o challenge, a Alura Voz entrou em contato e pediu que fosse feito um estudo para verificar, entender e reduzir a taxa de evasão dos clientes, o **Churn Rate**.\n",
        "\n",
        "Como primeiro passo nesse estudo, será feita a identificação de clientes que tem a maior chance de deixar a empresa, com base em algumas características dos clientes ou dos planos contratados por eles.\n",
        "\n",
        "A empresa disponibilizou então uma base de dados de seus clientes, constando informações pessoais, financeiras e de contrato dos clientes. Com base nesses dados, é esperado que seja possível classificar os clientes, encontrando assim potenciais candidatos a deixar a empresa."
      ],
      "metadata": {
        "id": "a2784wYS_Y3I"
      }
    },
    {
      "cell_type": "markdown",
      "source": [
        "A base de dados foi disponibilizada no formato JSON (**J**ava**S**cript **O**bject **N**otation).\n",
        "\n",
        "Primeiramente, os dados devem ser analisados e tratados. Podem haver inconsistências e campos sem dados, o que pode levar a conclusões precipitadas ou equivocadas."
      ],
      "metadata": {
        "id": "MUINvhDOrtlP"
      }
    },
    {
      "cell_type": "markdown",
      "source": [
        "## Importando os Dados"
      ],
      "metadata": {
        "id": "VIqg0OaQ9SDF"
      }
    },
    {
      "cell_type": "code",
      "execution_count": 24,
      "metadata": {
        "id": "3wjhPxxP89AU"
      },
      "outputs": [],
      "source": [
        "import pandas as pd"
      ]
    },
    {
      "cell_type": "code",
      "source": [
        "url = 'https://raw.githubusercontent.com/vinicius-pf/Challenge_DataScience/main/Semana%201/dados/dados.json'\n",
        "\n",
        "\n",
        "dados = pd.read_json(\n",
        "    path_or_buf = url,\n",
        "    orient = 'columns'\n",
        ")"
      ],
      "metadata": {
        "id": "eeeJRtbJCRwj"
      },
      "execution_count": 25,
      "outputs": []
    },
    {
      "cell_type": "code",
      "source": [
        "dados.head()"
      ],
      "metadata": {
        "id": "7UBvY3HE_0c6",
        "colab": {
          "base_uri": "https://localhost:8080/",
          "height": 206
        },
        "outputId": "a424566d-8ae6-4e4a-8f06-0c5ea8bef032"
      },
      "execution_count": 26,
      "outputs": [
        {
          "output_type": "execute_result",
          "data": {
            "text/plain": [
              "   customerID Churn                                           customer  \\\n",
              "0  0002-ORFBO    No  {'gender': 'Female', 'SeniorCitizen': 0, 'Part...   \n",
              "1  0003-MKNFE    No  {'gender': 'Male', 'SeniorCitizen': 0, 'Partne...   \n",
              "2  0004-TLHLJ   Yes  {'gender': 'Male', 'SeniorCitizen': 0, 'Partne...   \n",
              "3  0011-IGKFF   Yes  {'gender': 'Male', 'SeniorCitizen': 1, 'Partne...   \n",
              "4  0013-EXCHZ   Yes  {'gender': 'Female', 'SeniorCitizen': 1, 'Part...   \n",
              "\n",
              "                                             phone  \\\n",
              "0   {'PhoneService': 'Yes', 'MultipleLines': 'No'}   \n",
              "1  {'PhoneService': 'Yes', 'MultipleLines': 'Yes'}   \n",
              "2   {'PhoneService': 'Yes', 'MultipleLines': 'No'}   \n",
              "3   {'PhoneService': 'Yes', 'MultipleLines': 'No'}   \n",
              "4   {'PhoneService': 'Yes', 'MultipleLines': 'No'}   \n",
              "\n",
              "                                            internet  \\\n",
              "0  {'InternetService': 'DSL', 'OnlineSecurity': '...   \n",
              "1  {'InternetService': 'DSL', 'OnlineSecurity': '...   \n",
              "2  {'InternetService': 'Fiber optic', 'OnlineSecu...   \n",
              "3  {'InternetService': 'Fiber optic', 'OnlineSecu...   \n",
              "4  {'InternetService': 'Fiber optic', 'OnlineSecu...   \n",
              "\n",
              "                                             account  \n",
              "0  {'Contract': 'One year', 'PaperlessBilling': '...  \n",
              "1  {'Contract': 'Month-to-month', 'PaperlessBilli...  \n",
              "2  {'Contract': 'Month-to-month', 'PaperlessBilli...  \n",
              "3  {'Contract': 'Month-to-month', 'PaperlessBilli...  \n",
              "4  {'Contract': 'Month-to-month', 'PaperlessBilli...  "
            ],
            "text/html": [
              "\n",
              "  <div id=\"df-93b87147-3c9d-48a4-b9c1-c8ab26242a24\">\n",
              "    <div class=\"colab-df-container\">\n",
              "      <div>\n",
              "<style scoped>\n",
              "    .dataframe tbody tr th:only-of-type {\n",
              "        vertical-align: middle;\n",
              "    }\n",
              "\n",
              "    .dataframe tbody tr th {\n",
              "        vertical-align: top;\n",
              "    }\n",
              "\n",
              "    .dataframe thead th {\n",
              "        text-align: right;\n",
              "    }\n",
              "</style>\n",
              "<table border=\"1\" class=\"dataframe\">\n",
              "  <thead>\n",
              "    <tr style=\"text-align: right;\">\n",
              "      <th></th>\n",
              "      <th>customerID</th>\n",
              "      <th>Churn</th>\n",
              "      <th>customer</th>\n",
              "      <th>phone</th>\n",
              "      <th>internet</th>\n",
              "      <th>account</th>\n",
              "    </tr>\n",
              "  </thead>\n",
              "  <tbody>\n",
              "    <tr>\n",
              "      <th>0</th>\n",
              "      <td>0002-ORFBO</td>\n",
              "      <td>No</td>\n",
              "      <td>{'gender': 'Female', 'SeniorCitizen': 0, 'Part...</td>\n",
              "      <td>{'PhoneService': 'Yes', 'MultipleLines': 'No'}</td>\n",
              "      <td>{'InternetService': 'DSL', 'OnlineSecurity': '...</td>\n",
              "      <td>{'Contract': 'One year', 'PaperlessBilling': '...</td>\n",
              "    </tr>\n",
              "    <tr>\n",
              "      <th>1</th>\n",
              "      <td>0003-MKNFE</td>\n",
              "      <td>No</td>\n",
              "      <td>{'gender': 'Male', 'SeniorCitizen': 0, 'Partne...</td>\n",
              "      <td>{'PhoneService': 'Yes', 'MultipleLines': 'Yes'}</td>\n",
              "      <td>{'InternetService': 'DSL', 'OnlineSecurity': '...</td>\n",
              "      <td>{'Contract': 'Month-to-month', 'PaperlessBilli...</td>\n",
              "    </tr>\n",
              "    <tr>\n",
              "      <th>2</th>\n",
              "      <td>0004-TLHLJ</td>\n",
              "      <td>Yes</td>\n",
              "      <td>{'gender': 'Male', 'SeniorCitizen': 0, 'Partne...</td>\n",
              "      <td>{'PhoneService': 'Yes', 'MultipleLines': 'No'}</td>\n",
              "      <td>{'InternetService': 'Fiber optic', 'OnlineSecu...</td>\n",
              "      <td>{'Contract': 'Month-to-month', 'PaperlessBilli...</td>\n",
              "    </tr>\n",
              "    <tr>\n",
              "      <th>3</th>\n",
              "      <td>0011-IGKFF</td>\n",
              "      <td>Yes</td>\n",
              "      <td>{'gender': 'Male', 'SeniorCitizen': 1, 'Partne...</td>\n",
              "      <td>{'PhoneService': 'Yes', 'MultipleLines': 'No'}</td>\n",
              "      <td>{'InternetService': 'Fiber optic', 'OnlineSecu...</td>\n",
              "      <td>{'Contract': 'Month-to-month', 'PaperlessBilli...</td>\n",
              "    </tr>\n",
              "    <tr>\n",
              "      <th>4</th>\n",
              "      <td>0013-EXCHZ</td>\n",
              "      <td>Yes</td>\n",
              "      <td>{'gender': 'Female', 'SeniorCitizen': 1, 'Part...</td>\n",
              "      <td>{'PhoneService': 'Yes', 'MultipleLines': 'No'}</td>\n",
              "      <td>{'InternetService': 'Fiber optic', 'OnlineSecu...</td>\n",
              "      <td>{'Contract': 'Month-to-month', 'PaperlessBilli...</td>\n",
              "    </tr>\n",
              "  </tbody>\n",
              "</table>\n",
              "</div>\n",
              "      <button class=\"colab-df-convert\" onclick=\"convertToInteractive('df-93b87147-3c9d-48a4-b9c1-c8ab26242a24')\"\n",
              "              title=\"Convert this dataframe to an interactive table.\"\n",
              "              style=\"display:none;\">\n",
              "        \n",
              "  <svg xmlns=\"http://www.w3.org/2000/svg\" height=\"24px\"viewBox=\"0 0 24 24\"\n",
              "       width=\"24px\">\n",
              "    <path d=\"M0 0h24v24H0V0z\" fill=\"none\"/>\n",
              "    <path d=\"M18.56 5.44l.94 2.06.94-2.06 2.06-.94-2.06-.94-.94-2.06-.94 2.06-2.06.94zm-11 1L8.5 8.5l.94-2.06 2.06-.94-2.06-.94L8.5 2.5l-.94 2.06-2.06.94zm10 10l.94 2.06.94-2.06 2.06-.94-2.06-.94-.94-2.06-.94 2.06-2.06.94z\"/><path d=\"M17.41 7.96l-1.37-1.37c-.4-.4-.92-.59-1.43-.59-.52 0-1.04.2-1.43.59L10.3 9.45l-7.72 7.72c-.78.78-.78 2.05 0 2.83L4 21.41c.39.39.9.59 1.41.59.51 0 1.02-.2 1.41-.59l7.78-7.78 2.81-2.81c.8-.78.8-2.07 0-2.86zM5.41 20L4 18.59l7.72-7.72 1.47 1.35L5.41 20z\"/>\n",
              "  </svg>\n",
              "      </button>\n",
              "      \n",
              "  <style>\n",
              "    .colab-df-container {\n",
              "      display:flex;\n",
              "      flex-wrap:wrap;\n",
              "      gap: 12px;\n",
              "    }\n",
              "\n",
              "    .colab-df-convert {\n",
              "      background-color: #E8F0FE;\n",
              "      border: none;\n",
              "      border-radius: 50%;\n",
              "      cursor: pointer;\n",
              "      display: none;\n",
              "      fill: #1967D2;\n",
              "      height: 32px;\n",
              "      padding: 0 0 0 0;\n",
              "      width: 32px;\n",
              "    }\n",
              "\n",
              "    .colab-df-convert:hover {\n",
              "      background-color: #E2EBFA;\n",
              "      box-shadow: 0px 1px 2px rgba(60, 64, 67, 0.3), 0px 1px 3px 1px rgba(60, 64, 67, 0.15);\n",
              "      fill: #174EA6;\n",
              "    }\n",
              "\n",
              "    [theme=dark] .colab-df-convert {\n",
              "      background-color: #3B4455;\n",
              "      fill: #D2E3FC;\n",
              "    }\n",
              "\n",
              "    [theme=dark] .colab-df-convert:hover {\n",
              "      background-color: #434B5C;\n",
              "      box-shadow: 0px 1px 3px 1px rgba(0, 0, 0, 0.15);\n",
              "      filter: drop-shadow(0px 1px 2px rgba(0, 0, 0, 0.3));\n",
              "      fill: #FFFFFF;\n",
              "    }\n",
              "  </style>\n",
              "\n",
              "      <script>\n",
              "        const buttonEl =\n",
              "          document.querySelector('#df-93b87147-3c9d-48a4-b9c1-c8ab26242a24 button.colab-df-convert');\n",
              "        buttonEl.style.display =\n",
              "          google.colab.kernel.accessAllowed ? 'block' : 'none';\n",
              "\n",
              "        async function convertToInteractive(key) {\n",
              "          const element = document.querySelector('#df-93b87147-3c9d-48a4-b9c1-c8ab26242a24');\n",
              "          const dataTable =\n",
              "            await google.colab.kernel.invokeFunction('convertToInteractive',\n",
              "                                                     [key], {});\n",
              "          if (!dataTable) return;\n",
              "\n",
              "          const docLinkHtml = 'Like what you see? Visit the ' +\n",
              "            '<a target=\"_blank\" href=https://colab.research.google.com/notebooks/data_table.ipynb>data table notebook</a>'\n",
              "            + ' to learn more about interactive tables.';\n",
              "          element.innerHTML = '';\n",
              "          dataTable['output_type'] = 'display_data';\n",
              "          await google.colab.output.renderOutput(dataTable, element);\n",
              "          const docLink = document.createElement('div');\n",
              "          docLink.innerHTML = docLinkHtml;\n",
              "          element.appendChild(docLink);\n",
              "        }\n",
              "      </script>\n",
              "    </div>\n",
              "  </div>\n",
              "  "
            ]
          },
          "metadata": {},
          "execution_count": 26
        }
      ]
    },
    {
      "cell_type": "markdown",
      "source": [
        "Os dados não estão normalizados, ou seja: as células contém informações que também podem ser colunas do dataset. Antes de prosseguir com as análises, é necessário normalizar os dados. Com isso, cada coluna terá uma informação única."
      ],
      "metadata": {
        "id": "9yPN9L1n1J7F"
      }
    },
    {
      "cell_type": "markdown",
      "source": [
        "### Normalizando os dados"
      ],
      "metadata": {
        "id": "dS9h8Aj728O6"
      }
    },
    {
      "cell_type": "markdown",
      "source": [
        "Primeiramente, cada coluna com informações relevantes será transformada em uma tabela."
      ],
      "metadata": {
        "id": "5hzTsbx62Hqq"
      }
    },
    {
      "cell_type": "code",
      "source": [
        "dados_customer = pd.json_normalize(data = dados.customer)\n",
        "dados_customer.head()"
      ],
      "metadata": {
        "colab": {
          "base_uri": "https://localhost:8080/",
          "height": 206
        },
        "id": "IRpkRcWh2HGx",
        "outputId": "f59d2bc1-6c87-4c24-9c3f-4d7bba6cb41c"
      },
      "execution_count": 27,
      "outputs": [
        {
          "output_type": "execute_result",
          "data": {
            "text/plain": [
              "   gender  SeniorCitizen Partner Dependents  tenure\n",
              "0  Female              0     Yes        Yes       9\n",
              "1    Male              0      No         No       9\n",
              "2    Male              0      No         No       4\n",
              "3    Male              1     Yes         No      13\n",
              "4  Female              1     Yes         No       3"
            ],
            "text/html": [
              "\n",
              "  <div id=\"df-360c8493-fa3a-417b-9f7a-6ed477b3dabe\">\n",
              "    <div class=\"colab-df-container\">\n",
              "      <div>\n",
              "<style scoped>\n",
              "    .dataframe tbody tr th:only-of-type {\n",
              "        vertical-align: middle;\n",
              "    }\n",
              "\n",
              "    .dataframe tbody tr th {\n",
              "        vertical-align: top;\n",
              "    }\n",
              "\n",
              "    .dataframe thead th {\n",
              "        text-align: right;\n",
              "    }\n",
              "</style>\n",
              "<table border=\"1\" class=\"dataframe\">\n",
              "  <thead>\n",
              "    <tr style=\"text-align: right;\">\n",
              "      <th></th>\n",
              "      <th>gender</th>\n",
              "      <th>SeniorCitizen</th>\n",
              "      <th>Partner</th>\n",
              "      <th>Dependents</th>\n",
              "      <th>tenure</th>\n",
              "    </tr>\n",
              "  </thead>\n",
              "  <tbody>\n",
              "    <tr>\n",
              "      <th>0</th>\n",
              "      <td>Female</td>\n",
              "      <td>0</td>\n",
              "      <td>Yes</td>\n",
              "      <td>Yes</td>\n",
              "      <td>9</td>\n",
              "    </tr>\n",
              "    <tr>\n",
              "      <th>1</th>\n",
              "      <td>Male</td>\n",
              "      <td>0</td>\n",
              "      <td>No</td>\n",
              "      <td>No</td>\n",
              "      <td>9</td>\n",
              "    </tr>\n",
              "    <tr>\n",
              "      <th>2</th>\n",
              "      <td>Male</td>\n",
              "      <td>0</td>\n",
              "      <td>No</td>\n",
              "      <td>No</td>\n",
              "      <td>4</td>\n",
              "    </tr>\n",
              "    <tr>\n",
              "      <th>3</th>\n",
              "      <td>Male</td>\n",
              "      <td>1</td>\n",
              "      <td>Yes</td>\n",
              "      <td>No</td>\n",
              "      <td>13</td>\n",
              "    </tr>\n",
              "    <tr>\n",
              "      <th>4</th>\n",
              "      <td>Female</td>\n",
              "      <td>1</td>\n",
              "      <td>Yes</td>\n",
              "      <td>No</td>\n",
              "      <td>3</td>\n",
              "    </tr>\n",
              "  </tbody>\n",
              "</table>\n",
              "</div>\n",
              "      <button class=\"colab-df-convert\" onclick=\"convertToInteractive('df-360c8493-fa3a-417b-9f7a-6ed477b3dabe')\"\n",
              "              title=\"Convert this dataframe to an interactive table.\"\n",
              "              style=\"display:none;\">\n",
              "        \n",
              "  <svg xmlns=\"http://www.w3.org/2000/svg\" height=\"24px\"viewBox=\"0 0 24 24\"\n",
              "       width=\"24px\">\n",
              "    <path d=\"M0 0h24v24H0V0z\" fill=\"none\"/>\n",
              "    <path d=\"M18.56 5.44l.94 2.06.94-2.06 2.06-.94-2.06-.94-.94-2.06-.94 2.06-2.06.94zm-11 1L8.5 8.5l.94-2.06 2.06-.94-2.06-.94L8.5 2.5l-.94 2.06-2.06.94zm10 10l.94 2.06.94-2.06 2.06-.94-2.06-.94-.94-2.06-.94 2.06-2.06.94z\"/><path d=\"M17.41 7.96l-1.37-1.37c-.4-.4-.92-.59-1.43-.59-.52 0-1.04.2-1.43.59L10.3 9.45l-7.72 7.72c-.78.78-.78 2.05 0 2.83L4 21.41c.39.39.9.59 1.41.59.51 0 1.02-.2 1.41-.59l7.78-7.78 2.81-2.81c.8-.78.8-2.07 0-2.86zM5.41 20L4 18.59l7.72-7.72 1.47 1.35L5.41 20z\"/>\n",
              "  </svg>\n",
              "      </button>\n",
              "      \n",
              "  <style>\n",
              "    .colab-df-container {\n",
              "      display:flex;\n",
              "      flex-wrap:wrap;\n",
              "      gap: 12px;\n",
              "    }\n",
              "\n",
              "    .colab-df-convert {\n",
              "      background-color: #E8F0FE;\n",
              "      border: none;\n",
              "      border-radius: 50%;\n",
              "      cursor: pointer;\n",
              "      display: none;\n",
              "      fill: #1967D2;\n",
              "      height: 32px;\n",
              "      padding: 0 0 0 0;\n",
              "      width: 32px;\n",
              "    }\n",
              "\n",
              "    .colab-df-convert:hover {\n",
              "      background-color: #E2EBFA;\n",
              "      box-shadow: 0px 1px 2px rgba(60, 64, 67, 0.3), 0px 1px 3px 1px rgba(60, 64, 67, 0.15);\n",
              "      fill: #174EA6;\n",
              "    }\n",
              "\n",
              "    [theme=dark] .colab-df-convert {\n",
              "      background-color: #3B4455;\n",
              "      fill: #D2E3FC;\n",
              "    }\n",
              "\n",
              "    [theme=dark] .colab-df-convert:hover {\n",
              "      background-color: #434B5C;\n",
              "      box-shadow: 0px 1px 3px 1px rgba(0, 0, 0, 0.15);\n",
              "      filter: drop-shadow(0px 1px 2px rgba(0, 0, 0, 0.3));\n",
              "      fill: #FFFFFF;\n",
              "    }\n",
              "  </style>\n",
              "\n",
              "      <script>\n",
              "        const buttonEl =\n",
              "          document.querySelector('#df-360c8493-fa3a-417b-9f7a-6ed477b3dabe button.colab-df-convert');\n",
              "        buttonEl.style.display =\n",
              "          google.colab.kernel.accessAllowed ? 'block' : 'none';\n",
              "\n",
              "        async function convertToInteractive(key) {\n",
              "          const element = document.querySelector('#df-360c8493-fa3a-417b-9f7a-6ed477b3dabe');\n",
              "          const dataTable =\n",
              "            await google.colab.kernel.invokeFunction('convertToInteractive',\n",
              "                                                     [key], {});\n",
              "          if (!dataTable) return;\n",
              "\n",
              "          const docLinkHtml = 'Like what you see? Visit the ' +\n",
              "            '<a target=\"_blank\" href=https://colab.research.google.com/notebooks/data_table.ipynb>data table notebook</a>'\n",
              "            + ' to learn more about interactive tables.';\n",
              "          element.innerHTML = '';\n",
              "          dataTable['output_type'] = 'display_data';\n",
              "          await google.colab.output.renderOutput(dataTable, element);\n",
              "          const docLink = document.createElement('div');\n",
              "          docLink.innerHTML = docLinkHtml;\n",
              "          element.appendChild(docLink);\n",
              "        }\n",
              "      </script>\n",
              "    </div>\n",
              "  </div>\n",
              "  "
            ]
          },
          "metadata": {},
          "execution_count": 27
        }
      ]
    },
    {
      "cell_type": "code",
      "source": [
        "dados_phone = pd.json_normalize(data = dados.phone)\n",
        "dados_phone.head()"
      ],
      "metadata": {
        "colab": {
          "base_uri": "https://localhost:8080/",
          "height": 206
        },
        "id": "-lF3CYb715v9",
        "outputId": "c83881e7-9106-48d2-b793-3da1d3dfbac8"
      },
      "execution_count": 28,
      "outputs": [
        {
          "output_type": "execute_result",
          "data": {
            "text/plain": [
              "  PhoneService MultipleLines\n",
              "0          Yes            No\n",
              "1          Yes           Yes\n",
              "2          Yes            No\n",
              "3          Yes            No\n",
              "4          Yes            No"
            ],
            "text/html": [
              "\n",
              "  <div id=\"df-6b785fc2-ed00-42d2-b75b-501b4f225787\">\n",
              "    <div class=\"colab-df-container\">\n",
              "      <div>\n",
              "<style scoped>\n",
              "    .dataframe tbody tr th:only-of-type {\n",
              "        vertical-align: middle;\n",
              "    }\n",
              "\n",
              "    .dataframe tbody tr th {\n",
              "        vertical-align: top;\n",
              "    }\n",
              "\n",
              "    .dataframe thead th {\n",
              "        text-align: right;\n",
              "    }\n",
              "</style>\n",
              "<table border=\"1\" class=\"dataframe\">\n",
              "  <thead>\n",
              "    <tr style=\"text-align: right;\">\n",
              "      <th></th>\n",
              "      <th>PhoneService</th>\n",
              "      <th>MultipleLines</th>\n",
              "    </tr>\n",
              "  </thead>\n",
              "  <tbody>\n",
              "    <tr>\n",
              "      <th>0</th>\n",
              "      <td>Yes</td>\n",
              "      <td>No</td>\n",
              "    </tr>\n",
              "    <tr>\n",
              "      <th>1</th>\n",
              "      <td>Yes</td>\n",
              "      <td>Yes</td>\n",
              "    </tr>\n",
              "    <tr>\n",
              "      <th>2</th>\n",
              "      <td>Yes</td>\n",
              "      <td>No</td>\n",
              "    </tr>\n",
              "    <tr>\n",
              "      <th>3</th>\n",
              "      <td>Yes</td>\n",
              "      <td>No</td>\n",
              "    </tr>\n",
              "    <tr>\n",
              "      <th>4</th>\n",
              "      <td>Yes</td>\n",
              "      <td>No</td>\n",
              "    </tr>\n",
              "  </tbody>\n",
              "</table>\n",
              "</div>\n",
              "      <button class=\"colab-df-convert\" onclick=\"convertToInteractive('df-6b785fc2-ed00-42d2-b75b-501b4f225787')\"\n",
              "              title=\"Convert this dataframe to an interactive table.\"\n",
              "              style=\"display:none;\">\n",
              "        \n",
              "  <svg xmlns=\"http://www.w3.org/2000/svg\" height=\"24px\"viewBox=\"0 0 24 24\"\n",
              "       width=\"24px\">\n",
              "    <path d=\"M0 0h24v24H0V0z\" fill=\"none\"/>\n",
              "    <path d=\"M18.56 5.44l.94 2.06.94-2.06 2.06-.94-2.06-.94-.94-2.06-.94 2.06-2.06.94zm-11 1L8.5 8.5l.94-2.06 2.06-.94-2.06-.94L8.5 2.5l-.94 2.06-2.06.94zm10 10l.94 2.06.94-2.06 2.06-.94-2.06-.94-.94-2.06-.94 2.06-2.06.94z\"/><path d=\"M17.41 7.96l-1.37-1.37c-.4-.4-.92-.59-1.43-.59-.52 0-1.04.2-1.43.59L10.3 9.45l-7.72 7.72c-.78.78-.78 2.05 0 2.83L4 21.41c.39.39.9.59 1.41.59.51 0 1.02-.2 1.41-.59l7.78-7.78 2.81-2.81c.8-.78.8-2.07 0-2.86zM5.41 20L4 18.59l7.72-7.72 1.47 1.35L5.41 20z\"/>\n",
              "  </svg>\n",
              "      </button>\n",
              "      \n",
              "  <style>\n",
              "    .colab-df-container {\n",
              "      display:flex;\n",
              "      flex-wrap:wrap;\n",
              "      gap: 12px;\n",
              "    }\n",
              "\n",
              "    .colab-df-convert {\n",
              "      background-color: #E8F0FE;\n",
              "      border: none;\n",
              "      border-radius: 50%;\n",
              "      cursor: pointer;\n",
              "      display: none;\n",
              "      fill: #1967D2;\n",
              "      height: 32px;\n",
              "      padding: 0 0 0 0;\n",
              "      width: 32px;\n",
              "    }\n",
              "\n",
              "    .colab-df-convert:hover {\n",
              "      background-color: #E2EBFA;\n",
              "      box-shadow: 0px 1px 2px rgba(60, 64, 67, 0.3), 0px 1px 3px 1px rgba(60, 64, 67, 0.15);\n",
              "      fill: #174EA6;\n",
              "    }\n",
              "\n",
              "    [theme=dark] .colab-df-convert {\n",
              "      background-color: #3B4455;\n",
              "      fill: #D2E3FC;\n",
              "    }\n",
              "\n",
              "    [theme=dark] .colab-df-convert:hover {\n",
              "      background-color: #434B5C;\n",
              "      box-shadow: 0px 1px 3px 1px rgba(0, 0, 0, 0.15);\n",
              "      filter: drop-shadow(0px 1px 2px rgba(0, 0, 0, 0.3));\n",
              "      fill: #FFFFFF;\n",
              "    }\n",
              "  </style>\n",
              "\n",
              "      <script>\n",
              "        const buttonEl =\n",
              "          document.querySelector('#df-6b785fc2-ed00-42d2-b75b-501b4f225787 button.colab-df-convert');\n",
              "        buttonEl.style.display =\n",
              "          google.colab.kernel.accessAllowed ? 'block' : 'none';\n",
              "\n",
              "        async function convertToInteractive(key) {\n",
              "          const element = document.querySelector('#df-6b785fc2-ed00-42d2-b75b-501b4f225787');\n",
              "          const dataTable =\n",
              "            await google.colab.kernel.invokeFunction('convertToInteractive',\n",
              "                                                     [key], {});\n",
              "          if (!dataTable) return;\n",
              "\n",
              "          const docLinkHtml = 'Like what you see? Visit the ' +\n",
              "            '<a target=\"_blank\" href=https://colab.research.google.com/notebooks/data_table.ipynb>data table notebook</a>'\n",
              "            + ' to learn more about interactive tables.';\n",
              "          element.innerHTML = '';\n",
              "          dataTable['output_type'] = 'display_data';\n",
              "          await google.colab.output.renderOutput(dataTable, element);\n",
              "          const docLink = document.createElement('div');\n",
              "          docLink.innerHTML = docLinkHtml;\n",
              "          element.appendChild(docLink);\n",
              "        }\n",
              "      </script>\n",
              "    </div>\n",
              "  </div>\n",
              "  "
            ]
          },
          "metadata": {},
          "execution_count": 28
        }
      ]
    },
    {
      "cell_type": "code",
      "source": [
        "dados_internet = pd.json_normalize(data = dados.internet)\n",
        "dados_internet.head()"
      ],
      "metadata": {
        "colab": {
          "base_uri": "https://localhost:8080/",
          "height": 206
        },
        "id": "uggIQCuZ15nD",
        "outputId": "6c08232b-f29e-46db-80dd-ab81396bb069"
      },
      "execution_count": 29,
      "outputs": [
        {
          "output_type": "execute_result",
          "data": {
            "text/plain": [
              "  InternetService OnlineSecurity OnlineBackup DeviceProtection TechSupport  \\\n",
              "0             DSL             No          Yes               No         Yes   \n",
              "1             DSL             No           No               No          No   \n",
              "2     Fiber optic             No           No              Yes          No   \n",
              "3     Fiber optic             No          Yes              Yes          No   \n",
              "4     Fiber optic             No           No               No         Yes   \n",
              "\n",
              "  StreamingTV StreamingMovies  \n",
              "0         Yes              No  \n",
              "1          No             Yes  \n",
              "2          No              No  \n",
              "3         Yes             Yes  \n",
              "4         Yes              No  "
            ],
            "text/html": [
              "\n",
              "  <div id=\"df-c30c245c-b9c5-40c9-a860-c9aa42f313fe\">\n",
              "    <div class=\"colab-df-container\">\n",
              "      <div>\n",
              "<style scoped>\n",
              "    .dataframe tbody tr th:only-of-type {\n",
              "        vertical-align: middle;\n",
              "    }\n",
              "\n",
              "    .dataframe tbody tr th {\n",
              "        vertical-align: top;\n",
              "    }\n",
              "\n",
              "    .dataframe thead th {\n",
              "        text-align: right;\n",
              "    }\n",
              "</style>\n",
              "<table border=\"1\" class=\"dataframe\">\n",
              "  <thead>\n",
              "    <tr style=\"text-align: right;\">\n",
              "      <th></th>\n",
              "      <th>InternetService</th>\n",
              "      <th>OnlineSecurity</th>\n",
              "      <th>OnlineBackup</th>\n",
              "      <th>DeviceProtection</th>\n",
              "      <th>TechSupport</th>\n",
              "      <th>StreamingTV</th>\n",
              "      <th>StreamingMovies</th>\n",
              "    </tr>\n",
              "  </thead>\n",
              "  <tbody>\n",
              "    <tr>\n",
              "      <th>0</th>\n",
              "      <td>DSL</td>\n",
              "      <td>No</td>\n",
              "      <td>Yes</td>\n",
              "      <td>No</td>\n",
              "      <td>Yes</td>\n",
              "      <td>Yes</td>\n",
              "      <td>No</td>\n",
              "    </tr>\n",
              "    <tr>\n",
              "      <th>1</th>\n",
              "      <td>DSL</td>\n",
              "      <td>No</td>\n",
              "      <td>No</td>\n",
              "      <td>No</td>\n",
              "      <td>No</td>\n",
              "      <td>No</td>\n",
              "      <td>Yes</td>\n",
              "    </tr>\n",
              "    <tr>\n",
              "      <th>2</th>\n",
              "      <td>Fiber optic</td>\n",
              "      <td>No</td>\n",
              "      <td>No</td>\n",
              "      <td>Yes</td>\n",
              "      <td>No</td>\n",
              "      <td>No</td>\n",
              "      <td>No</td>\n",
              "    </tr>\n",
              "    <tr>\n",
              "      <th>3</th>\n",
              "      <td>Fiber optic</td>\n",
              "      <td>No</td>\n",
              "      <td>Yes</td>\n",
              "      <td>Yes</td>\n",
              "      <td>No</td>\n",
              "      <td>Yes</td>\n",
              "      <td>Yes</td>\n",
              "    </tr>\n",
              "    <tr>\n",
              "      <th>4</th>\n",
              "      <td>Fiber optic</td>\n",
              "      <td>No</td>\n",
              "      <td>No</td>\n",
              "      <td>No</td>\n",
              "      <td>Yes</td>\n",
              "      <td>Yes</td>\n",
              "      <td>No</td>\n",
              "    </tr>\n",
              "  </tbody>\n",
              "</table>\n",
              "</div>\n",
              "      <button class=\"colab-df-convert\" onclick=\"convertToInteractive('df-c30c245c-b9c5-40c9-a860-c9aa42f313fe')\"\n",
              "              title=\"Convert this dataframe to an interactive table.\"\n",
              "              style=\"display:none;\">\n",
              "        \n",
              "  <svg xmlns=\"http://www.w3.org/2000/svg\" height=\"24px\"viewBox=\"0 0 24 24\"\n",
              "       width=\"24px\">\n",
              "    <path d=\"M0 0h24v24H0V0z\" fill=\"none\"/>\n",
              "    <path d=\"M18.56 5.44l.94 2.06.94-2.06 2.06-.94-2.06-.94-.94-2.06-.94 2.06-2.06.94zm-11 1L8.5 8.5l.94-2.06 2.06-.94-2.06-.94L8.5 2.5l-.94 2.06-2.06.94zm10 10l.94 2.06.94-2.06 2.06-.94-2.06-.94-.94-2.06-.94 2.06-2.06.94z\"/><path d=\"M17.41 7.96l-1.37-1.37c-.4-.4-.92-.59-1.43-.59-.52 0-1.04.2-1.43.59L10.3 9.45l-7.72 7.72c-.78.78-.78 2.05 0 2.83L4 21.41c.39.39.9.59 1.41.59.51 0 1.02-.2 1.41-.59l7.78-7.78 2.81-2.81c.8-.78.8-2.07 0-2.86zM5.41 20L4 18.59l7.72-7.72 1.47 1.35L5.41 20z\"/>\n",
              "  </svg>\n",
              "      </button>\n",
              "      \n",
              "  <style>\n",
              "    .colab-df-container {\n",
              "      display:flex;\n",
              "      flex-wrap:wrap;\n",
              "      gap: 12px;\n",
              "    }\n",
              "\n",
              "    .colab-df-convert {\n",
              "      background-color: #E8F0FE;\n",
              "      border: none;\n",
              "      border-radius: 50%;\n",
              "      cursor: pointer;\n",
              "      display: none;\n",
              "      fill: #1967D2;\n",
              "      height: 32px;\n",
              "      padding: 0 0 0 0;\n",
              "      width: 32px;\n",
              "    }\n",
              "\n",
              "    .colab-df-convert:hover {\n",
              "      background-color: #E2EBFA;\n",
              "      box-shadow: 0px 1px 2px rgba(60, 64, 67, 0.3), 0px 1px 3px 1px rgba(60, 64, 67, 0.15);\n",
              "      fill: #174EA6;\n",
              "    }\n",
              "\n",
              "    [theme=dark] .colab-df-convert {\n",
              "      background-color: #3B4455;\n",
              "      fill: #D2E3FC;\n",
              "    }\n",
              "\n",
              "    [theme=dark] .colab-df-convert:hover {\n",
              "      background-color: #434B5C;\n",
              "      box-shadow: 0px 1px 3px 1px rgba(0, 0, 0, 0.15);\n",
              "      filter: drop-shadow(0px 1px 2px rgba(0, 0, 0, 0.3));\n",
              "      fill: #FFFFFF;\n",
              "    }\n",
              "  </style>\n",
              "\n",
              "      <script>\n",
              "        const buttonEl =\n",
              "          document.querySelector('#df-c30c245c-b9c5-40c9-a860-c9aa42f313fe button.colab-df-convert');\n",
              "        buttonEl.style.display =\n",
              "          google.colab.kernel.accessAllowed ? 'block' : 'none';\n",
              "\n",
              "        async function convertToInteractive(key) {\n",
              "          const element = document.querySelector('#df-c30c245c-b9c5-40c9-a860-c9aa42f313fe');\n",
              "          const dataTable =\n",
              "            await google.colab.kernel.invokeFunction('convertToInteractive',\n",
              "                                                     [key], {});\n",
              "          if (!dataTable) return;\n",
              "\n",
              "          const docLinkHtml = 'Like what you see? Visit the ' +\n",
              "            '<a target=\"_blank\" href=https://colab.research.google.com/notebooks/data_table.ipynb>data table notebook</a>'\n",
              "            + ' to learn more about interactive tables.';\n",
              "          element.innerHTML = '';\n",
              "          dataTable['output_type'] = 'display_data';\n",
              "          await google.colab.output.renderOutput(dataTable, element);\n",
              "          const docLink = document.createElement('div');\n",
              "          docLink.innerHTML = docLinkHtml;\n",
              "          element.appendChild(docLink);\n",
              "        }\n",
              "      </script>\n",
              "    </div>\n",
              "  </div>\n",
              "  "
            ]
          },
          "metadata": {},
          "execution_count": 29
        }
      ]
    },
    {
      "cell_type": "code",
      "source": [
        "dados_account = pd.json_normalize(data = dados.account)\n",
        "dados_account.head()"
      ],
      "metadata": {
        "colab": {
          "base_uri": "https://localhost:8080/",
          "height": 206
        },
        "id": "t2O772yo15ed",
        "outputId": "e46904c7-758c-49e9-d860-d5966f200b20"
      },
      "execution_count": 30,
      "outputs": [
        {
          "output_type": "execute_result",
          "data": {
            "text/plain": [
              "         Contract PaperlessBilling     PaymentMethod  Charges.Monthly  \\\n",
              "0        One year              Yes      Mailed check             65.6   \n",
              "1  Month-to-month               No      Mailed check             59.9   \n",
              "2  Month-to-month              Yes  Electronic check             73.9   \n",
              "3  Month-to-month              Yes  Electronic check             98.0   \n",
              "4  Month-to-month              Yes      Mailed check             83.9   \n",
              "\n",
              "  Charges.Total  \n",
              "0         593.3  \n",
              "1         542.4  \n",
              "2        280.85  \n",
              "3       1237.85  \n",
              "4         267.4  "
            ],
            "text/html": [
              "\n",
              "  <div id=\"df-06133703-c6c7-48be-a7dd-2dc6a41a2484\">\n",
              "    <div class=\"colab-df-container\">\n",
              "      <div>\n",
              "<style scoped>\n",
              "    .dataframe tbody tr th:only-of-type {\n",
              "        vertical-align: middle;\n",
              "    }\n",
              "\n",
              "    .dataframe tbody tr th {\n",
              "        vertical-align: top;\n",
              "    }\n",
              "\n",
              "    .dataframe thead th {\n",
              "        text-align: right;\n",
              "    }\n",
              "</style>\n",
              "<table border=\"1\" class=\"dataframe\">\n",
              "  <thead>\n",
              "    <tr style=\"text-align: right;\">\n",
              "      <th></th>\n",
              "      <th>Contract</th>\n",
              "      <th>PaperlessBilling</th>\n",
              "      <th>PaymentMethod</th>\n",
              "      <th>Charges.Monthly</th>\n",
              "      <th>Charges.Total</th>\n",
              "    </tr>\n",
              "  </thead>\n",
              "  <tbody>\n",
              "    <tr>\n",
              "      <th>0</th>\n",
              "      <td>One year</td>\n",
              "      <td>Yes</td>\n",
              "      <td>Mailed check</td>\n",
              "      <td>65.6</td>\n",
              "      <td>593.3</td>\n",
              "    </tr>\n",
              "    <tr>\n",
              "      <th>1</th>\n",
              "      <td>Month-to-month</td>\n",
              "      <td>No</td>\n",
              "      <td>Mailed check</td>\n",
              "      <td>59.9</td>\n",
              "      <td>542.4</td>\n",
              "    </tr>\n",
              "    <tr>\n",
              "      <th>2</th>\n",
              "      <td>Month-to-month</td>\n",
              "      <td>Yes</td>\n",
              "      <td>Electronic check</td>\n",
              "      <td>73.9</td>\n",
              "      <td>280.85</td>\n",
              "    </tr>\n",
              "    <tr>\n",
              "      <th>3</th>\n",
              "      <td>Month-to-month</td>\n",
              "      <td>Yes</td>\n",
              "      <td>Electronic check</td>\n",
              "      <td>98.0</td>\n",
              "      <td>1237.85</td>\n",
              "    </tr>\n",
              "    <tr>\n",
              "      <th>4</th>\n",
              "      <td>Month-to-month</td>\n",
              "      <td>Yes</td>\n",
              "      <td>Mailed check</td>\n",
              "      <td>83.9</td>\n",
              "      <td>267.4</td>\n",
              "    </tr>\n",
              "  </tbody>\n",
              "</table>\n",
              "</div>\n",
              "      <button class=\"colab-df-convert\" onclick=\"convertToInteractive('df-06133703-c6c7-48be-a7dd-2dc6a41a2484')\"\n",
              "              title=\"Convert this dataframe to an interactive table.\"\n",
              "              style=\"display:none;\">\n",
              "        \n",
              "  <svg xmlns=\"http://www.w3.org/2000/svg\" height=\"24px\"viewBox=\"0 0 24 24\"\n",
              "       width=\"24px\">\n",
              "    <path d=\"M0 0h24v24H0V0z\" fill=\"none\"/>\n",
              "    <path d=\"M18.56 5.44l.94 2.06.94-2.06 2.06-.94-2.06-.94-.94-2.06-.94 2.06-2.06.94zm-11 1L8.5 8.5l.94-2.06 2.06-.94-2.06-.94L8.5 2.5l-.94 2.06-2.06.94zm10 10l.94 2.06.94-2.06 2.06-.94-2.06-.94-.94-2.06-.94 2.06-2.06.94z\"/><path d=\"M17.41 7.96l-1.37-1.37c-.4-.4-.92-.59-1.43-.59-.52 0-1.04.2-1.43.59L10.3 9.45l-7.72 7.72c-.78.78-.78 2.05 0 2.83L4 21.41c.39.39.9.59 1.41.59.51 0 1.02-.2 1.41-.59l7.78-7.78 2.81-2.81c.8-.78.8-2.07 0-2.86zM5.41 20L4 18.59l7.72-7.72 1.47 1.35L5.41 20z\"/>\n",
              "  </svg>\n",
              "      </button>\n",
              "      \n",
              "  <style>\n",
              "    .colab-df-container {\n",
              "      display:flex;\n",
              "      flex-wrap:wrap;\n",
              "      gap: 12px;\n",
              "    }\n",
              "\n",
              "    .colab-df-convert {\n",
              "      background-color: #E8F0FE;\n",
              "      border: none;\n",
              "      border-radius: 50%;\n",
              "      cursor: pointer;\n",
              "      display: none;\n",
              "      fill: #1967D2;\n",
              "      height: 32px;\n",
              "      padding: 0 0 0 0;\n",
              "      width: 32px;\n",
              "    }\n",
              "\n",
              "    .colab-df-convert:hover {\n",
              "      background-color: #E2EBFA;\n",
              "      box-shadow: 0px 1px 2px rgba(60, 64, 67, 0.3), 0px 1px 3px 1px rgba(60, 64, 67, 0.15);\n",
              "      fill: #174EA6;\n",
              "    }\n",
              "\n",
              "    [theme=dark] .colab-df-convert {\n",
              "      background-color: #3B4455;\n",
              "      fill: #D2E3FC;\n",
              "    }\n",
              "\n",
              "    [theme=dark] .colab-df-convert:hover {\n",
              "      background-color: #434B5C;\n",
              "      box-shadow: 0px 1px 3px 1px rgba(0, 0, 0, 0.15);\n",
              "      filter: drop-shadow(0px 1px 2px rgba(0, 0, 0, 0.3));\n",
              "      fill: #FFFFFF;\n",
              "    }\n",
              "  </style>\n",
              "\n",
              "      <script>\n",
              "        const buttonEl =\n",
              "          document.querySelector('#df-06133703-c6c7-48be-a7dd-2dc6a41a2484 button.colab-df-convert');\n",
              "        buttonEl.style.display =\n",
              "          google.colab.kernel.accessAllowed ? 'block' : 'none';\n",
              "\n",
              "        async function convertToInteractive(key) {\n",
              "          const element = document.querySelector('#df-06133703-c6c7-48be-a7dd-2dc6a41a2484');\n",
              "          const dataTable =\n",
              "            await google.colab.kernel.invokeFunction('convertToInteractive',\n",
              "                                                     [key], {});\n",
              "          if (!dataTable) return;\n",
              "\n",
              "          const docLinkHtml = 'Like what you see? Visit the ' +\n",
              "            '<a target=\"_blank\" href=https://colab.research.google.com/notebooks/data_table.ipynb>data table notebook</a>'\n",
              "            + ' to learn more about interactive tables.';\n",
              "          element.innerHTML = '';\n",
              "          dataTable['output_type'] = 'display_data';\n",
              "          await google.colab.output.renderOutput(dataTable, element);\n",
              "          const docLink = document.createElement('div');\n",
              "          docLink.innerHTML = docLinkHtml;\n",
              "          element.appendChild(docLink);\n",
              "        }\n",
              "      </script>\n",
              "    </div>\n",
              "  </div>\n",
              "  "
            ]
          },
          "metadata": {},
          "execution_count": 30
        }
      ]
    },
    {
      "cell_type": "markdown",
      "source": [
        "Com os DataFrame criados, as informações devem ser unificadas em um único DataFrame.\n",
        "\n",
        "É possível manter os dados separados, porém a análise dos mesmos ficará mais longa. A opção de manter os dados separados é eficaz para a criação de banco de dados *Star Schema*."
      ],
      "metadata": {
        "id": "J9X7fg8r27dg"
      }
    },
    {
      "cell_type": "markdown",
      "source": [
        "Para a união dos DataFrame, irei uni-los em pares. Isso permite que eu verifique meu progresso e garanta que não está ocorrendo nenhum erro."
      ],
      "metadata": {
        "id": "Zbk3Wy-_5gBi"
      }
    },
    {
      "cell_type": "markdown",
      "source": [
        "Primeiramente irei unir as informações contidas em *customer* e *phone*. Para garantir que todas as informações foram mantidas, irei verificar o tamanho final dos DataFrames."
      ],
      "metadata": {
        "id": "Li38Cm3N6181"
      }
    },
    {
      "cell_type": "code",
      "source": [
        "dados_customer_phone = pd.merge(\n",
        "    left = dados_customer,\n",
        "    right = dados_phone,\n",
        "    left_index = True,\n",
        "    right_index = True\n",
        ")"
      ],
      "metadata": {
        "id": "e1zirw8w4WpC"
      },
      "execution_count": 31,
      "outputs": []
    },
    {
      "cell_type": "code",
      "source": [
        "print(f'O primeiro DataFrame contém {dados_customer.shape[0]} linhas. O segundo contém {dados_phone.shape[0]}. A união contém {dados_customer_phone.shape[0]}')"
      ],
      "metadata": {
        "colab": {
          "base_uri": "https://localhost:8080/"
        },
        "id": "oi_mBv3U4WiT",
        "outputId": "5ce68bf3-d8a7-423b-f94a-0868df7890fb"
      },
      "execution_count": 32,
      "outputs": [
        {
          "output_type": "stream",
          "name": "stdout",
          "text": [
            "O primeiro DataFrame contém 7267 linhas. O segundo contém 7267. A união contém 7267\n"
          ]
        }
      ]
    },
    {
      "cell_type": "code",
      "source": [
        "dados_customer_phone.head()"
      ],
      "metadata": {
        "colab": {
          "base_uri": "https://localhost:8080/",
          "height": 206
        },
        "id": "hhVFpTNk4WOL",
        "outputId": "4f50fe1c-dc52-47c6-8297-ab249900c834"
      },
      "execution_count": 33,
      "outputs": [
        {
          "output_type": "execute_result",
          "data": {
            "text/plain": [
              "   gender  SeniorCitizen Partner Dependents  tenure PhoneService MultipleLines\n",
              "0  Female              0     Yes        Yes       9          Yes            No\n",
              "1    Male              0      No         No       9          Yes           Yes\n",
              "2    Male              0      No         No       4          Yes            No\n",
              "3    Male              1     Yes         No      13          Yes            No\n",
              "4  Female              1     Yes         No       3          Yes            No"
            ],
            "text/html": [
              "\n",
              "  <div id=\"df-86a6c061-6b97-4891-8e0d-27c6e14fc858\">\n",
              "    <div class=\"colab-df-container\">\n",
              "      <div>\n",
              "<style scoped>\n",
              "    .dataframe tbody tr th:only-of-type {\n",
              "        vertical-align: middle;\n",
              "    }\n",
              "\n",
              "    .dataframe tbody tr th {\n",
              "        vertical-align: top;\n",
              "    }\n",
              "\n",
              "    .dataframe thead th {\n",
              "        text-align: right;\n",
              "    }\n",
              "</style>\n",
              "<table border=\"1\" class=\"dataframe\">\n",
              "  <thead>\n",
              "    <tr style=\"text-align: right;\">\n",
              "      <th></th>\n",
              "      <th>gender</th>\n",
              "      <th>SeniorCitizen</th>\n",
              "      <th>Partner</th>\n",
              "      <th>Dependents</th>\n",
              "      <th>tenure</th>\n",
              "      <th>PhoneService</th>\n",
              "      <th>MultipleLines</th>\n",
              "    </tr>\n",
              "  </thead>\n",
              "  <tbody>\n",
              "    <tr>\n",
              "      <th>0</th>\n",
              "      <td>Female</td>\n",
              "      <td>0</td>\n",
              "      <td>Yes</td>\n",
              "      <td>Yes</td>\n",
              "      <td>9</td>\n",
              "      <td>Yes</td>\n",
              "      <td>No</td>\n",
              "    </tr>\n",
              "    <tr>\n",
              "      <th>1</th>\n",
              "      <td>Male</td>\n",
              "      <td>0</td>\n",
              "      <td>No</td>\n",
              "      <td>No</td>\n",
              "      <td>9</td>\n",
              "      <td>Yes</td>\n",
              "      <td>Yes</td>\n",
              "    </tr>\n",
              "    <tr>\n",
              "      <th>2</th>\n",
              "      <td>Male</td>\n",
              "      <td>0</td>\n",
              "      <td>No</td>\n",
              "      <td>No</td>\n",
              "      <td>4</td>\n",
              "      <td>Yes</td>\n",
              "      <td>No</td>\n",
              "    </tr>\n",
              "    <tr>\n",
              "      <th>3</th>\n",
              "      <td>Male</td>\n",
              "      <td>1</td>\n",
              "      <td>Yes</td>\n",
              "      <td>No</td>\n",
              "      <td>13</td>\n",
              "      <td>Yes</td>\n",
              "      <td>No</td>\n",
              "    </tr>\n",
              "    <tr>\n",
              "      <th>4</th>\n",
              "      <td>Female</td>\n",
              "      <td>1</td>\n",
              "      <td>Yes</td>\n",
              "      <td>No</td>\n",
              "      <td>3</td>\n",
              "      <td>Yes</td>\n",
              "      <td>No</td>\n",
              "    </tr>\n",
              "  </tbody>\n",
              "</table>\n",
              "</div>\n",
              "      <button class=\"colab-df-convert\" onclick=\"convertToInteractive('df-86a6c061-6b97-4891-8e0d-27c6e14fc858')\"\n",
              "              title=\"Convert this dataframe to an interactive table.\"\n",
              "              style=\"display:none;\">\n",
              "        \n",
              "  <svg xmlns=\"http://www.w3.org/2000/svg\" height=\"24px\"viewBox=\"0 0 24 24\"\n",
              "       width=\"24px\">\n",
              "    <path d=\"M0 0h24v24H0V0z\" fill=\"none\"/>\n",
              "    <path d=\"M18.56 5.44l.94 2.06.94-2.06 2.06-.94-2.06-.94-.94-2.06-.94 2.06-2.06.94zm-11 1L8.5 8.5l.94-2.06 2.06-.94-2.06-.94L8.5 2.5l-.94 2.06-2.06.94zm10 10l.94 2.06.94-2.06 2.06-.94-2.06-.94-.94-2.06-.94 2.06-2.06.94z\"/><path d=\"M17.41 7.96l-1.37-1.37c-.4-.4-.92-.59-1.43-.59-.52 0-1.04.2-1.43.59L10.3 9.45l-7.72 7.72c-.78.78-.78 2.05 0 2.83L4 21.41c.39.39.9.59 1.41.59.51 0 1.02-.2 1.41-.59l7.78-7.78 2.81-2.81c.8-.78.8-2.07 0-2.86zM5.41 20L4 18.59l7.72-7.72 1.47 1.35L5.41 20z\"/>\n",
              "  </svg>\n",
              "      </button>\n",
              "      \n",
              "  <style>\n",
              "    .colab-df-container {\n",
              "      display:flex;\n",
              "      flex-wrap:wrap;\n",
              "      gap: 12px;\n",
              "    }\n",
              "\n",
              "    .colab-df-convert {\n",
              "      background-color: #E8F0FE;\n",
              "      border: none;\n",
              "      border-radius: 50%;\n",
              "      cursor: pointer;\n",
              "      display: none;\n",
              "      fill: #1967D2;\n",
              "      height: 32px;\n",
              "      padding: 0 0 0 0;\n",
              "      width: 32px;\n",
              "    }\n",
              "\n",
              "    .colab-df-convert:hover {\n",
              "      background-color: #E2EBFA;\n",
              "      box-shadow: 0px 1px 2px rgba(60, 64, 67, 0.3), 0px 1px 3px 1px rgba(60, 64, 67, 0.15);\n",
              "      fill: #174EA6;\n",
              "    }\n",
              "\n",
              "    [theme=dark] .colab-df-convert {\n",
              "      background-color: #3B4455;\n",
              "      fill: #D2E3FC;\n",
              "    }\n",
              "\n",
              "    [theme=dark] .colab-df-convert:hover {\n",
              "      background-color: #434B5C;\n",
              "      box-shadow: 0px 1px 3px 1px rgba(0, 0, 0, 0.15);\n",
              "      filter: drop-shadow(0px 1px 2px rgba(0, 0, 0, 0.3));\n",
              "      fill: #FFFFFF;\n",
              "    }\n",
              "  </style>\n",
              "\n",
              "      <script>\n",
              "        const buttonEl =\n",
              "          document.querySelector('#df-86a6c061-6b97-4891-8e0d-27c6e14fc858 button.colab-df-convert');\n",
              "        buttonEl.style.display =\n",
              "          google.colab.kernel.accessAllowed ? 'block' : 'none';\n",
              "\n",
              "        async function convertToInteractive(key) {\n",
              "          const element = document.querySelector('#df-86a6c061-6b97-4891-8e0d-27c6e14fc858');\n",
              "          const dataTable =\n",
              "            await google.colab.kernel.invokeFunction('convertToInteractive',\n",
              "                                                     [key], {});\n",
              "          if (!dataTable) return;\n",
              "\n",
              "          const docLinkHtml = 'Like what you see? Visit the ' +\n",
              "            '<a target=\"_blank\" href=https://colab.research.google.com/notebooks/data_table.ipynb>data table notebook</a>'\n",
              "            + ' to learn more about interactive tables.';\n",
              "          element.innerHTML = '';\n",
              "          dataTable['output_type'] = 'display_data';\n",
              "          await google.colab.output.renderOutput(dataTable, element);\n",
              "          const docLink = document.createElement('div');\n",
              "          docLink.innerHTML = docLinkHtml;\n",
              "          element.appendChild(docLink);\n",
              "        }\n",
              "      </script>\n",
              "    </div>\n",
              "  </div>\n",
              "  "
            ]
          },
          "metadata": {},
          "execution_count": 33
        }
      ]
    },
    {
      "cell_type": "markdown",
      "source": [
        "Conferindo as informações com o arquivo original, posso continuar e fazer a união das informações referentes as colunas *internet* e *account*"
      ],
      "metadata": {
        "id": "-kjA0AM37fsD"
      }
    },
    {
      "cell_type": "code",
      "source": [
        "dados_internet_account = pd.merge(\n",
        "    left = dados_internet,\n",
        "    right = dados_account,\n",
        "    left_index = True,\n",
        "    right_index = True\n",
        ")"
      ],
      "metadata": {
        "id": "4uNFEDdr7scg"
      },
      "execution_count": 34,
      "outputs": []
    },
    {
      "cell_type": "code",
      "source": [
        "print(f'O primeiro DataFrame contém {dados_internet.shape[0]} linhas. O segundo contém {dados_account.shape[0]}. A união contém {dados_internet_account.shape[0]}')"
      ],
      "metadata": {
        "colab": {
          "base_uri": "https://localhost:8080/"
        },
        "id": "-_ZnT9qy7sUY",
        "outputId": "602627c0-14bd-461f-9bb6-b97d4678a7c8"
      },
      "execution_count": 35,
      "outputs": [
        {
          "output_type": "stream",
          "name": "stdout",
          "text": [
            "O primeiro DataFrame contém 7267 linhas. O segundo contém 7267. A união contém 7267\n"
          ]
        }
      ]
    },
    {
      "cell_type": "code",
      "source": [
        "dados_internet_account.head()"
      ],
      "metadata": {
        "colab": {
          "base_uri": "https://localhost:8080/",
          "height": 206
        },
        "id": "s_Bk1bln7sBY",
        "outputId": "d2933f1f-3831-4576-8cec-f961d322724e"
      },
      "execution_count": 36,
      "outputs": [
        {
          "output_type": "execute_result",
          "data": {
            "text/plain": [
              "  InternetService OnlineSecurity OnlineBackup DeviceProtection TechSupport  \\\n",
              "0             DSL             No          Yes               No         Yes   \n",
              "1             DSL             No           No               No          No   \n",
              "2     Fiber optic             No           No              Yes          No   \n",
              "3     Fiber optic             No          Yes              Yes          No   \n",
              "4     Fiber optic             No           No               No         Yes   \n",
              "\n",
              "  StreamingTV StreamingMovies        Contract PaperlessBilling  \\\n",
              "0         Yes              No        One year              Yes   \n",
              "1          No             Yes  Month-to-month               No   \n",
              "2          No              No  Month-to-month              Yes   \n",
              "3         Yes             Yes  Month-to-month              Yes   \n",
              "4         Yes              No  Month-to-month              Yes   \n",
              "\n",
              "      PaymentMethod  Charges.Monthly Charges.Total  \n",
              "0      Mailed check             65.6         593.3  \n",
              "1      Mailed check             59.9         542.4  \n",
              "2  Electronic check             73.9        280.85  \n",
              "3  Electronic check             98.0       1237.85  \n",
              "4      Mailed check             83.9         267.4  "
            ],
            "text/html": [
              "\n",
              "  <div id=\"df-f5413bbf-90a2-4ef5-8c4c-e201aeab65d3\">\n",
              "    <div class=\"colab-df-container\">\n",
              "      <div>\n",
              "<style scoped>\n",
              "    .dataframe tbody tr th:only-of-type {\n",
              "        vertical-align: middle;\n",
              "    }\n",
              "\n",
              "    .dataframe tbody tr th {\n",
              "        vertical-align: top;\n",
              "    }\n",
              "\n",
              "    .dataframe thead th {\n",
              "        text-align: right;\n",
              "    }\n",
              "</style>\n",
              "<table border=\"1\" class=\"dataframe\">\n",
              "  <thead>\n",
              "    <tr style=\"text-align: right;\">\n",
              "      <th></th>\n",
              "      <th>InternetService</th>\n",
              "      <th>OnlineSecurity</th>\n",
              "      <th>OnlineBackup</th>\n",
              "      <th>DeviceProtection</th>\n",
              "      <th>TechSupport</th>\n",
              "      <th>StreamingTV</th>\n",
              "      <th>StreamingMovies</th>\n",
              "      <th>Contract</th>\n",
              "      <th>PaperlessBilling</th>\n",
              "      <th>PaymentMethod</th>\n",
              "      <th>Charges.Monthly</th>\n",
              "      <th>Charges.Total</th>\n",
              "    </tr>\n",
              "  </thead>\n",
              "  <tbody>\n",
              "    <tr>\n",
              "      <th>0</th>\n",
              "      <td>DSL</td>\n",
              "      <td>No</td>\n",
              "      <td>Yes</td>\n",
              "      <td>No</td>\n",
              "      <td>Yes</td>\n",
              "      <td>Yes</td>\n",
              "      <td>No</td>\n",
              "      <td>One year</td>\n",
              "      <td>Yes</td>\n",
              "      <td>Mailed check</td>\n",
              "      <td>65.6</td>\n",
              "      <td>593.3</td>\n",
              "    </tr>\n",
              "    <tr>\n",
              "      <th>1</th>\n",
              "      <td>DSL</td>\n",
              "      <td>No</td>\n",
              "      <td>No</td>\n",
              "      <td>No</td>\n",
              "      <td>No</td>\n",
              "      <td>No</td>\n",
              "      <td>Yes</td>\n",
              "      <td>Month-to-month</td>\n",
              "      <td>No</td>\n",
              "      <td>Mailed check</td>\n",
              "      <td>59.9</td>\n",
              "      <td>542.4</td>\n",
              "    </tr>\n",
              "    <tr>\n",
              "      <th>2</th>\n",
              "      <td>Fiber optic</td>\n",
              "      <td>No</td>\n",
              "      <td>No</td>\n",
              "      <td>Yes</td>\n",
              "      <td>No</td>\n",
              "      <td>No</td>\n",
              "      <td>No</td>\n",
              "      <td>Month-to-month</td>\n",
              "      <td>Yes</td>\n",
              "      <td>Electronic check</td>\n",
              "      <td>73.9</td>\n",
              "      <td>280.85</td>\n",
              "    </tr>\n",
              "    <tr>\n",
              "      <th>3</th>\n",
              "      <td>Fiber optic</td>\n",
              "      <td>No</td>\n",
              "      <td>Yes</td>\n",
              "      <td>Yes</td>\n",
              "      <td>No</td>\n",
              "      <td>Yes</td>\n",
              "      <td>Yes</td>\n",
              "      <td>Month-to-month</td>\n",
              "      <td>Yes</td>\n",
              "      <td>Electronic check</td>\n",
              "      <td>98.0</td>\n",
              "      <td>1237.85</td>\n",
              "    </tr>\n",
              "    <tr>\n",
              "      <th>4</th>\n",
              "      <td>Fiber optic</td>\n",
              "      <td>No</td>\n",
              "      <td>No</td>\n",
              "      <td>No</td>\n",
              "      <td>Yes</td>\n",
              "      <td>Yes</td>\n",
              "      <td>No</td>\n",
              "      <td>Month-to-month</td>\n",
              "      <td>Yes</td>\n",
              "      <td>Mailed check</td>\n",
              "      <td>83.9</td>\n",
              "      <td>267.4</td>\n",
              "    </tr>\n",
              "  </tbody>\n",
              "</table>\n",
              "</div>\n",
              "      <button class=\"colab-df-convert\" onclick=\"convertToInteractive('df-f5413bbf-90a2-4ef5-8c4c-e201aeab65d3')\"\n",
              "              title=\"Convert this dataframe to an interactive table.\"\n",
              "              style=\"display:none;\">\n",
              "        \n",
              "  <svg xmlns=\"http://www.w3.org/2000/svg\" height=\"24px\"viewBox=\"0 0 24 24\"\n",
              "       width=\"24px\">\n",
              "    <path d=\"M0 0h24v24H0V0z\" fill=\"none\"/>\n",
              "    <path d=\"M18.56 5.44l.94 2.06.94-2.06 2.06-.94-2.06-.94-.94-2.06-.94 2.06-2.06.94zm-11 1L8.5 8.5l.94-2.06 2.06-.94-2.06-.94L8.5 2.5l-.94 2.06-2.06.94zm10 10l.94 2.06.94-2.06 2.06-.94-2.06-.94-.94-2.06-.94 2.06-2.06.94z\"/><path d=\"M17.41 7.96l-1.37-1.37c-.4-.4-.92-.59-1.43-.59-.52 0-1.04.2-1.43.59L10.3 9.45l-7.72 7.72c-.78.78-.78 2.05 0 2.83L4 21.41c.39.39.9.59 1.41.59.51 0 1.02-.2 1.41-.59l7.78-7.78 2.81-2.81c.8-.78.8-2.07 0-2.86zM5.41 20L4 18.59l7.72-7.72 1.47 1.35L5.41 20z\"/>\n",
              "  </svg>\n",
              "      </button>\n",
              "      \n",
              "  <style>\n",
              "    .colab-df-container {\n",
              "      display:flex;\n",
              "      flex-wrap:wrap;\n",
              "      gap: 12px;\n",
              "    }\n",
              "\n",
              "    .colab-df-convert {\n",
              "      background-color: #E8F0FE;\n",
              "      border: none;\n",
              "      border-radius: 50%;\n",
              "      cursor: pointer;\n",
              "      display: none;\n",
              "      fill: #1967D2;\n",
              "      height: 32px;\n",
              "      padding: 0 0 0 0;\n",
              "      width: 32px;\n",
              "    }\n",
              "\n",
              "    .colab-df-convert:hover {\n",
              "      background-color: #E2EBFA;\n",
              "      box-shadow: 0px 1px 2px rgba(60, 64, 67, 0.3), 0px 1px 3px 1px rgba(60, 64, 67, 0.15);\n",
              "      fill: #174EA6;\n",
              "    }\n",
              "\n",
              "    [theme=dark] .colab-df-convert {\n",
              "      background-color: #3B4455;\n",
              "      fill: #D2E3FC;\n",
              "    }\n",
              "\n",
              "    [theme=dark] .colab-df-convert:hover {\n",
              "      background-color: #434B5C;\n",
              "      box-shadow: 0px 1px 3px 1px rgba(0, 0, 0, 0.15);\n",
              "      filter: drop-shadow(0px 1px 2px rgba(0, 0, 0, 0.3));\n",
              "      fill: #FFFFFF;\n",
              "    }\n",
              "  </style>\n",
              "\n",
              "      <script>\n",
              "        const buttonEl =\n",
              "          document.querySelector('#df-f5413bbf-90a2-4ef5-8c4c-e201aeab65d3 button.colab-df-convert');\n",
              "        buttonEl.style.display =\n",
              "          google.colab.kernel.accessAllowed ? 'block' : 'none';\n",
              "\n",
              "        async function convertToInteractive(key) {\n",
              "          const element = document.querySelector('#df-f5413bbf-90a2-4ef5-8c4c-e201aeab65d3');\n",
              "          const dataTable =\n",
              "            await google.colab.kernel.invokeFunction('convertToInteractive',\n",
              "                                                     [key], {});\n",
              "          if (!dataTable) return;\n",
              "\n",
              "          const docLinkHtml = 'Like what you see? Visit the ' +\n",
              "            '<a target=\"_blank\" href=https://colab.research.google.com/notebooks/data_table.ipynb>data table notebook</a>'\n",
              "            + ' to learn more about interactive tables.';\n",
              "          element.innerHTML = '';\n",
              "          dataTable['output_type'] = 'display_data';\n",
              "          await google.colab.output.renderOutput(dataTable, element);\n",
              "          const docLink = document.createElement('div');\n",
              "          docLink.innerHTML = docLinkHtml;\n",
              "          element.appendChild(docLink);\n",
              "        }\n",
              "      </script>\n",
              "    </div>\n",
              "  </div>\n",
              "  "
            ]
          },
          "metadata": {},
          "execution_count": 36
        }
      ]
    },
    {
      "cell_type": "markdown",
      "source": [
        "Após isso, podemos unir os dois DataFrames, e por último, incluir as informações em um novo DataFrames."
      ],
      "metadata": {
        "id": "mTzhrSde8HUI"
      }
    },
    {
      "cell_type": "code",
      "source": [
        "dados_colunas = pd.merge(\n",
        "    left = dados_customer_phone,\n",
        "    right = dados_internet_account,\n",
        "    left_index = True,\n",
        "    right_index = True\n",
        ")"
      ],
      "metadata": {
        "id": "TS1KGXTG8SLP"
      },
      "execution_count": 37,
      "outputs": []
    },
    {
      "cell_type": "code",
      "source": [
        "dados_normal = pd.merge(\n",
        "    left = dados,\n",
        "    right = dados_colunas,\n",
        "    left_index = True,\n",
        "    right_index = True\n",
        ")"
      ],
      "metadata": {
        "id": "TIIbxAxE8SJQ"
      },
      "execution_count": 38,
      "outputs": []
    },
    {
      "cell_type": "code",
      "source": [
        "dados_normal.head()"
      ],
      "metadata": {
        "colab": {
          "base_uri": "https://localhost:8080/",
          "height": 560
        },
        "id": "fBmCV7Ko8SD-",
        "outputId": "f88fb62b-d9c2-49bd-e193-966de06c8305"
      },
      "execution_count": 39,
      "outputs": [
        {
          "output_type": "execute_result",
          "data": {
            "text/plain": [
              "   customerID Churn                                           customer  \\\n",
              "0  0002-ORFBO    No  {'gender': 'Female', 'SeniorCitizen': 0, 'Part...   \n",
              "1  0003-MKNFE    No  {'gender': 'Male', 'SeniorCitizen': 0, 'Partne...   \n",
              "2  0004-TLHLJ   Yes  {'gender': 'Male', 'SeniorCitizen': 0, 'Partne...   \n",
              "3  0011-IGKFF   Yes  {'gender': 'Male', 'SeniorCitizen': 1, 'Partne...   \n",
              "4  0013-EXCHZ   Yes  {'gender': 'Female', 'SeniorCitizen': 1, 'Part...   \n",
              "\n",
              "                                             phone  \\\n",
              "0   {'PhoneService': 'Yes', 'MultipleLines': 'No'}   \n",
              "1  {'PhoneService': 'Yes', 'MultipleLines': 'Yes'}   \n",
              "2   {'PhoneService': 'Yes', 'MultipleLines': 'No'}   \n",
              "3   {'PhoneService': 'Yes', 'MultipleLines': 'No'}   \n",
              "4   {'PhoneService': 'Yes', 'MultipleLines': 'No'}   \n",
              "\n",
              "                                            internet  \\\n",
              "0  {'InternetService': 'DSL', 'OnlineSecurity': '...   \n",
              "1  {'InternetService': 'DSL', 'OnlineSecurity': '...   \n",
              "2  {'InternetService': 'Fiber optic', 'OnlineSecu...   \n",
              "3  {'InternetService': 'Fiber optic', 'OnlineSecu...   \n",
              "4  {'InternetService': 'Fiber optic', 'OnlineSecu...   \n",
              "\n",
              "                                             account  gender  SeniorCitizen  \\\n",
              "0  {'Contract': 'One year', 'PaperlessBilling': '...  Female              0   \n",
              "1  {'Contract': 'Month-to-month', 'PaperlessBilli...    Male              0   \n",
              "2  {'Contract': 'Month-to-month', 'PaperlessBilli...    Male              0   \n",
              "3  {'Contract': 'Month-to-month', 'PaperlessBilli...    Male              1   \n",
              "4  {'Contract': 'Month-to-month', 'PaperlessBilli...  Female              1   \n",
              "\n",
              "  Partner Dependents  tenure  ... OnlineSecurity OnlineBackup  \\\n",
              "0     Yes        Yes       9  ...             No          Yes   \n",
              "1      No         No       9  ...             No           No   \n",
              "2      No         No       4  ...             No           No   \n",
              "3     Yes         No      13  ...             No          Yes   \n",
              "4     Yes         No       3  ...             No           No   \n",
              "\n",
              "  DeviceProtection TechSupport StreamingTV StreamingMovies        Contract  \\\n",
              "0               No         Yes         Yes              No        One year   \n",
              "1               No          No          No             Yes  Month-to-month   \n",
              "2              Yes          No          No              No  Month-to-month   \n",
              "3              Yes          No         Yes             Yes  Month-to-month   \n",
              "4               No         Yes         Yes              No  Month-to-month   \n",
              "\n",
              "  PaperlessBilling     PaymentMethod Charges.Monthly Charges.Total  \n",
              "0              Yes      Mailed check            65.6         593.3  \n",
              "1               No      Mailed check            59.9         542.4  \n",
              "2              Yes  Electronic check            73.9        280.85  \n",
              "3              Yes  Electronic check            98.0       1237.85  \n",
              "4              Yes      Mailed check            83.9         267.4  \n",
              "\n",
              "[5 rows x 25 columns]"
            ],
            "text/html": [
              "\n",
              "  <div id=\"df-ac0e9a32-05a3-4af7-bd2b-b9a35b60aa01\">\n",
              "    <div class=\"colab-df-container\">\n",
              "      <div>\n",
              "<style scoped>\n",
              "    .dataframe tbody tr th:only-of-type {\n",
              "        vertical-align: middle;\n",
              "    }\n",
              "\n",
              "    .dataframe tbody tr th {\n",
              "        vertical-align: top;\n",
              "    }\n",
              "\n",
              "    .dataframe thead th {\n",
              "        text-align: right;\n",
              "    }\n",
              "</style>\n",
              "<table border=\"1\" class=\"dataframe\">\n",
              "  <thead>\n",
              "    <tr style=\"text-align: right;\">\n",
              "      <th></th>\n",
              "      <th>customerID</th>\n",
              "      <th>Churn</th>\n",
              "      <th>customer</th>\n",
              "      <th>phone</th>\n",
              "      <th>internet</th>\n",
              "      <th>account</th>\n",
              "      <th>gender</th>\n",
              "      <th>SeniorCitizen</th>\n",
              "      <th>Partner</th>\n",
              "      <th>Dependents</th>\n",
              "      <th>tenure</th>\n",
              "      <th>...</th>\n",
              "      <th>OnlineSecurity</th>\n",
              "      <th>OnlineBackup</th>\n",
              "      <th>DeviceProtection</th>\n",
              "      <th>TechSupport</th>\n",
              "      <th>StreamingTV</th>\n",
              "      <th>StreamingMovies</th>\n",
              "      <th>Contract</th>\n",
              "      <th>PaperlessBilling</th>\n",
              "      <th>PaymentMethod</th>\n",
              "      <th>Charges.Monthly</th>\n",
              "      <th>Charges.Total</th>\n",
              "    </tr>\n",
              "  </thead>\n",
              "  <tbody>\n",
              "    <tr>\n",
              "      <th>0</th>\n",
              "      <td>0002-ORFBO</td>\n",
              "      <td>No</td>\n",
              "      <td>{'gender': 'Female', 'SeniorCitizen': 0, 'Part...</td>\n",
              "      <td>{'PhoneService': 'Yes', 'MultipleLines': 'No'}</td>\n",
              "      <td>{'InternetService': 'DSL', 'OnlineSecurity': '...</td>\n",
              "      <td>{'Contract': 'One year', 'PaperlessBilling': '...</td>\n",
              "      <td>Female</td>\n",
              "      <td>0</td>\n",
              "      <td>Yes</td>\n",
              "      <td>Yes</td>\n",
              "      <td>9</td>\n",
              "      <td>...</td>\n",
              "      <td>No</td>\n",
              "      <td>Yes</td>\n",
              "      <td>No</td>\n",
              "      <td>Yes</td>\n",
              "      <td>Yes</td>\n",
              "      <td>No</td>\n",
              "      <td>One year</td>\n",
              "      <td>Yes</td>\n",
              "      <td>Mailed check</td>\n",
              "      <td>65.6</td>\n",
              "      <td>593.3</td>\n",
              "    </tr>\n",
              "    <tr>\n",
              "      <th>1</th>\n",
              "      <td>0003-MKNFE</td>\n",
              "      <td>No</td>\n",
              "      <td>{'gender': 'Male', 'SeniorCitizen': 0, 'Partne...</td>\n",
              "      <td>{'PhoneService': 'Yes', 'MultipleLines': 'Yes'}</td>\n",
              "      <td>{'InternetService': 'DSL', 'OnlineSecurity': '...</td>\n",
              "      <td>{'Contract': 'Month-to-month', 'PaperlessBilli...</td>\n",
              "      <td>Male</td>\n",
              "      <td>0</td>\n",
              "      <td>No</td>\n",
              "      <td>No</td>\n",
              "      <td>9</td>\n",
              "      <td>...</td>\n",
              "      <td>No</td>\n",
              "      <td>No</td>\n",
              "      <td>No</td>\n",
              "      <td>No</td>\n",
              "      <td>No</td>\n",
              "      <td>Yes</td>\n",
              "      <td>Month-to-month</td>\n",
              "      <td>No</td>\n",
              "      <td>Mailed check</td>\n",
              "      <td>59.9</td>\n",
              "      <td>542.4</td>\n",
              "    </tr>\n",
              "    <tr>\n",
              "      <th>2</th>\n",
              "      <td>0004-TLHLJ</td>\n",
              "      <td>Yes</td>\n",
              "      <td>{'gender': 'Male', 'SeniorCitizen': 0, 'Partne...</td>\n",
              "      <td>{'PhoneService': 'Yes', 'MultipleLines': 'No'}</td>\n",
              "      <td>{'InternetService': 'Fiber optic', 'OnlineSecu...</td>\n",
              "      <td>{'Contract': 'Month-to-month', 'PaperlessBilli...</td>\n",
              "      <td>Male</td>\n",
              "      <td>0</td>\n",
              "      <td>No</td>\n",
              "      <td>No</td>\n",
              "      <td>4</td>\n",
              "      <td>...</td>\n",
              "      <td>No</td>\n",
              "      <td>No</td>\n",
              "      <td>Yes</td>\n",
              "      <td>No</td>\n",
              "      <td>No</td>\n",
              "      <td>No</td>\n",
              "      <td>Month-to-month</td>\n",
              "      <td>Yes</td>\n",
              "      <td>Electronic check</td>\n",
              "      <td>73.9</td>\n",
              "      <td>280.85</td>\n",
              "    </tr>\n",
              "    <tr>\n",
              "      <th>3</th>\n",
              "      <td>0011-IGKFF</td>\n",
              "      <td>Yes</td>\n",
              "      <td>{'gender': 'Male', 'SeniorCitizen': 1, 'Partne...</td>\n",
              "      <td>{'PhoneService': 'Yes', 'MultipleLines': 'No'}</td>\n",
              "      <td>{'InternetService': 'Fiber optic', 'OnlineSecu...</td>\n",
              "      <td>{'Contract': 'Month-to-month', 'PaperlessBilli...</td>\n",
              "      <td>Male</td>\n",
              "      <td>1</td>\n",
              "      <td>Yes</td>\n",
              "      <td>No</td>\n",
              "      <td>13</td>\n",
              "      <td>...</td>\n",
              "      <td>No</td>\n",
              "      <td>Yes</td>\n",
              "      <td>Yes</td>\n",
              "      <td>No</td>\n",
              "      <td>Yes</td>\n",
              "      <td>Yes</td>\n",
              "      <td>Month-to-month</td>\n",
              "      <td>Yes</td>\n",
              "      <td>Electronic check</td>\n",
              "      <td>98.0</td>\n",
              "      <td>1237.85</td>\n",
              "    </tr>\n",
              "    <tr>\n",
              "      <th>4</th>\n",
              "      <td>0013-EXCHZ</td>\n",
              "      <td>Yes</td>\n",
              "      <td>{'gender': 'Female', 'SeniorCitizen': 1, 'Part...</td>\n",
              "      <td>{'PhoneService': 'Yes', 'MultipleLines': 'No'}</td>\n",
              "      <td>{'InternetService': 'Fiber optic', 'OnlineSecu...</td>\n",
              "      <td>{'Contract': 'Month-to-month', 'PaperlessBilli...</td>\n",
              "      <td>Female</td>\n",
              "      <td>1</td>\n",
              "      <td>Yes</td>\n",
              "      <td>No</td>\n",
              "      <td>3</td>\n",
              "      <td>...</td>\n",
              "      <td>No</td>\n",
              "      <td>No</td>\n",
              "      <td>No</td>\n",
              "      <td>Yes</td>\n",
              "      <td>Yes</td>\n",
              "      <td>No</td>\n",
              "      <td>Month-to-month</td>\n",
              "      <td>Yes</td>\n",
              "      <td>Mailed check</td>\n",
              "      <td>83.9</td>\n",
              "      <td>267.4</td>\n",
              "    </tr>\n",
              "  </tbody>\n",
              "</table>\n",
              "<p>5 rows × 25 columns</p>\n",
              "</div>\n",
              "      <button class=\"colab-df-convert\" onclick=\"convertToInteractive('df-ac0e9a32-05a3-4af7-bd2b-b9a35b60aa01')\"\n",
              "              title=\"Convert this dataframe to an interactive table.\"\n",
              "              style=\"display:none;\">\n",
              "        \n",
              "  <svg xmlns=\"http://www.w3.org/2000/svg\" height=\"24px\"viewBox=\"0 0 24 24\"\n",
              "       width=\"24px\">\n",
              "    <path d=\"M0 0h24v24H0V0z\" fill=\"none\"/>\n",
              "    <path d=\"M18.56 5.44l.94 2.06.94-2.06 2.06-.94-2.06-.94-.94-2.06-.94 2.06-2.06.94zm-11 1L8.5 8.5l.94-2.06 2.06-.94-2.06-.94L8.5 2.5l-.94 2.06-2.06.94zm10 10l.94 2.06.94-2.06 2.06-.94-2.06-.94-.94-2.06-.94 2.06-2.06.94z\"/><path d=\"M17.41 7.96l-1.37-1.37c-.4-.4-.92-.59-1.43-.59-.52 0-1.04.2-1.43.59L10.3 9.45l-7.72 7.72c-.78.78-.78 2.05 0 2.83L4 21.41c.39.39.9.59 1.41.59.51 0 1.02-.2 1.41-.59l7.78-7.78 2.81-2.81c.8-.78.8-2.07 0-2.86zM5.41 20L4 18.59l7.72-7.72 1.47 1.35L5.41 20z\"/>\n",
              "  </svg>\n",
              "      </button>\n",
              "      \n",
              "  <style>\n",
              "    .colab-df-container {\n",
              "      display:flex;\n",
              "      flex-wrap:wrap;\n",
              "      gap: 12px;\n",
              "    }\n",
              "\n",
              "    .colab-df-convert {\n",
              "      background-color: #E8F0FE;\n",
              "      border: none;\n",
              "      border-radius: 50%;\n",
              "      cursor: pointer;\n",
              "      display: none;\n",
              "      fill: #1967D2;\n",
              "      height: 32px;\n",
              "      padding: 0 0 0 0;\n",
              "      width: 32px;\n",
              "    }\n",
              "\n",
              "    .colab-df-convert:hover {\n",
              "      background-color: #E2EBFA;\n",
              "      box-shadow: 0px 1px 2px rgba(60, 64, 67, 0.3), 0px 1px 3px 1px rgba(60, 64, 67, 0.15);\n",
              "      fill: #174EA6;\n",
              "    }\n",
              "\n",
              "    [theme=dark] .colab-df-convert {\n",
              "      background-color: #3B4455;\n",
              "      fill: #D2E3FC;\n",
              "    }\n",
              "\n",
              "    [theme=dark] .colab-df-convert:hover {\n",
              "      background-color: #434B5C;\n",
              "      box-shadow: 0px 1px 3px 1px rgba(0, 0, 0, 0.15);\n",
              "      filter: drop-shadow(0px 1px 2px rgba(0, 0, 0, 0.3));\n",
              "      fill: #FFFFFF;\n",
              "    }\n",
              "  </style>\n",
              "\n",
              "      <script>\n",
              "        const buttonEl =\n",
              "          document.querySelector('#df-ac0e9a32-05a3-4af7-bd2b-b9a35b60aa01 button.colab-df-convert');\n",
              "        buttonEl.style.display =\n",
              "          google.colab.kernel.accessAllowed ? 'block' : 'none';\n",
              "\n",
              "        async function convertToInteractive(key) {\n",
              "          const element = document.querySelector('#df-ac0e9a32-05a3-4af7-bd2b-b9a35b60aa01');\n",
              "          const dataTable =\n",
              "            await google.colab.kernel.invokeFunction('convertToInteractive',\n",
              "                                                     [key], {});\n",
              "          if (!dataTable) return;\n",
              "\n",
              "          const docLinkHtml = 'Like what you see? Visit the ' +\n",
              "            '<a target=\"_blank\" href=https://colab.research.google.com/notebooks/data_table.ipynb>data table notebook</a>'\n",
              "            + ' to learn more about interactive tables.';\n",
              "          element.innerHTML = '';\n",
              "          dataTable['output_type'] = 'display_data';\n",
              "          await google.colab.output.renderOutput(dataTable, element);\n",
              "          const docLink = document.createElement('div');\n",
              "          docLink.innerHTML = docLinkHtml;\n",
              "          element.appendChild(docLink);\n",
              "        }\n",
              "      </script>\n",
              "    </div>\n",
              "  </div>\n",
              "  "
            ]
          },
          "metadata": {},
          "execution_count": 39
        }
      ]
    },
    {
      "cell_type": "markdown",
      "source": [
        "Além da criação do novo DataFrame, podemos excluir as colunas que foram normalizadas."
      ],
      "metadata": {
        "id": "t_gtK2g78jcF"
      }
    },
    {
      "cell_type": "code",
      "source": [
        "colunas = ['internet', 'account', 'phone', 'customer']\n",
        "\n",
        "dados_normal.drop(labels = colunas ,axis = 1, inplace = True)\n",
        "dados_normal.head()"
      ],
      "metadata": {
        "colab": {
          "base_uri": "https://localhost:8080/",
          "height": 357
        },
        "id": "NNuT1gwR8qXh",
        "outputId": "4b6a421d-0fbc-4144-abcc-1f9e40a3ab74"
      },
      "execution_count": 40,
      "outputs": [
        {
          "output_type": "execute_result",
          "data": {
            "text/plain": [
              "   customerID Churn  gender  SeniorCitizen Partner Dependents  tenure  \\\n",
              "0  0002-ORFBO    No  Female              0     Yes        Yes       9   \n",
              "1  0003-MKNFE    No    Male              0      No         No       9   \n",
              "2  0004-TLHLJ   Yes    Male              0      No         No       4   \n",
              "3  0011-IGKFF   Yes    Male              1     Yes         No      13   \n",
              "4  0013-EXCHZ   Yes  Female              1     Yes         No       3   \n",
              "\n",
              "  PhoneService MultipleLines InternetService OnlineSecurity OnlineBackup  \\\n",
              "0          Yes            No             DSL             No          Yes   \n",
              "1          Yes           Yes             DSL             No           No   \n",
              "2          Yes            No     Fiber optic             No           No   \n",
              "3          Yes            No     Fiber optic             No          Yes   \n",
              "4          Yes            No     Fiber optic             No           No   \n",
              "\n",
              "  DeviceProtection TechSupport StreamingTV StreamingMovies        Contract  \\\n",
              "0               No         Yes         Yes              No        One year   \n",
              "1               No          No          No             Yes  Month-to-month   \n",
              "2              Yes          No          No              No  Month-to-month   \n",
              "3              Yes          No         Yes             Yes  Month-to-month   \n",
              "4               No         Yes         Yes              No  Month-to-month   \n",
              "\n",
              "  PaperlessBilling     PaymentMethod  Charges.Monthly Charges.Total  \n",
              "0              Yes      Mailed check             65.6         593.3  \n",
              "1               No      Mailed check             59.9         542.4  \n",
              "2              Yes  Electronic check             73.9        280.85  \n",
              "3              Yes  Electronic check             98.0       1237.85  \n",
              "4              Yes      Mailed check             83.9         267.4  "
            ],
            "text/html": [
              "\n",
              "  <div id=\"df-df72463f-f68d-42c2-bef3-3b7cd7cedf4e\">\n",
              "    <div class=\"colab-df-container\">\n",
              "      <div>\n",
              "<style scoped>\n",
              "    .dataframe tbody tr th:only-of-type {\n",
              "        vertical-align: middle;\n",
              "    }\n",
              "\n",
              "    .dataframe tbody tr th {\n",
              "        vertical-align: top;\n",
              "    }\n",
              "\n",
              "    .dataframe thead th {\n",
              "        text-align: right;\n",
              "    }\n",
              "</style>\n",
              "<table border=\"1\" class=\"dataframe\">\n",
              "  <thead>\n",
              "    <tr style=\"text-align: right;\">\n",
              "      <th></th>\n",
              "      <th>customerID</th>\n",
              "      <th>Churn</th>\n",
              "      <th>gender</th>\n",
              "      <th>SeniorCitizen</th>\n",
              "      <th>Partner</th>\n",
              "      <th>Dependents</th>\n",
              "      <th>tenure</th>\n",
              "      <th>PhoneService</th>\n",
              "      <th>MultipleLines</th>\n",
              "      <th>InternetService</th>\n",
              "      <th>OnlineSecurity</th>\n",
              "      <th>OnlineBackup</th>\n",
              "      <th>DeviceProtection</th>\n",
              "      <th>TechSupport</th>\n",
              "      <th>StreamingTV</th>\n",
              "      <th>StreamingMovies</th>\n",
              "      <th>Contract</th>\n",
              "      <th>PaperlessBilling</th>\n",
              "      <th>PaymentMethod</th>\n",
              "      <th>Charges.Monthly</th>\n",
              "      <th>Charges.Total</th>\n",
              "    </tr>\n",
              "  </thead>\n",
              "  <tbody>\n",
              "    <tr>\n",
              "      <th>0</th>\n",
              "      <td>0002-ORFBO</td>\n",
              "      <td>No</td>\n",
              "      <td>Female</td>\n",
              "      <td>0</td>\n",
              "      <td>Yes</td>\n",
              "      <td>Yes</td>\n",
              "      <td>9</td>\n",
              "      <td>Yes</td>\n",
              "      <td>No</td>\n",
              "      <td>DSL</td>\n",
              "      <td>No</td>\n",
              "      <td>Yes</td>\n",
              "      <td>No</td>\n",
              "      <td>Yes</td>\n",
              "      <td>Yes</td>\n",
              "      <td>No</td>\n",
              "      <td>One year</td>\n",
              "      <td>Yes</td>\n",
              "      <td>Mailed check</td>\n",
              "      <td>65.6</td>\n",
              "      <td>593.3</td>\n",
              "    </tr>\n",
              "    <tr>\n",
              "      <th>1</th>\n",
              "      <td>0003-MKNFE</td>\n",
              "      <td>No</td>\n",
              "      <td>Male</td>\n",
              "      <td>0</td>\n",
              "      <td>No</td>\n",
              "      <td>No</td>\n",
              "      <td>9</td>\n",
              "      <td>Yes</td>\n",
              "      <td>Yes</td>\n",
              "      <td>DSL</td>\n",
              "      <td>No</td>\n",
              "      <td>No</td>\n",
              "      <td>No</td>\n",
              "      <td>No</td>\n",
              "      <td>No</td>\n",
              "      <td>Yes</td>\n",
              "      <td>Month-to-month</td>\n",
              "      <td>No</td>\n",
              "      <td>Mailed check</td>\n",
              "      <td>59.9</td>\n",
              "      <td>542.4</td>\n",
              "    </tr>\n",
              "    <tr>\n",
              "      <th>2</th>\n",
              "      <td>0004-TLHLJ</td>\n",
              "      <td>Yes</td>\n",
              "      <td>Male</td>\n",
              "      <td>0</td>\n",
              "      <td>No</td>\n",
              "      <td>No</td>\n",
              "      <td>4</td>\n",
              "      <td>Yes</td>\n",
              "      <td>No</td>\n",
              "      <td>Fiber optic</td>\n",
              "      <td>No</td>\n",
              "      <td>No</td>\n",
              "      <td>Yes</td>\n",
              "      <td>No</td>\n",
              "      <td>No</td>\n",
              "      <td>No</td>\n",
              "      <td>Month-to-month</td>\n",
              "      <td>Yes</td>\n",
              "      <td>Electronic check</td>\n",
              "      <td>73.9</td>\n",
              "      <td>280.85</td>\n",
              "    </tr>\n",
              "    <tr>\n",
              "      <th>3</th>\n",
              "      <td>0011-IGKFF</td>\n",
              "      <td>Yes</td>\n",
              "      <td>Male</td>\n",
              "      <td>1</td>\n",
              "      <td>Yes</td>\n",
              "      <td>No</td>\n",
              "      <td>13</td>\n",
              "      <td>Yes</td>\n",
              "      <td>No</td>\n",
              "      <td>Fiber optic</td>\n",
              "      <td>No</td>\n",
              "      <td>Yes</td>\n",
              "      <td>Yes</td>\n",
              "      <td>No</td>\n",
              "      <td>Yes</td>\n",
              "      <td>Yes</td>\n",
              "      <td>Month-to-month</td>\n",
              "      <td>Yes</td>\n",
              "      <td>Electronic check</td>\n",
              "      <td>98.0</td>\n",
              "      <td>1237.85</td>\n",
              "    </tr>\n",
              "    <tr>\n",
              "      <th>4</th>\n",
              "      <td>0013-EXCHZ</td>\n",
              "      <td>Yes</td>\n",
              "      <td>Female</td>\n",
              "      <td>1</td>\n",
              "      <td>Yes</td>\n",
              "      <td>No</td>\n",
              "      <td>3</td>\n",
              "      <td>Yes</td>\n",
              "      <td>No</td>\n",
              "      <td>Fiber optic</td>\n",
              "      <td>No</td>\n",
              "      <td>No</td>\n",
              "      <td>No</td>\n",
              "      <td>Yes</td>\n",
              "      <td>Yes</td>\n",
              "      <td>No</td>\n",
              "      <td>Month-to-month</td>\n",
              "      <td>Yes</td>\n",
              "      <td>Mailed check</td>\n",
              "      <td>83.9</td>\n",
              "      <td>267.4</td>\n",
              "    </tr>\n",
              "  </tbody>\n",
              "</table>\n",
              "</div>\n",
              "      <button class=\"colab-df-convert\" onclick=\"convertToInteractive('df-df72463f-f68d-42c2-bef3-3b7cd7cedf4e')\"\n",
              "              title=\"Convert this dataframe to an interactive table.\"\n",
              "              style=\"display:none;\">\n",
              "        \n",
              "  <svg xmlns=\"http://www.w3.org/2000/svg\" height=\"24px\"viewBox=\"0 0 24 24\"\n",
              "       width=\"24px\">\n",
              "    <path d=\"M0 0h24v24H0V0z\" fill=\"none\"/>\n",
              "    <path d=\"M18.56 5.44l.94 2.06.94-2.06 2.06-.94-2.06-.94-.94-2.06-.94 2.06-2.06.94zm-11 1L8.5 8.5l.94-2.06 2.06-.94-2.06-.94L8.5 2.5l-.94 2.06-2.06.94zm10 10l.94 2.06.94-2.06 2.06-.94-2.06-.94-.94-2.06-.94 2.06-2.06.94z\"/><path d=\"M17.41 7.96l-1.37-1.37c-.4-.4-.92-.59-1.43-.59-.52 0-1.04.2-1.43.59L10.3 9.45l-7.72 7.72c-.78.78-.78 2.05 0 2.83L4 21.41c.39.39.9.59 1.41.59.51 0 1.02-.2 1.41-.59l7.78-7.78 2.81-2.81c.8-.78.8-2.07 0-2.86zM5.41 20L4 18.59l7.72-7.72 1.47 1.35L5.41 20z\"/>\n",
              "  </svg>\n",
              "      </button>\n",
              "      \n",
              "  <style>\n",
              "    .colab-df-container {\n",
              "      display:flex;\n",
              "      flex-wrap:wrap;\n",
              "      gap: 12px;\n",
              "    }\n",
              "\n",
              "    .colab-df-convert {\n",
              "      background-color: #E8F0FE;\n",
              "      border: none;\n",
              "      border-radius: 50%;\n",
              "      cursor: pointer;\n",
              "      display: none;\n",
              "      fill: #1967D2;\n",
              "      height: 32px;\n",
              "      padding: 0 0 0 0;\n",
              "      width: 32px;\n",
              "    }\n",
              "\n",
              "    .colab-df-convert:hover {\n",
              "      background-color: #E2EBFA;\n",
              "      box-shadow: 0px 1px 2px rgba(60, 64, 67, 0.3), 0px 1px 3px 1px rgba(60, 64, 67, 0.15);\n",
              "      fill: #174EA6;\n",
              "    }\n",
              "\n",
              "    [theme=dark] .colab-df-convert {\n",
              "      background-color: #3B4455;\n",
              "      fill: #D2E3FC;\n",
              "    }\n",
              "\n",
              "    [theme=dark] .colab-df-convert:hover {\n",
              "      background-color: #434B5C;\n",
              "      box-shadow: 0px 1px 3px 1px rgba(0, 0, 0, 0.15);\n",
              "      filter: drop-shadow(0px 1px 2px rgba(0, 0, 0, 0.3));\n",
              "      fill: #FFFFFF;\n",
              "    }\n",
              "  </style>\n",
              "\n",
              "      <script>\n",
              "        const buttonEl =\n",
              "          document.querySelector('#df-df72463f-f68d-42c2-bef3-3b7cd7cedf4e button.colab-df-convert');\n",
              "        buttonEl.style.display =\n",
              "          google.colab.kernel.accessAllowed ? 'block' : 'none';\n",
              "\n",
              "        async function convertToInteractive(key) {\n",
              "          const element = document.querySelector('#df-df72463f-f68d-42c2-bef3-3b7cd7cedf4e');\n",
              "          const dataTable =\n",
              "            await google.colab.kernel.invokeFunction('convertToInteractive',\n",
              "                                                     [key], {});\n",
              "          if (!dataTable) return;\n",
              "\n",
              "          const docLinkHtml = 'Like what you see? Visit the ' +\n",
              "            '<a target=\"_blank\" href=https://colab.research.google.com/notebooks/data_table.ipynb>data table notebook</a>'\n",
              "            + ' to learn more about interactive tables.';\n",
              "          element.innerHTML = '';\n",
              "          dataTable['output_type'] = 'display_data';\n",
              "          await google.colab.output.renderOutput(dataTable, element);\n",
              "          const docLink = document.createElement('div');\n",
              "          docLink.innerHTML = docLinkHtml;\n",
              "          element.appendChild(docLink);\n",
              "        }\n",
              "      </script>\n",
              "    </div>\n",
              "  </div>\n",
              "  "
            ]
          },
          "metadata": {},
          "execution_count": 40
        }
      ]
    },
    {
      "cell_type": "markdown",
      "source": [
        "## Entendendo os dados"
      ],
      "metadata": {
        "id": "de6Wshxfr0L-"
      }
    },
    {
      "cell_type": "markdown",
      "source": [
        "Após a normalização dos dados, será possível fazer uma análise exploratória dos dados para entender as informações contidas em cada coluna do mesmo."
      ],
      "metadata": {
        "id": "cgLTk83c-Q_I"
      }
    },
    {
      "cell_type": "code",
      "source": [
        "dados_normal.head()"
      ],
      "metadata": {
        "id": "sOZ_qiuLsAZ_",
        "colab": {
          "base_uri": "https://localhost:8080/",
          "height": 357
        },
        "outputId": "ca2eb9a9-9948-4826-9921-a3ba42e5d047"
      },
      "execution_count": 41,
      "outputs": [
        {
          "output_type": "execute_result",
          "data": {
            "text/plain": [
              "   customerID Churn  gender  SeniorCitizen Partner Dependents  tenure  \\\n",
              "0  0002-ORFBO    No  Female              0     Yes        Yes       9   \n",
              "1  0003-MKNFE    No    Male              0      No         No       9   \n",
              "2  0004-TLHLJ   Yes    Male              0      No         No       4   \n",
              "3  0011-IGKFF   Yes    Male              1     Yes         No      13   \n",
              "4  0013-EXCHZ   Yes  Female              1     Yes         No       3   \n",
              "\n",
              "  PhoneService MultipleLines InternetService OnlineSecurity OnlineBackup  \\\n",
              "0          Yes            No             DSL             No          Yes   \n",
              "1          Yes           Yes             DSL             No           No   \n",
              "2          Yes            No     Fiber optic             No           No   \n",
              "3          Yes            No     Fiber optic             No          Yes   \n",
              "4          Yes            No     Fiber optic             No           No   \n",
              "\n",
              "  DeviceProtection TechSupport StreamingTV StreamingMovies        Contract  \\\n",
              "0               No         Yes         Yes              No        One year   \n",
              "1               No          No          No             Yes  Month-to-month   \n",
              "2              Yes          No          No              No  Month-to-month   \n",
              "3              Yes          No         Yes             Yes  Month-to-month   \n",
              "4               No         Yes         Yes              No  Month-to-month   \n",
              "\n",
              "  PaperlessBilling     PaymentMethod  Charges.Monthly Charges.Total  \n",
              "0              Yes      Mailed check             65.6         593.3  \n",
              "1               No      Mailed check             59.9         542.4  \n",
              "2              Yes  Electronic check             73.9        280.85  \n",
              "3              Yes  Electronic check             98.0       1237.85  \n",
              "4              Yes      Mailed check             83.9         267.4  "
            ],
            "text/html": [
              "\n",
              "  <div id=\"df-78203da2-efee-4c22-a1ac-0d8083188988\">\n",
              "    <div class=\"colab-df-container\">\n",
              "      <div>\n",
              "<style scoped>\n",
              "    .dataframe tbody tr th:only-of-type {\n",
              "        vertical-align: middle;\n",
              "    }\n",
              "\n",
              "    .dataframe tbody tr th {\n",
              "        vertical-align: top;\n",
              "    }\n",
              "\n",
              "    .dataframe thead th {\n",
              "        text-align: right;\n",
              "    }\n",
              "</style>\n",
              "<table border=\"1\" class=\"dataframe\">\n",
              "  <thead>\n",
              "    <tr style=\"text-align: right;\">\n",
              "      <th></th>\n",
              "      <th>customerID</th>\n",
              "      <th>Churn</th>\n",
              "      <th>gender</th>\n",
              "      <th>SeniorCitizen</th>\n",
              "      <th>Partner</th>\n",
              "      <th>Dependents</th>\n",
              "      <th>tenure</th>\n",
              "      <th>PhoneService</th>\n",
              "      <th>MultipleLines</th>\n",
              "      <th>InternetService</th>\n",
              "      <th>OnlineSecurity</th>\n",
              "      <th>OnlineBackup</th>\n",
              "      <th>DeviceProtection</th>\n",
              "      <th>TechSupport</th>\n",
              "      <th>StreamingTV</th>\n",
              "      <th>StreamingMovies</th>\n",
              "      <th>Contract</th>\n",
              "      <th>PaperlessBilling</th>\n",
              "      <th>PaymentMethod</th>\n",
              "      <th>Charges.Monthly</th>\n",
              "      <th>Charges.Total</th>\n",
              "    </tr>\n",
              "  </thead>\n",
              "  <tbody>\n",
              "    <tr>\n",
              "      <th>0</th>\n",
              "      <td>0002-ORFBO</td>\n",
              "      <td>No</td>\n",
              "      <td>Female</td>\n",
              "      <td>0</td>\n",
              "      <td>Yes</td>\n",
              "      <td>Yes</td>\n",
              "      <td>9</td>\n",
              "      <td>Yes</td>\n",
              "      <td>No</td>\n",
              "      <td>DSL</td>\n",
              "      <td>No</td>\n",
              "      <td>Yes</td>\n",
              "      <td>No</td>\n",
              "      <td>Yes</td>\n",
              "      <td>Yes</td>\n",
              "      <td>No</td>\n",
              "      <td>One year</td>\n",
              "      <td>Yes</td>\n",
              "      <td>Mailed check</td>\n",
              "      <td>65.6</td>\n",
              "      <td>593.3</td>\n",
              "    </tr>\n",
              "    <tr>\n",
              "      <th>1</th>\n",
              "      <td>0003-MKNFE</td>\n",
              "      <td>No</td>\n",
              "      <td>Male</td>\n",
              "      <td>0</td>\n",
              "      <td>No</td>\n",
              "      <td>No</td>\n",
              "      <td>9</td>\n",
              "      <td>Yes</td>\n",
              "      <td>Yes</td>\n",
              "      <td>DSL</td>\n",
              "      <td>No</td>\n",
              "      <td>No</td>\n",
              "      <td>No</td>\n",
              "      <td>No</td>\n",
              "      <td>No</td>\n",
              "      <td>Yes</td>\n",
              "      <td>Month-to-month</td>\n",
              "      <td>No</td>\n",
              "      <td>Mailed check</td>\n",
              "      <td>59.9</td>\n",
              "      <td>542.4</td>\n",
              "    </tr>\n",
              "    <tr>\n",
              "      <th>2</th>\n",
              "      <td>0004-TLHLJ</td>\n",
              "      <td>Yes</td>\n",
              "      <td>Male</td>\n",
              "      <td>0</td>\n",
              "      <td>No</td>\n",
              "      <td>No</td>\n",
              "      <td>4</td>\n",
              "      <td>Yes</td>\n",
              "      <td>No</td>\n",
              "      <td>Fiber optic</td>\n",
              "      <td>No</td>\n",
              "      <td>No</td>\n",
              "      <td>Yes</td>\n",
              "      <td>No</td>\n",
              "      <td>No</td>\n",
              "      <td>No</td>\n",
              "      <td>Month-to-month</td>\n",
              "      <td>Yes</td>\n",
              "      <td>Electronic check</td>\n",
              "      <td>73.9</td>\n",
              "      <td>280.85</td>\n",
              "    </tr>\n",
              "    <tr>\n",
              "      <th>3</th>\n",
              "      <td>0011-IGKFF</td>\n",
              "      <td>Yes</td>\n",
              "      <td>Male</td>\n",
              "      <td>1</td>\n",
              "      <td>Yes</td>\n",
              "      <td>No</td>\n",
              "      <td>13</td>\n",
              "      <td>Yes</td>\n",
              "      <td>No</td>\n",
              "      <td>Fiber optic</td>\n",
              "      <td>No</td>\n",
              "      <td>Yes</td>\n",
              "      <td>Yes</td>\n",
              "      <td>No</td>\n",
              "      <td>Yes</td>\n",
              "      <td>Yes</td>\n",
              "      <td>Month-to-month</td>\n",
              "      <td>Yes</td>\n",
              "      <td>Electronic check</td>\n",
              "      <td>98.0</td>\n",
              "      <td>1237.85</td>\n",
              "    </tr>\n",
              "    <tr>\n",
              "      <th>4</th>\n",
              "      <td>0013-EXCHZ</td>\n",
              "      <td>Yes</td>\n",
              "      <td>Female</td>\n",
              "      <td>1</td>\n",
              "      <td>Yes</td>\n",
              "      <td>No</td>\n",
              "      <td>3</td>\n",
              "      <td>Yes</td>\n",
              "      <td>No</td>\n",
              "      <td>Fiber optic</td>\n",
              "      <td>No</td>\n",
              "      <td>No</td>\n",
              "      <td>No</td>\n",
              "      <td>Yes</td>\n",
              "      <td>Yes</td>\n",
              "      <td>No</td>\n",
              "      <td>Month-to-month</td>\n",
              "      <td>Yes</td>\n",
              "      <td>Mailed check</td>\n",
              "      <td>83.9</td>\n",
              "      <td>267.4</td>\n",
              "    </tr>\n",
              "  </tbody>\n",
              "</table>\n",
              "</div>\n",
              "      <button class=\"colab-df-convert\" onclick=\"convertToInteractive('df-78203da2-efee-4c22-a1ac-0d8083188988')\"\n",
              "              title=\"Convert this dataframe to an interactive table.\"\n",
              "              style=\"display:none;\">\n",
              "        \n",
              "  <svg xmlns=\"http://www.w3.org/2000/svg\" height=\"24px\"viewBox=\"0 0 24 24\"\n",
              "       width=\"24px\">\n",
              "    <path d=\"M0 0h24v24H0V0z\" fill=\"none\"/>\n",
              "    <path d=\"M18.56 5.44l.94 2.06.94-2.06 2.06-.94-2.06-.94-.94-2.06-.94 2.06-2.06.94zm-11 1L8.5 8.5l.94-2.06 2.06-.94-2.06-.94L8.5 2.5l-.94 2.06-2.06.94zm10 10l.94 2.06.94-2.06 2.06-.94-2.06-.94-.94-2.06-.94 2.06-2.06.94z\"/><path d=\"M17.41 7.96l-1.37-1.37c-.4-.4-.92-.59-1.43-.59-.52 0-1.04.2-1.43.59L10.3 9.45l-7.72 7.72c-.78.78-.78 2.05 0 2.83L4 21.41c.39.39.9.59 1.41.59.51 0 1.02-.2 1.41-.59l7.78-7.78 2.81-2.81c.8-.78.8-2.07 0-2.86zM5.41 20L4 18.59l7.72-7.72 1.47 1.35L5.41 20z\"/>\n",
              "  </svg>\n",
              "      </button>\n",
              "      \n",
              "  <style>\n",
              "    .colab-df-container {\n",
              "      display:flex;\n",
              "      flex-wrap:wrap;\n",
              "      gap: 12px;\n",
              "    }\n",
              "\n",
              "    .colab-df-convert {\n",
              "      background-color: #E8F0FE;\n",
              "      border: none;\n",
              "      border-radius: 50%;\n",
              "      cursor: pointer;\n",
              "      display: none;\n",
              "      fill: #1967D2;\n",
              "      height: 32px;\n",
              "      padding: 0 0 0 0;\n",
              "      width: 32px;\n",
              "    }\n",
              "\n",
              "    .colab-df-convert:hover {\n",
              "      background-color: #E2EBFA;\n",
              "      box-shadow: 0px 1px 2px rgba(60, 64, 67, 0.3), 0px 1px 3px 1px rgba(60, 64, 67, 0.15);\n",
              "      fill: #174EA6;\n",
              "    }\n",
              "\n",
              "    [theme=dark] .colab-df-convert {\n",
              "      background-color: #3B4455;\n",
              "      fill: #D2E3FC;\n",
              "    }\n",
              "\n",
              "    [theme=dark] .colab-df-convert:hover {\n",
              "      background-color: #434B5C;\n",
              "      box-shadow: 0px 1px 3px 1px rgba(0, 0, 0, 0.15);\n",
              "      filter: drop-shadow(0px 1px 2px rgba(0, 0, 0, 0.3));\n",
              "      fill: #FFFFFF;\n",
              "    }\n",
              "  </style>\n",
              "\n",
              "      <script>\n",
              "        const buttonEl =\n",
              "          document.querySelector('#df-78203da2-efee-4c22-a1ac-0d8083188988 button.colab-df-convert');\n",
              "        buttonEl.style.display =\n",
              "          google.colab.kernel.accessAllowed ? 'block' : 'none';\n",
              "\n",
              "        async function convertToInteractive(key) {\n",
              "          const element = document.querySelector('#df-78203da2-efee-4c22-a1ac-0d8083188988');\n",
              "          const dataTable =\n",
              "            await google.colab.kernel.invokeFunction('convertToInteractive',\n",
              "                                                     [key], {});\n",
              "          if (!dataTable) return;\n",
              "\n",
              "          const docLinkHtml = 'Like what you see? Visit the ' +\n",
              "            '<a target=\"_blank\" href=https://colab.research.google.com/notebooks/data_table.ipynb>data table notebook</a>'\n",
              "            + ' to learn more about interactive tables.';\n",
              "          element.innerHTML = '';\n",
              "          dataTable['output_type'] = 'display_data';\n",
              "          await google.colab.output.renderOutput(dataTable, element);\n",
              "          const docLink = document.createElement('div');\n",
              "          docLink.innerHTML = docLinkHtml;\n",
              "          element.appendChild(docLink);\n",
              "        }\n",
              "      </script>\n",
              "    </div>\n",
              "  </div>\n",
              "  "
            ]
          },
          "metadata": {},
          "execution_count": 41
        }
      ]
    },
    {
      "cell_type": "code",
      "source": [
        "print(f'A base de dados contém {dados_normal.shape[0]} registros e {dados_normal.shape[1]} colunas')"
      ],
      "metadata": {
        "id": "711P1dufsA99",
        "colab": {
          "base_uri": "https://localhost:8080/"
        },
        "outputId": "7a6bc2d4-b380-472e-ce35-cf90addba2ea"
      },
      "execution_count": 42,
      "outputs": [
        {
          "output_type": "stream",
          "name": "stdout",
          "text": [
            "A base de dados contém 7267 registros e 21 colunas\n"
          ]
        }
      ]
    },
    {
      "cell_type": "code",
      "source": [
        "dados_normal.info()"
      ],
      "metadata": {
        "colab": {
          "base_uri": "https://localhost:8080/"
        },
        "id": "DDVsz0Ll-q9B",
        "outputId": "6ea4f46a-9bc2-42ce-ea59-c1226493878a"
      },
      "execution_count": 43,
      "outputs": [
        {
          "output_type": "stream",
          "name": "stdout",
          "text": [
            "<class 'pandas.core.frame.DataFrame'>\n",
            "RangeIndex: 7267 entries, 0 to 7266\n",
            "Data columns (total 21 columns):\n",
            " #   Column            Non-Null Count  Dtype  \n",
            "---  ------            --------------  -----  \n",
            " 0   customerID        7267 non-null   object \n",
            " 1   Churn             7267 non-null   object \n",
            " 2   gender            7267 non-null   object \n",
            " 3   SeniorCitizen     7267 non-null   int64  \n",
            " 4   Partner           7267 non-null   object \n",
            " 5   Dependents        7267 non-null   object \n",
            " 6   tenure            7267 non-null   int64  \n",
            " 7   PhoneService      7267 non-null   object \n",
            " 8   MultipleLines     7267 non-null   object \n",
            " 9   InternetService   7267 non-null   object \n",
            " 10  OnlineSecurity    7267 non-null   object \n",
            " 11  OnlineBackup      7267 non-null   object \n",
            " 12  DeviceProtection  7267 non-null   object \n",
            " 13  TechSupport       7267 non-null   object \n",
            " 14  StreamingTV       7267 non-null   object \n",
            " 15  StreamingMovies   7267 non-null   object \n",
            " 16  Contract          7267 non-null   object \n",
            " 17  PaperlessBilling  7267 non-null   object \n",
            " 18  PaymentMethod     7267 non-null   object \n",
            " 19  Charges.Monthly   7267 non-null   float64\n",
            " 20  Charges.Total     7267 non-null   object \n",
            "dtypes: float64(1), int64(2), object(18)\n",
            "memory usage: 1.2+ MB\n"
          ]
        }
      ]
    },
    {
      "cell_type": "markdown",
      "source": [
        "São 21 colunas. Em uma primeira análise, não há células com valor faltante na base de dados. \n",
        "\n",
        "Além dessa análise, a empresa também disponibilizou um dicionário com uma descrição de cada coluna.\n",
        "\n",
        "Nome da coluna | Dicionário da empresa\n",
        "-------|------------------\n",
        "customerID| Código único para o cliente da empresa\n",
        "Churn| se o cliente deixou ou não a empresa\n",
        "gender| gênero (masculino e feminino)\n",
        "SeniorCitizen| informação sobre um cliente ter ou não idade igual ou maior que 65 anos\n",
        "Partner| se o cliente possui ou não um parceiro ou parceira\n",
        "Dependents| se o cliente possui ou não dependentes\n",
        "tenure| meses de contrato do cliente\n",
        "PhoneService| assinatura de serviço telefônico\n",
        "MultipleLines| assinatura de mais de uma linha de telefone\n",
        "InternetService| assinatura de um provedor internet\n",
        "OnlineSecurity| assinatura adicional de segurança online\n",
        "OnlineBackup| assinatura adicional de backup online\n",
        "DeviceProtection| assinatura adicional de proteção no dispositivo\n",
        "TechSupport| assinatura adicional de suporte técnico, menos tempo de espera\n",
        "StreamingTV| assinatura de TV a cabo\n",
        "StreamingMovies| assinatura de streaming de filmes\n",
        "Contract| tipo de contrato\n",
        "PaperlessBilling| se o cliente prefere receber online a fatura\n",
        "PaymentMethod| forma de pagamento\n",
        "Charges.Monthly| total de todos os serviços do cliente por mês\n",
        "Charges.Total| total gasto pelo cliente"
      ],
      "metadata": {
        "id": "CrSz7UsX_EPt"
      }
    },
    {
      "cell_type": "markdown",
      "source": [
        "Esse dicionário ajuda a entender um pouco mais o significado das colunas.\n",
        "\n",
        "Além disso, é possível perceber algumas inconsistências nos dados, como falta de padronização em algumas informações e colunas tendo o tipo equivocado dos dados.\n",
        "\n",
        "Para encontrar mais discrepâncias e possíveis erros, deverei analisar mais profundamente cada coluna."
      ],
      "metadata": {
        "id": "2yh0pCtwF6ek"
      }
    },
    {
      "cell_type": "markdown",
      "source": [
        "## Analisando as colunas"
      ],
      "metadata": {
        "id": "nUhgruNyFBpv"
      }
    },
    {
      "cell_type": "markdown",
      "source": [
        "Como algumas etapas serão as mesmas para todas as colunas, irei definir uma função que irá trazer as informações importantes para todas as colunas. Além das análises definidas na função, será possível também criação de gráficos para análise visual dos dados.\n",
        "\n",
        "Após as análises, será possível encontrar as principais discrepâncias na base de dados, além de encontrar dados faltantes e duplicados. "
      ],
      "metadata": {
        "id": "KNbY34cAFHqG"
      }
    },
    {
      "cell_type": "markdown",
      "source": [
        "#### Definindo a função"
      ],
      "metadata": {
        "id": "iPROoPcvFC03"
      }
    },
    {
      "cell_type": "code",
      "source": [
        "def analisa_coluna(coluna):\n",
        "\n",
        "    unicos = dados_normal[coluna].unique()\n",
        "    contagem = dados_normal[coluna].value_counts()\n",
        "    tipo = dados_normal[coluna].dtype\n",
        "\n",
        "    print(f'Valores únicos:')\n",
        "    print(unicos)\n",
        "    print('----------------')\n",
        "    print(f'Contagem de valores:')\n",
        "    print(contagem)\n",
        "    print('----------------')\n",
        "    print(f'Tipo da coluna:')\n",
        "    print(tipo)\n",
        "    print('----------------')\n"
      ],
      "metadata": {
        "id": "O93C23cTFB9G"
      },
      "execution_count": 44,
      "outputs": []
    },
    {
      "cell_type": "markdown",
      "source": [
        "#### Coluna 'customerID'"
      ],
      "metadata": {
        "id": "qYMXk8b4HCKU"
      }
    },
    {
      "cell_type": "code",
      "source": [
        "analisa_coluna('customerID')"
      ],
      "metadata": {
        "colab": {
          "base_uri": "https://localhost:8080/"
        },
        "id": "Z6wVoPddHJoj",
        "outputId": "f98998ed-c482-4bc8-d27c-1f5cc106d901"
      },
      "execution_count": 45,
      "outputs": [
        {
          "output_type": "stream",
          "name": "stdout",
          "text": [
            "Valores únicos:\n",
            "['0002-ORFBO' '0003-MKNFE' '0004-TLHLJ' ... '9992-UJOEL' '9993-LHIEB'\n",
            " '9995-HOTOH']\n",
            "----------------\n",
            "Contagem de valores:\n",
            "0002-ORFBO    1\n",
            "6614-VBEGU    1\n",
            "6637-KYRCV    1\n",
            "6635-MYYYZ    1\n",
            "6635-CPNUN    1\n",
            "             ..\n",
            "3374-TTZTK    1\n",
            "3374-PZLXD    1\n",
            "3374-LXDEV    1\n",
            "3373-YZZYM    1\n",
            "9995-HOTOH    1\n",
            "Name: customerID, Length: 7267, dtype: int64\n",
            "----------------\n",
            "Tipo da coluna:\n",
            "object\n",
            "----------------\n"
          ]
        }
      ]
    },
    {
      "cell_type": "markdown",
      "source": [
        "A primeira coluna parece estar de acordo com o dicionário da empresa. Não possue valores em brancos e apenas possue valores únicos. \n",
        "\n",
        "Caso houvessem valores em branco, as linhas correspondentes seriam descartadas. Caso houvessem valores duplicados, eles seriam analizados individualmente para saber o motivo."
      ],
      "metadata": {
        "id": "e0umKaMvNgRV"
      }
    },
    {
      "cell_type": "markdown",
      "source": [
        "#### Coluna 'Churn'"
      ],
      "metadata": {
        "id": "wpOjKgq8NYjX"
      }
    },
    {
      "cell_type": "code",
      "source": [
        "analisa_coluna('Churn')"
      ],
      "metadata": {
        "colab": {
          "base_uri": "https://localhost:8080/"
        },
        "id": "vcoZLl8hNZKQ",
        "outputId": "9a6d1e45-6585-4c49-8b8c-bf57bb6911c9"
      },
      "execution_count": 46,
      "outputs": [
        {
          "output_type": "stream",
          "name": "stdout",
          "text": [
            "Valores únicos:\n",
            "['No' 'Yes' '']\n",
            "----------------\n",
            "Contagem de valores:\n",
            "No     5174\n",
            "Yes    1869\n",
            "        224\n",
            "Name: Churn, dtype: int64\n",
            "----------------\n",
            "Tipo da coluna:\n",
            "object\n",
            "----------------\n"
          ]
        }
      ]
    },
    {
      "cell_type": "markdown",
      "source": [
        "A segunda coluna apresenta valores que devem ser tratados. Apesar da primeira análise não encontrar valores em branco, há campos vazios. Esses campos serão analisados com mais clareza para tomar uma decisão mais correta no momento do tratamento dos dados."
      ],
      "metadata": {
        "id": "Wx8ZNgdyOPbN"
      }
    },
    {
      "cell_type": "markdown",
      "source": [
        "#### Coluna 'gender'"
      ],
      "metadata": {
        "id": "ihxeLwMsPVIE"
      }
    },
    {
      "cell_type": "code",
      "source": [
        "analisa_coluna('gender')"
      ],
      "metadata": {
        "colab": {
          "base_uri": "https://localhost:8080/"
        },
        "outputId": "84434f44-8945-4e07-93e7-a22cbe85d30a",
        "id": "jlrtgx6PPVIE"
      },
      "execution_count": 47,
      "outputs": [
        {
          "output_type": "stream",
          "name": "stdout",
          "text": [
            "Valores únicos:\n",
            "['Female' 'Male']\n",
            "----------------\n",
            "Contagem de valores:\n",
            "Male      3675\n",
            "Female    3592\n",
            "Name: gender, dtype: int64\n",
            "----------------\n",
            "Tipo da coluna:\n",
            "object\n",
            "----------------\n"
          ]
        }
      ]
    },
    {
      "cell_type": "markdown",
      "source": [
        "A coluna de gêneros também está com os dados condizentes com o dicionário apresentado.\n",
        "\n",
        "Há uma diferença pequena de valores entre *male* e *female*."
      ],
      "metadata": {
        "id": "vkUqNok-PVIF"
      }
    },
    {
      "cell_type": "markdown",
      "source": [
        "#### Coluna 'SeniorCitizen'"
      ],
      "metadata": {
        "id": "xZ4VOAs7QVbD"
      }
    },
    {
      "cell_type": "code",
      "source": [
        "analisa_coluna('SeniorCitizen')"
      ],
      "metadata": {
        "colab": {
          "base_uri": "https://localhost:8080/"
        },
        "outputId": "d74d733c-6f5b-44d9-b09a-1fb26e7a0059",
        "id": "0drPtDa4QVbE"
      },
      "execution_count": 48,
      "outputs": [
        {
          "output_type": "stream",
          "name": "stdout",
          "text": [
            "Valores únicos:\n",
            "[0 1]\n",
            "----------------\n",
            "Contagem de valores:\n",
            "0    6085\n",
            "1    1182\n",
            "Name: SeniorCitizen, dtype: int64\n",
            "----------------\n",
            "Tipo da coluna:\n",
            "int64\n",
            "----------------\n"
          ]
        }
      ]
    },
    {
      "cell_type": "markdown",
      "source": [
        "Nesta coluna, encontrei a primeira coluna com valores booleanos. Pela contagem de valores, o valor 0 significa que a idade da pessoa não é maior do que 65 anos, e 1 quando for.\n",
        "\n",
        "A coluna está com o tipo errado, por conta do padrão utilizado. \n",
        "\n",
        "Junto com as informações já vistas, ela parece ser a única que segue esse padrão, sendo que as outras colunas que apresentam valores booleanos parecem ter valores 'Yes' e 'No'."
      ],
      "metadata": {
        "id": "n8rgffWSQVbF"
      }
    },
    {
      "cell_type": "markdown",
      "source": [
        "#### Coluna 'Partner'"
      ],
      "metadata": {
        "id": "TfsdT7QURp-j"
      }
    },
    {
      "cell_type": "code",
      "source": [
        "analisa_coluna('Partner')"
      ],
      "metadata": {
        "colab": {
          "base_uri": "https://localhost:8080/"
        },
        "outputId": "a223b477-477c-48b9-97b3-373de5547046",
        "id": "EVs07yQIRp-l"
      },
      "execution_count": 49,
      "outputs": [
        {
          "output_type": "stream",
          "name": "stdout",
          "text": [
            "Valores únicos:\n",
            "['Yes' 'No']\n",
            "----------------\n",
            "Contagem de valores:\n",
            "No     3749\n",
            "Yes    3518\n",
            "Name: Partner, dtype: int64\n",
            "----------------\n",
            "Tipo da coluna:\n",
            "object\n",
            "----------------\n"
          ]
        }
      ]
    },
    {
      "cell_type": "markdown",
      "source": [
        "A coluna 'Partner', de acordo com o dicionário, informa se o cliente possue ou não um parceiro ou uma parceira. Novamente é uma coluna com valores booleanos. Ao contrário da coluna anterior, os valores utilizados são 'Yes' e 'No'. "
      ],
      "metadata": {
        "id": "noJgNTzkRp-m"
      }
    },
    {
      "cell_type": "markdown",
      "source": [
        "#### Coluna 'Dependents'"
      ],
      "metadata": {
        "id": "CQt-76daS3cU"
      }
    },
    {
      "cell_type": "code",
      "source": [
        "analisa_coluna('Dependents')"
      ],
      "metadata": {
        "colab": {
          "base_uri": "https://localhost:8080/"
        },
        "outputId": "98a3607c-af22-4881-f837-2929ab8ccda4",
        "id": "Jr07PqyQS3cU"
      },
      "execution_count": 50,
      "outputs": [
        {
          "output_type": "stream",
          "name": "stdout",
          "text": [
            "Valores únicos:\n",
            "['Yes' 'No']\n",
            "----------------\n",
            "Contagem de valores:\n",
            "No     5086\n",
            "Yes    2181\n",
            "Name: Dependents, dtype: int64\n",
            "----------------\n",
            "Tipo da coluna:\n",
            "object\n",
            "----------------\n"
          ]
        }
      ]
    },
    {
      "cell_type": "markdown",
      "source": [
        "A coluna traz as informações de se o cliente possue ou não dependentes. Ao utilizar a mesma notação que a coluna `Partner`, se percebe que a coluna `SeniorCitizen` deverá ser corrigida. \n",
        "\n",
        "Apesar de trazer a informação de dependentes, não consta, na base de dados, o número dos dependentes de cada pessoa."
      ],
      "metadata": {
        "id": "m3YDepz3S3cY"
      }
    },
    {
      "cell_type": "markdown",
      "source": [
        "#### Coluna 'tenure'"
      ],
      "metadata": {
        "id": "1c1rE6eeTy69"
      }
    },
    {
      "cell_type": "code",
      "source": [
        "analisa_coluna('tenure')"
      ],
      "metadata": {
        "colab": {
          "base_uri": "https://localhost:8080/"
        },
        "outputId": "963590f5-638d-49d8-d0ad-5e36d6f42070",
        "id": "VaJk5RgMTy6-"
      },
      "execution_count": 51,
      "outputs": [
        {
          "output_type": "stream",
          "name": "stdout",
          "text": [
            "Valores únicos:\n",
            "[ 9  4 13  3 71 63  7 65 54 72  5 56 34  1 45 50 23 55 26 69 11 37 49 66\n",
            " 67 20 43 59 12 27  2 25 29 14 35 64 39 40  6 30 70 57 58 16 32 33 10 21\n",
            " 61 15 44 22 24 19 47 62 46 52  8 60 48 28 41 53 68 51 31 36 17 18 38 42\n",
            "  0]\n",
            "----------------\n",
            "Contagem de valores:\n",
            "1     634\n",
            "72    369\n",
            "2     246\n",
            "3     207\n",
            "4     185\n",
            "     ... \n",
            "38     60\n",
            "39     59\n",
            "44     54\n",
            "36     50\n",
            "0      11\n",
            "Name: tenure, Length: 73, dtype: int64\n",
            "----------------\n",
            "Tipo da coluna:\n",
            "int64\n",
            "----------------\n"
          ]
        }
      ]
    },
    {
      "cell_type": "markdown",
      "source": [
        "A coluna traz a quantidade de meses de contrato do cliente. Não há valores em branco.\n",
        "\n",
        "Apesar de contar com valores numéricos, a variável relativa a coluna parece ser uma variável categórica. Será mantido o tipo da coluna, para que seja possível fazer análises quanto ao tempo de contrato de forma correta e direta.\n",
        "\n",
        "Nota-se que há clientes que ainda não concluiram 1 mês de contrato e o maior número de clientes está com 1 mês de contrato. Essa coluna pode explicar o motivo de existirem dados em branco na coluna `Churn`. Isso será analizado no futuro."
      ],
      "metadata": {
        "id": "oImr6wVpTy6-"
      }
    },
    {
      "cell_type": "markdown",
      "source": [
        "#### Coluna 'PhoneService'"
      ],
      "metadata": {
        "id": "gP9jylvKyyGP"
      }
    },
    {
      "cell_type": "code",
      "source": [
        "analisa_coluna('PhoneService')"
      ],
      "metadata": {
        "colab": {
          "base_uri": "https://localhost:8080/"
        },
        "outputId": "e537f8da-5515-4589-e4ba-2e019f9d765f",
        "id": "jjf_GOUKyyGS"
      },
      "execution_count": 52,
      "outputs": [
        {
          "output_type": "stream",
          "name": "stdout",
          "text": [
            "Valores únicos:\n",
            "['Yes' 'No']\n",
            "----------------\n",
            "Contagem de valores:\n",
            "Yes    6560\n",
            "No      707\n",
            "Name: PhoneService, dtype: int64\n",
            "----------------\n",
            "Tipo da coluna:\n",
            "object\n",
            "----------------\n"
          ]
        }
      ]
    },
    {
      "cell_type": "markdown",
      "source": [
        "Dos 7267 clientes, 707 não possuem serviço de telefone. Além disso, percebe-se a padronização em valores 'Yes' e 'No' para colunas com informações booleanas."
      ],
      "metadata": {
        "id": "5qS5C6WSyyGS"
      }
    },
    {
      "cell_type": "markdown",
      "source": [
        "#### Coluna 'MultipleLines'"
      ],
      "metadata": {
        "id": "veCInxFwz9pu"
      }
    },
    {
      "cell_type": "code",
      "source": [
        "analisa_coluna('MultipleLines')"
      ],
      "metadata": {
        "colab": {
          "base_uri": "https://localhost:8080/"
        },
        "outputId": "fb8f5ce5-6691-4d8c-ff11-766275105c0b",
        "id": "pNJGe4TGz9pu"
      },
      "execution_count": 53,
      "outputs": [
        {
          "output_type": "stream",
          "name": "stdout",
          "text": [
            "Valores únicos:\n",
            "['No' 'Yes' 'No phone service']\n",
            "----------------\n",
            "Contagem de valores:\n",
            "No                  3495\n",
            "Yes                 3065\n",
            "No phone service     707\n",
            "Name: MultipleLines, dtype: int64\n",
            "----------------\n",
            "Tipo da coluna:\n",
            "object\n",
            "----------------\n"
          ]
        }
      ]
    },
    {
      "cell_type": "markdown",
      "source": [
        "Nessa coluna, além dos valores de 'Yes' e 'No', também há um terceiro valor, 'No phone service'. Esse terceiro valor corresponde aos clientes que não possuem serviço de telefone contratado com a empresa. \n",
        "\n"
      ],
      "metadata": {
        "id": "hdwsRtzyz9pv"
      }
    },
    {
      "cell_type": "markdown",
      "source": [
        "#### Coluna 'InternetService'"
      ],
      "metadata": {
        "id": "XqaUsa3_1KPy"
      }
    },
    {
      "cell_type": "code",
      "source": [
        "analisa_coluna('InternetService')"
      ],
      "metadata": {
        "colab": {
          "base_uri": "https://localhost:8080/"
        },
        "outputId": "271ce788-d04b-4759-cca9-f390bee9d41e",
        "id": "mV0hG8zV1KPz"
      },
      "execution_count": 54,
      "outputs": [
        {
          "output_type": "stream",
          "name": "stdout",
          "text": [
            "Valores únicos:\n",
            "['DSL' 'Fiber optic' 'No']\n",
            "----------------\n",
            "Contagem de valores:\n",
            "Fiber optic    3198\n",
            "DSL            2488\n",
            "No             1581\n",
            "Name: InternetService, dtype: int64\n",
            "----------------\n",
            "Tipo da coluna:\n",
            "object\n",
            "----------------\n"
          ]
        }
      ]
    },
    {
      "cell_type": "markdown",
      "source": [
        "Com as informações sobre a contratação ou não do serviço de internet, também há uma diferenciação entre o tipo de fornecimento com `Fiber optic` e `DSL`.\n",
        "\n",
        "\n",
        "\n",
        "\n"
      ],
      "metadata": {
        "id": "1L4r3NHK1KPz"
      }
    },
    {
      "cell_type": "markdown",
      "source": [
        "#### Coluna 'OnlineSecurity'"
      ],
      "metadata": {
        "id": "PStaz5n12MOr"
      }
    },
    {
      "cell_type": "code",
      "source": [
        "analisa_coluna('OnlineSecurity')"
      ],
      "metadata": {
        "colab": {
          "base_uri": "https://localhost:8080/"
        },
        "outputId": "c578d5c9-c8e1-4ef9-af7d-af6ac3cb1d94",
        "id": "1KbyNxaP2MOs"
      },
      "execution_count": 55,
      "outputs": [
        {
          "output_type": "stream",
          "name": "stdout",
          "text": [
            "Valores únicos:\n",
            "['No' 'Yes' 'No internet service']\n",
            "----------------\n",
            "Contagem de valores:\n",
            "No                     3608\n",
            "Yes                    2078\n",
            "No internet service    1581\n",
            "Name: OnlineSecurity, dtype: int64\n",
            "----------------\n",
            "Tipo da coluna:\n",
            "object\n",
            "----------------\n"
          ]
        }
      ]
    },
    {
      "cell_type": "markdown",
      "source": [
        "De acordo com o dicionário, a coluna contém informações sobre a contratação ou não de um serviço adicional de segurança online. Os valores de `No internet service` correspondem a quantidade de `No` na coluna `InternetService`."
      ],
      "metadata": {
        "id": "Mvoc5IeL2MOt"
      }
    },
    {
      "cell_type": "markdown",
      "source": [
        "#### Coluna 'OnlineBackup'"
      ],
      "metadata": {
        "id": "AcJ5k1d-2usi"
      }
    },
    {
      "cell_type": "code",
      "source": [
        "analisa_coluna('OnlineBackup')"
      ],
      "metadata": {
        "colab": {
          "base_uri": "https://localhost:8080/"
        },
        "outputId": "54e1c023-3557-4f3a-d599-6e549839e817",
        "id": "_M1MVIp52usi"
      },
      "execution_count": 56,
      "outputs": [
        {
          "output_type": "stream",
          "name": "stdout",
          "text": [
            "Valores únicos:\n",
            "['Yes' 'No' 'No internet service']\n",
            "----------------\n",
            "Contagem de valores:\n",
            "No                     3182\n",
            "Yes                    2504\n",
            "No internet service    1581\n",
            "Name: OnlineBackup, dtype: int64\n",
            "----------------\n",
            "Tipo da coluna:\n",
            "object\n",
            "----------------\n"
          ]
        }
      ]
    },
    {
      "cell_type": "markdown",
      "source": [
        "Assim como a coluna anterior, há valores para `Yes`, `No` e também um terceiro valor, correspondendo aos clientes que não contrataram internet."
      ],
      "metadata": {
        "id": "bI56hrrs2usj"
      }
    },
    {
      "cell_type": "markdown",
      "source": [
        "#### Coluna 'DeviceProtection'"
      ],
      "metadata": {
        "id": "Wa0C5jjc3MXp"
      }
    },
    {
      "cell_type": "code",
      "source": [
        "analisa_coluna('DeviceProtection')"
      ],
      "metadata": {
        "colab": {
          "base_uri": "https://localhost:8080/"
        },
        "outputId": "acf04bf6-5ebe-4061-e791-885c3cb2a3b6",
        "id": "y98kc8lN3MXq"
      },
      "execution_count": 57,
      "outputs": [
        {
          "output_type": "stream",
          "name": "stdout",
          "text": [
            "Valores únicos:\n",
            "['No' 'Yes' 'No internet service']\n",
            "----------------\n",
            "Contagem de valores:\n",
            "No                     3195\n",
            "Yes                    2491\n",
            "No internet service    1581\n",
            "Name: DeviceProtection, dtype: int64\n",
            "----------------\n",
            "Tipo da coluna:\n",
            "object\n",
            "----------------\n"
          ]
        }
      ]
    },
    {
      "cell_type": "markdown",
      "source": [
        "Assim como a coluna anterior, há valores para `Yes`, `No` e também um terceiro valor, correspondendo aos clientes que não contrataram internet."
      ],
      "metadata": {
        "id": "QWy4XVpk3MXq"
      }
    },
    {
      "cell_type": "markdown",
      "source": [
        "#### Coluna 'TechSupport'"
      ],
      "metadata": {
        "id": "nO1dQDLM3W1Y"
      }
    },
    {
      "cell_type": "code",
      "source": [
        "analisa_coluna('TechSupport')"
      ],
      "metadata": {
        "colab": {
          "base_uri": "https://localhost:8080/"
        },
        "outputId": "662209db-d9c6-4f0e-81fb-b7b734d0e933",
        "id": "YT0Jki143W1Z"
      },
      "execution_count": 58,
      "outputs": [
        {
          "output_type": "stream",
          "name": "stdout",
          "text": [
            "Valores únicos:\n",
            "['Yes' 'No' 'No internet service']\n",
            "----------------\n",
            "Contagem de valores:\n",
            "No                     3582\n",
            "Yes                    2104\n",
            "No internet service    1581\n",
            "Name: TechSupport, dtype: int64\n",
            "----------------\n",
            "Tipo da coluna:\n",
            "object\n",
            "----------------\n"
          ]
        }
      ]
    },
    {
      "cell_type": "markdown",
      "source": [
        "Assim como a coluna anterior, há valores para `Yes`, `No` e também um terceiro valor, correspondendo aos clientes que não contrataram internet."
      ],
      "metadata": {
        "id": "AkK9BYSg3W1a"
      }
    },
    {
      "cell_type": "markdown",
      "source": [
        "#### Coluna 'StreamingTV'"
      ],
      "metadata": {
        "id": "17zte6I43fDd"
      }
    },
    {
      "cell_type": "code",
      "source": [
        "analisa_coluna('StreamingTV')"
      ],
      "metadata": {
        "colab": {
          "base_uri": "https://localhost:8080/"
        },
        "outputId": "5220c8dd-1d6c-420c-d21b-94354d2fab64",
        "id": "Rt_Czg6N3fDe"
      },
      "execution_count": 59,
      "outputs": [
        {
          "output_type": "stream",
          "name": "stdout",
          "text": [
            "Valores únicos:\n",
            "['Yes' 'No' 'No internet service']\n",
            "----------------\n",
            "Contagem de valores:\n",
            "No                     2896\n",
            "Yes                    2790\n",
            "No internet service    1581\n",
            "Name: StreamingTV, dtype: int64\n",
            "----------------\n",
            "Tipo da coluna:\n",
            "object\n",
            "----------------\n"
          ]
        }
      ]
    },
    {
      "cell_type": "markdown",
      "source": [
        "Assim como a coluna anterior, há valores para `Yes`, `No` e também um terceiro valor, correspondendo aos clientes que não contrataram internet."
      ],
      "metadata": {
        "id": "YveB2JfO3fDe"
      }
    },
    {
      "cell_type": "markdown",
      "source": [
        "#### Coluna 'StreamingMovies'"
      ],
      "metadata": {
        "id": "RpX-9wfF4JmR"
      }
    },
    {
      "cell_type": "code",
      "source": [
        "analisa_coluna('StreamingMovies')"
      ],
      "metadata": {
        "colab": {
          "base_uri": "https://localhost:8080/"
        },
        "outputId": "447e7e23-0bd2-4004-c5e2-b565fc736d61",
        "id": "XSowlVNK4JmR"
      },
      "execution_count": 60,
      "outputs": [
        {
          "output_type": "stream",
          "name": "stdout",
          "text": [
            "Valores únicos:\n",
            "['No' 'Yes' 'No internet service']\n",
            "----------------\n",
            "Contagem de valores:\n",
            "No                     2870\n",
            "Yes                    2816\n",
            "No internet service    1581\n",
            "Name: StreamingMovies, dtype: int64\n",
            "----------------\n",
            "Tipo da coluna:\n",
            "object\n",
            "----------------\n"
          ]
        }
      ]
    },
    {
      "cell_type": "markdown",
      "source": [
        "Assim como a coluna anterior, há valores para `Yes`, `No` e também um terceiro valor, correspondendo aos clientes que não contrataram internet."
      ],
      "metadata": {
        "id": "441kgMyW4JmS"
      }
    },
    {
      "cell_type": "markdown",
      "source": [
        "#### Coluna 'Contract'"
      ],
      "metadata": {
        "id": "oNuiRYH_4QPP"
      }
    },
    {
      "cell_type": "code",
      "source": [
        "analisa_coluna('Contract')"
      ],
      "metadata": {
        "colab": {
          "base_uri": "https://localhost:8080/"
        },
        "outputId": "077938ed-caba-48b0-b293-6fbef19283d7",
        "id": "vueSoxAZ4QPQ"
      },
      "execution_count": 61,
      "outputs": [
        {
          "output_type": "stream",
          "name": "stdout",
          "text": [
            "Valores únicos:\n",
            "['One year' 'Month-to-month' 'Two year']\n",
            "----------------\n",
            "Contagem de valores:\n",
            "Month-to-month    4005\n",
            "Two year          1743\n",
            "One year          1519\n",
            "Name: Contract, dtype: int64\n",
            "----------------\n",
            "Tipo da coluna:\n",
            "object\n",
            "----------------\n"
          ]
        }
      ]
    },
    {
      "cell_type": "markdown",
      "source": [
        "Há, na base de dados, 3 tipos de contrato disponíveis para os clientes. A maioria dos clientes optou por um contrato mês a mês."
      ],
      "metadata": {
        "id": "1RSl8VRf4QPR"
      }
    },
    {
      "cell_type": "markdown",
      "source": [
        "#### Coluna 'PaperlessBilling'"
      ],
      "metadata": {
        "id": "F593OOI75B-I"
      }
    },
    {
      "cell_type": "code",
      "source": [
        "analisa_coluna('PaperlessBilling')"
      ],
      "metadata": {
        "colab": {
          "base_uri": "https://localhost:8080/"
        },
        "outputId": "06376185-8d31-4898-bde8-a0f1c8aa52d7",
        "id": "YjQutiwe5B-J"
      },
      "execution_count": 62,
      "outputs": [
        {
          "output_type": "stream",
          "name": "stdout",
          "text": [
            "Valores únicos:\n",
            "['Yes' 'No']\n",
            "----------------\n",
            "Contagem de valores:\n",
            "Yes    4311\n",
            "No     2956\n",
            "Name: PaperlessBilling, dtype: int64\n",
            "----------------\n",
            "Tipo da coluna:\n",
            "object\n",
            "----------------\n"
          ]
        }
      ]
    },
    {
      "cell_type": "markdown",
      "source": [
        "A maioria dos clientes prefere receber a fatura via e-mail."
      ],
      "metadata": {
        "id": "ot0-raUP5B-L"
      }
    },
    {
      "cell_type": "markdown",
      "source": [
        "#### Coluna 'PaymentMethod'"
      ],
      "metadata": {
        "id": "2SnWUNke5yoU"
      }
    },
    {
      "cell_type": "code",
      "source": [
        "analisa_coluna('PaymentMethod')"
      ],
      "metadata": {
        "colab": {
          "base_uri": "https://localhost:8080/"
        },
        "outputId": "02df6ccc-cc73-4c4d-a5fb-f258bb7ecc5f",
        "id": "kcP5DFxB5yoW"
      },
      "execution_count": 63,
      "outputs": [
        {
          "output_type": "stream",
          "name": "stdout",
          "text": [
            "Valores únicos:\n",
            "['Mailed check' 'Electronic check' 'Credit card (automatic)'\n",
            " 'Bank transfer (automatic)']\n",
            "----------------\n",
            "Contagem de valores:\n",
            "Electronic check             2445\n",
            "Mailed check                 1665\n",
            "Bank transfer (automatic)    1589\n",
            "Credit card (automatic)      1568\n",
            "Name: PaymentMethod, dtype: int64\n",
            "----------------\n",
            "Tipo da coluna:\n",
            "object\n",
            "----------------\n"
          ]
        }
      ]
    },
    {
      "cell_type": "markdown",
      "source": [
        "Essa coluna contém informações sobre quais os métodos de pagamento. Há uma preferência pelo meio `Electronic check`. Sistemas automáticos de cobrança, seja por `Bank transfer` ou `Credit card` são também muito utilizados."
      ],
      "metadata": {
        "id": "aAjWh4TN5yoX"
      }
    },
    {
      "cell_type": "markdown",
      "source": [
        "#### Coluna 'Charges.Monthly'"
      ],
      "metadata": {
        "id": "EaodtpnI6bBM"
      }
    },
    {
      "cell_type": "code",
      "source": [
        "analisa_coluna('Charges.Monthly')"
      ],
      "metadata": {
        "colab": {
          "base_uri": "https://localhost:8080/"
        },
        "outputId": "b2411f8d-1e37-4467-e102-a86262730d4c",
        "id": "l2-1Vfvj6bBN"
      },
      "execution_count": 64,
      "outputs": [
        {
          "output_type": "stream",
          "name": "stdout",
          "text": [
            "Valores únicos:\n",
            "[65.6  59.9  73.9  ... 91.75 68.8  67.85]\n",
            "----------------\n",
            "Contagem de valores:\n",
            "20.05     65\n",
            "19.85     46\n",
            "19.90     46\n",
            "19.70     45\n",
            "19.55     45\n",
            "          ..\n",
            "23.45      1\n",
            "116.55     1\n",
            "106.85     1\n",
            "68.55      1\n",
            "67.85      1\n",
            "Name: Charges.Monthly, Length: 1585, dtype: int64\n",
            "----------------\n",
            "Tipo da coluna:\n",
            "float64\n",
            "----------------\n"
          ]
        }
      ]
    },
    {
      "cell_type": "markdown",
      "source": [
        "Segundo o dicionário, a coluna traz informações de valor mensal pago pelos clientes. Os valores possuem no máximo 2 casas decimais.\n",
        "\n",
        "O tipo da coluna `float64` é o padrão que a biblioteca Pandas [utiliza para valores decimais](https://beepscore.com/website/2018/10/12/using-pandas-with-python-decimal.html). Variáveis do tipo `float` ou `float64` podem apresentar uma falta de acurácia, apesar de, na maioria dos casos, não haver problemas de análises. Caso essa falta de acurácia seja perceptível em análises futuras, será necessário fazer a alteração de tipo."
      ],
      "metadata": {
        "id": "llOc40S06bBO"
      }
    },
    {
      "cell_type": "markdown",
      "source": [
        "#### Coluna 'Charges.Total'"
      ],
      "metadata": {
        "id": "LGpUeSpf-SBC"
      }
    },
    {
      "cell_type": "code",
      "source": [
        "analisa_coluna('Charges.Total')"
      ],
      "metadata": {
        "colab": {
          "base_uri": "https://localhost:8080/"
        },
        "outputId": "df4f4f79-207f-413b-ade5-e9f069f913a1",
        "id": "VYRQz6iv-SBD"
      },
      "execution_count": 65,
      "outputs": [
        {
          "output_type": "stream",
          "name": "stdout",
          "text": [
            "Valores únicos:\n",
            "['593.3' '542.4' '280.85' ... '742.9' '4627.65' '3707.6']\n",
            "----------------\n",
            "Contagem de valores:\n",
            "           11\n",
            "20.2       11\n",
            "19.75       9\n",
            "19.55       9\n",
            "19.9        9\n",
            "           ..\n",
            "272         1\n",
            "1426.45     1\n",
            "371.6       1\n",
            "6786.4      1\n",
            "3707.6      1\n",
            "Name: Charges.Total, Length: 6531, dtype: int64\n",
            "----------------\n",
            "Tipo da coluna:\n",
            "object\n",
            "----------------\n"
          ]
        }
      ]
    },
    {
      "cell_type": "markdown",
      "source": [
        "Segundo o dicionário, a coluna traz informações de valor total pago por cada cliente. No entanto, a coluna está com o tipo errado: em vez de `object`, que significa que os dados estão sendo considerados como texto pelo sistema, o correto seria `float64`, como a coluna `Charges.Monthly`\n",
        "\n"
      ],
      "metadata": {
        "id": "wjgb3sd2-SBD"
      }
    },
    {
      "cell_type": "markdown",
      "source": [
        "### Considerações e pontos importantes"
      ],
      "metadata": {
        "id": "aT6cKTof_IMJ"
      }
    },
    {
      "cell_type": "markdown",
      "source": [
        "1. Será necessário tratar dados em branco da coluna 'Churn'. Como há clientes com 0 e 1 meses de contrato, será necessária uma análise mais clara dos dados, ajudando assim em uma decisão de se manter ou descartar os dados apresentados.\n",
        "\n",
        "2. A coluna 'SeniorCitizen' possue valores '0' e '1', ao invés de 'Yes' e 'No' presente nas outras colunas booleanas. Isso será unificado para depois poder ser feita uma tradução dos dados.\n",
        "\n",
        "3. As colunas extraídas durante o processo de normalização da base de dados aparentam ter informações condizentes entre si. \n",
        "\n",
        "4. Pode ser necessário alterar o tipo dos dados da coluna 'Charges.Monthly' para decimal.\n",
        "\n",
        "5. O tipo da coluna 'Charges.Total' deve ser alterado para float64."
      ],
      "metadata": {
        "id": "ryjcN3ZM_t7I"
      }
    },
    {
      "cell_type": "markdown",
      "source": [
        "Com as análises feitas e com considerações a serem tomadas, é possível passar para a próxima etapa do processo, que seria a limpeza e transformação dos dados."
      ],
      "metadata": {
        "id": "PzxZh4UfMPGj"
      }
    },
    {
      "cell_type": "markdown",
      "source": [
        "## Limpeza e preparação dos dados"
      ],
      "metadata": {
        "id": "tUx38wsm9c28"
      }
    },
    {
      "cell_type": "markdown",
      "source": [
        "Além das considerações e observações já feitas, estarei utilizando um [guia da plataforma Tableau](https://www.tableau.com/learn/articles/what-is-data-cleaning) que define o processo de limpeza dos dados, além de listar alguns passos que devem ser usados durante essa etapa."
      ],
      "metadata": {
        "id": "D19K_FoRA1W9"
      }
    },
    {
      "cell_type": "markdown",
      "source": [
        "### Conferindo Duplicatas"
      ],
      "metadata": {
        "id": "1LUsP7ggFCFi"
      }
    },
    {
      "cell_type": "markdown",
      "source": [
        "Durante as análises inicais, a base de dados não aparentava ter linhas duplicadas.\n",
        "\n",
        "Para conferir e validar essa informação, podemos utilizar métodos da biblioteca Pandas. O [método `duplicated()`](https://pandas.pydata.org/docs/reference/api/pandas.DataFrame.duplicated.html) retorna valores `False`, caso não haja valores duplicados, ou `True` para casos em que o valor esteja duplicado."
      ],
      "metadata": {
        "id": "FdSEFUJGM-pk"
      }
    },
    {
      "cell_type": "markdown",
      "source": [
        "Primeiramente, a coluna `customerID` deve ser um código de cliente único, portanto não pode aceitar valores duplicados."
      ],
      "metadata": {
        "id": "mxZNEKdQN1-Q"
      }
    },
    {
      "cell_type": "code",
      "source": [
        "dados_normal.duplicated(subset='customerID', keep='first').value_counts()"
      ],
      "metadata": {
        "id": "bQOnWD7o9szJ",
        "colab": {
          "base_uri": "https://localhost:8080/"
        },
        "outputId": "03773f94-d587-41ad-c090-1fc8fd49d060"
      },
      "execution_count": 66,
      "outputs": [
        {
          "output_type": "execute_result",
          "data": {
            "text/plain": [
              "False    7267\n",
              "dtype: int64"
            ]
          },
          "metadata": {},
          "execution_count": 66
        }
      ]
    },
    {
      "cell_type": "markdown",
      "source": [
        "Como há apenas valores `False`, podemos afirmar que não há valores duplicados nesta coluna. \n",
        "\n",
        "Como há uma coluna sem valores duplicados, não há linhas duplicadas na base de dados. No entanto podemos refazer o passo e conferir para todo o dataset."
      ],
      "metadata": {
        "id": "EjwFoWsqOxmg"
      }
    },
    {
      "cell_type": "code",
      "source": [
        "dados_normal.duplicated(keep='first').value_counts()"
      ],
      "metadata": {
        "colab": {
          "base_uri": "https://localhost:8080/"
        },
        "id": "ey9EO_p5PKUW",
        "outputId": "6998ea46-634a-47ac-dcd1-c34174109d10"
      },
      "execution_count": 67,
      "outputs": [
        {
          "output_type": "execute_result",
          "data": {
            "text/plain": [
              "False    7267\n",
              "dtype: int64"
            ]
          },
          "metadata": {},
          "execution_count": 67
        }
      ]
    },
    {
      "cell_type": "markdown",
      "source": [
        "Não havendo linhas duplicadas, podemos ir para o próximo passo sugerido no blog e efetuar a correção de erros estruturais do sistema."
      ],
      "metadata": {
        "id": "8oGCeIdtOUFh"
      }
    },
    {
      "cell_type": "markdown",
      "source": [
        "### Inconsistências nas colunas"
      ],
      "metadata": {
        "id": "Y54BFU4oD0UG"
      }
    },
    {
      "cell_type": "markdown",
      "source": [
        "Segundo o blog do Tableau, erros estruturais ocorrem quando os dados não seguem um padrão, seja havendo erros de digitação, valores diferentes que passam a mesma informação ou falta de um padrão nos dados. \n",
        "\n",
        "Com essa definição e as observações feitas após a análise das colunas, há alguns erros estruturais."
      ],
      "metadata": {
        "id": "ur1JsT1OECrZ"
      }
    },
    {
      "cell_type": "markdown",
      "source": [
        "#### 1. Coluna 'SeniorCitizen'"
      ],
      "metadata": {
        "id": "W73E5TqUFjEb"
      }
    },
    {
      "cell_type": "markdown",
      "source": [
        "A coluna `SeniorCitizen` é uma coluna que não segue o padrão. Ao invés de utilizar 'Yes' ou 'No' para os valores, utiliza '1' e '0'.\n",
        "\n",
        "Para isso, será usado o método [`.replace()`](https://pandas.pydata.org/pandas-docs/stable/reference/api/pandas.DataFrame.replace.html)."
      ],
      "metadata": {
        "id": "OW5XceUzF0z2"
      }
    },
    {
      "cell_type": "code",
      "source": [
        "mapa = {1:'Yes', 0:'No'}"
      ],
      "metadata": {
        "id": "yDy_DUOuD4iU"
      },
      "execution_count": 68,
      "outputs": []
    },
    {
      "cell_type": "code",
      "source": [
        "dados_normal['SeniorCitizen'].replace(mapa, inplace=True)"
      ],
      "metadata": {
        "id": "7j40wImFD4S1"
      },
      "execution_count": 69,
      "outputs": []
    },
    {
      "cell_type": "code",
      "source": [
        "analisa_coluna('SeniorCitizen')"
      ],
      "metadata": {
        "colab": {
          "base_uri": "https://localhost:8080/"
        },
        "id": "wLEXBILFHRxT",
        "outputId": "cc8902a6-5930-442c-d51b-b494bc774658"
      },
      "execution_count": 70,
      "outputs": [
        {
          "output_type": "stream",
          "name": "stdout",
          "text": [
            "Valores únicos:\n",
            "['No' 'Yes']\n",
            "----------------\n",
            "Contagem de valores:\n",
            "No     6085\n",
            "Yes    1182\n",
            "Name: SeniorCitizen, dtype: int64\n",
            "----------------\n",
            "Tipo da coluna:\n",
            "object\n",
            "----------------\n"
          ]
        }
      ]
    },
    {
      "cell_type": "markdown",
      "source": [
        "Com essa alteração, a coluna segue os padrões dos dados das outas colunas. Isso será importante quando os dados forem traduzidos."
      ],
      "metadata": {
        "id": "FTbyjffWHfAy"
      }
    },
    {
      "cell_type": "markdown",
      "source": [
        "#### 2. Coluna 'Charges.Total'"
      ],
      "metadata": {
        "id": "BklFYqqpHteT"
      }
    },
    {
      "cell_type": "markdown",
      "source": [
        "Essa coluna está com o tipo errado de valores. Ela representa o valor total pago pelo cliente, porém os dados estão sendo considerados como dados de texto. \n",
        "\n",
        "O tipo será o mesmo da coluna `Charges.Monthly`, que é `float64`.\n",
        "\n",
        "Essa mudança será feita utilizando [`.to_numeric()`](https://pandas.pydata.org/pandas-docs/stable/reference/api/pandas.to_numeric.html). Esse método permite fazer a troca de tipo de maneira rápida. O próprio método define se o tipo será `float64` ou `int64`, dependendo dos valores na coluna."
      ],
      "metadata": {
        "id": "fBPhdJLmIP9_"
      }
    },
    {
      "cell_type": "code",
      "source": [
        "pd.to_numeric(dados_normal['Charges.Total'])"
      ],
      "metadata": {
        "colab": {
          "base_uri": "https://localhost:8080/",
          "height": 293
        },
        "id": "3Gm0Nb3AImMV",
        "outputId": "29615976-09bd-42d6-9c6d-1e295f33712e"
      },
      "execution_count": 72,
      "outputs": [
        {
          "output_type": "error",
          "ename": "ValueError",
          "evalue": "ignored",
          "traceback": [
            "\u001b[0;31m---------------------------------------------------------------------------\u001b[0m",
            "\u001b[0;31mValueError\u001b[0m                                Traceback (most recent call last)",
            "\u001b[0;32m/usr/local/lib/python3.7/dist-packages/pandas/_libs/lib.pyx\u001b[0m in \u001b[0;36mpandas._libs.lib.maybe_convert_numeric\u001b[0;34m()\u001b[0m\n",
            "\u001b[0;31mValueError\u001b[0m: Unable to parse string \" \"",
            "\nDuring handling of the above exception, another exception occurred:\n",
            "\u001b[0;31mValueError\u001b[0m                                Traceback (most recent call last)",
            "\u001b[0;32m<ipython-input-72-3c1e1f4a6061>\u001b[0m in \u001b[0;36m<module>\u001b[0;34m()\u001b[0m\n\u001b[0;32m----> 1\u001b[0;31m \u001b[0mpd\u001b[0m\u001b[0;34m.\u001b[0m\u001b[0mto_numeric\u001b[0m\u001b[0;34m(\u001b[0m\u001b[0mdados_normal\u001b[0m\u001b[0;34m[\u001b[0m\u001b[0;34m'Charges.Total'\u001b[0m\u001b[0;34m]\u001b[0m\u001b[0;34m)\u001b[0m\u001b[0;34m\u001b[0m\u001b[0;34m\u001b[0m\u001b[0m\n\u001b[0m",
            "\u001b[0;32m/usr/local/lib/python3.7/dist-packages/pandas/core/tools/numeric.py\u001b[0m in \u001b[0;36mto_numeric\u001b[0;34m(arg, errors, downcast)\u001b[0m\n\u001b[1;32m    182\u001b[0m         \u001b[0;32mtry\u001b[0m\u001b[0;34m:\u001b[0m\u001b[0;34m\u001b[0m\u001b[0;34m\u001b[0m\u001b[0m\n\u001b[1;32m    183\u001b[0m             values, _ = lib.maybe_convert_numeric(\n\u001b[0;32m--> 184\u001b[0;31m                 \u001b[0mvalues\u001b[0m\u001b[0;34m,\u001b[0m \u001b[0mset\u001b[0m\u001b[0;34m(\u001b[0m\u001b[0;34m)\u001b[0m\u001b[0;34m,\u001b[0m \u001b[0mcoerce_numeric\u001b[0m\u001b[0;34m=\u001b[0m\u001b[0mcoerce_numeric\u001b[0m\u001b[0;34m\u001b[0m\u001b[0;34m\u001b[0m\u001b[0m\n\u001b[0m\u001b[1;32m    185\u001b[0m             )\n\u001b[1;32m    186\u001b[0m         \u001b[0;32mexcept\u001b[0m \u001b[0;34m(\u001b[0m\u001b[0mValueError\u001b[0m\u001b[0;34m,\u001b[0m \u001b[0mTypeError\u001b[0m\u001b[0;34m)\u001b[0m\u001b[0;34m:\u001b[0m\u001b[0;34m\u001b[0m\u001b[0;34m\u001b[0m\u001b[0m\n",
            "\u001b[0;32m/usr/local/lib/python3.7/dist-packages/pandas/_libs/lib.pyx\u001b[0m in \u001b[0;36mpandas._libs.lib.maybe_convert_numeric\u001b[0;34m()\u001b[0m\n",
            "\u001b[0;31mValueError\u001b[0m: Unable to parse string \" \" at position 975"
          ]
        }
      ]
    },
    {
      "cell_type": "markdown",
      "source": [
        "Ocorreu um erro. Existe um valor em branco na coluna que não foi percebido nas análises iniciais. Esse valor deve ser tratado para "
      ],
      "metadata": {
        "id": "St1n76mSJeK-"
      }
    },
    {
      "cell_type": "code",
      "source": [
        "dados_normal.loc[dados_normal['Charges.Total'] == ' ']"
      ],
      "metadata": {
        "colab": {
          "base_uri": "https://localhost:8080/",
          "height": 649
        },
        "id": "-a6DXYyOJkuo",
        "outputId": "cfa38446-507f-4787-c44d-cb4d9fa2ce9e"
      },
      "execution_count": 73,
      "outputs": [
        {
          "output_type": "execute_result",
          "data": {
            "text/plain": [
              "      customerID Churn  gender SeniorCitizen Partner Dependents  tenure  \\\n",
              "975   1371-DWPAZ    No  Female            No     Yes        Yes       0   \n",
              "1775  2520-SGTTA    No  Female            No     Yes        Yes       0   \n",
              "1955  2775-SEFEE    No    Male            No      No        Yes       0   \n",
              "2075  2923-ARZLG    No    Male            No     Yes        Yes       0   \n",
              "2232  3115-CZMZD    No    Male            No      No        Yes       0   \n",
              "2308  3213-VVOLG    No    Male            No     Yes        Yes       0   \n",
              "2930  4075-WKNIU    No  Female            No     Yes        Yes       0   \n",
              "3134  4367-NUYAO    No    Male            No     Yes        Yes       0   \n",
              "3203  4472-LVYGI    No  Female            No     Yes        Yes       0   \n",
              "4169  5709-LVOEQ    No  Female            No     Yes        Yes       0   \n",
              "5599  7644-OMVMY    No    Male            No     Yes        Yes       0   \n",
              "\n",
              "     PhoneService     MultipleLines InternetService       OnlineSecurity  \\\n",
              "975            No  No phone service             DSL                  Yes   \n",
              "1775          Yes                No              No  No internet service   \n",
              "1955          Yes               Yes             DSL                  Yes   \n",
              "2075          Yes                No              No  No internet service   \n",
              "2232          Yes                No              No  No internet service   \n",
              "2308          Yes               Yes              No  No internet service   \n",
              "2930          Yes               Yes             DSL                   No   \n",
              "3134          Yes               Yes              No  No internet service   \n",
              "3203           No  No phone service             DSL                  Yes   \n",
              "4169          Yes                No             DSL                  Yes   \n",
              "5599          Yes                No              No  No internet service   \n",
              "\n",
              "             OnlineBackup     DeviceProtection          TechSupport  \\\n",
              "975                   Yes                  Yes                  Yes   \n",
              "1775  No internet service  No internet service  No internet service   \n",
              "1955                  Yes                   No                  Yes   \n",
              "2075  No internet service  No internet service  No internet service   \n",
              "2232  No internet service  No internet service  No internet service   \n",
              "2308  No internet service  No internet service  No internet service   \n",
              "2930                  Yes                  Yes                  Yes   \n",
              "3134  No internet service  No internet service  No internet service   \n",
              "3203                   No                  Yes                  Yes   \n",
              "4169                  Yes                  Yes                   No   \n",
              "5599  No internet service  No internet service  No internet service   \n",
              "\n",
              "              StreamingTV      StreamingMovies  Contract PaperlessBilling  \\\n",
              "975                   Yes                   No  Two year               No   \n",
              "1775  No internet service  No internet service  Two year               No   \n",
              "1955                   No                   No  Two year              Yes   \n",
              "2075  No internet service  No internet service  One year              Yes   \n",
              "2232  No internet service  No internet service  Two year               No   \n",
              "2308  No internet service  No internet service  Two year               No   \n",
              "2930                  Yes                   No  Two year               No   \n",
              "3134  No internet service  No internet service  Two year               No   \n",
              "3203                  Yes                   No  Two year              Yes   \n",
              "4169                  Yes                  Yes  Two year               No   \n",
              "5599  No internet service  No internet service  Two year               No   \n",
              "\n",
              "                  PaymentMethod  Charges.Monthly Charges.Total  \n",
              "975     Credit card (automatic)            56.05                \n",
              "1775               Mailed check            20.00                \n",
              "1955  Bank transfer (automatic)            61.90                \n",
              "2075               Mailed check            19.70                \n",
              "2232               Mailed check            20.25                \n",
              "2308               Mailed check            25.35                \n",
              "2930               Mailed check            73.35                \n",
              "3134               Mailed check            25.75                \n",
              "3203  Bank transfer (automatic)            52.55                \n",
              "4169               Mailed check            80.85                \n",
              "5599               Mailed check            19.85                "
            ],
            "text/html": [
              "\n",
              "  <div id=\"df-743179c0-476d-4422-bf21-f0075171ecd1\">\n",
              "    <div class=\"colab-df-container\">\n",
              "      <div>\n",
              "<style scoped>\n",
              "    .dataframe tbody tr th:only-of-type {\n",
              "        vertical-align: middle;\n",
              "    }\n",
              "\n",
              "    .dataframe tbody tr th {\n",
              "        vertical-align: top;\n",
              "    }\n",
              "\n",
              "    .dataframe thead th {\n",
              "        text-align: right;\n",
              "    }\n",
              "</style>\n",
              "<table border=\"1\" class=\"dataframe\">\n",
              "  <thead>\n",
              "    <tr style=\"text-align: right;\">\n",
              "      <th></th>\n",
              "      <th>customerID</th>\n",
              "      <th>Churn</th>\n",
              "      <th>gender</th>\n",
              "      <th>SeniorCitizen</th>\n",
              "      <th>Partner</th>\n",
              "      <th>Dependents</th>\n",
              "      <th>tenure</th>\n",
              "      <th>PhoneService</th>\n",
              "      <th>MultipleLines</th>\n",
              "      <th>InternetService</th>\n",
              "      <th>OnlineSecurity</th>\n",
              "      <th>OnlineBackup</th>\n",
              "      <th>DeviceProtection</th>\n",
              "      <th>TechSupport</th>\n",
              "      <th>StreamingTV</th>\n",
              "      <th>StreamingMovies</th>\n",
              "      <th>Contract</th>\n",
              "      <th>PaperlessBilling</th>\n",
              "      <th>PaymentMethod</th>\n",
              "      <th>Charges.Monthly</th>\n",
              "      <th>Charges.Total</th>\n",
              "    </tr>\n",
              "  </thead>\n",
              "  <tbody>\n",
              "    <tr>\n",
              "      <th>975</th>\n",
              "      <td>1371-DWPAZ</td>\n",
              "      <td>No</td>\n",
              "      <td>Female</td>\n",
              "      <td>No</td>\n",
              "      <td>Yes</td>\n",
              "      <td>Yes</td>\n",
              "      <td>0</td>\n",
              "      <td>No</td>\n",
              "      <td>No phone service</td>\n",
              "      <td>DSL</td>\n",
              "      <td>Yes</td>\n",
              "      <td>Yes</td>\n",
              "      <td>Yes</td>\n",
              "      <td>Yes</td>\n",
              "      <td>Yes</td>\n",
              "      <td>No</td>\n",
              "      <td>Two year</td>\n",
              "      <td>No</td>\n",
              "      <td>Credit card (automatic)</td>\n",
              "      <td>56.05</td>\n",
              "      <td></td>\n",
              "    </tr>\n",
              "    <tr>\n",
              "      <th>1775</th>\n",
              "      <td>2520-SGTTA</td>\n",
              "      <td>No</td>\n",
              "      <td>Female</td>\n",
              "      <td>No</td>\n",
              "      <td>Yes</td>\n",
              "      <td>Yes</td>\n",
              "      <td>0</td>\n",
              "      <td>Yes</td>\n",
              "      <td>No</td>\n",
              "      <td>No</td>\n",
              "      <td>No internet service</td>\n",
              "      <td>No internet service</td>\n",
              "      <td>No internet service</td>\n",
              "      <td>No internet service</td>\n",
              "      <td>No internet service</td>\n",
              "      <td>No internet service</td>\n",
              "      <td>Two year</td>\n",
              "      <td>No</td>\n",
              "      <td>Mailed check</td>\n",
              "      <td>20.00</td>\n",
              "      <td></td>\n",
              "    </tr>\n",
              "    <tr>\n",
              "      <th>1955</th>\n",
              "      <td>2775-SEFEE</td>\n",
              "      <td>No</td>\n",
              "      <td>Male</td>\n",
              "      <td>No</td>\n",
              "      <td>No</td>\n",
              "      <td>Yes</td>\n",
              "      <td>0</td>\n",
              "      <td>Yes</td>\n",
              "      <td>Yes</td>\n",
              "      <td>DSL</td>\n",
              "      <td>Yes</td>\n",
              "      <td>Yes</td>\n",
              "      <td>No</td>\n",
              "      <td>Yes</td>\n",
              "      <td>No</td>\n",
              "      <td>No</td>\n",
              "      <td>Two year</td>\n",
              "      <td>Yes</td>\n",
              "      <td>Bank transfer (automatic)</td>\n",
              "      <td>61.90</td>\n",
              "      <td></td>\n",
              "    </tr>\n",
              "    <tr>\n",
              "      <th>2075</th>\n",
              "      <td>2923-ARZLG</td>\n",
              "      <td>No</td>\n",
              "      <td>Male</td>\n",
              "      <td>No</td>\n",
              "      <td>Yes</td>\n",
              "      <td>Yes</td>\n",
              "      <td>0</td>\n",
              "      <td>Yes</td>\n",
              "      <td>No</td>\n",
              "      <td>No</td>\n",
              "      <td>No internet service</td>\n",
              "      <td>No internet service</td>\n",
              "      <td>No internet service</td>\n",
              "      <td>No internet service</td>\n",
              "      <td>No internet service</td>\n",
              "      <td>No internet service</td>\n",
              "      <td>One year</td>\n",
              "      <td>Yes</td>\n",
              "      <td>Mailed check</td>\n",
              "      <td>19.70</td>\n",
              "      <td></td>\n",
              "    </tr>\n",
              "    <tr>\n",
              "      <th>2232</th>\n",
              "      <td>3115-CZMZD</td>\n",
              "      <td>No</td>\n",
              "      <td>Male</td>\n",
              "      <td>No</td>\n",
              "      <td>No</td>\n",
              "      <td>Yes</td>\n",
              "      <td>0</td>\n",
              "      <td>Yes</td>\n",
              "      <td>No</td>\n",
              "      <td>No</td>\n",
              "      <td>No internet service</td>\n",
              "      <td>No internet service</td>\n",
              "      <td>No internet service</td>\n",
              "      <td>No internet service</td>\n",
              "      <td>No internet service</td>\n",
              "      <td>No internet service</td>\n",
              "      <td>Two year</td>\n",
              "      <td>No</td>\n",
              "      <td>Mailed check</td>\n",
              "      <td>20.25</td>\n",
              "      <td></td>\n",
              "    </tr>\n",
              "    <tr>\n",
              "      <th>2308</th>\n",
              "      <td>3213-VVOLG</td>\n",
              "      <td>No</td>\n",
              "      <td>Male</td>\n",
              "      <td>No</td>\n",
              "      <td>Yes</td>\n",
              "      <td>Yes</td>\n",
              "      <td>0</td>\n",
              "      <td>Yes</td>\n",
              "      <td>Yes</td>\n",
              "      <td>No</td>\n",
              "      <td>No internet service</td>\n",
              "      <td>No internet service</td>\n",
              "      <td>No internet service</td>\n",
              "      <td>No internet service</td>\n",
              "      <td>No internet service</td>\n",
              "      <td>No internet service</td>\n",
              "      <td>Two year</td>\n",
              "      <td>No</td>\n",
              "      <td>Mailed check</td>\n",
              "      <td>25.35</td>\n",
              "      <td></td>\n",
              "    </tr>\n",
              "    <tr>\n",
              "      <th>2930</th>\n",
              "      <td>4075-WKNIU</td>\n",
              "      <td>No</td>\n",
              "      <td>Female</td>\n",
              "      <td>No</td>\n",
              "      <td>Yes</td>\n",
              "      <td>Yes</td>\n",
              "      <td>0</td>\n",
              "      <td>Yes</td>\n",
              "      <td>Yes</td>\n",
              "      <td>DSL</td>\n",
              "      <td>No</td>\n",
              "      <td>Yes</td>\n",
              "      <td>Yes</td>\n",
              "      <td>Yes</td>\n",
              "      <td>Yes</td>\n",
              "      <td>No</td>\n",
              "      <td>Two year</td>\n",
              "      <td>No</td>\n",
              "      <td>Mailed check</td>\n",
              "      <td>73.35</td>\n",
              "      <td></td>\n",
              "    </tr>\n",
              "    <tr>\n",
              "      <th>3134</th>\n",
              "      <td>4367-NUYAO</td>\n",
              "      <td>No</td>\n",
              "      <td>Male</td>\n",
              "      <td>No</td>\n",
              "      <td>Yes</td>\n",
              "      <td>Yes</td>\n",
              "      <td>0</td>\n",
              "      <td>Yes</td>\n",
              "      <td>Yes</td>\n",
              "      <td>No</td>\n",
              "      <td>No internet service</td>\n",
              "      <td>No internet service</td>\n",
              "      <td>No internet service</td>\n",
              "      <td>No internet service</td>\n",
              "      <td>No internet service</td>\n",
              "      <td>No internet service</td>\n",
              "      <td>Two year</td>\n",
              "      <td>No</td>\n",
              "      <td>Mailed check</td>\n",
              "      <td>25.75</td>\n",
              "      <td></td>\n",
              "    </tr>\n",
              "    <tr>\n",
              "      <th>3203</th>\n",
              "      <td>4472-LVYGI</td>\n",
              "      <td>No</td>\n",
              "      <td>Female</td>\n",
              "      <td>No</td>\n",
              "      <td>Yes</td>\n",
              "      <td>Yes</td>\n",
              "      <td>0</td>\n",
              "      <td>No</td>\n",
              "      <td>No phone service</td>\n",
              "      <td>DSL</td>\n",
              "      <td>Yes</td>\n",
              "      <td>No</td>\n",
              "      <td>Yes</td>\n",
              "      <td>Yes</td>\n",
              "      <td>Yes</td>\n",
              "      <td>No</td>\n",
              "      <td>Two year</td>\n",
              "      <td>Yes</td>\n",
              "      <td>Bank transfer (automatic)</td>\n",
              "      <td>52.55</td>\n",
              "      <td></td>\n",
              "    </tr>\n",
              "    <tr>\n",
              "      <th>4169</th>\n",
              "      <td>5709-LVOEQ</td>\n",
              "      <td>No</td>\n",
              "      <td>Female</td>\n",
              "      <td>No</td>\n",
              "      <td>Yes</td>\n",
              "      <td>Yes</td>\n",
              "      <td>0</td>\n",
              "      <td>Yes</td>\n",
              "      <td>No</td>\n",
              "      <td>DSL</td>\n",
              "      <td>Yes</td>\n",
              "      <td>Yes</td>\n",
              "      <td>Yes</td>\n",
              "      <td>No</td>\n",
              "      <td>Yes</td>\n",
              "      <td>Yes</td>\n",
              "      <td>Two year</td>\n",
              "      <td>No</td>\n",
              "      <td>Mailed check</td>\n",
              "      <td>80.85</td>\n",
              "      <td></td>\n",
              "    </tr>\n",
              "    <tr>\n",
              "      <th>5599</th>\n",
              "      <td>7644-OMVMY</td>\n",
              "      <td>No</td>\n",
              "      <td>Male</td>\n",
              "      <td>No</td>\n",
              "      <td>Yes</td>\n",
              "      <td>Yes</td>\n",
              "      <td>0</td>\n",
              "      <td>Yes</td>\n",
              "      <td>No</td>\n",
              "      <td>No</td>\n",
              "      <td>No internet service</td>\n",
              "      <td>No internet service</td>\n",
              "      <td>No internet service</td>\n",
              "      <td>No internet service</td>\n",
              "      <td>No internet service</td>\n",
              "      <td>No internet service</td>\n",
              "      <td>Two year</td>\n",
              "      <td>No</td>\n",
              "      <td>Mailed check</td>\n",
              "      <td>19.85</td>\n",
              "      <td></td>\n",
              "    </tr>\n",
              "  </tbody>\n",
              "</table>\n",
              "</div>\n",
              "      <button class=\"colab-df-convert\" onclick=\"convertToInteractive('df-743179c0-476d-4422-bf21-f0075171ecd1')\"\n",
              "              title=\"Convert this dataframe to an interactive table.\"\n",
              "              style=\"display:none;\">\n",
              "        \n",
              "  <svg xmlns=\"http://www.w3.org/2000/svg\" height=\"24px\"viewBox=\"0 0 24 24\"\n",
              "       width=\"24px\">\n",
              "    <path d=\"M0 0h24v24H0V0z\" fill=\"none\"/>\n",
              "    <path d=\"M18.56 5.44l.94 2.06.94-2.06 2.06-.94-2.06-.94-.94-2.06-.94 2.06-2.06.94zm-11 1L8.5 8.5l.94-2.06 2.06-.94-2.06-.94L8.5 2.5l-.94 2.06-2.06.94zm10 10l.94 2.06.94-2.06 2.06-.94-2.06-.94-.94-2.06-.94 2.06-2.06.94z\"/><path d=\"M17.41 7.96l-1.37-1.37c-.4-.4-.92-.59-1.43-.59-.52 0-1.04.2-1.43.59L10.3 9.45l-7.72 7.72c-.78.78-.78 2.05 0 2.83L4 21.41c.39.39.9.59 1.41.59.51 0 1.02-.2 1.41-.59l7.78-7.78 2.81-2.81c.8-.78.8-2.07 0-2.86zM5.41 20L4 18.59l7.72-7.72 1.47 1.35L5.41 20z\"/>\n",
              "  </svg>\n",
              "      </button>\n",
              "      \n",
              "  <style>\n",
              "    .colab-df-container {\n",
              "      display:flex;\n",
              "      flex-wrap:wrap;\n",
              "      gap: 12px;\n",
              "    }\n",
              "\n",
              "    .colab-df-convert {\n",
              "      background-color: #E8F0FE;\n",
              "      border: none;\n",
              "      border-radius: 50%;\n",
              "      cursor: pointer;\n",
              "      display: none;\n",
              "      fill: #1967D2;\n",
              "      height: 32px;\n",
              "      padding: 0 0 0 0;\n",
              "      width: 32px;\n",
              "    }\n",
              "\n",
              "    .colab-df-convert:hover {\n",
              "      background-color: #E2EBFA;\n",
              "      box-shadow: 0px 1px 2px rgba(60, 64, 67, 0.3), 0px 1px 3px 1px rgba(60, 64, 67, 0.15);\n",
              "      fill: #174EA6;\n",
              "    }\n",
              "\n",
              "    [theme=dark] .colab-df-convert {\n",
              "      background-color: #3B4455;\n",
              "      fill: #D2E3FC;\n",
              "    }\n",
              "\n",
              "    [theme=dark] .colab-df-convert:hover {\n",
              "      background-color: #434B5C;\n",
              "      box-shadow: 0px 1px 3px 1px rgba(0, 0, 0, 0.15);\n",
              "      filter: drop-shadow(0px 1px 2px rgba(0, 0, 0, 0.3));\n",
              "      fill: #FFFFFF;\n",
              "    }\n",
              "  </style>\n",
              "\n",
              "      <script>\n",
              "        const buttonEl =\n",
              "          document.querySelector('#df-743179c0-476d-4422-bf21-f0075171ecd1 button.colab-df-convert');\n",
              "        buttonEl.style.display =\n",
              "          google.colab.kernel.accessAllowed ? 'block' : 'none';\n",
              "\n",
              "        async function convertToInteractive(key) {\n",
              "          const element = document.querySelector('#df-743179c0-476d-4422-bf21-f0075171ecd1');\n",
              "          const dataTable =\n",
              "            await google.colab.kernel.invokeFunction('convertToInteractive',\n",
              "                                                     [key], {});\n",
              "          if (!dataTable) return;\n",
              "\n",
              "          const docLinkHtml = 'Like what you see? Visit the ' +\n",
              "            '<a target=\"_blank\" href=https://colab.research.google.com/notebooks/data_table.ipynb>data table notebook</a>'\n",
              "            + ' to learn more about interactive tables.';\n",
              "          element.innerHTML = '';\n",
              "          dataTable['output_type'] = 'display_data';\n",
              "          await google.colab.output.renderOutput(dataTable, element);\n",
              "          const docLink = document.createElement('div');\n",
              "          docLink.innerHTML = docLinkHtml;\n",
              "          element.appendChild(docLink);\n",
              "        }\n",
              "      </script>\n",
              "    </div>\n",
              "  </div>\n",
              "  "
            ]
          },
          "metadata": {},
          "execution_count": 73
        }
      ]
    },
    {
      "cell_type": "markdown",
      "source": [
        "Os valores em branco na coluna correspondem aos clientes que possuem 0 meses de contrato. Esses cluentes ainda não efetuaram o pagamento da sua fatura. Por conta disso, irei trocar os valores que estão vazios para 0. Assim será possível manter os dados e as análises de maneira coerente."
      ],
      "metadata": {
        "id": "h3aLXDOSNZ4n"
      }
    },
    {
      "cell_type": "code",
      "source": [
        "mapa = {' ': 0}\n",
        "\n",
        "dados_normal['Charges.Total'].replace(mapa, inplace=True)"
      ],
      "metadata": {
        "id": "robDPZz4Il5f"
      },
      "execution_count": 74,
      "outputs": []
    },
    {
      "cell_type": "code",
      "source": [
        "pd.to_numeric(dados_normal['Charges.Total'])"
      ],
      "metadata": {
        "colab": {
          "base_uri": "https://localhost:8080/"
        },
        "id": "O8ylBocwN5nu",
        "outputId": "f0699d22-3c6b-4f62-b2d8-e70d73db748e"
      },
      "execution_count": 75,
      "outputs": [
        {
          "output_type": "execute_result",
          "data": {
            "text/plain": [
              "0        593.30\n",
              "1        542.40\n",
              "2        280.85\n",
              "3       1237.85\n",
              "4        267.40\n",
              "         ...   \n",
              "7262     742.90\n",
              "7263    1873.70\n",
              "7264      92.75\n",
              "7265    4627.65\n",
              "7266    3707.60\n",
              "Name: Charges.Total, Length: 7267, dtype: float64"
            ]
          },
          "metadata": {},
          "execution_count": 75
        }
      ]
    },
    {
      "cell_type": "markdown",
      "source": [
        "Com a correção dos valores faltantes, foi possível fazer a conversão do tipo. O método utilizou o tipo `float64`, que será mantido."
      ],
      "metadata": {
        "id": "YZsyf3OKOAt_"
      }
    },
    {
      "cell_type": "markdown",
      "source": [
        "### Explorando valores Faltantes"
      ],
      "metadata": {
        "id": "BbcrKXklE94z"
      }
    },
    {
      "cell_type": "markdown",
      "source": [
        "Além das inconsistências, também há valores faltantes. Algguns já foram tratados na coluna `Charges.Total`, porém também há valores faltantes na coluna `Churn`. \n",
        "\n",
        "Como o objetivo da empresa é encontrar clientes que possam querer cancelar, essa coluna será utilizada como meta no momento da criação de modelos de machine learning. Por isso ela precisa estar com valores precisos e em conformidade.\n",
        "\n",
        "Primeiro, deve-se analisar mais profundamente os valores faltantes e tentar entender o motivo de eles existirem."
      ],
      "metadata": {
        "id": "Sod0JMaqPODb"
      }
    },
    {
      "cell_type": "code",
      "source": [
        "faltantes = dados_normal.loc[dados_normal['Churn'] == '']"
      ],
      "metadata": {
        "id": "0OMmZl128KTn"
      },
      "execution_count": 76,
      "outputs": []
    },
    {
      "cell_type": "code",
      "source": [
        "faltantes"
      ],
      "metadata": {
        "colab": {
          "base_uri": "https://localhost:8080/",
          "height": 661
        },
        "id": "usR2-Gw8Q5uC",
        "outputId": "3bd4dbbb-fcef-48e8-b15d-9dcd49cd4200"
      },
      "execution_count": 77,
      "outputs": [
        {
          "output_type": "execute_result",
          "data": {
            "text/plain": [
              "      customerID Churn  gender SeniorCitizen Partner Dependents  tenure  \\\n",
              "30    0047-ZHDTW        Female            No      No         No      11   \n",
              "75    0120-YZLQA          Male            No      No         No      71   \n",
              "96    0154-QYHJU          Male            No      No         No      29   \n",
              "98    0162-RZGMZ        Female           Yes      No         No       5   \n",
              "175   0274-VVQOQ          Male           Yes     Yes         No      65   \n",
              "...          ...   ...     ...           ...     ...        ...     ...   \n",
              "7158  9840-GSRFX        Female            No      No         No      14   \n",
              "7180  9872-RZQQB        Female            No     Yes         No      49   \n",
              "7211  9920-GNDMB          Male            No      No         No       9   \n",
              "7239  9955-RVWSC        Female            No     Yes        Yes      67   \n",
              "7247  9966-VYRTZ        Female            No     Yes        Yes      31   \n",
              "\n",
              "     PhoneService     MultipleLines InternetService       OnlineSecurity  \\\n",
              "30            Yes               Yes     Fiber optic                  Yes   \n",
              "75            Yes                No              No  No internet service   \n",
              "96            Yes                No             DSL                  Yes   \n",
              "98            Yes                No             DSL                  Yes   \n",
              "175           Yes               Yes     Fiber optic                   No   \n",
              "...           ...               ...             ...                  ...   \n",
              "7158          Yes               Yes             DSL                   No   \n",
              "7180           No  No phone service             DSL                  Yes   \n",
              "7211          Yes               Yes     Fiber optic                   No   \n",
              "7239          Yes                No              No  No internet service   \n",
              "7247          Yes                No              No  No internet service   \n",
              "\n",
              "             OnlineBackup     DeviceProtection          TechSupport  \\\n",
              "30                     No                   No                   No   \n",
              "75    No internet service  No internet service  No internet service   \n",
              "96                    Yes                   No                  Yes   \n",
              "98                    Yes                   No                  Yes   \n",
              "175                   Yes                  Yes                   No   \n",
              "...                   ...                  ...                  ...   \n",
              "7158                  Yes                   No                   No   \n",
              "7180                   No                   No                   No   \n",
              "7211                   No                   No                   No   \n",
              "7239  No internet service  No internet service  No internet service   \n",
              "7247  No internet service  No internet service  No internet service   \n",
              "\n",
              "              StreamingTV      StreamingMovies        Contract  \\\n",
              "30                     No                   No  Month-to-month   \n",
              "75    No internet service  No internet service        Two year   \n",
              "96                     No                   No        One year   \n",
              "98                     No                   No  Month-to-month   \n",
              "175                   Yes                  Yes        One year   \n",
              "...                   ...                  ...             ...   \n",
              "7158                   No                   No        One year   \n",
              "7180                  Yes                   No  Month-to-month   \n",
              "7211                   No                   No  Month-to-month   \n",
              "7239  No internet service  No internet service        Two year   \n",
              "7247  No internet service  No internet service  Month-to-month   \n",
              "\n",
              "     PaperlessBilling              PaymentMethod  Charges.Monthly  \\\n",
              "30                Yes  Bank transfer (automatic)            79.00   \n",
              "75                Yes    Credit card (automatic)            19.90   \n",
              "96                Yes           Electronic check            58.75   \n",
              "98                 No    Credit card (automatic)            59.90   \n",
              "175               Yes  Bank transfer (automatic)           103.15   \n",
              "...               ...                        ...              ...   \n",
              "7158              Yes               Mailed check            54.25   \n",
              "7180               No  Bank transfer (automatic)            40.65   \n",
              "7211              Yes           Electronic check            76.25   \n",
              "7239              Yes  Bank transfer (automatic)            19.25   \n",
              "7247              Yes               Mailed check            19.55   \n",
              "\n",
              "     Charges.Total  \n",
              "30           929.3  \n",
              "75          1355.1  \n",
              "96          1696.2  \n",
              "98          287.85  \n",
              "175        6792.45  \n",
              "...            ...  \n",
              "7158         773.2  \n",
              "7180       2070.75  \n",
              "7211        684.85  \n",
              "7239        1372.9  \n",
              "7247        658.95  \n",
              "\n",
              "[224 rows x 21 columns]"
            ],
            "text/html": [
              "\n",
              "  <div id=\"df-83a386ce-8b6a-4fd8-bb2d-203b4e929901\">\n",
              "    <div class=\"colab-df-container\">\n",
              "      <div>\n",
              "<style scoped>\n",
              "    .dataframe tbody tr th:only-of-type {\n",
              "        vertical-align: middle;\n",
              "    }\n",
              "\n",
              "    .dataframe tbody tr th {\n",
              "        vertical-align: top;\n",
              "    }\n",
              "\n",
              "    .dataframe thead th {\n",
              "        text-align: right;\n",
              "    }\n",
              "</style>\n",
              "<table border=\"1\" class=\"dataframe\">\n",
              "  <thead>\n",
              "    <tr style=\"text-align: right;\">\n",
              "      <th></th>\n",
              "      <th>customerID</th>\n",
              "      <th>Churn</th>\n",
              "      <th>gender</th>\n",
              "      <th>SeniorCitizen</th>\n",
              "      <th>Partner</th>\n",
              "      <th>Dependents</th>\n",
              "      <th>tenure</th>\n",
              "      <th>PhoneService</th>\n",
              "      <th>MultipleLines</th>\n",
              "      <th>InternetService</th>\n",
              "      <th>OnlineSecurity</th>\n",
              "      <th>OnlineBackup</th>\n",
              "      <th>DeviceProtection</th>\n",
              "      <th>TechSupport</th>\n",
              "      <th>StreamingTV</th>\n",
              "      <th>StreamingMovies</th>\n",
              "      <th>Contract</th>\n",
              "      <th>PaperlessBilling</th>\n",
              "      <th>PaymentMethod</th>\n",
              "      <th>Charges.Monthly</th>\n",
              "      <th>Charges.Total</th>\n",
              "    </tr>\n",
              "  </thead>\n",
              "  <tbody>\n",
              "    <tr>\n",
              "      <th>30</th>\n",
              "      <td>0047-ZHDTW</td>\n",
              "      <td></td>\n",
              "      <td>Female</td>\n",
              "      <td>No</td>\n",
              "      <td>No</td>\n",
              "      <td>No</td>\n",
              "      <td>11</td>\n",
              "      <td>Yes</td>\n",
              "      <td>Yes</td>\n",
              "      <td>Fiber optic</td>\n",
              "      <td>Yes</td>\n",
              "      <td>No</td>\n",
              "      <td>No</td>\n",
              "      <td>No</td>\n",
              "      <td>No</td>\n",
              "      <td>No</td>\n",
              "      <td>Month-to-month</td>\n",
              "      <td>Yes</td>\n",
              "      <td>Bank transfer (automatic)</td>\n",
              "      <td>79.00</td>\n",
              "      <td>929.3</td>\n",
              "    </tr>\n",
              "    <tr>\n",
              "      <th>75</th>\n",
              "      <td>0120-YZLQA</td>\n",
              "      <td></td>\n",
              "      <td>Male</td>\n",
              "      <td>No</td>\n",
              "      <td>No</td>\n",
              "      <td>No</td>\n",
              "      <td>71</td>\n",
              "      <td>Yes</td>\n",
              "      <td>No</td>\n",
              "      <td>No</td>\n",
              "      <td>No internet service</td>\n",
              "      <td>No internet service</td>\n",
              "      <td>No internet service</td>\n",
              "      <td>No internet service</td>\n",
              "      <td>No internet service</td>\n",
              "      <td>No internet service</td>\n",
              "      <td>Two year</td>\n",
              "      <td>Yes</td>\n",
              "      <td>Credit card (automatic)</td>\n",
              "      <td>19.90</td>\n",
              "      <td>1355.1</td>\n",
              "    </tr>\n",
              "    <tr>\n",
              "      <th>96</th>\n",
              "      <td>0154-QYHJU</td>\n",
              "      <td></td>\n",
              "      <td>Male</td>\n",
              "      <td>No</td>\n",
              "      <td>No</td>\n",
              "      <td>No</td>\n",
              "      <td>29</td>\n",
              "      <td>Yes</td>\n",
              "      <td>No</td>\n",
              "      <td>DSL</td>\n",
              "      <td>Yes</td>\n",
              "      <td>Yes</td>\n",
              "      <td>No</td>\n",
              "      <td>Yes</td>\n",
              "      <td>No</td>\n",
              "      <td>No</td>\n",
              "      <td>One year</td>\n",
              "      <td>Yes</td>\n",
              "      <td>Electronic check</td>\n",
              "      <td>58.75</td>\n",
              "      <td>1696.2</td>\n",
              "    </tr>\n",
              "    <tr>\n",
              "      <th>98</th>\n",
              "      <td>0162-RZGMZ</td>\n",
              "      <td></td>\n",
              "      <td>Female</td>\n",
              "      <td>Yes</td>\n",
              "      <td>No</td>\n",
              "      <td>No</td>\n",
              "      <td>5</td>\n",
              "      <td>Yes</td>\n",
              "      <td>No</td>\n",
              "      <td>DSL</td>\n",
              "      <td>Yes</td>\n",
              "      <td>Yes</td>\n",
              "      <td>No</td>\n",
              "      <td>Yes</td>\n",
              "      <td>No</td>\n",
              "      <td>No</td>\n",
              "      <td>Month-to-month</td>\n",
              "      <td>No</td>\n",
              "      <td>Credit card (automatic)</td>\n",
              "      <td>59.90</td>\n",
              "      <td>287.85</td>\n",
              "    </tr>\n",
              "    <tr>\n",
              "      <th>175</th>\n",
              "      <td>0274-VVQOQ</td>\n",
              "      <td></td>\n",
              "      <td>Male</td>\n",
              "      <td>Yes</td>\n",
              "      <td>Yes</td>\n",
              "      <td>No</td>\n",
              "      <td>65</td>\n",
              "      <td>Yes</td>\n",
              "      <td>Yes</td>\n",
              "      <td>Fiber optic</td>\n",
              "      <td>No</td>\n",
              "      <td>Yes</td>\n",
              "      <td>Yes</td>\n",
              "      <td>No</td>\n",
              "      <td>Yes</td>\n",
              "      <td>Yes</td>\n",
              "      <td>One year</td>\n",
              "      <td>Yes</td>\n",
              "      <td>Bank transfer (automatic)</td>\n",
              "      <td>103.15</td>\n",
              "      <td>6792.45</td>\n",
              "    </tr>\n",
              "    <tr>\n",
              "      <th>...</th>\n",
              "      <td>...</td>\n",
              "      <td>...</td>\n",
              "      <td>...</td>\n",
              "      <td>...</td>\n",
              "      <td>...</td>\n",
              "      <td>...</td>\n",
              "      <td>...</td>\n",
              "      <td>...</td>\n",
              "      <td>...</td>\n",
              "      <td>...</td>\n",
              "      <td>...</td>\n",
              "      <td>...</td>\n",
              "      <td>...</td>\n",
              "      <td>...</td>\n",
              "      <td>...</td>\n",
              "      <td>...</td>\n",
              "      <td>...</td>\n",
              "      <td>...</td>\n",
              "      <td>...</td>\n",
              "      <td>...</td>\n",
              "      <td>...</td>\n",
              "    </tr>\n",
              "    <tr>\n",
              "      <th>7158</th>\n",
              "      <td>9840-GSRFX</td>\n",
              "      <td></td>\n",
              "      <td>Female</td>\n",
              "      <td>No</td>\n",
              "      <td>No</td>\n",
              "      <td>No</td>\n",
              "      <td>14</td>\n",
              "      <td>Yes</td>\n",
              "      <td>Yes</td>\n",
              "      <td>DSL</td>\n",
              "      <td>No</td>\n",
              "      <td>Yes</td>\n",
              "      <td>No</td>\n",
              "      <td>No</td>\n",
              "      <td>No</td>\n",
              "      <td>No</td>\n",
              "      <td>One year</td>\n",
              "      <td>Yes</td>\n",
              "      <td>Mailed check</td>\n",
              "      <td>54.25</td>\n",
              "      <td>773.2</td>\n",
              "    </tr>\n",
              "    <tr>\n",
              "      <th>7180</th>\n",
              "      <td>9872-RZQQB</td>\n",
              "      <td></td>\n",
              "      <td>Female</td>\n",
              "      <td>No</td>\n",
              "      <td>Yes</td>\n",
              "      <td>No</td>\n",
              "      <td>49</td>\n",
              "      <td>No</td>\n",
              "      <td>No phone service</td>\n",
              "      <td>DSL</td>\n",
              "      <td>Yes</td>\n",
              "      <td>No</td>\n",
              "      <td>No</td>\n",
              "      <td>No</td>\n",
              "      <td>Yes</td>\n",
              "      <td>No</td>\n",
              "      <td>Month-to-month</td>\n",
              "      <td>No</td>\n",
              "      <td>Bank transfer (automatic)</td>\n",
              "      <td>40.65</td>\n",
              "      <td>2070.75</td>\n",
              "    </tr>\n",
              "    <tr>\n",
              "      <th>7211</th>\n",
              "      <td>9920-GNDMB</td>\n",
              "      <td></td>\n",
              "      <td>Male</td>\n",
              "      <td>No</td>\n",
              "      <td>No</td>\n",
              "      <td>No</td>\n",
              "      <td>9</td>\n",
              "      <td>Yes</td>\n",
              "      <td>Yes</td>\n",
              "      <td>Fiber optic</td>\n",
              "      <td>No</td>\n",
              "      <td>No</td>\n",
              "      <td>No</td>\n",
              "      <td>No</td>\n",
              "      <td>No</td>\n",
              "      <td>No</td>\n",
              "      <td>Month-to-month</td>\n",
              "      <td>Yes</td>\n",
              "      <td>Electronic check</td>\n",
              "      <td>76.25</td>\n",
              "      <td>684.85</td>\n",
              "    </tr>\n",
              "    <tr>\n",
              "      <th>7239</th>\n",
              "      <td>9955-RVWSC</td>\n",
              "      <td></td>\n",
              "      <td>Female</td>\n",
              "      <td>No</td>\n",
              "      <td>Yes</td>\n",
              "      <td>Yes</td>\n",
              "      <td>67</td>\n",
              "      <td>Yes</td>\n",
              "      <td>No</td>\n",
              "      <td>No</td>\n",
              "      <td>No internet service</td>\n",
              "      <td>No internet service</td>\n",
              "      <td>No internet service</td>\n",
              "      <td>No internet service</td>\n",
              "      <td>No internet service</td>\n",
              "      <td>No internet service</td>\n",
              "      <td>Two year</td>\n",
              "      <td>Yes</td>\n",
              "      <td>Bank transfer (automatic)</td>\n",
              "      <td>19.25</td>\n",
              "      <td>1372.9</td>\n",
              "    </tr>\n",
              "    <tr>\n",
              "      <th>7247</th>\n",
              "      <td>9966-VYRTZ</td>\n",
              "      <td></td>\n",
              "      <td>Female</td>\n",
              "      <td>No</td>\n",
              "      <td>Yes</td>\n",
              "      <td>Yes</td>\n",
              "      <td>31</td>\n",
              "      <td>Yes</td>\n",
              "      <td>No</td>\n",
              "      <td>No</td>\n",
              "      <td>No internet service</td>\n",
              "      <td>No internet service</td>\n",
              "      <td>No internet service</td>\n",
              "      <td>No internet service</td>\n",
              "      <td>No internet service</td>\n",
              "      <td>No internet service</td>\n",
              "      <td>Month-to-month</td>\n",
              "      <td>Yes</td>\n",
              "      <td>Mailed check</td>\n",
              "      <td>19.55</td>\n",
              "      <td>658.95</td>\n",
              "    </tr>\n",
              "  </tbody>\n",
              "</table>\n",
              "<p>224 rows × 21 columns</p>\n",
              "</div>\n",
              "      <button class=\"colab-df-convert\" onclick=\"convertToInteractive('df-83a386ce-8b6a-4fd8-bb2d-203b4e929901')\"\n",
              "              title=\"Convert this dataframe to an interactive table.\"\n",
              "              style=\"display:none;\">\n",
              "        \n",
              "  <svg xmlns=\"http://www.w3.org/2000/svg\" height=\"24px\"viewBox=\"0 0 24 24\"\n",
              "       width=\"24px\">\n",
              "    <path d=\"M0 0h24v24H0V0z\" fill=\"none\"/>\n",
              "    <path d=\"M18.56 5.44l.94 2.06.94-2.06 2.06-.94-2.06-.94-.94-2.06-.94 2.06-2.06.94zm-11 1L8.5 8.5l.94-2.06 2.06-.94-2.06-.94L8.5 2.5l-.94 2.06-2.06.94zm10 10l.94 2.06.94-2.06 2.06-.94-2.06-.94-.94-2.06-.94 2.06-2.06.94z\"/><path d=\"M17.41 7.96l-1.37-1.37c-.4-.4-.92-.59-1.43-.59-.52 0-1.04.2-1.43.59L10.3 9.45l-7.72 7.72c-.78.78-.78 2.05 0 2.83L4 21.41c.39.39.9.59 1.41.59.51 0 1.02-.2 1.41-.59l7.78-7.78 2.81-2.81c.8-.78.8-2.07 0-2.86zM5.41 20L4 18.59l7.72-7.72 1.47 1.35L5.41 20z\"/>\n",
              "  </svg>\n",
              "      </button>\n",
              "      \n",
              "  <style>\n",
              "    .colab-df-container {\n",
              "      display:flex;\n",
              "      flex-wrap:wrap;\n",
              "      gap: 12px;\n",
              "    }\n",
              "\n",
              "    .colab-df-convert {\n",
              "      background-color: #E8F0FE;\n",
              "      border: none;\n",
              "      border-radius: 50%;\n",
              "      cursor: pointer;\n",
              "      display: none;\n",
              "      fill: #1967D2;\n",
              "      height: 32px;\n",
              "      padding: 0 0 0 0;\n",
              "      width: 32px;\n",
              "    }\n",
              "\n",
              "    .colab-df-convert:hover {\n",
              "      background-color: #E2EBFA;\n",
              "      box-shadow: 0px 1px 2px rgba(60, 64, 67, 0.3), 0px 1px 3px 1px rgba(60, 64, 67, 0.15);\n",
              "      fill: #174EA6;\n",
              "    }\n",
              "\n",
              "    [theme=dark] .colab-df-convert {\n",
              "      background-color: #3B4455;\n",
              "      fill: #D2E3FC;\n",
              "    }\n",
              "\n",
              "    [theme=dark] .colab-df-convert:hover {\n",
              "      background-color: #434B5C;\n",
              "      box-shadow: 0px 1px 3px 1px rgba(0, 0, 0, 0.15);\n",
              "      filter: drop-shadow(0px 1px 2px rgba(0, 0, 0, 0.3));\n",
              "      fill: #FFFFFF;\n",
              "    }\n",
              "  </style>\n",
              "\n",
              "      <script>\n",
              "        const buttonEl =\n",
              "          document.querySelector('#df-83a386ce-8b6a-4fd8-bb2d-203b4e929901 button.colab-df-convert');\n",
              "        buttonEl.style.display =\n",
              "          google.colab.kernel.accessAllowed ? 'block' : 'none';\n",
              "\n",
              "        async function convertToInteractive(key) {\n",
              "          const element = document.querySelector('#df-83a386ce-8b6a-4fd8-bb2d-203b4e929901');\n",
              "          const dataTable =\n",
              "            await google.colab.kernel.invokeFunction('convertToInteractive',\n",
              "                                                     [key], {});\n",
              "          if (!dataTable) return;\n",
              "\n",
              "          const docLinkHtml = 'Like what you see? Visit the ' +\n",
              "            '<a target=\"_blank\" href=https://colab.research.google.com/notebooks/data_table.ipynb>data table notebook</a>'\n",
              "            + ' to learn more about interactive tables.';\n",
              "          element.innerHTML = '';\n",
              "          dataTable['output_type'] = 'display_data';\n",
              "          await google.colab.output.renderOutput(dataTable, element);\n",
              "          const docLink = document.createElement('div');\n",
              "          docLink.innerHTML = docLinkHtml;\n",
              "          element.appendChild(docLink);\n",
              "        }\n",
              "      </script>\n",
              "    </div>\n",
              "  </div>\n",
              "  "
            ]
          },
          "metadata": {},
          "execution_count": 77
        }
      ]
    },
    {
      "cell_type": "markdown",
      "source": [
        "Analisando o dataset, não há uma variável que explique a falta de informações na coluna `Churn`.\n",
        "\n",
        "De acordo com este [site](https://www.analyticsvidhya.com/blog/2021/10/handling-missing-value/), essa é uma característica de dados MCAR, ou *Missing Completely At Random* (Faltando em Completa Aleatoriedade em tradução livre). Neste caso, é possível excluir os dados do modelo, apesar de perder alguns dados importantes."
      ],
      "metadata": {
        "id": "_d0ewrTCRmTK"
      }
    },
    {
      "cell_type": "code",
      "source": [
        "dados_normal['Churn'].value_counts(normalize=True)*100"
      ],
      "metadata": {
        "colab": {
          "base_uri": "https://localhost:8080/"
        },
        "id": "6GVQqbtCQ7KI",
        "outputId": "a8c0b8a9-38cb-40ec-df7d-65f8419c9aa2"
      },
      "execution_count": 78,
      "outputs": [
        {
          "output_type": "execute_result",
          "data": {
            "text/plain": [
              "No     71.198569\n",
              "Yes    25.719004\n",
              "        3.082427\n",
              "Name: Churn, dtype: float64"
            ]
          },
          "metadata": {},
          "execution_count": 78
        }
      ]
    },
    {
      "cell_type": "markdown",
      "source": [
        "Cerca de 3% dos dados estão faltantes. Para análises futuras e treinamento do modelo de machine learning, esses dados serão excluidos.\n",
        "\n",
        "Como a empresa deseja entender o comportamento das pessoas antes de ser confirmada a evasão, esses dados serão mantidos, pois podem ser utilizados em testes dos modelos de machine learning."
      ],
      "metadata": {
        "id": "KArFDssbTBzM"
      }
    },
    {
      "cell_type": "markdown",
      "source": [
        "### Considerações"
      ],
      "metadata": {
        "id": "KVht2h3KWpgB"
      }
    },
    {
      "cell_type": "markdown",
      "source": [
        "1. Não há linhas duplicadas no dataset. A colua `customerID` contém apenas valores únicos.\n",
        "\n",
        "2. A coluna `SeniorCitizen` possua valores que não estavam de acordo com o padrão, então os valores foram substitupidos.\n",
        "\n",
        "3. Para poder fazer a conversão de tipos de dados na coluna `Charges.Total`, foram necessário tratar dados em branco que não foram percebidos anteriormente. Por conta das características dos dados, os valores faltantes foram substituidos por 0.\n",
        "\n",
        "4. Os valores faltantes da coluna `Churn` serão separados dos dados finais. Não há informações suficientes para substituir os valores faltantes como 'Yes' ou 'No', porém eles podem ser úteis no momento de testes dos modelos de machine learning. "
      ],
      "metadata": {
        "id": "-x_H1O6FWr8Y"
      }
    },
    {
      "cell_type": "markdown",
      "source": [
        "Com as correções feitas, é possível realizar algumas etapas requisitadas pela empresa: traduzir as informações para o português, além de incluir uma coluna com gastos diários por cliente."
      ],
      "metadata": {
        "id": "92TirhaDd1Dy"
      }
    },
    {
      "cell_type": "markdown",
      "source": [
        "## Pedidos extras"
      ],
      "metadata": {
        "id": "oCai3V2JWSCk"
      }
    },
    {
      "cell_type": "markdown",
      "source": [
        "A empresa fez dois pedidos extras: efetuar a tradução das colunas e criar uma coluna com gastos diários por cliente.\n",
        "\n",
        "Serão traduzidos todos os dados e nomes de colunas que estão na língua inglesa. Além disso, o nome das colunas também será traduzido e seguirá uma nomenclatura padrão, coisa que não existe no momento."
      ],
      "metadata": {
        "id": "cxx0iKoeBVZR"
      }
    },
    {
      "cell_type": "markdown",
      "source": [
        "### Traduções"
      ],
      "metadata": {
        "id": "z7hsN9LdWaYi"
      }
    },
    {
      "cell_type": "markdown",
      "source": [
        "#### Nome das colunas"
      ],
      "metadata": {
        "id": "3lTgGlO4CpqO"
      }
    },
    {
      "cell_type": "markdown",
      "source": [
        "Para realizar a tradução do nome das colunas, será utilizado o método [`.rename()`](https://pandas.pydata.org/docs/reference/api/pandas.DataFrame.rename.html) do Pandas."
      ],
      "metadata": {
        "id": "cscA2KwvCsWa"
      }
    },
    {
      "cell_type": "code",
      "source": [
        "dados_normal.columns"
      ],
      "metadata": {
        "id": "1wOm4DvaWTle",
        "colab": {
          "base_uri": "https://localhost:8080/"
        },
        "outputId": "449027f1-561d-45cc-b21c-8d59b1ea4fb6"
      },
      "execution_count": 79,
      "outputs": [
        {
          "output_type": "execute_result",
          "data": {
            "text/plain": [
              "Index(['customerID', 'Churn', 'gender', 'SeniorCitizen', 'Partner',\n",
              "       'Dependents', 'tenure', 'PhoneService', 'MultipleLines',\n",
              "       'InternetService', 'OnlineSecurity', 'OnlineBackup', 'DeviceProtection',\n",
              "       'TechSupport', 'StreamingTV', 'StreamingMovies', 'Contract',\n",
              "       'PaperlessBilling', 'PaymentMethod', 'Charges.Monthly',\n",
              "       'Charges.Total'],\n",
              "      dtype='object')"
            ]
          },
          "metadata": {},
          "execution_count": 79
        }
      ]
    },
    {
      "cell_type": "code",
      "source": [
        "colunas = {'customerID': 'ID_Cliente', \n",
        "           'Churn' : 'Evasao', \n",
        "           'gender': 'Genero', \n",
        "           'SeniorCitizen' : 'Eh_Idoso', \n",
        "           'Partner' : 'Tem_Parceiro',\n",
        "           'Dependents' : 'Tem_Dependentes', \n",
        "           'tenure' : 'Tempo_Contrato', \n",
        "           'PhoneService' : 'Servico_Telefone', \n",
        "           'MultipleLines' : 'Linhas_Multiplas',\n",
        "           'InternetService' : 'Servico_Internet', \n",
        "           'OnlineSecurity' : 'Adiconal_Seguranca', \n",
        "           'OnlineBackup' : 'Adicional_Backup', \n",
        "           'DeviceProtection' : 'Adiconal_Protecao',\n",
        "           'TechSupport' : 'Adicional_Suporte', \n",
        "           'StreamingTV': 'Streaming_TV', \n",
        "           'StreamingMovies': 'Streaming_Filmes', \n",
        "           'Contract': 'Tipo_Contrato',\n",
        "           'PaperlessBilling': 'Conta_Digital', \n",
        "           'PaymentMethod': 'Metodo_Pagamento', \n",
        "           'Charges.Monthly': 'Valor_Mensal',\n",
        "           'Charges.Total': 'Valor_Total'\n",
        "           }"
      ],
      "metadata": {
        "id": "cvYBfNTEDFuP"
      },
      "execution_count": 80,
      "outputs": []
    },
    {
      "cell_type": "code",
      "source": [
        "dados_normal.rename(mapper = colunas, axis = 1, inplace = True)"
      ],
      "metadata": {
        "id": "rUI7-8inEO2-"
      },
      "execution_count": 81,
      "outputs": []
    },
    {
      "cell_type": "markdown",
      "source": [
        "#### Dados"
      ],
      "metadata": {
        "id": "Rjme9IZFEo2U"
      }
    },
    {
      "cell_type": "markdown",
      "source": [
        "Para a tradução das colunas, será usado o método [`replace()`](https://pandas.pydata.org/docs/reference/api/pandas.DataFrame.replace.html)."
      ],
      "metadata": {
        "id": "g17MX8mcEuYl"
      }
    },
    {
      "cell_type": "code",
      "source": [
        "traducoes = {\n",
        "    'Yes': 'Sim',\n",
        "    'No': 'Não',\n",
        "    'Male': 'Masculino',\n",
        "    'Female': 'Feminino',\n",
        "    'No phone service': 'Sem serviço de telefone',\n",
        "    'No internet service': 'Sem serviço de internet',\n",
        "    'Month-to-month' : 'Mensal',\n",
        "    'Two year': 'Bianual',\n",
        "    'One year': 'Anual',\n",
        "    'Fiber optic': 'Fibra Óptica',\n",
        "    'Bank transfer (automatic)': 'Tranferência bancária (automática)',\n",
        "    'Credit card (automatic)': 'Cartão de crédito (automática)',\n",
        "    'Electronic check': 'Cheque eletrônico',\n",
        "    'Mailed check': 'Cheque',\n",
        "}"
      ],
      "metadata": {
        "id": "tncupn9BEq04"
      },
      "execution_count": 82,
      "outputs": []
    },
    {
      "cell_type": "markdown",
      "source": [
        "Além de traduções diretas, algumas traduções foram simplificadas.\n",
        "\n",
        "Os métodos de pagamento incluidos não sao usuais no Brasil, o que fez a tradução ser um pouco mais complicada. O sistema de pagamentos por meio de cheque eletrônico existe no país, o que permitiu a tradução. Já o hábito de mandar cheques por correios, incluindo para pagamento de contas, não é usual. Para esse, foi deixado apenas como 'Cheque'."
      ],
      "metadata": {
        "id": "Hb9F8-sCMdm7"
      }
    },
    {
      "cell_type": "code",
      "source": [
        "dados_normal.replace(traducoes, inplace=True)"
      ],
      "metadata": {
        "id": "1_xzEFYNGbPu"
      },
      "execution_count": 83,
      "outputs": []
    },
    {
      "cell_type": "code",
      "source": [
        "dados_normal.head()"
      ],
      "metadata": {
        "colab": {
          "base_uri": "https://localhost:8080/",
          "height": 0
        },
        "id": "YbX3crYOGcSM",
        "outputId": "e3184849-3fa7-493f-bd7c-4e7df7517f9e"
      },
      "execution_count": 84,
      "outputs": [
        {
          "output_type": "execute_result",
          "data": {
            "text/plain": [
              "   ID_Cliente Evasao     Genero Eh_Idoso Tem_Parceiro Tem_Dependentes  \\\n",
              "0  0002-ORFBO    Não   Feminino      Não          Sim             Sim   \n",
              "1  0003-MKNFE    Não  Masculino      Não          Não             Não   \n",
              "2  0004-TLHLJ    Sim  Masculino      Não          Não             Não   \n",
              "3  0011-IGKFF    Sim  Masculino      Sim          Sim             Não   \n",
              "4  0013-EXCHZ    Sim   Feminino      Sim          Sim             Não   \n",
              "\n",
              "   Tempo_Contrato Servico_Telefone Linhas_Multiplas Servico_Internet  \\\n",
              "0               9              Sim              Não              DSL   \n",
              "1               9              Sim              Sim              DSL   \n",
              "2               4              Sim              Não     Fibra Óptica   \n",
              "3              13              Sim              Não     Fibra Óptica   \n",
              "4               3              Sim              Não     Fibra Óptica   \n",
              "\n",
              "  Adiconal_Seguranca Adicional_Backup Adiconal_Protecao Adicional_Suporte  \\\n",
              "0                Não              Sim               Não               Sim   \n",
              "1                Não              Não               Não               Não   \n",
              "2                Não              Não               Sim               Não   \n",
              "3                Não              Sim               Sim               Não   \n",
              "4                Não              Não               Não               Sim   \n",
              "\n",
              "  Streaming_TV Streaming_Filmes Tipo_Contrato Conta_Digital  \\\n",
              "0          Sim              Não         Anual           Sim   \n",
              "1          Não              Sim        Mensal           Não   \n",
              "2          Não              Não        Mensal           Sim   \n",
              "3          Sim              Sim        Mensal           Sim   \n",
              "4          Sim              Não        Mensal           Sim   \n",
              "\n",
              "    Metodo_Pagamento  Valor_Mensal Valor_Total  \n",
              "0             Cheque          65.6       593.3  \n",
              "1             Cheque          59.9       542.4  \n",
              "2  Cheque eletrônico          73.9      280.85  \n",
              "3  Cheque eletrônico          98.0     1237.85  \n",
              "4             Cheque          83.9       267.4  "
            ],
            "text/html": [
              "\n",
              "  <div id=\"df-c524c742-24cb-4cb6-a0fb-1614e48683c3\">\n",
              "    <div class=\"colab-df-container\">\n",
              "      <div>\n",
              "<style scoped>\n",
              "    .dataframe tbody tr th:only-of-type {\n",
              "        vertical-align: middle;\n",
              "    }\n",
              "\n",
              "    .dataframe tbody tr th {\n",
              "        vertical-align: top;\n",
              "    }\n",
              "\n",
              "    .dataframe thead th {\n",
              "        text-align: right;\n",
              "    }\n",
              "</style>\n",
              "<table border=\"1\" class=\"dataframe\">\n",
              "  <thead>\n",
              "    <tr style=\"text-align: right;\">\n",
              "      <th></th>\n",
              "      <th>ID_Cliente</th>\n",
              "      <th>Evasao</th>\n",
              "      <th>Genero</th>\n",
              "      <th>Eh_Idoso</th>\n",
              "      <th>Tem_Parceiro</th>\n",
              "      <th>Tem_Dependentes</th>\n",
              "      <th>Tempo_Contrato</th>\n",
              "      <th>Servico_Telefone</th>\n",
              "      <th>Linhas_Multiplas</th>\n",
              "      <th>Servico_Internet</th>\n",
              "      <th>Adiconal_Seguranca</th>\n",
              "      <th>Adicional_Backup</th>\n",
              "      <th>Adiconal_Protecao</th>\n",
              "      <th>Adicional_Suporte</th>\n",
              "      <th>Streaming_TV</th>\n",
              "      <th>Streaming_Filmes</th>\n",
              "      <th>Tipo_Contrato</th>\n",
              "      <th>Conta_Digital</th>\n",
              "      <th>Metodo_Pagamento</th>\n",
              "      <th>Valor_Mensal</th>\n",
              "      <th>Valor_Total</th>\n",
              "    </tr>\n",
              "  </thead>\n",
              "  <tbody>\n",
              "    <tr>\n",
              "      <th>0</th>\n",
              "      <td>0002-ORFBO</td>\n",
              "      <td>Não</td>\n",
              "      <td>Feminino</td>\n",
              "      <td>Não</td>\n",
              "      <td>Sim</td>\n",
              "      <td>Sim</td>\n",
              "      <td>9</td>\n",
              "      <td>Sim</td>\n",
              "      <td>Não</td>\n",
              "      <td>DSL</td>\n",
              "      <td>Não</td>\n",
              "      <td>Sim</td>\n",
              "      <td>Não</td>\n",
              "      <td>Sim</td>\n",
              "      <td>Sim</td>\n",
              "      <td>Não</td>\n",
              "      <td>Anual</td>\n",
              "      <td>Sim</td>\n",
              "      <td>Cheque</td>\n",
              "      <td>65.6</td>\n",
              "      <td>593.3</td>\n",
              "    </tr>\n",
              "    <tr>\n",
              "      <th>1</th>\n",
              "      <td>0003-MKNFE</td>\n",
              "      <td>Não</td>\n",
              "      <td>Masculino</td>\n",
              "      <td>Não</td>\n",
              "      <td>Não</td>\n",
              "      <td>Não</td>\n",
              "      <td>9</td>\n",
              "      <td>Sim</td>\n",
              "      <td>Sim</td>\n",
              "      <td>DSL</td>\n",
              "      <td>Não</td>\n",
              "      <td>Não</td>\n",
              "      <td>Não</td>\n",
              "      <td>Não</td>\n",
              "      <td>Não</td>\n",
              "      <td>Sim</td>\n",
              "      <td>Mensal</td>\n",
              "      <td>Não</td>\n",
              "      <td>Cheque</td>\n",
              "      <td>59.9</td>\n",
              "      <td>542.4</td>\n",
              "    </tr>\n",
              "    <tr>\n",
              "      <th>2</th>\n",
              "      <td>0004-TLHLJ</td>\n",
              "      <td>Sim</td>\n",
              "      <td>Masculino</td>\n",
              "      <td>Não</td>\n",
              "      <td>Não</td>\n",
              "      <td>Não</td>\n",
              "      <td>4</td>\n",
              "      <td>Sim</td>\n",
              "      <td>Não</td>\n",
              "      <td>Fibra Óptica</td>\n",
              "      <td>Não</td>\n",
              "      <td>Não</td>\n",
              "      <td>Sim</td>\n",
              "      <td>Não</td>\n",
              "      <td>Não</td>\n",
              "      <td>Não</td>\n",
              "      <td>Mensal</td>\n",
              "      <td>Sim</td>\n",
              "      <td>Cheque eletrônico</td>\n",
              "      <td>73.9</td>\n",
              "      <td>280.85</td>\n",
              "    </tr>\n",
              "    <tr>\n",
              "      <th>3</th>\n",
              "      <td>0011-IGKFF</td>\n",
              "      <td>Sim</td>\n",
              "      <td>Masculino</td>\n",
              "      <td>Sim</td>\n",
              "      <td>Sim</td>\n",
              "      <td>Não</td>\n",
              "      <td>13</td>\n",
              "      <td>Sim</td>\n",
              "      <td>Não</td>\n",
              "      <td>Fibra Óptica</td>\n",
              "      <td>Não</td>\n",
              "      <td>Sim</td>\n",
              "      <td>Sim</td>\n",
              "      <td>Não</td>\n",
              "      <td>Sim</td>\n",
              "      <td>Sim</td>\n",
              "      <td>Mensal</td>\n",
              "      <td>Sim</td>\n",
              "      <td>Cheque eletrônico</td>\n",
              "      <td>98.0</td>\n",
              "      <td>1237.85</td>\n",
              "    </tr>\n",
              "    <tr>\n",
              "      <th>4</th>\n",
              "      <td>0013-EXCHZ</td>\n",
              "      <td>Sim</td>\n",
              "      <td>Feminino</td>\n",
              "      <td>Sim</td>\n",
              "      <td>Sim</td>\n",
              "      <td>Não</td>\n",
              "      <td>3</td>\n",
              "      <td>Sim</td>\n",
              "      <td>Não</td>\n",
              "      <td>Fibra Óptica</td>\n",
              "      <td>Não</td>\n",
              "      <td>Não</td>\n",
              "      <td>Não</td>\n",
              "      <td>Sim</td>\n",
              "      <td>Sim</td>\n",
              "      <td>Não</td>\n",
              "      <td>Mensal</td>\n",
              "      <td>Sim</td>\n",
              "      <td>Cheque</td>\n",
              "      <td>83.9</td>\n",
              "      <td>267.4</td>\n",
              "    </tr>\n",
              "  </tbody>\n",
              "</table>\n",
              "</div>\n",
              "      <button class=\"colab-df-convert\" onclick=\"convertToInteractive('df-c524c742-24cb-4cb6-a0fb-1614e48683c3')\"\n",
              "              title=\"Convert this dataframe to an interactive table.\"\n",
              "              style=\"display:none;\">\n",
              "        \n",
              "  <svg xmlns=\"http://www.w3.org/2000/svg\" height=\"24px\"viewBox=\"0 0 24 24\"\n",
              "       width=\"24px\">\n",
              "    <path d=\"M0 0h24v24H0V0z\" fill=\"none\"/>\n",
              "    <path d=\"M18.56 5.44l.94 2.06.94-2.06 2.06-.94-2.06-.94-.94-2.06-.94 2.06-2.06.94zm-11 1L8.5 8.5l.94-2.06 2.06-.94-2.06-.94L8.5 2.5l-.94 2.06-2.06.94zm10 10l.94 2.06.94-2.06 2.06-.94-2.06-.94-.94-2.06-.94 2.06-2.06.94z\"/><path d=\"M17.41 7.96l-1.37-1.37c-.4-.4-.92-.59-1.43-.59-.52 0-1.04.2-1.43.59L10.3 9.45l-7.72 7.72c-.78.78-.78 2.05 0 2.83L4 21.41c.39.39.9.59 1.41.59.51 0 1.02-.2 1.41-.59l7.78-7.78 2.81-2.81c.8-.78.8-2.07 0-2.86zM5.41 20L4 18.59l7.72-7.72 1.47 1.35L5.41 20z\"/>\n",
              "  </svg>\n",
              "      </button>\n",
              "      \n",
              "  <style>\n",
              "    .colab-df-container {\n",
              "      display:flex;\n",
              "      flex-wrap:wrap;\n",
              "      gap: 12px;\n",
              "    }\n",
              "\n",
              "    .colab-df-convert {\n",
              "      background-color: #E8F0FE;\n",
              "      border: none;\n",
              "      border-radius: 50%;\n",
              "      cursor: pointer;\n",
              "      display: none;\n",
              "      fill: #1967D2;\n",
              "      height: 32px;\n",
              "      padding: 0 0 0 0;\n",
              "      width: 32px;\n",
              "    }\n",
              "\n",
              "    .colab-df-convert:hover {\n",
              "      background-color: #E2EBFA;\n",
              "      box-shadow: 0px 1px 2px rgba(60, 64, 67, 0.3), 0px 1px 3px 1px rgba(60, 64, 67, 0.15);\n",
              "      fill: #174EA6;\n",
              "    }\n",
              "\n",
              "    [theme=dark] .colab-df-convert {\n",
              "      background-color: #3B4455;\n",
              "      fill: #D2E3FC;\n",
              "    }\n",
              "\n",
              "    [theme=dark] .colab-df-convert:hover {\n",
              "      background-color: #434B5C;\n",
              "      box-shadow: 0px 1px 3px 1px rgba(0, 0, 0, 0.15);\n",
              "      filter: drop-shadow(0px 1px 2px rgba(0, 0, 0, 0.3));\n",
              "      fill: #FFFFFF;\n",
              "    }\n",
              "  </style>\n",
              "\n",
              "      <script>\n",
              "        const buttonEl =\n",
              "          document.querySelector('#df-c524c742-24cb-4cb6-a0fb-1614e48683c3 button.colab-df-convert');\n",
              "        buttonEl.style.display =\n",
              "          google.colab.kernel.accessAllowed ? 'block' : 'none';\n",
              "\n",
              "        async function convertToInteractive(key) {\n",
              "          const element = document.querySelector('#df-c524c742-24cb-4cb6-a0fb-1614e48683c3');\n",
              "          const dataTable =\n",
              "            await google.colab.kernel.invokeFunction('convertToInteractive',\n",
              "                                                     [key], {});\n",
              "          if (!dataTable) return;\n",
              "\n",
              "          const docLinkHtml = 'Like what you see? Visit the ' +\n",
              "            '<a target=\"_blank\" href=https://colab.research.google.com/notebooks/data_table.ipynb>data table notebook</a>'\n",
              "            + ' to learn more about interactive tables.';\n",
              "          element.innerHTML = '';\n",
              "          dataTable['output_type'] = 'display_data';\n",
              "          await google.colab.output.renderOutput(dataTable, element);\n",
              "          const docLink = document.createElement('div');\n",
              "          docLink.innerHTML = docLinkHtml;\n",
              "          element.appendChild(docLink);\n",
              "        }\n",
              "      </script>\n",
              "    </div>\n",
              "  </div>\n",
              "  "
            ]
          },
          "metadata": {},
          "execution_count": 84
        }
      ]
    },
    {
      "cell_type": "markdown",
      "source": [
        "Para confirmar que os dados não sofreram nemhum erro, a função declarada no momento de análise de colunas será usada novamente, dessa vez dentro de um loop."
      ],
      "metadata": {
        "id": "2CkmM4DwOLFe"
      }
    },
    {
      "cell_type": "code",
      "source": [
        "for coluna in dados_normal.columns:\n",
        "    print(coluna)\n",
        "    analisa_coluna(coluna)"
      ],
      "metadata": {
        "colab": {
          "base_uri": "https://localhost:8080/"
        },
        "id": "WbzPbp72OHZj",
        "outputId": "ef13e072-3670-4eaa-faa4-bbffc645937f"
      },
      "execution_count": 85,
      "outputs": [
        {
          "output_type": "stream",
          "name": "stdout",
          "text": [
            "ID_Cliente\n",
            "Valores únicos:\n",
            "['0002-ORFBO' '0003-MKNFE' '0004-TLHLJ' ... '9992-UJOEL' '9993-LHIEB'\n",
            " '9995-HOTOH']\n",
            "----------------\n",
            "Contagem de valores:\n",
            "0002-ORFBO    1\n",
            "6614-VBEGU    1\n",
            "6637-KYRCV    1\n",
            "6635-MYYYZ    1\n",
            "6635-CPNUN    1\n",
            "             ..\n",
            "3374-TTZTK    1\n",
            "3374-PZLXD    1\n",
            "3374-LXDEV    1\n",
            "3373-YZZYM    1\n",
            "9995-HOTOH    1\n",
            "Name: ID_Cliente, Length: 7267, dtype: int64\n",
            "----------------\n",
            "Tipo da coluna:\n",
            "object\n",
            "----------------\n",
            "Evasao\n",
            "Valores únicos:\n",
            "['Não' 'Sim' '']\n",
            "----------------\n",
            "Contagem de valores:\n",
            "Não    5174\n",
            "Sim    1869\n",
            "        224\n",
            "Name: Evasao, dtype: int64\n",
            "----------------\n",
            "Tipo da coluna:\n",
            "object\n",
            "----------------\n",
            "Genero\n",
            "Valores únicos:\n",
            "['Feminino' 'Masculino']\n",
            "----------------\n",
            "Contagem de valores:\n",
            "Masculino    3675\n",
            "Feminino     3592\n",
            "Name: Genero, dtype: int64\n",
            "----------------\n",
            "Tipo da coluna:\n",
            "object\n",
            "----------------\n",
            "Eh_Idoso\n",
            "Valores únicos:\n",
            "['Não' 'Sim']\n",
            "----------------\n",
            "Contagem de valores:\n",
            "Não    6085\n",
            "Sim    1182\n",
            "Name: Eh_Idoso, dtype: int64\n",
            "----------------\n",
            "Tipo da coluna:\n",
            "object\n",
            "----------------\n",
            "Tem_Parceiro\n",
            "Valores únicos:\n",
            "['Sim' 'Não']\n",
            "----------------\n",
            "Contagem de valores:\n",
            "Não    3749\n",
            "Sim    3518\n",
            "Name: Tem_Parceiro, dtype: int64\n",
            "----------------\n",
            "Tipo da coluna:\n",
            "object\n",
            "----------------\n",
            "Tem_Dependentes\n",
            "Valores únicos:\n",
            "['Sim' 'Não']\n",
            "----------------\n",
            "Contagem de valores:\n",
            "Não    5086\n",
            "Sim    2181\n",
            "Name: Tem_Dependentes, dtype: int64\n",
            "----------------\n",
            "Tipo da coluna:\n",
            "object\n",
            "----------------\n",
            "Tempo_Contrato\n",
            "Valores únicos:\n",
            "[ 9  4 13  3 71 63  7 65 54 72  5 56 34  1 45 50 23 55 26 69 11 37 49 66\n",
            " 67 20 43 59 12 27  2 25 29 14 35 64 39 40  6 30 70 57 58 16 32 33 10 21\n",
            " 61 15 44 22 24 19 47 62 46 52  8 60 48 28 41 53 68 51 31 36 17 18 38 42\n",
            "  0]\n",
            "----------------\n",
            "Contagem de valores:\n",
            "1     634\n",
            "72    369\n",
            "2     246\n",
            "3     207\n",
            "4     185\n",
            "     ... \n",
            "38     60\n",
            "39     59\n",
            "44     54\n",
            "36     50\n",
            "0      11\n",
            "Name: Tempo_Contrato, Length: 73, dtype: int64\n",
            "----------------\n",
            "Tipo da coluna:\n",
            "int64\n",
            "----------------\n",
            "Servico_Telefone\n",
            "Valores únicos:\n",
            "['Sim' 'Não']\n",
            "----------------\n",
            "Contagem de valores:\n",
            "Sim    6560\n",
            "Não     707\n",
            "Name: Servico_Telefone, dtype: int64\n",
            "----------------\n",
            "Tipo da coluna:\n",
            "object\n",
            "----------------\n",
            "Linhas_Multiplas\n",
            "Valores únicos:\n",
            "['Não' 'Sim' 'Sem serviço de telefone']\n",
            "----------------\n",
            "Contagem de valores:\n",
            "Não                        3495\n",
            "Sim                        3065\n",
            "Sem serviço de telefone     707\n",
            "Name: Linhas_Multiplas, dtype: int64\n",
            "----------------\n",
            "Tipo da coluna:\n",
            "object\n",
            "----------------\n",
            "Servico_Internet\n",
            "Valores únicos:\n",
            "['DSL' 'Fibra Óptica' 'Não']\n",
            "----------------\n",
            "Contagem de valores:\n",
            "Fibra Óptica    3198\n",
            "DSL             2488\n",
            "Não             1581\n",
            "Name: Servico_Internet, dtype: int64\n",
            "----------------\n",
            "Tipo da coluna:\n",
            "object\n",
            "----------------\n",
            "Adiconal_Seguranca\n",
            "Valores únicos:\n",
            "['Não' 'Sim' 'Sem serviço de internet']\n",
            "----------------\n",
            "Contagem de valores:\n",
            "Não                        3608\n",
            "Sim                        2078\n",
            "Sem serviço de internet    1581\n",
            "Name: Adiconal_Seguranca, dtype: int64\n",
            "----------------\n",
            "Tipo da coluna:\n",
            "object\n",
            "----------------\n",
            "Adicional_Backup\n",
            "Valores únicos:\n",
            "['Sim' 'Não' 'Sem serviço de internet']\n",
            "----------------\n",
            "Contagem de valores:\n",
            "Não                        3182\n",
            "Sim                        2504\n",
            "Sem serviço de internet    1581\n",
            "Name: Adicional_Backup, dtype: int64\n",
            "----------------\n",
            "Tipo da coluna:\n",
            "object\n",
            "----------------\n",
            "Adiconal_Protecao\n",
            "Valores únicos:\n",
            "['Não' 'Sim' 'Sem serviço de internet']\n",
            "----------------\n",
            "Contagem de valores:\n",
            "Não                        3195\n",
            "Sim                        2491\n",
            "Sem serviço de internet    1581\n",
            "Name: Adiconal_Protecao, dtype: int64\n",
            "----------------\n",
            "Tipo da coluna:\n",
            "object\n",
            "----------------\n",
            "Adicional_Suporte\n",
            "Valores únicos:\n",
            "['Sim' 'Não' 'Sem serviço de internet']\n",
            "----------------\n",
            "Contagem de valores:\n",
            "Não                        3582\n",
            "Sim                        2104\n",
            "Sem serviço de internet    1581\n",
            "Name: Adicional_Suporte, dtype: int64\n",
            "----------------\n",
            "Tipo da coluna:\n",
            "object\n",
            "----------------\n",
            "Streaming_TV\n",
            "Valores únicos:\n",
            "['Sim' 'Não' 'Sem serviço de internet']\n",
            "----------------\n",
            "Contagem de valores:\n",
            "Não                        2896\n",
            "Sim                        2790\n",
            "Sem serviço de internet    1581\n",
            "Name: Streaming_TV, dtype: int64\n",
            "----------------\n",
            "Tipo da coluna:\n",
            "object\n",
            "----------------\n",
            "Streaming_Filmes\n",
            "Valores únicos:\n",
            "['Não' 'Sim' 'Sem serviço de internet']\n",
            "----------------\n",
            "Contagem de valores:\n",
            "Não                        2870\n",
            "Sim                        2816\n",
            "Sem serviço de internet    1581\n",
            "Name: Streaming_Filmes, dtype: int64\n",
            "----------------\n",
            "Tipo da coluna:\n",
            "object\n",
            "----------------\n",
            "Tipo_Contrato\n",
            "Valores únicos:\n",
            "['Anual' 'Mensal' 'Bianual']\n",
            "----------------\n",
            "Contagem de valores:\n",
            "Mensal     4005\n",
            "Bianual    1743\n",
            "Anual      1519\n",
            "Name: Tipo_Contrato, dtype: int64\n",
            "----------------\n",
            "Tipo da coluna:\n",
            "object\n",
            "----------------\n",
            "Conta_Digital\n",
            "Valores únicos:\n",
            "['Sim' 'Não']\n",
            "----------------\n",
            "Contagem de valores:\n",
            "Sim    4311\n",
            "Não    2956\n",
            "Name: Conta_Digital, dtype: int64\n",
            "----------------\n",
            "Tipo da coluna:\n",
            "object\n",
            "----------------\n",
            "Metodo_Pagamento\n",
            "Valores únicos:\n",
            "['Cheque' 'Cheque eletrônico' 'Cartão de crédito (automática)'\n",
            " 'Tranferência bancária (automática)']\n",
            "----------------\n",
            "Contagem de valores:\n",
            "Cheque eletrônico                     2445\n",
            "Cheque                                1665\n",
            "Tranferência bancária (automática)    1589\n",
            "Cartão de crédito (automática)        1568\n",
            "Name: Metodo_Pagamento, dtype: int64\n",
            "----------------\n",
            "Tipo da coluna:\n",
            "object\n",
            "----------------\n",
            "Valor_Mensal\n",
            "Valores únicos:\n",
            "[65.6  59.9  73.9  ... 91.75 68.8  67.85]\n",
            "----------------\n",
            "Contagem de valores:\n",
            "20.05     65\n",
            "19.85     46\n",
            "19.90     46\n",
            "19.70     45\n",
            "19.55     45\n",
            "          ..\n",
            "23.45      1\n",
            "116.55     1\n",
            "106.85     1\n",
            "68.55      1\n",
            "67.85      1\n",
            "Name: Valor_Mensal, Length: 1585, dtype: int64\n",
            "----------------\n",
            "Tipo da coluna:\n",
            "float64\n",
            "----------------\n",
            "Valor_Total\n",
            "Valores únicos:\n",
            "['593.3' '542.4' '280.85' ... '742.9' '4627.65' '3707.6']\n",
            "----------------\n",
            "Contagem de valores:\n",
            "0          11\n",
            "20.2       11\n",
            "19.75       9\n",
            "19.55       9\n",
            "19.9        9\n",
            "           ..\n",
            "272         1\n",
            "1426.45     1\n",
            "371.6       1\n",
            "6786.4      1\n",
            "3707.6      1\n",
            "Name: Valor_Total, Length: 6531, dtype: int64\n",
            "----------------\n",
            "Tipo da coluna:\n",
            "object\n",
            "----------------\n"
          ]
        }
      ]
    },
    {
      "cell_type": "markdown",
      "source": [
        "Conferindo os valores únicos, percebe-se que a tradução foi bem sucedida. Pode-se então ser criada a coluna extra com dados de gastos por dia por cliente."
      ],
      "metadata": {
        "id": "_upO2-NlPyxw"
      }
    },
    {
      "cell_type": "markdown",
      "source": [
        "### Coluna `Valor_Dia`"
      ],
      "metadata": {
        "id": "ViLjpg82QVUG"
      }
    },
    {
      "cell_type": "markdown",
      "source": [
        "Para a criação da coluna, será utilizada a coluna `Valor_Mensal`.\n",
        "\n",
        "Em média um mês contém 30 dias e 9 horas. Por isso, o valor da coluna `Valor_Mensal` será dividido por 30. Como padrão, o valor será arredondado para que ele fique com apenas 2 casas decimais, assim como os outros valores financeiros contidos nos dados.\n",
        "\n",
        "Em um primeiro momento, a coluna nova foi incluida no final do DataFrame. Apesar de funcionar, a empresa requisitou que esta coluna fosse incluida na posição 18. Por isso, alterei um pouco o código para ser possível utilizar o método [`.insert()`](https://pandas.pydata.org/pandas-docs/stable/reference/api/pandas.DataFrame.insert.html).\n",
        "\n",
        "Primeiramente, será criada uma série do Pandas com os valores, para que depois seja usada como argumento do método de inserção de coluna."
      ],
      "metadata": {
        "id": "Vrmgh4ooQeDN"
      }
    },
    {
      "cell_type": "code",
      "source": [
        "valor_dia = round(dados_normal['Valor_Mensal']/30, 2)"
      ],
      "metadata": {
        "id": "D1RwNq0jQZzk"
      },
      "execution_count": 86,
      "outputs": []
    },
    {
      "cell_type": "code",
      "source": [
        "dados_normal.insert(17,'Valor_Dia', valor_dia)"
      ],
      "metadata": {
        "id": "jdC67Bw7TD4q"
      },
      "execution_count": 87,
      "outputs": []
    },
    {
      "cell_type": "code",
      "source": [
        "dados_normal.head()"
      ],
      "metadata": {
        "colab": {
          "base_uri": "https://localhost:8080/",
          "height": 340
        },
        "id": "7Lqh-yseU33e",
        "outputId": "eed42b61-2a9a-4ec5-cdd6-c610696cc2ba"
      },
      "execution_count": 88,
      "outputs": [
        {
          "output_type": "execute_result",
          "data": {
            "text/plain": [
              "   ID_Cliente Evasao     Genero Eh_Idoso Tem_Parceiro Tem_Dependentes  \\\n",
              "0  0002-ORFBO    Não   Feminino      Não          Sim             Sim   \n",
              "1  0003-MKNFE    Não  Masculino      Não          Não             Não   \n",
              "2  0004-TLHLJ    Sim  Masculino      Não          Não             Não   \n",
              "3  0011-IGKFF    Sim  Masculino      Sim          Sim             Não   \n",
              "4  0013-EXCHZ    Sim   Feminino      Sim          Sim             Não   \n",
              "\n",
              "   Tempo_Contrato Servico_Telefone Linhas_Multiplas Servico_Internet  \\\n",
              "0               9              Sim              Não              DSL   \n",
              "1               9              Sim              Sim              DSL   \n",
              "2               4              Sim              Não     Fibra Óptica   \n",
              "3              13              Sim              Não     Fibra Óptica   \n",
              "4               3              Sim              Não     Fibra Óptica   \n",
              "\n",
              "  Adiconal_Seguranca Adicional_Backup Adiconal_Protecao Adicional_Suporte  \\\n",
              "0                Não              Sim               Não               Sim   \n",
              "1                Não              Não               Não               Não   \n",
              "2                Não              Não               Sim               Não   \n",
              "3                Não              Sim               Sim               Não   \n",
              "4                Não              Não               Não               Sim   \n",
              "\n",
              "  Streaming_TV Streaming_Filmes Tipo_Contrato  Valor_Dia Conta_Digital  \\\n",
              "0          Sim              Não         Anual       2.19           Sim   \n",
              "1          Não              Sim        Mensal       2.00           Não   \n",
              "2          Não              Não        Mensal       2.46           Sim   \n",
              "3          Sim              Sim        Mensal       3.27           Sim   \n",
              "4          Sim              Não        Mensal       2.80           Sim   \n",
              "\n",
              "    Metodo_Pagamento  Valor_Mensal Valor_Total  \n",
              "0             Cheque          65.6       593.3  \n",
              "1             Cheque          59.9       542.4  \n",
              "2  Cheque eletrônico          73.9      280.85  \n",
              "3  Cheque eletrônico          98.0     1237.85  \n",
              "4             Cheque          83.9       267.4  "
            ],
            "text/html": [
              "\n",
              "  <div id=\"df-3ddc4c2b-658b-48b0-9c8c-450104f96011\">\n",
              "    <div class=\"colab-df-container\">\n",
              "      <div>\n",
              "<style scoped>\n",
              "    .dataframe tbody tr th:only-of-type {\n",
              "        vertical-align: middle;\n",
              "    }\n",
              "\n",
              "    .dataframe tbody tr th {\n",
              "        vertical-align: top;\n",
              "    }\n",
              "\n",
              "    .dataframe thead th {\n",
              "        text-align: right;\n",
              "    }\n",
              "</style>\n",
              "<table border=\"1\" class=\"dataframe\">\n",
              "  <thead>\n",
              "    <tr style=\"text-align: right;\">\n",
              "      <th></th>\n",
              "      <th>ID_Cliente</th>\n",
              "      <th>Evasao</th>\n",
              "      <th>Genero</th>\n",
              "      <th>Eh_Idoso</th>\n",
              "      <th>Tem_Parceiro</th>\n",
              "      <th>Tem_Dependentes</th>\n",
              "      <th>Tempo_Contrato</th>\n",
              "      <th>Servico_Telefone</th>\n",
              "      <th>Linhas_Multiplas</th>\n",
              "      <th>Servico_Internet</th>\n",
              "      <th>Adiconal_Seguranca</th>\n",
              "      <th>Adicional_Backup</th>\n",
              "      <th>Adiconal_Protecao</th>\n",
              "      <th>Adicional_Suporte</th>\n",
              "      <th>Streaming_TV</th>\n",
              "      <th>Streaming_Filmes</th>\n",
              "      <th>Tipo_Contrato</th>\n",
              "      <th>Valor_Dia</th>\n",
              "      <th>Conta_Digital</th>\n",
              "      <th>Metodo_Pagamento</th>\n",
              "      <th>Valor_Mensal</th>\n",
              "      <th>Valor_Total</th>\n",
              "    </tr>\n",
              "  </thead>\n",
              "  <tbody>\n",
              "    <tr>\n",
              "      <th>0</th>\n",
              "      <td>0002-ORFBO</td>\n",
              "      <td>Não</td>\n",
              "      <td>Feminino</td>\n",
              "      <td>Não</td>\n",
              "      <td>Sim</td>\n",
              "      <td>Sim</td>\n",
              "      <td>9</td>\n",
              "      <td>Sim</td>\n",
              "      <td>Não</td>\n",
              "      <td>DSL</td>\n",
              "      <td>Não</td>\n",
              "      <td>Sim</td>\n",
              "      <td>Não</td>\n",
              "      <td>Sim</td>\n",
              "      <td>Sim</td>\n",
              "      <td>Não</td>\n",
              "      <td>Anual</td>\n",
              "      <td>2.19</td>\n",
              "      <td>Sim</td>\n",
              "      <td>Cheque</td>\n",
              "      <td>65.6</td>\n",
              "      <td>593.3</td>\n",
              "    </tr>\n",
              "    <tr>\n",
              "      <th>1</th>\n",
              "      <td>0003-MKNFE</td>\n",
              "      <td>Não</td>\n",
              "      <td>Masculino</td>\n",
              "      <td>Não</td>\n",
              "      <td>Não</td>\n",
              "      <td>Não</td>\n",
              "      <td>9</td>\n",
              "      <td>Sim</td>\n",
              "      <td>Sim</td>\n",
              "      <td>DSL</td>\n",
              "      <td>Não</td>\n",
              "      <td>Não</td>\n",
              "      <td>Não</td>\n",
              "      <td>Não</td>\n",
              "      <td>Não</td>\n",
              "      <td>Sim</td>\n",
              "      <td>Mensal</td>\n",
              "      <td>2.00</td>\n",
              "      <td>Não</td>\n",
              "      <td>Cheque</td>\n",
              "      <td>59.9</td>\n",
              "      <td>542.4</td>\n",
              "    </tr>\n",
              "    <tr>\n",
              "      <th>2</th>\n",
              "      <td>0004-TLHLJ</td>\n",
              "      <td>Sim</td>\n",
              "      <td>Masculino</td>\n",
              "      <td>Não</td>\n",
              "      <td>Não</td>\n",
              "      <td>Não</td>\n",
              "      <td>4</td>\n",
              "      <td>Sim</td>\n",
              "      <td>Não</td>\n",
              "      <td>Fibra Óptica</td>\n",
              "      <td>Não</td>\n",
              "      <td>Não</td>\n",
              "      <td>Sim</td>\n",
              "      <td>Não</td>\n",
              "      <td>Não</td>\n",
              "      <td>Não</td>\n",
              "      <td>Mensal</td>\n",
              "      <td>2.46</td>\n",
              "      <td>Sim</td>\n",
              "      <td>Cheque eletrônico</td>\n",
              "      <td>73.9</td>\n",
              "      <td>280.85</td>\n",
              "    </tr>\n",
              "    <tr>\n",
              "      <th>3</th>\n",
              "      <td>0011-IGKFF</td>\n",
              "      <td>Sim</td>\n",
              "      <td>Masculino</td>\n",
              "      <td>Sim</td>\n",
              "      <td>Sim</td>\n",
              "      <td>Não</td>\n",
              "      <td>13</td>\n",
              "      <td>Sim</td>\n",
              "      <td>Não</td>\n",
              "      <td>Fibra Óptica</td>\n",
              "      <td>Não</td>\n",
              "      <td>Sim</td>\n",
              "      <td>Sim</td>\n",
              "      <td>Não</td>\n",
              "      <td>Sim</td>\n",
              "      <td>Sim</td>\n",
              "      <td>Mensal</td>\n",
              "      <td>3.27</td>\n",
              "      <td>Sim</td>\n",
              "      <td>Cheque eletrônico</td>\n",
              "      <td>98.0</td>\n",
              "      <td>1237.85</td>\n",
              "    </tr>\n",
              "    <tr>\n",
              "      <th>4</th>\n",
              "      <td>0013-EXCHZ</td>\n",
              "      <td>Sim</td>\n",
              "      <td>Feminino</td>\n",
              "      <td>Sim</td>\n",
              "      <td>Sim</td>\n",
              "      <td>Não</td>\n",
              "      <td>3</td>\n",
              "      <td>Sim</td>\n",
              "      <td>Não</td>\n",
              "      <td>Fibra Óptica</td>\n",
              "      <td>Não</td>\n",
              "      <td>Não</td>\n",
              "      <td>Não</td>\n",
              "      <td>Sim</td>\n",
              "      <td>Sim</td>\n",
              "      <td>Não</td>\n",
              "      <td>Mensal</td>\n",
              "      <td>2.80</td>\n",
              "      <td>Sim</td>\n",
              "      <td>Cheque</td>\n",
              "      <td>83.9</td>\n",
              "      <td>267.4</td>\n",
              "    </tr>\n",
              "  </tbody>\n",
              "</table>\n",
              "</div>\n",
              "      <button class=\"colab-df-convert\" onclick=\"convertToInteractive('df-3ddc4c2b-658b-48b0-9c8c-450104f96011')\"\n",
              "              title=\"Convert this dataframe to an interactive table.\"\n",
              "              style=\"display:none;\">\n",
              "        \n",
              "  <svg xmlns=\"http://www.w3.org/2000/svg\" height=\"24px\"viewBox=\"0 0 24 24\"\n",
              "       width=\"24px\">\n",
              "    <path d=\"M0 0h24v24H0V0z\" fill=\"none\"/>\n",
              "    <path d=\"M18.56 5.44l.94 2.06.94-2.06 2.06-.94-2.06-.94-.94-2.06-.94 2.06-2.06.94zm-11 1L8.5 8.5l.94-2.06 2.06-.94-2.06-.94L8.5 2.5l-.94 2.06-2.06.94zm10 10l.94 2.06.94-2.06 2.06-.94-2.06-.94-.94-2.06-.94 2.06-2.06.94z\"/><path d=\"M17.41 7.96l-1.37-1.37c-.4-.4-.92-.59-1.43-.59-.52 0-1.04.2-1.43.59L10.3 9.45l-7.72 7.72c-.78.78-.78 2.05 0 2.83L4 21.41c.39.39.9.59 1.41.59.51 0 1.02-.2 1.41-.59l7.78-7.78 2.81-2.81c.8-.78.8-2.07 0-2.86zM5.41 20L4 18.59l7.72-7.72 1.47 1.35L5.41 20z\"/>\n",
              "  </svg>\n",
              "      </button>\n",
              "      \n",
              "  <style>\n",
              "    .colab-df-container {\n",
              "      display:flex;\n",
              "      flex-wrap:wrap;\n",
              "      gap: 12px;\n",
              "    }\n",
              "\n",
              "    .colab-df-convert {\n",
              "      background-color: #E8F0FE;\n",
              "      border: none;\n",
              "      border-radius: 50%;\n",
              "      cursor: pointer;\n",
              "      display: none;\n",
              "      fill: #1967D2;\n",
              "      height: 32px;\n",
              "      padding: 0 0 0 0;\n",
              "      width: 32px;\n",
              "    }\n",
              "\n",
              "    .colab-df-convert:hover {\n",
              "      background-color: #E2EBFA;\n",
              "      box-shadow: 0px 1px 2px rgba(60, 64, 67, 0.3), 0px 1px 3px 1px rgba(60, 64, 67, 0.15);\n",
              "      fill: #174EA6;\n",
              "    }\n",
              "\n",
              "    [theme=dark] .colab-df-convert {\n",
              "      background-color: #3B4455;\n",
              "      fill: #D2E3FC;\n",
              "    }\n",
              "\n",
              "    [theme=dark] .colab-df-convert:hover {\n",
              "      background-color: #434B5C;\n",
              "      box-shadow: 0px 1px 3px 1px rgba(0, 0, 0, 0.15);\n",
              "      filter: drop-shadow(0px 1px 2px rgba(0, 0, 0, 0.3));\n",
              "      fill: #FFFFFF;\n",
              "    }\n",
              "  </style>\n",
              "\n",
              "      <script>\n",
              "        const buttonEl =\n",
              "          document.querySelector('#df-3ddc4c2b-658b-48b0-9c8c-450104f96011 button.colab-df-convert');\n",
              "        buttonEl.style.display =\n",
              "          google.colab.kernel.accessAllowed ? 'block' : 'none';\n",
              "\n",
              "        async function convertToInteractive(key) {\n",
              "          const element = document.querySelector('#df-3ddc4c2b-658b-48b0-9c8c-450104f96011');\n",
              "          const dataTable =\n",
              "            await google.colab.kernel.invokeFunction('convertToInteractive',\n",
              "                                                     [key], {});\n",
              "          if (!dataTable) return;\n",
              "\n",
              "          const docLinkHtml = 'Like what you see? Visit the ' +\n",
              "            '<a target=\"_blank\" href=https://colab.research.google.com/notebooks/data_table.ipynb>data table notebook</a>'\n",
              "            + ' to learn more about interactive tables.';\n",
              "          element.innerHTML = '';\n",
              "          dataTable['output_type'] = 'display_data';\n",
              "          await google.colab.output.renderOutput(dataTable, element);\n",
              "          const docLink = document.createElement('div');\n",
              "          docLink.innerHTML = docLinkHtml;\n",
              "          element.appendChild(docLink);\n",
              "        }\n",
              "      </script>\n",
              "    </div>\n",
              "  </div>\n",
              "  "
            ]
          },
          "metadata": {},
          "execution_count": 88
        }
      ]
    },
    {
      "cell_type": "markdown",
      "source": [
        "## Exportando os dados"
      ],
      "metadata": {
        "id": "D-8wi5vLVWWG"
      }
    },
    {
      "cell_type": "markdown",
      "source": [
        "Com os dados preparados e as requisições extras resolvidas, os dados podem ser exportados e salvos localmente. Essa exportação vai permitir análises futuras, seja em python ou em outros sistemas.\n",
        "\n",
        "Como definido, os dados serão divididos de acordo com a coluna `Evasao`. Os valores em branco da coluna serão armazenados em um arquivo diferente, para que outras análises possam ser feitas."
      ],
      "metadata": {
        "id": "TnNevSm8VYD3"
      }
    },
    {
      "cell_type": "markdown",
      "source": [
        "### Dividindo os DataFrames"
      ],
      "metadata": {
        "id": "P1NHo9x2WFCW"
      }
    },
    {
      "cell_type": "code",
      "source": [
        "dados_evasao_vazios = dados_normal.loc[dados_normal['Evasao'] == '']\n",
        "dados_evasao_completos = dados_normal.loc[dados_normal['Evasao'] != '']"
      ],
      "metadata": {
        "id": "9OZaiOFZVXoM"
      },
      "execution_count": 89,
      "outputs": []
    },
    {
      "cell_type": "markdown",
      "source": [
        "Para conferir, será utilizado o método [`.unique()`](https://pandas.pydata.org/pandas-docs/stable/reference/api/pandas.Series.unique.html)"
      ],
      "metadata": {
        "id": "VmezpXyrWiuU"
      }
    },
    {
      "cell_type": "code",
      "source": [
        "dados_evasao_vazios['Evasao'].unique()"
      ],
      "metadata": {
        "colab": {
          "base_uri": "https://localhost:8080/"
        },
        "id": "2cgQXo8cWiL4",
        "outputId": "a1b542a5-ffa2-4283-b98b-ba25edf27721"
      },
      "execution_count": 90,
      "outputs": [
        {
          "output_type": "execute_result",
          "data": {
            "text/plain": [
              "array([''], dtype=object)"
            ]
          },
          "metadata": {},
          "execution_count": 90
        }
      ]
    },
    {
      "cell_type": "code",
      "source": [
        "dados_evasao_completos['Evasao'].unique()"
      ],
      "metadata": {
        "colab": {
          "base_uri": "https://localhost:8080/"
        },
        "id": "lZ3_9l4bW6tO",
        "outputId": "92883281-1e72-40ff-d271-98337fae0d6e"
      },
      "execution_count": 91,
      "outputs": [
        {
          "output_type": "execute_result",
          "data": {
            "text/plain": [
              "array(['Não', 'Sim'], dtype=object)"
            ]
          },
          "metadata": {},
          "execution_count": 91
        }
      ]
    },
    {
      "cell_type": "markdown",
      "source": [
        "### Exportando os dados"
      ],
      "metadata": {
        "id": "Wq4pWGn9XO_v"
      }
    },
    {
      "cell_type": "markdown",
      "source": [
        "Os dados serão exportados para um arquivo do tipo csv."
      ],
      "metadata": {
        "id": "V5S-_UaJXUAw"
      }
    },
    {
      "cell_type": "code",
      "source": [
        "dados_evasao_vazios.to_csv('dados_evasao_vazio.csv', index = False)\n",
        "dados_evasao_completos.to_csv('dados_evasao_completos.csv', index = False)"
      ],
      "metadata": {
        "id": "YUCegAxgW8T2"
      },
      "execution_count": 92,
      "outputs": []
    }
  ]
}